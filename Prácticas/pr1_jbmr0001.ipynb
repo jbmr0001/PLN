{
  "nbformat": 4,
  "nbformat_minor": 0,
  "metadata": {
    "colab": {
      "provenance": [],
      "collapsed_sections": [
        "aKOkbMIAELqx",
        "snIf_v2dEkze",
        "8xl-MITodSec",
        "YUv0RRK4dSeh",
        "UdPSh1e_dSep",
        "WgiT7XTSdSeq",
        "vxt2R7ZmdSex",
        "BjVEEwrwH8p6",
        "2Q6dwT0bdSe4",
        "KZIhh8wHztCF",
        "QFNUMoycJ8UZ",
        "olLNZkLEztDy",
        "u22w3BFiOveA"
      ]
    },
    "kernelspec": {
      "name": "python3",
      "display_name": "Python 3"
    }
  },
  "cells": [
    {
      "cell_type": "markdown",
      "metadata": {
        "id": "nB56v7URAKJo"
      },
      "source": [
        "# **Prática 1 - Procesamiento del Lenguaje Natural**\n"
      ]
    },
    {
      "cell_type": "markdown",
      "metadata": {
        "id": "oqrzhZbBGVIT"
      },
      "source": [
        "# Introducción a Google Colab"
      ]
    },
    {
      "cell_type": "markdown",
      "metadata": {
        "id": "bJxjMjOPl_xj"
      },
      "source": [
        "El documento que está leyendo no es una página web estática, sino un entorno interactivo denominado notebook de Google Colab, que permite escribir y ejecutar código.\n"
      ]
    },
    {
      "cell_type": "markdown",
      "metadata": {
        "id": "lSrWNr3MuFUS"
      },
      "source": [
        "Los notebooks de Colab permiten combinar <strong>código ejecutable</strong> y <strong>texto enriquecido</strong> en un único documento, junto con <strong>imágenes</strong>, <strong>HTML</strong>, y mucho más. Los notebooks que cree en Colab se almacenan en su cuenta de Google Drive. Puede compartir fácilmente los notebooks de Colab con amigos o compañeros de trabajo para que realicen comentarios o los editen. Para más información, consulte la <a href=\"/notebooks/basic_features_overview.ipynb\">Descripción general de Colab</a>. Para crear un nuevo notebook de Colab, vaya al menú \"Archivo\" y pulse \"Nuevo cuaderno\" para crear un nuevo notebook de Colab.\n",
        "\n",
        "Los notebooks de Colab son notebooks de Jupyter que aloja Colab. Para obtener más información sobre el proyecto Jupyter, visite <a href=\"https://www.jupyter.org\">jupyter.org</a>."
      ]
    },
    {
      "cell_type": "markdown",
      "metadata": {
        "id": "JyG45Qk3qQLS"
      },
      "source": [
        "## Celdas\n",
        "Un notebook está compuesto por una lista de celdas. Pueden ser de dos clases: de código o de texto. Para seleccionar una celda haz clic en ella.\n"
      ]
    },
    {
      "cell_type": "markdown",
      "metadata": {
        "id": "Id6tDF1HQSHD"
      },
      "source": [
        "### Celdas de texto\n",
        "Esta es una celda de texto. Haga doble clic en ella para editarla. Use **markdown**. Si quiere aprender este markdown haga clic en la [guía de markdown de google](/notebooks/markdown_guide.ipynb).\n",
        "\n",
        "Puede añadir cualquier tipo de ecuación matemática usando sintaxis de [LaTeX](http://www.latex-project.org/) y renderizando con [MathJax](https://www.mathjax.org). Simplemente añada un par de **\\$** encerrando la ecuación. Por ejemplo  `$\\sqrt{3x-1}+(1+x)^2$` se verá como \n",
        "$\\sqrt{3x-1}+(1+x)^2.$\n"
      ]
    },
    {
      "cell_type": "markdown",
      "metadata": {
        "id": "wsqhnDXhQwT_"
      },
      "source": []
    },
    {
      "cell_type": "markdown",
      "metadata": {
        "id": "KR921S_OQSHG"
      },
      "source": [
        "### Celdas de código\n",
        "La celda que hay a continuación es de código. Observa las diferencias en apariencia. Haz clic en ella y ejécutala con una de las siguientes maneras:\n",
        "\n",
        "* Pulsa en el icono **Play** a la izquierda de la celda\n",
        "* Teclea **Cmd/Ctrl+Enter**\n",
        "\n",
        "Hay más formas, pero con estas tenemos suficientes para continuar.\n"
      ]
    },
    {
      "cell_type": "code",
      "metadata": {
        "cellView": "both",
        "id": "WUtu4316QSHL",
        "colab": {
          "base_uri": "https://localhost:8080/"
        },
        "outputId": "2ce9130d-244d-4961-98f4-c8471d6eba0c"
      },
      "source": [
        "a = 11\n",
        "print(a)"
      ],
      "execution_count": null,
      "outputs": [
        {
          "output_type": "stream",
          "name": "stdout",
          "text": [
            "11\n"
          ]
        }
      ]
    },
    {
      "cell_type": "markdown",
      "metadata": {
        "id": "_Y_NoGuJBhTm"
      },
      "source": [
        "## Añadiendo y moviendo celdas\n",
        "Puede añadir celdas pulsando los iconos **+ CODE** y **+ TEXT** que están en la barra de tareas encima del notebook.\n",
        "\n",
        "Puede mover la celda seleccionada haciendo clic en los iconos de flechas que se muestran en la botonera que aparece al activar la celda (hacer clic sobre ella) en su parte de arriba a la derecha. "
      ]
    },
    {
      "cell_type": "markdown",
      "metadata": {
        "id": "JcM8jwqIBtHX"
      },
      "source": [
        "# Python\n",
        "\n",
        "La ejecución de una celda puede ser interrupida seleccionando en el menú **Entorno de ejecución -> Interrumpir ejecución**. Pruébalo ejecutando y abortando la siguiente celda:"
      ]
    },
    {
      "cell_type": "code",
      "metadata": {
        "id": "mIJyD6FCB2VL",
        "colab": {
          "base_uri": "https://localhost:8080/"
        },
        "outputId": "b4b087b8-904a-4c40-d446-cb2977a20503"
      },
      "source": [
        "import time\n",
        "print(\"Sleeping\")\n",
        "time.sleep(30) # sleep for a while; interrupt me!\n",
        "print(\"Done Sleeping\")"
      ],
      "execution_count": null,
      "outputs": [
        {
          "output_type": "stream",
          "name": "stdout",
          "text": [
            "Sleeping\n",
            "Done Sleeping\n"
          ]
        }
      ]
    },
    {
      "cell_type": "markdown",
      "metadata": {
        "id": "d4L9TOP9QSHn"
      },
      "source": [
        "## Acceso a la ayuda desde el tabulador\n",
        "\n",
        "Si no recuerda el nombre de un metodo o solo recuerda el comienzo de una instrucción, simplemente espera un par de segundos y aparece la ayuda automáticamente.\n",
        "\n"
      ]
    },
    {
      "cell_type": "markdown",
      "metadata": {
        "id": "3GHQJ7F9dSdS"
      },
      "source": [
        "# Introducción a la sintaxis de Python\n",
        "\n",
        "Aunque la sintaxis de Python permite muchas variaciones, existe una guía de estilo que es recomendable para todo programador de Python. Cuando acabe el curso y antes de empezar a usar Python como tu lenguaje de programación es más que leerla atentamente:\n",
        "\n",
        "[Guía de estilo de Python: PEP 8](https://www.python.org/dev/peps/pep-0008/)\n",
        "\n",
        "Veamos lo básico para poder escribir programas simples en Python que nos permitan dominar los entornos que hemos explicado. \n",
        "\n",
        "## Tipos numéricos\n",
        "\n",
        "Python dispone de los tipos numéricos y las operaciones más habituales (**ejecuta las celdas y comprueba lo que pasa**):"
      ]
    },
    {
      "cell_type": "code",
      "metadata": {
        "id": "EBYKzxhHCY5-",
        "colab": {
          "base_uri": "https://localhost:8080/"
        },
        "outputId": "93ce17c4-875b-4158-f1de-63f0b08b5a5a"
      },
      "source": [
        "2 * 4 - (7 - 1) / 3 + 1.0"
      ],
      "execution_count": null,
      "outputs": [
        {
          "output_type": "execute_result",
          "data": {
            "text/plain": [
              "7.0"
            ]
          },
          "metadata": {},
          "execution_count": 17
        }
      ]
    },
    {
      "cell_type": "code",
      "metadata": {
        "colab": {
          "base_uri": "https://localhost:8080/"
        },
        "id": "OTW3NgMIRgQg",
        "outputId": "22692908-4059-4c02-c5ec-a88e77b988be"
      },
      "source": [
        "print(2+5)"
      ],
      "execution_count": null,
      "outputs": [
        {
          "output_type": "stream",
          "name": "stdout",
          "text": [
            "7\n"
          ]
        }
      ]
    },
    {
      "cell_type": "markdown",
      "metadata": {
        "id": "8un9JcLAdSdV"
      },
      "source": [
        "Las divisiones por cero lanzan un error (ejecuta la siguientes celdas):"
      ]
    },
    {
      "cell_type": "code",
      "metadata": {
        "id": "TZThzEnXdSdV",
        "colab": {
          "base_uri": "https://localhost:8080/",
          "height": 165
        },
        "outputId": "03b40810-fc4c-4212-f912-ceab4d5fdb35"
      },
      "source": [
        "1/0"
      ],
      "execution_count": null,
      "outputs": [
        {
          "output_type": "error",
          "ename": "ZeroDivisionError",
          "evalue": "ignored",
          "traceback": [
            "\u001b[0;31m---------------------------------------------------------------------------\u001b[0m",
            "\u001b[0;31mZeroDivisionError\u001b[0m                         Traceback (most recent call last)",
            "\u001b[0;32m<ipython-input-7-9e1622b385b6>\u001b[0m in \u001b[0;36m<module>\u001b[0;34m\u001b[0m\n\u001b[0;32m----> 1\u001b[0;31m \u001b[0;36m1\u001b[0m\u001b[0;34m/\u001b[0m\u001b[0;36m0\u001b[0m\u001b[0;34m\u001b[0m\u001b[0;34m\u001b[0m\u001b[0m\n\u001b[0m",
            "\u001b[0;31mZeroDivisionError\u001b[0m: division by zero"
          ]
        }
      ]
    },
    {
      "cell_type": "markdown",
      "metadata": {
        "id": "OBAqMNtPdSdX"
      },
      "source": [
        "La división en Python es división entera o real en función del operador que se use (ejecuta la siguiente celda):"
      ]
    },
    {
      "cell_type": "code",
      "metadata": {
        "id": "WUdz-k8QdSdY",
        "colab": {
          "base_uri": "https://localhost:8080/"
        },
        "outputId": "700ac1d2-72ea-47fb-a1f8-f16e3c62dbbd"
      },
      "source": [
        "x = 3 / 2\n",
        "print(\"x =\",x)\n",
        "\n",
        "y = 3 // 2\n",
        "print(\"y =\",y)"
      ],
      "execution_count": null,
      "outputs": [
        {
          "output_type": "stream",
          "name": "stdout",
          "text": [
            "x = 1.5\n",
            "y = 1\n"
          ]
        }
      ]
    },
    {
      "cell_type": "markdown",
      "metadata": {
        "id": "zebV_5u5dSdZ"
      },
      "source": [
        "El operador potencia es ******"
      ]
    },
    {
      "cell_type": "code",
      "metadata": {
        "id": "lQ7a1NevdSda",
        "colab": {
          "base_uri": "https://localhost:8080/"
        },
        "outputId": "44bb60e8-9951-4fe6-8dad-7fb8afeea2d3"
      },
      "source": [
        "2 ** 16"
      ],
      "execution_count": null,
      "outputs": [
        {
          "output_type": "execute_result",
          "data": {
            "text/plain": [
              "65536"
            ]
          },
          "metadata": {},
          "execution_count": 9
        }
      ]
    },
    {
      "cell_type": "markdown",
      "metadata": {
        "id": "GsoqgknDdSdc"
      },
      "source": [
        "Tenemos números complejos"
      ]
    },
    {
      "cell_type": "code",
      "metadata": {
        "id": "_jYjWP-BdSdc",
        "colab": {
          "base_uri": "https://localhost:8080/"
        },
        "outputId": "afcdae71-fe67-44d8-a1db-38b8254be70e"
      },
      "source": [
        "2+5j"
      ],
      "execution_count": null,
      "outputs": [
        {
          "output_type": "execute_result",
          "data": {
            "text/plain": [
              "(2+5j)"
            ]
          },
          "metadata": {
            "tags": []
          },
          "execution_count": 9
        }
      ]
    },
    {
      "cell_type": "markdown",
      "metadata": {
        "id": "VtgiPIxndSdh"
      },
      "source": [
        "Podemos __convertir variables__ a `int, float, complex, str`..."
      ]
    },
    {
      "cell_type": "code",
      "metadata": {
        "id": "kD30MEpUdSdh",
        "colab": {
          "base_uri": "https://localhost:8080/"
        },
        "outputId": "55f47d19-3225-4d80-d70f-782f9f831c73"
      },
      "source": [
        "int(1.96)"
      ],
      "execution_count": null,
      "outputs": [
        {
          "output_type": "execute_result",
          "data": {
            "text/plain": [
              "1"
            ]
          },
          "metadata": {},
          "execution_count": 10
        }
      ]
    },
    {
      "cell_type": "code",
      "metadata": {
        "id": "YCNHOXW_dSdj",
        "colab": {
          "base_uri": "https://localhost:8080/"
        },
        "outputId": "f81be983-f06e-4d37-ceef-be446a95e15a"
      },
      "source": [
        "round(1.9)"
      ],
      "execution_count": null,
      "outputs": [
        {
          "output_type": "execute_result",
          "data": {
            "text/plain": [
              "2"
            ]
          },
          "metadata": {},
          "execution_count": 11
        }
      ]
    },
    {
      "cell_type": "markdown",
      "metadata": {
        "id": "tXp3o9SydSdm"
      },
      "source": [
        "Podemos comprobar el tipo de una variable:"
      ]
    },
    {
      "cell_type": "code",
      "metadata": {
        "id": "fYaHPgy7dSdm",
        "colab": {
          "base_uri": "https://localhost:8080/"
        },
        "outputId": "d46b904e-b27a-4790-8c45-1966b6ad7665"
      },
      "source": [
        "a = 2.7\n",
        "print(type(a))"
      ],
      "execution_count": null,
      "outputs": [
        {
          "output_type": "stream",
          "name": "stdout",
          "text": [
            "<class 'float'>\n"
          ]
        }
      ]
    },
    {
      "cell_type": "markdown",
      "metadata": {
        "id": "aKOkbMIAELqx"
      },
      "source": [
        "## Listas y Tuplas\n",
        "\n",
        "Otro tipo de datos muy importante que vamos a usar son las secuencias: las tuplas y las listas. Ambos son conjuntos ordenados de elementos: las tuplas se demarcan con paréntesis y las listas con corchetes."
      ]
    },
    {
      "cell_type": "code",
      "metadata": {
        "id": "6iSMMgjQEPWx",
        "colab": {
          "base_uri": "https://localhost:8080/"
        },
        "outputId": "e376e302-5d86-430d-d941-162ecfd7cb3e"
      },
      "source": [
        "mi_lista = [1, 2, 3.0, 4 + 0j, \"5\"]\n",
        "mi_tupla = (1, 2, 3.0, 4 + 0j, \"5\")\n",
        "print(mi_lista)\n",
        "print(mi_tupla)\n",
        "print(mi_lista == mi_tupla)\n"
      ],
      "execution_count": null,
      "outputs": [
        {
          "output_type": "stream",
          "name": "stdout",
          "text": [
            "[1, 2, 3.0, (4+0j), '5']\n",
            "(1, 2, 3.0, (4+0j), '5')\n",
            "False\n"
          ]
        }
      ]
    },
    {
      "cell_type": "markdown",
      "metadata": {
        "id": "snIf_v2dEkze"
      },
      "source": [
        "### Diferencias entre tuplas y listas\n",
        "\n",
        "* Una lista puede ser alterada, no así una tupla.\n",
        "* Una tupla puede ser utilizada como clave en un diccionario, una lista no.\n",
        "* Una tupla consume menos memoria que una lista."
      ]
    },
    {
      "cell_type": "code",
      "metadata": {
        "id": "-f1dX9WndSeC",
        "colab": {
          "base_uri": "https://localhost:8080/"
        },
        "outputId": "515b6d6b-ec11-46e7-f1ed-a70d4a69bd6e"
      },
      "source": [
        "2 in mi_lista"
      ],
      "execution_count": null,
      "outputs": [
        {
          "output_type": "execute_result",
          "data": {
            "text/plain": [
              "True"
            ]
          },
          "metadata": {},
          "execution_count": 36
        }
      ]
    },
    {
      "cell_type": "code",
      "metadata": {
        "id": "305Q6R5ldSeD",
        "colab": {
          "base_uri": "https://localhost:8080/"
        },
        "outputId": "a26e009a-fdda-4b6f-de51-5932cbef47d3"
      },
      "source": [
        "2 not in mi_tupla"
      ],
      "execution_count": null,
      "outputs": [
        {
          "output_type": "execute_result",
          "data": {
            "text/plain": [
              "False"
            ]
          },
          "metadata": {},
          "execution_count": 37
        }
      ]
    },
    {
      "cell_type": "code",
      "metadata": {
        "id": "ll1b1YmddSeE",
        "colab": {
          "base_uri": "https://localhost:8080/"
        },
        "outputId": "f4889941-45ab-4065-b6ad-1a6263a8efd6"
      },
      "source": [
        "len(mi_lista)"
      ],
      "execution_count": null,
      "outputs": [
        {
          "output_type": "execute_result",
          "data": {
            "text/plain": [
              "5"
            ]
          },
          "metadata": {},
          "execution_count": 38
        }
      ]
    },
    {
      "cell_type": "code",
      "metadata": {
        "id": "hXdrXkZedSeG",
        "colab": {
          "base_uri": "https://localhost:8080/"
        },
        "outputId": "846babf9-55ae-459d-c337-566737df6e1b"
      },
      "source": [
        "len(mi_tupla)"
      ],
      "execution_count": null,
      "outputs": [
        {
          "output_type": "execute_result",
          "data": {
            "text/plain": [
              "5"
            ]
          },
          "metadata": {},
          "execution_count": 39
        }
      ]
    },
    {
      "cell_type": "code",
      "metadata": {
        "id": "yyQejwGqdSeI",
        "colab": {
          "base_uri": "https://localhost:8080/"
        },
        "outputId": "5babebf1-dc4d-472c-e9b1-e9dd0781f056"
      },
      "source": [
        "print(mi_lista)\n",
        "mi_lista.insert(3 , 3.5)\n",
        "mi_lista"
      ],
      "execution_count": null,
      "outputs": [
        {
          "output_type": "stream",
          "name": "stdout",
          "text": [
            "[1, 2, 3.0, (4+0j), '5']\n"
          ]
        },
        {
          "output_type": "execute_result",
          "data": {
            "text/plain": [
              "[1, 2, 3.0, 3.5, (4+0j), '5']"
            ]
          },
          "metadata": {},
          "execution_count": 40
        }
      ]
    },
    {
      "cell_type": "code",
      "metadata": {
        "id": "hYQxL7qQdSeJ",
        "colab": {
          "base_uri": "https://localhost:8080/"
        },
        "outputId": "955f923c-3b65-4f74-8304-4594d2191498"
      },
      "source": [
        "mi_lista.append(6) # añade el 6 al final\n",
        "print(mi_lista)\n",
        "\n",
        "mi_lista.extend([7, 8]) # añade los elementos 7 y 8 al final\n",
        "print(mi_lista)\n",
        "\n",
        "mi_lista.insert(0, 0.0) # añade el 0.0 al principio\n",
        "print(mi_lista)"
      ],
      "execution_count": null,
      "outputs": [
        {
          "output_type": "stream",
          "name": "stdout",
          "text": [
            "[1, 2, 3.0, 3.5, (4+0j), '5', 6]\n",
            "[1, 2, 3.0, 3.5, (4+0j), '5', 6, 7, 8]\n",
            "[0.0, 1, 2, 3.0, 3.5, (4+0j), '5', 6, 7, 8]\n"
          ]
        }
      ]
    },
    {
      "cell_type": "code",
      "metadata": {
        "id": "rxNnKM-sdSeL",
        "colab": {
          "base_uri": "https://localhost:8080/"
        },
        "outputId": "5cdd727c-dd2c-4f4d-9c48-9b35bbd805ab"
      },
      "source": [
        "mi_lista.remove(3.5) #elimina el 3.5\n",
        "print(mi_lista)\n",
        "\n",
        "dato = mi_lista.pop(0) #saca al primer elemento y lo devuelve\n",
        "print(dato)\n",
        "\n",
        "dato = mi_lista.pop() #si no hay índice saca el último\n",
        "print(dato)\n",
        "print(mi_lista)"
      ],
      "execution_count": null,
      "outputs": [
        {
          "output_type": "stream",
          "name": "stdout",
          "text": [
            "[0.0, 1, 2, 3.0, (4+0j), '5', 6, 7, 8]\n",
            "0.0\n",
            "8\n",
            "[1, 2, 3.0, (4+0j), '5', 6, 7]\n"
          ]
        }
      ]
    },
    {
      "cell_type": "code",
      "metadata": {
        "id": "y40QzsihdSeM",
        "colab": {
          "base_uri": "https://localhost:8080/"
        },
        "outputId": "d43befce-4b4f-456c-a23b-042631ef0322"
      },
      "source": [
        "# concatenar listas y tuplas\n",
        "lista1=[1, 2, 3]\n",
        "lista2=[4, 5, 6]\n",
        "lista3=lista1+lista2\n",
        "print(lista3)\n",
        "\n",
        "tupla1=(1, 2, 3)\n",
        "tupla2=(4, 5, 6)\n",
        "tupla3=tupla1+tupla2\n",
        "print(tupla3)\n"
      ],
      "execution_count": null,
      "outputs": [
        {
          "output_type": "stream",
          "name": "stdout",
          "text": [
            "[1, 2, 3, 4, 5, 6]\n",
            "(1, 2, 3, 4, 5, 6)\n"
          ]
        }
      ]
    },
    {
      "cell_type": "markdown",
      "metadata": {
        "id": "Qbpwrrd0dSeQ"
      },
      "source": [
        "Podemos hacer listas de listas"
      ]
    },
    {
      "cell_type": "code",
      "metadata": {
        "id": "gEK73etCdSeQ",
        "colab": {
          "base_uri": "https://localhost:8080/"
        },
        "outputId": "2b904464-d9d3-41ff-ab0d-07d6fe48e2a1"
      },
      "source": [
        "bolas = ['roja', 'negra', 'blanca', 'azul']\n",
        "chuches = ['regaliz', 'chicle', 'piruleta']\n",
        "edades = [15, 18, 25, 35]\n",
        "\n",
        "cosas = [bolas, chuches, edades]\n",
        "\n",
        "print(cosas)"
      ],
      "execution_count": null,
      "outputs": [
        {
          "output_type": "stream",
          "name": "stdout",
          "text": [
            "[['roja', 'negra', 'blanca', 'azul'], ['regaliz', 'chicle', 'piruleta'], [15, 18, 25, 35]]\n"
          ]
        }
      ]
    },
    {
      "cell_type": "markdown",
      "metadata": {
        "id": "_19qPiy1dSeS"
      },
      "source": [
        "Para buscar y ordenar también tenemos varios métodos:"
      ]
    },
    {
      "cell_type": "code",
      "metadata": {
        "id": "m4sQqn5LdSeS",
        "colab": {
          "base_uri": "https://localhost:8080/"
        },
        "outputId": "ebc4f930-d68a-48a7-936a-9a279b8ac0f2"
      },
      "source": [
        "estudiantes = ['Rosa', 'Antonio', 'Ismael', 'Anabel', 'Miguel', 'Cristina', 'Lucas', 'Miguel']\n",
        "\n",
        "estudiantes.reverse()\n",
        "print(estudiantes)\n",
        "\n",
        "estudiantes.sort(reverse=True)\n",
        "print(estudiantes)\n",
        "\n",
        "estudiantes.sort()\n",
        "print(estudiantes)\n",
        "\n",
        "print(\"Miguel aparece :\", estudiantes.count('Miguel'), \"veces.\")\n",
        "print(\"Miguel aparece en la posición: \", estudiantes.index('Miguel')) #busca en las posiciones 0..5"
      ],
      "execution_count": null,
      "outputs": [
        {
          "output_type": "stream",
          "name": "stdout",
          "text": [
            "['Miguel', 'Lucas', 'Cristina', 'Miguel', 'Anabel', 'Ismael', 'Antonio', 'Rosa']\n",
            "['Rosa', 'Miguel', 'Miguel', 'Lucas', 'Ismael', 'Cristina', 'Antonio', 'Anabel']\n",
            "['Anabel', 'Antonio', 'Cristina', 'Ismael', 'Lucas', 'Miguel', 'Miguel', 'Rosa']\n",
            "Miguel aparece : 2 veces.\n",
            "Miguel aparece en la posición:  5\n"
          ]
        }
      ]
    },
    {
      "cell_type": "markdown",
      "metadata": {
        "id": "8xl-MITodSec"
      },
      "source": [
        "## Introducir e imprimir datos \n",
        "\n",
        "En programación, a veces necesitamos que los datos nos vengan del usuario final de la aplicación y nosotros debemos tratar esos datos y orientar al usuario para que sepa qué debe escribir o qué tipo de dato escribir.\n",
        "\n",
        "Usamos input (o raw_input) donde le podemos poner un mensaje orientativo para ayudar al usuario.\n",
        "\n",
        "Veamos algun ejemplo:"
      ]
    },
    {
      "cell_type": "code",
      "metadata": {
        "id": "tdpeNDNDdSec",
        "colab": {
          "base_uri": "https://localhost:8080/"
        },
        "outputId": "7ece9c8e-125e-4a6a-acf1-0b54f0da7c30"
      },
      "source": [
        "edad = input(\"Introduce tu edad: \") \n",
        "print (\"Tu edad es: \" + edad)"
      ],
      "execution_count": null,
      "outputs": [
        {
          "output_type": "stream",
          "name": "stdout",
          "text": [
            "Introduce tu edad: 20\n",
            "Tu edad es: 20\n"
          ]
        }
      ]
    },
    {
      "cell_type": "code",
      "metadata": {
        "id": "cebhI3zoGDYp",
        "colab": {
          "base_uri": "https://localhost:8080/"
        },
        "outputId": "02f663d0-e5b5-4c42-bc4e-a90087e67a82"
      },
      "source": [
        "#input devuelve un string!!\n",
        "print(edad*2)\n",
        "print(int(edad)*2)"
      ],
      "execution_count": null,
      "outputs": [
        {
          "output_type": "stream",
          "text": [
            "6767\n",
            "134\n"
          ],
          "name": "stdout"
        }
      ]
    },
    {
      "cell_type": "markdown",
      "metadata": {
        "id": "eRXF6raZdSeg"
      },
      "source": [
        "La salida podemos formatearla con un estilo muy parecido a C"
      ]
    },
    {
      "cell_type": "code",
      "metadata": {
        "scrolled": true,
        "id": "f_PRe2FqdSeg",
        "colab": {
          "base_uri": "https://localhost:8080/"
        },
        "outputId": "3a3ab552-8abe-444d-8fd5-87a68995c4f7"
      },
      "source": [
        "# Esto imprime \"Hola, Juan!\"\n",
        "\n",
        "nombre = \"Juan\"\n",
        "edad = 18\n",
        "nota = 7.677787\n",
        "\n",
        "print(\"Hola, %s! dijiste que tenías %d años?\" % (nombre, edad))\n",
        "print(\"Has sacado un %.2f de nota final\" % nota)\n"
      ],
      "execution_count": null,
      "outputs": [
        {
          "output_type": "stream",
          "name": "stdout",
          "text": [
            "Hola, Juan! dijiste que tenías 18 años?\n",
            "Has sacado un 7.68 de nota final\n"
          ]
        }
      ]
    },
    {
      "cell_type": "markdown",
      "metadata": {
        "id": "YUv0RRK4dSeh"
      },
      "source": [
        "### Rangos\n",
        "\n",
        "Los rangos son tipos especiales en Python y tienen una sintaxis que ahorra mucho código y es tremendamente intuitiva"
      ]
    },
    {
      "cell_type": "code",
      "metadata": {
        "id": "h0Tu2jmGdSei",
        "colab": {
          "base_uri": "https://localhost:8080/"
        },
        "outputId": "039946e7-7623-4cba-ac31-e735ae1bfdeb"
      },
      "source": [
        "# rango del 0 al 5\n",
        "list(range(6))"
      ],
      "execution_count": null,
      "outputs": [
        {
          "output_type": "execute_result",
          "data": {
            "text/plain": [
              "[0, 1, 2, 3, 4, 5]"
            ]
          },
          "metadata": {
            "tags": []
          },
          "execution_count": 35
        }
      ]
    },
    {
      "cell_type": "code",
      "metadata": {
        "id": "Y8cBj4nWdSej",
        "colab": {
          "base_uri": "https://localhost:8080/"
        },
        "outputId": "261932e8-2646-41fe-e2dd-90c0b42d9abf"
      },
      "source": [
        "# igual rango pero las posiciones impares\n",
        "# empieza en 0, termina en 5 y salta de dos en dos:\n",
        "list(range(0, 5, 2))"
      ],
      "execution_count": null,
      "outputs": [
        {
          "output_type": "execute_result",
          "data": {
            "text/plain": [
              "[0, 2, 4]"
            ]
          },
          "metadata": {},
          "execution_count": 33
        }
      ]
    },
    {
      "cell_type": "code",
      "metadata": {
        "id": "mGXNPxoedSel",
        "colab": {
          "base_uri": "https://localhost:8080/"
        },
        "outputId": "ed2c26fd-3a96-429b-c444-533b2d4abe18"
      },
      "source": [
        "# igual rango pero en sentido decreciente\n",
        "# empieza en 5, termina en -1, en sentido decreciente\n",
        "list(range(5, -1, -1))"
      ],
      "execution_count": null,
      "outputs": [
        {
          "output_type": "execute_result",
          "data": {
            "text/plain": [
              "[5, 4, 3, 2, 1, 0]"
            ]
          },
          "metadata": {
            "tags": []
          },
          "execution_count": 37
        }
      ]
    },
    {
      "cell_type": "markdown",
      "metadata": {
        "id": "UdPSh1e_dSep"
      },
      "source": [
        "## Estructuras de control\n",
        "\n",
        "En Python los bloques se delimitan usando el sangrado, utilizando siempre cuatro espacios (esto de cuatro es una norma de estilo). Cuando ponemos los dos puntos al final de la primera línea del condicional, todo lo que vaya a continuación con un nivel de sangrado superior se considera dentro del condicional. En cuanto escribimos la primera línea con un nivel de sangrado inferior, hemos cerrado el condicional. Si no seguimos esto a rajatabla, Python nos dará errores. Es una forma de forzar a que el código sea legible.\n",
        "\n",
        "### Condicionales\n",
        "\n",
        "Los condicionales tienen la siguiente forma:"
      ]
    },
    {
      "cell_type": "markdown",
      "metadata": {
        "id": "NTIWZ5LldSep"
      },
      "source": [
        "    if <condición>:\n",
        "        <haz lo que sea>\n",
        "    elif <condición>:\n",
        "        <haz otra cosa>\n",
        "    else:\n",
        "        <haz otra cosa>"
      ]
    },
    {
      "cell_type": "markdown",
      "metadata": {
        "id": "WgiT7XTSdSeq"
      },
      "source": [
        "#### Algunos ejemplos aclaratorios"
      ]
    },
    {
      "cell_type": "code",
      "metadata": {
        "id": "F_GWYuDqdSeq",
        "colab": {
          "base_uri": "https://localhost:8080/"
        },
        "outputId": "698d6f61-936a-4af7-c5ea-505a33b8b3ce"
      },
      "source": [
        "x = 7\n",
        "y = 2\n",
        "x, y = 7, 2\n",
        "if x > y:\n",
        "    print(\"x es mayor que y\")\n",
        "    print(\"x sigue siendo mayor que y\")"
      ],
      "execution_count": null,
      "outputs": [
        {
          "output_type": "stream",
          "text": [
            "x es mayor que y\n",
            "x sigue siendo mayor que y\n"
          ],
          "name": "stdout"
        }
      ]
    },
    {
      "cell_type": "code",
      "metadata": {
        "id": "1tDv4U7vdSes",
        "colab": {
          "base_uri": "https://localhost:8080/"
        },
        "outputId": "962ce4b0-b9c3-41c6-9a28-b633c5b1246f"
      },
      "source": [
        "if 1 < 0:\n",
        "    print(\"Es falso que  1 < 0\")\n",
        "print(\"Mira como estoy fuera del IF\") "
      ],
      "execution_count": null,
      "outputs": [
        {
          "output_type": "stream",
          "text": [
            "Mira como estoy fuera del IF\n"
          ],
          "name": "stdout"
        }
      ]
    },
    {
      "cell_type": "code",
      "metadata": {
        "id": "8vi4E-CLdSeu"
      },
      "source": [
        "if 1 < 0:\n",
        "    print(\"1 es menor que 0\")\n",
        "    print(\"1 sigue siendo menor que 0\") # hay que sangrar correctamente"
      ],
      "execution_count": null,
      "outputs": []
    },
    {
      "cell_type": "code",
      "metadata": {
        "id": "YI6tdk90dSev",
        "colab": {
          "base_uri": "https://localhost:8080/"
        },
        "outputId": "ea4c55fc-7ae5-471d-bf5f-a1f98b9b8040"
      },
      "source": [
        "print(\"x =\", x, \", y=\", y)\n",
        "if x > y:\n",
        "    print(\"x es mayor que y\")\n",
        "else:\n",
        "    print(\"y es menor que x\")"
      ],
      "execution_count": null,
      "outputs": [
        {
          "output_type": "stream",
          "text": [
            "x = 7 , y= 2\n",
            "x es mayor que y\n"
          ],
          "name": "stdout"
        }
      ]
    },
    {
      "cell_type": "code",
      "metadata": {
        "id": "bd8GrxQ2dSew",
        "colab": {
          "base_uri": "https://localhost:8080/"
        },
        "outputId": "c7e05082-360e-47c2-a2c2-d92b9bc35847"
      },
      "source": [
        "print(\"x =\", x, \", y=\", y)\n",
        "if not x < y:\n",
        "    print(\"x es menor que y\")\n",
        "elif x == y:\n",
        "    print(\"x es igual a y\")\n",
        "elif x > y:\n",
        "  print(\"x es mayor a y\")\n",
        "else:\n",
        "    print(\"x no es ni menor ni igual que y\")"
      ],
      "execution_count": null,
      "outputs": [
        {
          "output_type": "stream",
          "text": [
            "x = 7 , y= 2\n",
            "x es menor que y\n"
          ],
          "name": "stdout"
        }
      ]
    },
    {
      "cell_type": "markdown",
      "metadata": {
        "id": "vxt2R7ZmdSex"
      },
      "source": [
        "### Bucles\n",
        "\n",
        "En Python existen dos tipos de estructuras de control típicas:\n",
        "\n",
        "1. Bucles `while`\n",
        "2. Bucles `for`\n",
        "\n"
      ]
    },
    {
      "cell_type": "markdown",
      "metadata": {
        "id": "BjVEEwrwH8p6"
      },
      "source": [
        "#### **while**\n",
        "\n",
        "Los bucles `while` repetirán las sentencias anidadas en él mientras se cumpla una condición:\n",
        "\n",
        "    while <condición>:\n",
        "        <cosas que hacer>\n",
        "        \n",
        "Como en el caso de los condicionales, los bloques se separan por indentación sin necesidad de sentencias del tipo `end`"
      ]
    },
    {
      "cell_type": "code",
      "metadata": {
        "id": "acVx9Wu4dSey",
        "colab": {
          "base_uri": "https://localhost:8080/"
        },
        "outputId": "0de0694a-83d6-4ca6-fae3-2e48028ead3d"
      },
      "source": [
        "i = -2\n",
        "while i < 5:\n",
        "    print(i)\n",
        "    i += 1"
      ],
      "execution_count": null,
      "outputs": [
        {
          "output_type": "stream",
          "text": [
            "-2\n",
            "-1\n",
            "0\n",
            "1\n",
            "2\n",
            "3\n",
            "4\n"
          ],
          "name": "stdout"
        }
      ]
    },
    {
      "cell_type": "markdown",
      "metadata": {
        "id": "Z_uYxijZdSez"
      },
      "source": [
        "Se puede interrumpir el bucle a la mitad con la sentencia break:"
      ]
    },
    {
      "cell_type": "code",
      "metadata": {
        "id": "mdMkFtGudSez",
        "colab": {
          "base_uri": "https://localhost:8080/"
        },
        "outputId": "0902eca2-d976-488a-9c57-cb3d8a47097a"
      },
      "source": [
        "i = -2\n",
        "while i < 5:\n",
        "    print(i)\n",
        "    i += 1\n",
        "    if i==3:\n",
        "        break"
      ],
      "execution_count": null,
      "outputs": [
        {
          "output_type": "stream",
          "text": [
            "-2\n",
            "-1\n",
            "0\n",
            "1\n",
            "2\n"
          ],
          "name": "stdout"
        }
      ]
    },
    {
      "cell_type": "markdown",
      "metadata": {
        "id": "hzNbuQXXdSe1"
      },
      "source": [
        "Un bloque *else* justo después del bucle se ejecuta si no ha sido interrumpido por nosotros:"
      ]
    },
    {
      "cell_type": "code",
      "metadata": {
        "id": "EryLzYJbdSe1",
        "colab": {
          "base_uri": "https://localhost:8080/"
        },
        "outputId": "2e821be8-aa7a-4093-d9c3-2b5728702b2e"
      },
      "source": [
        "i = -2\n",
        "while i < 5:\n",
        "    print(i)\n",
        "    i += 1\n",
        "    if i==3:\n",
        "        break\n",
        "else:\n",
        "    print(\"El bucle ha terminado.\")"
      ],
      "execution_count": null,
      "outputs": [
        {
          "output_type": "stream",
          "text": [
            "-2\n",
            "-1\n",
            "0\n",
            "1\n",
            "2\n"
          ],
          "name": "stdout"
        }
      ]
    },
    {
      "cell_type": "code",
      "metadata": {
        "id": "fhJG597UdSe3",
        "colab": {
          "base_uri": "https://localhost:8080/"
        },
        "outputId": "c5067087-0b3b-4014-b427-a0bc0cf99475"
      },
      "source": [
        "i = -2\n",
        "while i < 5:\n",
        "    print(i)\n",
        "    i += 1\n",
        "    #if i==3:\n",
        "    #    break\n",
        "else:\n",
        "    print(\"El bucle ha terminado.\")"
      ],
      "execution_count": null,
      "outputs": [
        {
          "output_type": "stream",
          "text": [
            "-2\n",
            "-1\n",
            "0\n",
            "1\n",
            "2\n",
            "3\n",
            "4\n",
            "El bucle ha terminado.\n"
          ],
          "name": "stdout"
        }
      ]
    },
    {
      "cell_type": "markdown",
      "metadata": {
        "id": "2Q6dwT0bdSe4"
      },
      "source": [
        "#### **for**\n",
        "\n",
        "El otro bucle en Python es el bucle `for` y funciona de manera que puede resultar chocante al principio ya que tiene multitud de formas sintácticas. La idea es recorrer un conjunto de elementos, o dicho correctamente, recorrer todos los elementos de un objeto iterable:\n",
        "\n",
        "    for <elemento> in <objeto iterable>:\n",
        "        <haz lo que sea...>"
      ]
    },
    {
      "cell_type": "code",
      "metadata": {
        "id": "0YViO28WdSe4",
        "colab": {
          "base_uri": "https://localhost:8080/"
        },
        "outputId": "8122618a-5be5-47ea-b804-adec0870f032"
      },
      "source": [
        "for i in (1,2,3,4,5):\n",
        "    print(i)"
      ],
      "execution_count": null,
      "outputs": [
        {
          "output_type": "stream",
          "text": [
            "1\n",
            "2\n",
            "3\n",
            "4\n",
            "5\n"
          ],
          "name": "stdout"
        }
      ]
    },
    {
      "cell_type": "code",
      "metadata": {
        "id": "q0XK2GvYdSe5",
        "colab": {
          "base_uri": "https://localhost:8080/"
        },
        "outputId": "8a0e3574-b6b7-4d15-f881-595b4c2ade91"
      },
      "source": [
        "l = [\"Juanly\", \"Siro\", \"Carlos\"]\n",
        "for nombre in l:\n",
        "    print(nombre)"
      ],
      "execution_count": null,
      "outputs": [
        {
          "output_type": "stream",
          "name": "stdout",
          "text": [
            "Juanly\n",
            "Siro\n",
            "Carlos\n"
          ]
        }
      ]
    },
    {
      "cell_type": "code",
      "metadata": {
        "id": "4nzOjFqidSe6",
        "colab": {
          "base_uri": "https://localhost:8080/"
        },
        "outputId": "59754bc9-444d-4087-c597-eb42a2dab133"
      },
      "source": [
        "for i in range(3):\n",
        "    print(i)"
      ],
      "execution_count": null,
      "outputs": [
        {
          "output_type": "stream",
          "text": [
            "0\n",
            "1\n",
            "2\n"
          ],
          "name": "stdout"
        }
      ]
    },
    {
      "cell_type": "code",
      "metadata": {
        "id": "f2fSJK0pdSe6",
        "colab": {
          "base_uri": "https://localhost:8080/"
        },
        "outputId": "ebf90137-45b6-4403-9e24-cadebbdbd94c"
      },
      "source": [
        "for j in range(2, 5):\n",
        "    print(j)"
      ],
      "execution_count": null,
      "outputs": [
        {
          "output_type": "stream",
          "text": [
            "2\n",
            "3\n",
            "4\n"
          ],
          "name": "stdout"
        }
      ]
    },
    {
      "cell_type": "code",
      "metadata": {
        "id": "Mt6T2aeNdSe8",
        "colab": {
          "base_uri": "https://localhost:8080/"
        },
        "outputId": "15715d2c-185b-430d-9332-9ce4fdb11ddd"
      },
      "source": [
        "for nombre in \"Juanlu\", \"Siro\", \"Carlos\":\n",
        "    if nombre == \"Carlos\":\n",
        "        break\n",
        "    print(nombre)\n",
        "    \n",
        "else:\n",
        "    print(\"¿Carlos excluido?\")"
      ],
      "execution_count": null,
      "outputs": [
        {
          "output_type": "stream",
          "text": [
            "Juanlu\n",
            "Siro\n"
          ],
          "name": "stdout"
        }
      ]
    },
    {
      "cell_type": "markdown",
      "metadata": {
        "id": "KZIhh8wHztCF"
      },
      "source": [
        "## Funciones\n",
        "\n",
        "\n",
        "En Python, la definición de funciones se realiza mediante la instrucción *def* más un nombre de función descriptivo, para el que se aplican las mismas reglas que para el nombre de las variables, seguido de los paréntesis de apertura y cierre. La definición de la cabecera de la función termina con dos puntos (:). El algoritmo que la compone, irá indentado con 4 espacios:\n"
      ]
    },
    {
      "cell_type": "code",
      "metadata": {
        "id": "zT2ElB1sztCG"
      },
      "source": [
        "def mi_funcion(): \n",
        "    print('2*2=4')"
      ],
      "execution_count": null,
      "outputs": []
    },
    {
      "cell_type": "markdown",
      "metadata": {
        "id": "V8NOv8ORztCJ"
      },
      "source": [
        "¿Cómo se llama a la función? como en todos los lenguajes: por su nombre"
      ]
    },
    {
      "cell_type": "code",
      "metadata": {
        "id": "iaTqDShsztCJ",
        "colab": {
          "base_uri": "https://localhost:8080/"
        },
        "outputId": "a1e3455a-0ee2-4c9d-9bbb-33f6924779c1"
      },
      "source": [
        "mi_funcion()"
      ],
      "execution_count": null,
      "outputs": [
        {
          "output_type": "stream",
          "text": [
            "2*2=4\n"
          ],
          "name": "stdout"
        }
      ]
    },
    {
      "cell_type": "markdown",
      "metadata": {
        "id": "FqxH0OJmztCM"
      },
      "source": [
        "¿Se les puede poner parámetros? Pueden tener tantos parámetros como sea necesario, incluso no definirlos directamente y pasar un número intedeterminado de ellos, o \"peor\" aún, pasarle el número de parametros correcto pero empaquetados en una lista, o en una tupla, por ejemplo.\n",
        "\n",
        "¿Pueden devolver valores, simples o complejos? Tampoco hay restricciones, pueden devolver lo que sea. Aquí se muestran varios ejemplos:\n"
      ]
    },
    {
      "cell_type": "code",
      "metadata": {
        "id": "4bz9-xMMztCM"
      },
      "source": [
        "# Cómo no, la función \"Hola mundo\"\n",
        "def funcion(): \n",
        "    return \"Hola Mundo\" \n",
        "\n",
        "#esto sería el programa principal\n",
        "frase = funcion() \n",
        "print(frase)"
      ],
      "execution_count": null,
      "outputs": []
    },
    {
      "cell_type": "code",
      "metadata": {
        "id": "69WBfMu6ztCP"
      },
      "source": [
        "# Esta función recibe dos cadenas de caracteres y las concatena\n",
        "def completa_nombre(nombre, apellidos): \n",
        "    nombre_completo = nombre + ' ' + apellidos\n",
        "    return nombre_completo \n",
        " \n",
        "# este es el programa principal\n",
        "nombre, apellidos = \"Leonardo\", \"Torres Quevedo\"\n",
        "nombre_completo = completa_nombre(nombre, apellidos)\n",
        "print(nombre_completo)"
      ],
      "execution_count": null,
      "outputs": []
    },
    {
      "cell_type": "markdown",
      "metadata": {
        "id": "QFNUMoycJ8UZ"
      },
      "source": [
        "## Diccionarios\n",
        "En Python, un diccionario es una colección no-ordenada de valores que son accedidos a traves de una clave. Es decir, en lugar de acceder a la información mediante el índice numérico, como es el caso de las listas y tuplas, es posible acceder a los valores a través de sus claves, que pueden ser de diversos tipos.\n",
        "\n",
        "Las claves son únicas dentro de un diccionario, es decir que no puede haber un diccionario que tenga dos veces la misma clave, si se asigna un valor a una clave ya existente, se reemplaza el valor anterior.\n",
        "\n",
        "No hay una forma directa de acceder a una clave a través de su valor, y nada impide que un mismo valor se encuentre asignado a distintas claves. \n",
        "\n",
        "La informacion almacenada en los diccionarios, no tiene un orden particular. Ni por clave, ni por valor, ni tampoco por el orden en que han sido agregados al diccionario.\n",
        "\n",
        "Cualquier variable de tipo inmutable, puede ser clave de un diccionario: cadenas, enteros, tuplas (con valores inmutables en sus miembros), etc. No hay restricciones para los valores que el diccionario puede contener, cualquier tipo puede ser el valor: listas, cadenas, tuplas, otros diccionarios, objetos...\n",
        "\n",
        "De la misma forma que con listas, es posible definir un diccionario directamente con los miembros que va a contener, o bien inicializar el diccionario vacío y luego agregar los valores de uno en uno o de muchos en muchos.\n",
        "\n",
        "Para definirlo junto con los miembros que va a contener, se encierra el listado de valores entre llaves, las parejas de clave y valor se separan con comas, y la clave y el valor se separan con :."
      ]
    },
    {
      "cell_type": "code",
      "metadata": {
        "id": "3OSUPnA2J1-O",
        "colab": {
          "base_uri": "https://localhost:8080/"
        },
        "outputId": "ba897b88-ae81-4d24-a312-28cd0e1c148f"
      },
      "source": [
        "punto = {'x': 2, 'y': 1, 'z': 4}\n",
        "punto"
      ],
      "execution_count": null,
      "outputs": [
        {
          "output_type": "execute_result",
          "data": {
            "text/plain": [
              "{'x': 2, 'y': 1, 'z': 4}"
            ]
          },
          "metadata": {
            "tags": []
          },
          "execution_count": 56
        }
      ]
    },
    {
      "cell_type": "code",
      "metadata": {
        "id": "5BWxUVzEJ1-g",
        "colab": {
          "base_uri": "https://localhost:8080/"
        },
        "outputId": "3c3ca0e4-93ea-4349-dac2-fc7082bdfaf5"
      },
      "source": [
        "materias = {}\n",
        "materias[\"lunes\"] = [6103, 7540]\n",
        "materias[\"martes\"] = [6201]\n",
        "materias[\"miercoles\"] = [6103, 7540]\n",
        "materias[\"jueves\"] = []\n",
        "materias[\"viernes\"] = [6201]\n",
        "materias"
      ],
      "execution_count": null,
      "outputs": [
        {
          "output_type": "execute_result",
          "data": {
            "text/plain": [
              "{'jueves': [],\n",
              " 'lunes': [6103, 7540],\n",
              " 'martes': [6201],\n",
              " 'miercoles': [6103, 7540],\n",
              " 'viernes': [6201]}"
            ]
          },
          "metadata": {
            "tags": []
          },
          "execution_count": 57
        }
      ]
    },
    {
      "cell_type": "markdown",
      "metadata": {
        "id": "GIld7dnUJ1-g"
      },
      "source": [
        "Para acceder al valor asociado a una determinada clave, se hace de la misma forma que con las listas, pero utilizando la clave elegida en lugar del índice."
      ]
    },
    {
      "cell_type": "code",
      "metadata": {
        "id": "1FmQdBIKJ1-h",
        "colab": {
          "base_uri": "https://localhost:8080/"
        },
        "outputId": "6042911f-a951-43ec-ce33-fd33ba9c38b7"
      },
      "source": [
        "print(materias[\"lunes\"])"
      ],
      "execution_count": null,
      "outputs": [
        {
          "output_type": "stream",
          "text": [
            "[6103, 7540]\n"
          ],
          "name": "stdout"
        }
      ]
    },
    {
      "cell_type": "markdown",
      "metadata": {
        "id": "olLNZkLEztDy"
      },
      "source": [
        "### Recorriendo un diccionario\n",
        "\n",
        "Existen diversas formas de recorrer un diccionario. Es posible recorrer sus claves y usar esas claves para acceder a los valores."
      ]
    },
    {
      "cell_type": "code",
      "metadata": {
        "id": "CqrM9opZztDy",
        "colab": {
          "base_uri": "https://localhost:8080/"
        },
        "outputId": "2907de93-6f94-481a-ec63-db329196c279"
      },
      "source": [
        "for dia in materias:\n",
        "   print(dia, \":\", materias[dia])"
      ],
      "execution_count": null,
      "outputs": [
        {
          "output_type": "stream",
          "text": [
            "lunes : [6103, 7540]\n",
            "martes : [6201]\n",
            "miercoles : [6103, 7540]\n",
            "jueves : []\n",
            "viernes : [6201]\n"
          ],
          "name": "stdout"
        }
      ]
    },
    {
      "cell_type": "markdown",
      "metadata": {
        "id": "4P6g-M--ztDz"
      },
      "source": [
        "Es posible, también, obtener los valores como tuplas donde el primer elemento es la clave y el segundo es el valor."
      ]
    },
    {
      "cell_type": "code",
      "metadata": {
        "id": "2Fd5XkjdztD0",
        "colab": {
          "base_uri": "https://localhost:8080/"
        },
        "outputId": "ebb1069c-bacc-42b6-8327-9fcf84659851"
      },
      "source": [
        "for dia, codigos in materias.items():\n",
        "   print(dia, \":\", codigos)"
      ],
      "execution_count": null,
      "outputs": [
        {
          "output_type": "stream",
          "text": [
            "lunes : [6103, 7540]\n",
            "martes : [6201]\n",
            "miercoles : [6103, 7540]\n",
            "jueves : []\n",
            "viernes : [6201]\n"
          ],
          "name": "stdout"
        }
      ]
    },
    {
      "cell_type": "markdown",
      "metadata": {
        "id": "u22w3BFiOveA"
      },
      "source": [
        "## Activar Google Drive de forma local\n",
        "\n",
        "En los ejemplos siguientes se muestra cómo activar Google Drive en tu entorno de ejecución con un código de autorización y cómo puedes escribir y leer archivos en ese entorno. Cuando se haya ejecutado, podrás ver el nuevo archivo &#40;<code>foo.txt</code>&#41; en <a href=\"https://drive.google.com/\">https://drive.google.com/</a>.\n",
        "\n",
        "De esta manera, solo se permite la lectura, escritura y transferencia de archivos. Para modificar de forma programática las opciones para compartir u otros metadatos, utiliza una de las opciones que se indican a continuación.\n",
        "\n",
        "<strong>Nota:</strong> Si un usuario utiliza el botón Activar Drive en el explorador de archivos, no hará falta ningún código de autenticación en los cuadernos que no haya editado nadie más."
      ]
    },
    {
      "cell_type": "code",
      "source": [
        "from google.colab import drive\n",
        "drive.mount('/content/drive')"
      ],
      "metadata": {
        "colab": {
          "base_uri": "https://localhost:8080/"
        },
        "id": "a4eXe5bbsb_X",
        "outputId": "49b049e0-933e-4bfb-beda-6a9c24965982"
      },
      "execution_count": null,
      "outputs": [
        {
          "output_type": "stream",
          "name": "stdout",
          "text": [
            "Drive already mounted at /content/drive; to attempt to forcibly remount, call drive.mount(\"/content/drive\", force_remount=True).\n"
          ]
        }
      ]
    },
    {
      "cell_type": "markdown",
      "metadata": {
        "id": "rucPT87d1O7F"
      },
      "source": [
        "## Ficheros\n",
        "\n",
        "El tratamiento de ficheros en Python es identico a la mayoría de lenguajes de programación. Tiene instrucciones para abrir y cerrar ficheros, para leer y escribir, distintos modos de apertura...\n",
        "\n",
        "Para leer un fichero de texto basta con abrir y leer. Este código lo ilustra:"
      ]
    },
    {
      "cell_type": "markdown",
      "metadata": {
        "id": "AIKkSYFvNbOM"
      },
      "source": [
        "El módulo *os* nos permite acceder a funcionalidades dependientes del Sistema Operativo. Sobre todo, aquellas que nos refieren información sobre el entorno del mismo y nos permiten manipular la estructura de directorios (para leer y escribir archivos)\n",
        "\n",
        "Más información: https://uniwebsidad.com/libros/python/capitulo-10/modulos-de-sistema"
      ]
    },
    {
      "cell_type": "code",
      "metadata": {
        "id": "0LTD1CzI1O7F"
      },
      "source": [
        "import os # no es necesario pero para no escribir los directorios cambio al destino\n",
        "path = os.chdir(\"/content/drive/MyDrive/PLN\")\n",
        "os.getcwd()"
      ],
      "execution_count": null,
      "outputs": []
    },
    {
      "cell_type": "markdown",
      "metadata": {
        "id": "CHEv7dUN1O7J"
      },
      "source": [
        "### Leer datos\n",
        "\n",
        "Para leer de un fichero se usan los métodos *read*, *readline* y *readlines*. Veamos unos ejemplos:"
      ]
    },
    {
      "cell_type": "code",
      "metadata": {
        "id": "WReNkrto1O7K",
        "colab": {
          "base_uri": "https://localhost:8080/"
        },
        "outputId": "889f3f40-f92d-4a44-96a1-fbb35f014ac8"
      },
      "source": [
        "#lee el fichero entero en la variable dato\n",
        "f = open(\"archivo.txt\") #lo abre en modo lectura\n",
        "dato = f.read() #lee todo!!\n",
        "print(dato)\n",
        "f.close()"
      ],
      "execution_count": null,
      "outputs": [
        {
          "output_type": "stream",
          "name": "stdout",
          "text": [
            "a\n",
            "a\n",
            "a\n",
            "a\n",
            "a\n",
            "a\n",
            "\n"
          ]
        }
      ]
    },
    {
      "cell_type": "code",
      "metadata": {
        "id": "lJ-XEHz41O7Q"
      },
      "source": [
        "#lee 2 líneas del fichero\n",
        "f = open(\"entradas.txt\")\n",
        "linea1 = f.readline()\n",
        "linea2 = f.readline()\n",
        "print(\"1: \",linea1) \n",
        "print(\"2: \",linea2)\n",
        "f.close()\n",
        "# como puedes ver, se lee el retorno de carro"
      ],
      "execution_count": null,
      "outputs": []
    },
    {
      "cell_type": "code",
      "metadata": {
        "id": "w9mD7dGR1O7T",
        "colab": {
          "base_uri": "https://localhost:8080/"
        },
        "outputId": "522ae874-41f0-44f8-fae1-2887130177a6"
      },
      "source": [
        "#lee todas las líneas \n",
        "f = open(\"archivo.txt\", \"r\")\n",
        "for linea in f.readlines():\n",
        "    print(linea)\n",
        "f.close()"
      ],
      "execution_count": null,
      "outputs": [
        {
          "output_type": "stream",
          "name": "stdout",
          "text": [
            "a\n",
            "\n",
            "a\n",
            "\n",
            "a\n",
            "\n",
            "a\n",
            "\n",
            "a\n",
            "\n",
            "a\n"
          ]
        }
      ]
    },
    {
      "cell_type": "markdown",
      "metadata": {
        "id": "vVk1DoWz1O7a"
      },
      "source": [
        "### Escribir datos"
      ]
    },
    {
      "cell_type": "code",
      "metadata": {
        "id": "9luux9DP1O7b"
      },
      "source": [
        "#crear un fichero y escribe una línea\n",
        "\n",
        "f = open(\"salidas.txt\", \"w\") #si existía el fichero, ha borrado su contenido\n",
        "f.write(\"Con cien cañones por banda\\n\")\n",
        "f.close()\n",
        "#abre el fichero y mira su contenido"
      ],
      "execution_count": null,
      "outputs": []
    },
    {
      "cell_type": "code",
      "metadata": {
        "id": "ARzX1rgH1O7d"
      },
      "source": [
        "#abre el fichero en modo append y escribe otra línea\n",
        "\n",
        "f = open(\"salidas.txt\", \"a\") #lo abre y se coloca al final para escribir\n",
        "f.write(\"viento en popa a toda vela\\n\")\n",
        "f.close()\n",
        "#abre el fichero y mira su contenido"
      ],
      "execution_count": null,
      "outputs": []
    },
    {
      "cell_type": "markdown",
      "metadata": {
        "id": "i_ALpdMyIU9-"
      },
      "source": [
        "# Ejercicios\n",
        "\n",
        "El resultado de esta primera práctica deberá entregarse en docencia virtual y tiene como límite de entrega las **23:59 horas del día 8 de febrero de 2022**. Se entregará este mismo notebook de extensión *.ipynb*. Importante: indicar los miembros que han realizado la práctica.\n",
        "\n",
        "Realizado por: \n",
        "**Juan Bautista Muñoz Ruiz** \n",
        "jbmr0001@red.ujaen.es"
      ]
    },
    {
      "cell_type": "markdown",
      "metadata": {
        "id": "NGuqiAxjIXAT"
      },
      "source": [
        "## Ejercicio 1\n",
        "\n",
        "A partir de dos listas de enteros, 'numeros1' y 'numeros2', almacenar en una lista el resultado de multiplicar cada uno de los elementos de 'numeros1' por, a su vez, cada uno de los elementos de 'numeros2'. Es decir, la lista resultante tendra len(numeros1) * len(numeros2) elementos.\n"
      ]
    },
    {
      "cell_type": "code",
      "source": [
        "numeros1 = [1, 7, 13, 21, 27]\n",
        "numeros2 = [8, 9, 28, 41, 55, 77]\n",
        "\n",
        "lista1 = []\n",
        "for i in numeros1:\n",
        "    for j in numeros2:\n",
        "        lista1.append(i*j)\n",
        "\n",
        "a = 10\n",
        "print(\"|||LISTA FINAL DE TAMAÑO %d\" % len(lista1) + \"|||\" )\n",
        "\n",
        "for i in lista1:\n",
        "        print(i)\n",
        "\n"
      ],
      "metadata": {
        "id": "JDY3Q2zVteSg",
        "colab": {
          "base_uri": "https://localhost:8080/"
        },
        "outputId": "4e6553f5-657d-4e64-baaa-bbf9d24c66f8"
      },
      "execution_count": 157,
      "outputs": [
        {
          "output_type": "stream",
          "name": "stdout",
          "text": [
            "|||LISTA FINAL DE TAMAÑO 30|||\n",
            "8\n",
            "9\n",
            "28\n",
            "41\n",
            "55\n",
            "77\n",
            "56\n",
            "63\n",
            "196\n",
            "287\n",
            "385\n",
            "539\n",
            "104\n",
            "117\n",
            "364\n",
            "533\n",
            "715\n",
            "1001\n",
            "168\n",
            "189\n",
            "588\n",
            "861\n",
            "1155\n",
            "1617\n",
            "216\n",
            "243\n",
            "756\n",
            "1107\n",
            "1485\n",
            "2079\n"
          ]
        }
      ]
    },
    {
      "cell_type": "markdown",
      "metadata": {
        "id": "YLXiYRz1IxPy"
      },
      "source": [
        "## Ejercicio 2\n",
        "Implementa una función que reciba una lista de enteros y devuelva otra lista con aquellos que son pares y >= 113"
      ]
    },
    {
      "cell_type": "code",
      "metadata": {
        "id": "umahxazoJrfh",
        "colab": {
          "base_uri": "https://localhost:8080/"
        },
        "outputId": "04c5f970-bfaf-4b57-80e9-55d7d04a6423"
      },
      "source": [
        "numeros = [5, 28, 675, 113, 45, 676, 89, 12, -213, 232, 39, 42, 877]\n",
        "lista2 = []\n",
        "for i in numeros:\n",
        "  if i % 2 == 0:\n",
        "    if i >=113:\n",
        "      lista2.append(i)\n",
        "\n",
        "print(\"|||LISTA FINAL DE TAMAÑO %d\" % len(lista2) + \"|||\" )\n",
        "\n",
        "for i in lista2:\n",
        "        print(i)\n"
      ],
      "execution_count": 158,
      "outputs": [
        {
          "output_type": "stream",
          "name": "stdout",
          "text": [
            "|||LISTA FINAL DE TAMAÑO 2|||\n",
            "676\n",
            "232\n"
          ]
        }
      ]
    },
    {
      "cell_type": "markdown",
      "metadata": {
        "id": "m_k8LRcDKFJ6"
      },
      "source": [
        "## Ejercicio 3\n",
        "\n",
        "Implementa una función que cuente el número de vocales contenidas en una cadena de texto y que devuelva el resultado en un diccionario."
      ]
    },
    {
      "cell_type": "code",
      "metadata": {
        "id": "bs0OU46MKLMo",
        "colab": {
          "base_uri": "https://localhost:8080/"
        },
        "outputId": "72106775-baf1-4faf-ed7f-acf917e2a312"
      },
      "source": [
        "cadena = 'En el verano de 1604 estaba terminada la Primera Parte del Quijote, que en septiembre obtuvo el Privilegio Real para su publicación y que fue vendida por su autor al librero Francisco Robles. Pocos meses después, a principios de 1605, aparecía en Madrid, en la imprenta de Juan de la Cuesta, la primera parte de la obra, El ingenioso hidalgo don Quijote de la Mancha. Era una edición pobre, con muchísimas erratas. Contiene también errores del autor: epígrafes incorrectos, cambios repentinos de escenario, pasajes que se duplican o se anulan y acontecimientos que suceden y no se refieren. Estos errores parecen indicar que Cervantes reconsideró la estructuración de la novela. La incorporación de historias intercaladas parece responder a una inseguridad narrativa  de Cervantes. Con ellas pretende diversificar la trama, convencido de que los personajes de su historia no serían capaces de mantener la atención del lector por sí mismos.'\n",
        "\n",
        "\n",
        "vocalesTotales = 0\n",
        "numVeces = {\"a\": 0,\"e\": 0,\"i\": 0,\"o\": 0,\"u\": 0}\n",
        "\n",
        "print(\"Antes de ejecutar:\",numVeces)\n",
        "\n",
        "for i in cadena:\n",
        "\tif i.lower() in \"aeiou\":\n",
        "\t\tvocalesTotales=vocalesTotales+1\n",
        "\t\tif i.lower() in \"a\":\n",
        "\t\t\tnumVeces['a'] = numVeces.get('a') + 1\n",
        "\t\telif i.lower() in \"e\":\n",
        "\t\t\tnumVeces['e'] = numVeces.get('e') + 1\n",
        "\t\telif i.lower() in \"i\":\n",
        "\t\t\tnumVeces['i'] = numVeces.get('i') + 1\n",
        "\t\telif i.lower() in \"o\":\n",
        "\t\t\tnumVeces['o'] = numVeces.get('o') + 1\n",
        "\t\telif i.lower() in \"u\":\n",
        "\t\t\tnumVeces['u'] = numVeces.get('u') + 1\n",
        "    \n",
        "print(\"|||Numero de vocales %d\" % vocalesTotales + \"|||\" )\n",
        "print(\"Después de ejecutar:\",numVeces)  \n"
      ],
      "execution_count": 159,
      "outputs": [
        {
          "output_type": "stream",
          "name": "stdout",
          "text": [
            "Antes de ejecutar: {'a': 0, 'e': 0, 'i': 0, 'o': 0, 'u': 0}\n",
            "|||Numero de vocales 332|||\n",
            "Después de ejecutar: {'a': 85, 'e': 113, 'i': 55, 'o': 51, 'u': 28}\n"
          ]
        }
      ]
    },
    {
      "cell_type": "markdown",
      "metadata": {
        "id": "jcihoyD4dSfH"
      },
      "source": [
        "## Ejercicio 4\n",
        "\n",
        "Para cada una de las cadenas de texto almacenadas en una lista, imprimir por pantalla el indice (primera letra de la cadena), la cadena en sí e indicar si la palabra es demasiado corta (cinco o menos caracteres) o larga (mas de cinco caracteres)\n"
      ]
    },
    {
      "cell_type": "code",
      "metadata": {
        "id": "B-5t5jK5dSfH",
        "colab": {
          "base_uri": "https://localhost:8080/"
        },
        "outputId": "0f365c48-db36-45f4-d86b-c76fc0f884cd"
      },
      "source": [
        "frase = \"Programmers are, in their hearts, architects, and the first thing they want to do when they get to a site is to bulldoze the place flat and build something grand\"\n",
        "listado = frase.split()    # listado = [\"Programmers\", \"are\", \",\",...]\n",
        "\n",
        "for i in listado:\n",
        "  print(\"||Cadena: %s  \" %i +\" ||Primera letra: %s \" %i[0],end=\" \")\n",
        "  if len(i) <= 5:\n",
        "    print(\"||DEMASIADO CORTA\")\n",
        "  else:\n",
        "    print(\"||LARGA\")\n"
      ],
      "execution_count": 160,
      "outputs": [
        {
          "output_type": "stream",
          "name": "stdout",
          "text": [
            "||Cadena: Programmers   ||Primera letra: P  ||LARGA\n",
            "||Cadena: are,   ||Primera letra: a  ||DEMASIADO CORTA\n",
            "||Cadena: in   ||Primera letra: i  ||DEMASIADO CORTA\n",
            "||Cadena: their   ||Primera letra: t  ||DEMASIADO CORTA\n",
            "||Cadena: hearts,   ||Primera letra: h  ||LARGA\n",
            "||Cadena: architects,   ||Primera letra: a  ||LARGA\n",
            "||Cadena: and   ||Primera letra: a  ||DEMASIADO CORTA\n",
            "||Cadena: the   ||Primera letra: t  ||DEMASIADO CORTA\n",
            "||Cadena: first   ||Primera letra: f  ||DEMASIADO CORTA\n",
            "||Cadena: thing   ||Primera letra: t  ||DEMASIADO CORTA\n",
            "||Cadena: they   ||Primera letra: t  ||DEMASIADO CORTA\n",
            "||Cadena: want   ||Primera letra: w  ||DEMASIADO CORTA\n",
            "||Cadena: to   ||Primera letra: t  ||DEMASIADO CORTA\n",
            "||Cadena: do   ||Primera letra: d  ||DEMASIADO CORTA\n",
            "||Cadena: when   ||Primera letra: w  ||DEMASIADO CORTA\n",
            "||Cadena: they   ||Primera letra: t  ||DEMASIADO CORTA\n",
            "||Cadena: get   ||Primera letra: g  ||DEMASIADO CORTA\n",
            "||Cadena: to   ||Primera letra: t  ||DEMASIADO CORTA\n",
            "||Cadena: a   ||Primera letra: a  ||DEMASIADO CORTA\n",
            "||Cadena: site   ||Primera letra: s  ||DEMASIADO CORTA\n",
            "||Cadena: is   ||Primera letra: i  ||DEMASIADO CORTA\n",
            "||Cadena: to   ||Primera letra: t  ||DEMASIADO CORTA\n",
            "||Cadena: bulldoze   ||Primera letra: b  ||LARGA\n",
            "||Cadena: the   ||Primera letra: t  ||DEMASIADO CORTA\n",
            "||Cadena: place   ||Primera letra: p  ||DEMASIADO CORTA\n",
            "||Cadena: flat   ||Primera letra: f  ||DEMASIADO CORTA\n",
            "||Cadena: and   ||Primera letra: a  ||DEMASIADO CORTA\n",
            "||Cadena: build   ||Primera letra: b  ||DEMASIADO CORTA\n",
            "||Cadena: something   ||Primera letra: s  ||LARGA\n",
            "||Cadena: grand   ||Primera letra: g  ||DEMASIADO CORTA\n"
          ]
        }
      ]
    },
    {
      "cell_type": "markdown",
      "metadata": {
        "id": "-6GbKLZpQ1Im"
      },
      "source": [
        "## Ejercicio 5\n",
        "\n",
        "Imprime por pantalla el numero de lineas de un fichero cuyo nombre es introducido por el teclado.\n",
        "\n"
      ]
    },
    {
      "cell_type": "code",
      "source": [
        "f = open(\"archivo.txt\", \"w\") #Se crea el archivo archivo.txt \n",
        "f.write(\"a\\n\")\n",
        "f.write(\"a\\n\")\n",
        "f.write(\"a\\n\")\n",
        "f.write(\"a\\n\")\n",
        "f.write(\"a\\n\")\n",
        "f.write(\"a\\n\")\n",
        "f.close()\n",
        "\n",
        "print(\"Introduzca fichero a buscar\")#Se lee el archivo\n",
        "fichero = input() #Introducir archivo.txt\n",
        "print(f\"Contando líneas del fichero {fichero}...\")\n",
        "\n",
        "f = open(fichero, \"r\")\n",
        "contador=0\n",
        "for linea in f.readlines():\n",
        "    print(linea,end=\"\")\n",
        "    contador=contador+1\n",
        "f.close()\n",
        "print(\"El fichero tiene: %d \" %contador +\"líneas: \")"
      ],
      "metadata": {
        "id": "n7JxkdnM_vmh",
        "colab": {
          "base_uri": "https://localhost:8080/"
        },
        "outputId": "df69d179-7bf6-4ad1-8aa6-8b5e42518194"
      },
      "execution_count": 161,
      "outputs": [
        {
          "output_type": "stream",
          "name": "stdout",
          "text": [
            "Introduzca fichero a buscar\n",
            "archivo.txt\n",
            "Contando líneas del fichero archivo.txt...\n",
            "a\n",
            "a\n",
            "a\n",
            "a\n",
            "a\n",
            "a\n",
            "El fichero tiene: 6 líneas: \n"
          ]
        }
      ]
    },
    {
      "cell_type": "markdown",
      "metadata": {
        "id": "Q2WxzpHoOtmr"
      },
      "source": [
        "## Ejercicio 6\n",
        "\n",
        "Primero genera dos ficheros de texto que incluyan un valor por línea. Llama a estos ficheros *fichero1.txt* y *fichero2.txt*\n",
        "\n",
        "Después, implementa una función que genere un archivo final llamado *fichero_suma.txt*, en el que cada línea del fichero final sea el resultado de la suma de los valores de esa línea de los dos archivos anteriores. "
      ]
    },
    {
      "cell_type": "code",
      "source": [
        "f = open(\"fichero1.txt\", \"w\") #Se crea el archivo\n",
        "f.write(\"1\\n\")\n",
        "f.write(\"2\\n\")\n",
        "f.write(\"2\\n\")\n",
        "f.write(\"8\\n\")\n",
        "f.write(\"10\\n\")\n",
        "f.close()\n",
        "\n",
        "f = open(\"fichero2.txt\", \"w\") #Se crea el archivo\n",
        "f.write(\"0\\n\")\n",
        "f.write(\"4\\n\")\n",
        "f.write(\"1\\n\")\n",
        "f.write(\"9\\n\")\n",
        "f.write(\"2\\n\")\n",
        "f.close()\n",
        "\n",
        "f = open(\"fichero1.txt\", \"r\") #Se lee el archivo\n",
        "list1 = []\n",
        "for linea in f.readlines():\n",
        "    list1.append(linea)\n",
        "f.close()\n",
        "\n",
        "f = open(\"fichero2.txt\", \"r\") #Se lee el archivo\n",
        "list2 = []\n",
        "for linea in f.readlines():\n",
        "    list2.append(linea)\n",
        "f.close()\n",
        "\n",
        "i=0\n",
        "resultados=[]\n",
        "while i<len(list1): #Recorremos, sumamos y convertirmos.\n",
        "  v1=int(list1[i])\n",
        "  v2=int(list2[i])\n",
        "  resultado=v1+v2\n",
        "  resultados.append(resultado)\n",
        "  i=i+1\n",
        "  \n",
        "f = open(\"fichero_suma.txt\", \"w\") #Se crea el archivo final\n",
        "for r in resultados:\n",
        "  f.write(str(r)+\"\\n\")\n",
        "f.close()\n",
        "\n",
        "f = open(\"fichero_suma.txt\", \"r\") #Comprobamos el archivo final\n",
        "for linea in f.readlines():\n",
        "    print(linea,end=\"\")\n",
        "f.close()"
      ],
      "metadata": {
        "colab": {
          "base_uri": "https://localhost:8080/"
        },
        "id": "OY4s9ZUeE2lr",
        "outputId": "5e659fc2-9b54-47fc-e499-cd559c64001f"
      },
      "execution_count": 162,
      "outputs": [
        {
          "output_type": "stream",
          "name": "stdout",
          "text": [
            "1\n",
            "6\n",
            "3\n",
            "17\n",
            "12\n"
          ]
        }
      ]
    },
    {
      "cell_type": "markdown",
      "metadata": {
        "id": "atTXJJ7E1O70"
      },
      "source": [
        "## Ejercicio 7\n",
        "\n",
        "Crear un fichero con el contenido que se muestra a continuación. Posteriormente, implementar una función que lea el fichero y genere un nuevo fichero con los datos de los pacientes que tengan más de 30 años que no sea diabéticos.\n",
        "\n",
        "El fichero de entrada debe contener:\n",
        "\n",
        "    Nombre Edad Diabetes\n",
        "    Daniel 22 No\n",
        "    Ana 32 Si\n",
        "    Enrique 31 No\n",
        "    Ismael 29 Si\n",
        "    Isabel 38 No\n",
        "    \n",
        "El fichero de salida contendrá:\n",
        "\n",
        "    Nombre Edad Diabetes\n",
        "    Enrique 31 No\n",
        "    Isabel 38 No"
      ]
    },
    {
      "cell_type": "code",
      "source": [
        "f = open(\"datos.txt\", \"w\") #Se crea el archivo\n",
        "f.write(\"Nombre Edad Diabetes \\n\")\n",
        "f.write(\"Daniel 22 No\\n\")\n",
        "f.write(\"Ana 32 Si\\n\")\n",
        "f.write(\"Enrique 31 No\\n\")\n",
        "f.write(\"Ismael 29 Si\\n\")\n",
        "f.write(\"Isabel 38 No\\n\")\n",
        "f.close()\n",
        "\n",
        "\n",
        "f = open(\"datos.txt\", \"r\") #Se lee el archivo\n",
        "lineaArchivo = []\n",
        "for linea in f.readlines():\n",
        "    lineaArchivo.append(linea)\n",
        "f.close()\n",
        "\n",
        "\n",
        "cabecera=lineaArchivo[0].split() #Extraemos la cabecera de los datos\n",
        "\n",
        "pacientes=[]\n",
        "for i in lineaArchivo: #Se meterá cada paciente en un vector de pacientes\n",
        "    listado=i.split() #Se separa cada palabra\n",
        "    paciente = { #Se crea un nuevo paciente\n",
        "      \"%s\" %cabecera[0]: \"\",\n",
        "      \"%s\" %cabecera[1]: 0,\n",
        "      \"%s\" %cabecera[2]: \"\"\n",
        "    }\n",
        "    #Asignamos los datos del paciente\n",
        "    paciente[\"%s\" %cabecera[0]]=listado[0]\n",
        "    paciente[\"%s\" %cabecera[1]]=listado[1]\n",
        "    paciente[\"%s\" %cabecera[2]]=listado[2]\n",
        "    if cabecera[0]!=listado[0]: #Se ignora el paciente con los datos de la cabecera del archivo de datos (primera línea)\n",
        "      pacientes.append(paciente)\n",
        "\n",
        "pacientesFinales=[]\n",
        "for i in pacientes:\n",
        "  if int(i[\"%s\" %cabecera[1]]) > 30: #Si es mayor de 30 y si no es diabético lo almacenamos \n",
        "    if i[\"%s\" %cabecera[2]] == \"No\":\n",
        "      pacientesFinales.append(i)\n",
        "\n",
        "\n",
        "f = open(\"salidaClientes.txt\", \"w\") #Se crea el archivo final\n",
        "f.write(cabecera[0]+\" \"+cabecera[1]+\" \"+cabecera[2]+\"\\n\") #Escribimos cabecera\n",
        "for p in pacientesFinales:\n",
        "  f.write(str(p[\"%s\" %cabecera[0]])+\" \"+str(p[\"%s\" %cabecera[1]])+\" \"+str(p[\"%s\" %cabecera[2]])+\"\\n\")\n",
        "f.close()\n",
        "\n",
        "f = open(\"salidaClientes.txt\", \"r\") #Comprobamos el archivo final\n",
        "for linea in f.readlines():\n",
        "    print(linea,end=\"\")\n",
        "f.close()\n",
        " "
      ],
      "metadata": {
        "colab": {
          "base_uri": "https://localhost:8080/"
        },
        "id": "nA8h7QHWMMB3",
        "outputId": "bca8e44d-1204-4b10-9e72-4872cc7a91fa"
      },
      "execution_count": 165,
      "outputs": [
        {
          "output_type": "stream",
          "name": "stdout",
          "text": [
            "Nombre Edad Diabetes\n",
            "Enrique 31 No\n",
            "Isabel 38 No\n"
          ]
        }
      ]
    },
    {
      "cell_type": "markdown",
      "source": [],
      "metadata": {
        "id": "-Ho4m0d8XEZG"
      }
    }
  ]
}