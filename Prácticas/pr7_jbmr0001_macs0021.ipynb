{
  "cells": [
    {
      "cell_type": "markdown",
      "metadata": {
        "id": "u01d30dm7Uyg"
      },
      "source": [
        "# **Procesamiento del Lenguaje Natural**\n",
        "## *Práctica 7 - Aprendizaje supervisado*"
      ]
    },
    {
      "cell_type": "markdown",
      "metadata": {
        "id": "ngEznx9s7Txv"
      },
      "source": [
        "## Objetivos\n",
        "\n",
        "*   Utilizar clasificadores de aprendizaje supervisado y aplicarlos en una colección, haciendo uso de la librería Sklearn de Python.\n"
      ]
    },
    {
      "cell_type": "markdown",
      "metadata": {
        "id": "BuxafLv86Res"
      },
      "source": [
        "### Aprendizaje supervisado\n",
        "\n",
        "El aprendizaje supervisado ​​son un conjunto de técnicas que permite realizar predicciones futuras basadas en comportamientos o características analizadas en datos históricos etiquetados.\n",
        "\n",
        "Una etiqueta no es más que la salida que ha mostrado el conjunto de datos para datos históricos, ya conocidos.\n"
      ]
    },
    {
      "cell_type": "markdown",
      "metadata": {
        "id": "Q2W-q-8P6iaL"
      },
      "source": [
        "#### 1. Funcionamiento\n",
        "\n",
        "Para comprender el funcionamiento del aprendizaje supervisado se acudirá a un ejemplo donde tenemos un conjunto de datos etiquetados a priori: 1 manzana, 2 cítricos, 3 sandias y 4 plátanos. A este conjunto de datos le extraemos sus características en vectores (Tf-Idf u otros tipos) y con esto entrenamos el algoritmo de aprendizaje automático. \n",
        "\n",
        "El algoritmo nos genera un modelo el que podemos proporcionarle nuevos conjuntos de datos y que este nos clasifique los nuevos elementos (nunca antes vistos) con lo que ha aprendido en la fase de entrenamiento. \n",
        "\n",
        "\n",
        "<img src=\"https://www.diegocalvo.es/wp-content/uploads/2019/03/aprendizaje_supervisado.png\" width=\"800\" height=\"500\" />\n",
        "\n",
        "\n"
      ]
    },
    {
      "cell_type": "markdown",
      "metadata": {
        "id": "PeGOcW98DkaG"
      },
      "source": [
        "<img src=\"https://www.diegocalvo.es/wp-content/uploads/2019/03/clasificaci%C3%B3n_de_aprendizaje_supervisado.png\" width=\"400\" height=\"300\" />"
      ]
    },
    {
      "cell_type": "markdown",
      "metadata": {
        "id": "Qw7gjrRv8tRi"
      },
      "source": [
        "#### 2. Regresión\n",
        "\n",
        "La regresión tiene como objetivo predecir valores continuos a partir de datos históricos etiquetados.\n",
        "\n",
        "Un ejemplo de este método es la estimación de gasto de un cliente en función de su renta y número de hijos.\n",
        "\n",
        "Los tipos de algoritmos de regresión incluyen:\n",
        "* Regresión lineal\n",
        "* Regresión polinomial\n",
        "* Vectores de soporte regresión\n",
        "* Árboles de decisión regresión\n",
        "* Bosques aleatorios regresión\n",
        "\n"
      ]
    },
    {
      "cell_type": "markdown",
      "metadata": {
        "id": "MgyqhPyn9LZN"
      },
      "source": [
        "#### 3. Clasificación\n",
        "\n",
        "Tiene como objetivo clasificar en grupos atendiendo a datos históricos etiquetados.\n",
        "\n",
        "Un ejemplo de este método es la estimación clasificar frutas en función del color forma, textura...\n",
        "\n",
        "\n",
        "\n",
        "<img src=\"https://www.diegocalvo.es/wp-content/uploads/2019/03/clasificaci%C3%B3n.png\" width=\"280\" height=\"200\" />\n",
        "\n"
      ]
    },
    {
      "cell_type": "markdown",
      "metadata": {
        "id": "V41M7LZc9yjR"
      },
      "source": [
        "Los tipos de algoritmos de clasificación incluyen:\n",
        "* Regresión logística\n",
        "* Vecinos más cercanos\n",
        "* Máquinas de vectores de soportes\n",
        "* Árboles de decisión clasificación\n",
        "* Bosques aleatorios clasificación\n"
      ]
    },
    {
      "cell_type": "markdown",
      "metadata": {
        "id": "QY3CVAu9EL2H"
      },
      "source": [
        "#### Ejemplo\n",
        "\n",
        "Ejemplo de Máquinas de vectores de soportes (SVM) en Python:\n",
        "\n",
        "1)  Añadimos las librerías necesarias\n"
      ]
    },
    {
      "cell_type": "code",
      "execution_count": null,
      "metadata": {
        "id": "RheaS4tJ96Cy"
      },
      "outputs": [],
      "source": [
        "from sklearn import svm"
      ]
    },
    {
      "cell_type": "markdown",
      "metadata": {
        "id": "ANj06V7C-FVn"
      },
      "source": [
        "2) Añadimos los textos en una lista de Python:"
      ]
    },
    {
      "cell_type": "code",
      "execution_count": null,
      "metadata": {
        "id": "O7gPB6Rr-Esq"
      },
      "outputs": [],
      "source": [
        "documents = [\"This little kitty came to play when I was eating at a restaurant.\",\n",
        "             \"Merley has the best squooshy kitten belly.\",\n",
        "             \"Google Translate app is incredible.\",\n",
        "             \"If you open 100 tab in google you get a smiley face.\",\n",
        "             \"Best cat photo I've ever taken.\",\n",
        "             \"Climbing ninja cat.\",\n",
        "             \"Impressed with google map feedback.\",\n",
        "             \"Key promoter extension for Google Chrome.\"]\n"
      ]
    },
    {
      "cell_type": "markdown",
      "metadata": {
        "id": "wPgTYur9EYjM"
      },
      "source": [
        "3) Añadimos las etiquetas o clases a cada documento, debemos tener en cuenta la posición en el vector:\n"
      ]
    },
    {
      "cell_type": "code",
      "execution_count": null,
      "metadata": {
        "id": "jwMdJxJoEXy9"
      },
      "outputs": [],
      "source": [
        "tags = [\"cat\", \"cat\", \"google\", \"google\", \"cat\", \"cat\", \"google\", \"google\"]"
      ]
    },
    {
      "cell_type": "markdown",
      "metadata": {
        "id": "zfIOy0AGEcdw"
      },
      "source": [
        "De esta manera el documento de la primera posición documents[0] tendrá la etiqueta en la primera posición tags[0], y así consecutivamente."
      ]
    },
    {
      "cell_type": "markdown",
      "metadata": {
        "id": "YxTxpMAI-OVu"
      },
      "source": [
        "4) Extraemos las características usando TF-IDF:"
      ]
    },
    {
      "cell_type": "code",
      "execution_count": null,
      "metadata": {
        "id": "XdWqOXfJ-bzM"
      },
      "outputs": [],
      "source": [
        "from sklearn.feature_extraction.text import TfidfVectorizer\n",
        "vectorizer = TfidfVectorizer()\n",
        "X = vectorizer.fit_transform(documents)"
      ]
    },
    {
      "cell_type": "markdown",
      "metadata": {
        "id": "PJP7oUH4-pMk"
      },
      "source": [
        "5) Creamos y entrenamos el modelo SVM con los parámetros por defecto, tened en cuenta que para entrenar necesitamos las etiquetas de cada documento:\n"
      ]
    },
    {
      "cell_type": "code",
      "execution_count": null,
      "metadata": {
        "id": "cHuJ8g01-u_M",
        "colab": {
          "base_uri": "https://localhost:8080/",
          "height": 75
        },
        "outputId": "39040939-5e98-4c7e-eaa4-5396a56a0321"
      },
      "outputs": [
        {
          "output_type": "execute_result",
          "data": {
            "text/plain": [
              "SVC()"
            ],
            "text/html": [
              "<style>#sk-container-id-13 {color: black;background-color: white;}#sk-container-id-13 pre{padding: 0;}#sk-container-id-13 div.sk-toggleable {background-color: white;}#sk-container-id-13 label.sk-toggleable__label {cursor: pointer;display: block;width: 100%;margin-bottom: 0;padding: 0.3em;box-sizing: border-box;text-align: center;}#sk-container-id-13 label.sk-toggleable__label-arrow:before {content: \"▸\";float: left;margin-right: 0.25em;color: #696969;}#sk-container-id-13 label.sk-toggleable__label-arrow:hover:before {color: black;}#sk-container-id-13 div.sk-estimator:hover label.sk-toggleable__label-arrow:before {color: black;}#sk-container-id-13 div.sk-toggleable__content {max-height: 0;max-width: 0;overflow: hidden;text-align: left;background-color: #f0f8ff;}#sk-container-id-13 div.sk-toggleable__content pre {margin: 0.2em;color: black;border-radius: 0.25em;background-color: #f0f8ff;}#sk-container-id-13 input.sk-toggleable__control:checked~div.sk-toggleable__content {max-height: 200px;max-width: 100%;overflow: auto;}#sk-container-id-13 input.sk-toggleable__control:checked~label.sk-toggleable__label-arrow:before {content: \"▾\";}#sk-container-id-13 div.sk-estimator input.sk-toggleable__control:checked~label.sk-toggleable__label {background-color: #d4ebff;}#sk-container-id-13 div.sk-label input.sk-toggleable__control:checked~label.sk-toggleable__label {background-color: #d4ebff;}#sk-container-id-13 input.sk-hidden--visually {border: 0;clip: rect(1px 1px 1px 1px);clip: rect(1px, 1px, 1px, 1px);height: 1px;margin: -1px;overflow: hidden;padding: 0;position: absolute;width: 1px;}#sk-container-id-13 div.sk-estimator {font-family: monospace;background-color: #f0f8ff;border: 1px dotted black;border-radius: 0.25em;box-sizing: border-box;margin-bottom: 0.5em;}#sk-container-id-13 div.sk-estimator:hover {background-color: #d4ebff;}#sk-container-id-13 div.sk-parallel-item::after {content: \"\";width: 100%;border-bottom: 1px solid gray;flex-grow: 1;}#sk-container-id-13 div.sk-label:hover label.sk-toggleable__label {background-color: #d4ebff;}#sk-container-id-13 div.sk-serial::before {content: \"\";position: absolute;border-left: 1px solid gray;box-sizing: border-box;top: 0;bottom: 0;left: 50%;z-index: 0;}#sk-container-id-13 div.sk-serial {display: flex;flex-direction: column;align-items: center;background-color: white;padding-right: 0.2em;padding-left: 0.2em;position: relative;}#sk-container-id-13 div.sk-item {position: relative;z-index: 1;}#sk-container-id-13 div.sk-parallel {display: flex;align-items: stretch;justify-content: center;background-color: white;position: relative;}#sk-container-id-13 div.sk-item::before, #sk-container-id-13 div.sk-parallel-item::before {content: \"\";position: absolute;border-left: 1px solid gray;box-sizing: border-box;top: 0;bottom: 0;left: 50%;z-index: -1;}#sk-container-id-13 div.sk-parallel-item {display: flex;flex-direction: column;z-index: 1;position: relative;background-color: white;}#sk-container-id-13 div.sk-parallel-item:first-child::after {align-self: flex-end;width: 50%;}#sk-container-id-13 div.sk-parallel-item:last-child::after {align-self: flex-start;width: 50%;}#sk-container-id-13 div.sk-parallel-item:only-child::after {width: 0;}#sk-container-id-13 div.sk-dashed-wrapped {border: 1px dashed gray;margin: 0 0.4em 0.5em 0.4em;box-sizing: border-box;padding-bottom: 0.4em;background-color: white;}#sk-container-id-13 div.sk-label label {font-family: monospace;font-weight: bold;display: inline-block;line-height: 1.2em;}#sk-container-id-13 div.sk-label-container {text-align: center;}#sk-container-id-13 div.sk-container {/* jupyter's `normalize.less` sets `[hidden] { display: none; }` but bootstrap.min.css set `[hidden] { display: none !important; }` so we also need the `!important` here to be able to override the default hidden behavior on the sphinx rendered scikit-learn.org. See: https://github.com/scikit-learn/scikit-learn/issues/21755 */display: inline-block !important;position: relative;}#sk-container-id-13 div.sk-text-repr-fallback {display: none;}</style><div id=\"sk-container-id-13\" class=\"sk-top-container\"><div class=\"sk-text-repr-fallback\"><pre>SVC()</pre><b>In a Jupyter environment, please rerun this cell to show the HTML representation or trust the notebook. <br />On GitHub, the HTML representation is unable to render, please try loading this page with nbviewer.org.</b></div><div class=\"sk-container\" hidden><div class=\"sk-item\"><div class=\"sk-estimator sk-toggleable\"><input class=\"sk-toggleable__control sk-hidden--visually\" id=\"sk-estimator-id-13\" type=\"checkbox\" checked><label for=\"sk-estimator-id-13\" class=\"sk-toggleable__label sk-toggleable__label-arrow\">SVC</label><div class=\"sk-toggleable__content\"><pre>SVC()</pre></div></div></div></div></div>"
            ]
          },
          "metadata": {},
          "execution_count": 121
        }
      ],
      "source": [
        "model = svm.SVC()\n",
        "model.fit(X, tags)"
      ]
    },
    {
      "cell_type": "markdown",
      "metadata": {
        "id": "FLWAuS8u-zN2"
      },
      "source": [
        "6) Predecir qué grupo (cat o google) sería el adecuado para nuestro nuevo texto:\n"
      ]
    },
    {
      "cell_type": "code",
      "execution_count": null,
      "metadata": {
        "id": "BExBtKvx-2Oj",
        "colab": {
          "base_uri": "https://localhost:8080/"
        },
        "outputId": "54f2b9e6-b484-4371-d2f5-f23a0037710b"
      },
      "outputs": [
        {
          "output_type": "stream",
          "name": "stdout",
          "text": [
            "['My chrome browser to open.'] ['google']\n",
            "[\"Drago's cat is cute.\"] ['cat']\n"
          ]
        }
      ],
      "source": [
        "text = [\"My chrome browser to open.\"]\n",
        "Y = vectorizer.transform(text)\n",
        "prediction = model.predict(Y)\n",
        "print(text, prediction)\n",
        "text = [\"Drago's cat is cute.\"]\n",
        "Y = vectorizer.transform(text)\n",
        "prediction = model.predict(Y)\n",
        "print(text, prediction)"
      ]
    },
    {
      "cell_type": "markdown",
      "metadata": {
        "id": "8L10vFKy_a_v"
      },
      "source": [
        "## Tutoriales\n",
        "\n",
        "Tutorial sobre SVM: https://scikit-learn.org/stable/modules/generated/sklearn.svm.SVC.html\n",
        "\n",
        "Tutorial sobre Tf-Idf: https://scikit-learn.org/stable/modules/generated/sklearn.feature_extraction.text.TfidfVectorizer.html"
      ]
    },
    {
      "cell_type": "markdown",
      "metadata": {
        "id": "IMKBCaDi30Tz"
      },
      "source": [
        "## Ejercicio\n",
        "\n",
        "El resultado de esta práctica deberá entregarse en PLATEA y tiene como límite de entrega las **23:59 horas del día 29 de abril de 2023**. Se entregará este mismo notebook de extensión *.ipynb* y se renombrará de la siguiente forma: pr7_usuario1_usuario2.ipynb. Sustituye \"usuario1\" y \"usuario2\" por el alias de vuestro correo.\n",
        "\n",
        "Utiliza el corpus **Gender** disponible en la carpeta “Material complementario” de PLATEA para crear un modelo supervisado.\n",
        "\n",
        "Puedes elegir el método de clasificación que desees. \n",
        "\n",
        "El corpus Gender tiene dos etiquetas disponibles F (female) y M (male). Trataremos de predecir si un texto está escrito por una mujer o un hombre.\n",
        "\n",
        "Para ello, procesa el texto de cada documento de la colección:\n",
        "* Tokeniza el texto.\n",
        "* Elimina palabras vacías.\n",
        "* Reduce las palabras a su raíz.\n",
        "* Cambia el texto a minúscula.\n",
        "\n",
        "Posteriormente, utiliza el método visto en clase de Tf-Idf sobre los documentos ya procesados y entrena el modelo que hayas elegido.\n",
        "\n",
        "Predice el posible género de estos textos que encontrarás en los ficheros de texto: predic_gender1.txt, predic_gender2.txt y predic_gender3.txt. Estos ficheros los encontrarás en la carpeta “Material complementario” de Docencia Virtual.\n",
        "\n",
        "**NOTA**: es importante procesar los textos que queremos predecir de la misma manera que hemos procesado todos los documentos de la colección para que el modelo puedan encontrar las mismas palabras.\n"
      ]
    },
    {
      "cell_type": "markdown",
      "metadata": {
        "id": "dyIHAxhIi5_h"
      },
      "source": [
        "**Autores de la práctica:** Juan Bautista Muñoz Ruiz jbmr0001@red.ujaen.es Marco Antonio Carrión Soriano macs0021@red.ujaen.es\n"
      ]
    },
    {
      "cell_type": "code",
      "execution_count": null,
      "metadata": {
        "id": "TloGiOyMi-YV",
        "colab": {
          "base_uri": "https://localhost:8080/"
        },
        "outputId": "138db8bb-4dfa-42e4-d24d-5610edeb7640"
      },
      "outputs": [
        {
          "output_type": "stream",
          "name": "stdout",
          "text": [
            "Drive already mounted at /content/drive; to attempt to forcibly remount, call drive.mount(\"/content/drive\", force_remount=True).\n"
          ]
        }
      ],
      "source": [
        "from google.colab import drive  #Montamos el drive\n",
        "drive.mount('/content/drive')"
      ]
    },
    {
      "cell_type": "code",
      "execution_count": null,
      "metadata": {
        "id": "jGKF3KZGOrGg",
        "colab": {
          "base_uri": "https://localhost:8080/",
          "height": 36
        },
        "outputId": "8c359c0c-d491-4870-bf9d-37bac753470b"
      },
      "outputs": [
        {
          "output_type": "execute_result",
          "data": {
            "text/plain": [
              "'/content/drive/MyDrive/PLN/P7'"
            ],
            "application/vnd.google.colaboratory.intrinsic+json": {
              "type": "string"
            }
          },
          "metadata": {},
          "execution_count": 124
        }
      ],
      "source": [
        "import os #Abrimos la carpeta\n",
        "path = os.chdir(\"/content/drive/MyDrive/PLN/P7\")\n",
        "os.getcwd()"
      ]
    },
    {
      "cell_type": "code",
      "execution_count": null,
      "metadata": {
        "id": "quO5Ya14R6wW"
      },
      "outputs": [],
      "source": [
        "def getCodificacion(texto): #Función para calcular el encoding con la libreria chardet\n",
        "  import chardet\n",
        "\n",
        "  with open(texto, 'rb') as f:\n",
        "    resultado = chardet.detect(f.read())\n",
        "\n",
        "  return resultado['encoding']"
      ]
    },
    {
      "cell_type": "code",
      "execution_count": null,
      "metadata": {
        "id": "8BBdE2-jR_Ue",
        "colab": {
          "base_uri": "https://localhost:8080/"
        },
        "outputId": "1b2c3e11-52cf-4e49-c60f-4ca1f76127a5"
      },
      "outputs": [
        {
          "output_type": "stream",
          "name": "stdout",
          "text": [
            "Leído predic_gender1.txt\n",
            "Leído predic_gender3.txt\n",
            "Leído predic_gender2.txt\n",
            "gender_corpus.xlsx\n"
          ]
        }
      ],
      "source": [
        "########################CARGA DE DATOS##########################\n",
        "import os \n",
        "import glob   #Lectura y procesado de los archivos\n",
        "import chardet\n",
        "import openpyxl\n",
        "import csv\n",
        "import pandas as pd\n",
        "path = os.chdir(\"/content/drive/MyDrive/PLN/P7\")\n",
        "os.getcwd()\n",
        "\n",
        "mapa ={}\n",
        "listaPredic = []\n",
        "listaCorpus = []\n",
        "mapa[\"Predic\"]=listaPredic\n",
        "mapa[\"Corpus\"]=listaCorpus\n",
        "for filename in glob.glob('predic*.txt'):  #Lectura de todos los archivos txt\n",
        "  with open(os.path.join(os.getcwd(), filename), 'r') as f:\n",
        "    # Calculamos el encoding del archivo con libería chardet\n",
        "    codificacion=getCodificacion(filename)\n",
        "    fichero = open(f.name,encoding=codificacion) # Leemos el archivo en su codificación\n",
        "    print(\"Leído \"+filename)\n",
        "    mapa[\"Predic\"].append(fichero.read())\n",
        "  f.close()\n",
        "for filename in glob.glob('*.xlsx'):  #Lectura de todos los archivos xlsx\n",
        "  with open(os.path.join(os.getcwd(), filename), 'r') as f:\n",
        "    print(filename)\n",
        "    archivo = pd.read_excel(filename) #Convertimos el xlsx a casv\n",
        "    archivo.to_csv (r'Corpus.csv', index = None, header=True)\n",
        "  f.close()\n",
        "    \n"
      ]
    },
    {
      "cell_type": "code",
      "execution_count": null,
      "metadata": {
        "id": "wrEMoAah-jkQ",
        "colab": {
          "base_uri": "https://localhost:8080/"
        },
        "outputId": "7f211a79-4b0b-4b0c-b249-640e665e500b"
      },
      "outputs": [
        {
          "output_type": "stream",
          "name": "stdout",
          "text": [
            "\u001b[38;5;2m✔ Download and installation successful\u001b[0m\n",
            "You can now load the package via spacy.load('en_core_web_sm')\n"
          ]
        }
      ],
      "source": [
        "import spacy.cli # Cargamos spacy\n",
        "spacy.cli.download(\"en_core_web_sm\")\n",
        "\n",
        "import en_core_web_sm\n",
        "nlp = en_core_web_sm.load()"
      ]
    },
    {
      "cell_type": "code",
      "execution_count": null,
      "metadata": {
        "id": "MdCxCtHZd2dQ",
        "colab": {
          "base_uri": "https://localhost:8080/"
        },
        "outputId": "d275faa1-eeff-4fea-867f-fcc22558e8b3"
      },
      "outputs": [
        {
          "output_type": "stream",
          "name": "stdout",
          "text": [
            "Fin de cada texto [956, 237363, 259740, 277252, 294771, 312332, 331661, 349691, 367203, 384714, 403957, 427123, 444278, 461521, 479514, 497506, 514684, 535842, 555956, 579545, 598186, 619759, 637276, 654685, 671951, 690398, 707813, 724708, 742035, 759758, 777102, 795578, 813985, 832629, 850806, 868260, 887052, 904573, 925139, 942138, 959433, 976794, 994994, 1012463, 1029729, 1047236, 1065356, 1082750, 1100989, 1122257, 1139662, 1157338, 1175404, 1194338, 1214491, 1231849, 1250861, 1268179, 1286789, 1304285, 1321897, 1339972, 1358968, 1377779, 1398645, 1416166, 1434138, 1453825, 1471641, 1492413, 1511440, 1533014, 1550857, 1569794, 1589816, 1609191, 1626555, 1644291, 1663611, 1681415, 1699630, 1720405, 1737810, 1755757, 1773577, 1792526, 1809910, 1828274, 1846404, 1863912, 1884471, 1902879, 1927420, 1944769, 1964218, 1982837, 2000361, 2018683, 2037755, 2055243, 2075078, 2092649, 2111041, 2129862, 2147785, 2165250, 2185249, 2202582, 2221485, 2252581, 2273182, 2291740, 2309057, 2326591, 2345421, 2362980, 2384606, 2404515, 2423738, 2440932, 2458234, 2475632, 2493082, 2510783, 2528656, 2547531, 2565091, 2582491, 2599931, 2618405, 2638890, 2656868, 2674405, 2692439, 2709856, 2727295, 2744728, 2764869, 2782325, 2800713, 2820517, 2838736, 2873705, 2893431, 2916576, 2934548, 2951924, 2972216, 2994361, 3013230, 3030583, 3051015, 3068499, 3087651, 3104999, 3123984, 3142697, 3160273, 3179556, 3199941, 3218461, 3236291, 3257057, 3274696, 3292071, 3310292, 3332592, 3350004, 3367787, 3385781, 3403503, 3422059, 3439343, 3457086, 3475141, 3499545, 3516925, 3534787, 3553606, 3570956, 3588355, 3605565, 3624289, 3641898, 3659293, 3677642, 3698937, 3716574, 3734045, 3751591, 3770053, 3787954, 3806563, 3826165, 3851281, 3868798, 3886138, 3903494, 3920918, 3938167, 3957872, 3976609, 3994355, 4013607, 4031316, 4050187, 4068054, 4088069, 4105678, 4123048, 4140892, 4159151, 4177107, 4194339, 4211911, 4230671, 4247653, 4265172, 4282474, 4299290, 4318370, 4336038, 4353054, 4371229, 4389080, 4411017, 4429082, 4446627, 4464758, 4482971, 4501662, 4518887, 4537267, 4556489, 4576127, 4593165, 4611918, 4629034, 4646760, 4664506, 4682308, 4700889, 4719570, 4737048, 4753960, 4771549, 4789475, 4806966, 4824331, 4841939, 4861262, 4879226, 4897206, 4914733, 4932437, 4949391, 4967449, 4987474, 5005112, 5023576, 5041122, 5059240, 5076859, 5095048, 5114393, 5132753, 5150245, 5169507, 5187009, 5204591, 5223109, 5241507, 5259119, 5278583, 5296249, 5313487, 5333041, 5350931, 5369077, 5386428, 5404511, 5423623, 5441992, 5459457, 5479953, 5497598, 5515539, 5534010, 5552753, 5570444, 5588193, 5605395, 5624038, 5641191, 5660337, 5679515, 5697416, 5715300, 5733322, 5750141, 5769845, 5787338, 5804720, 5822944, 5840043, 5857951, 5876107, 5895051, 5912840, 5930387, 5947747, 5965038, 5982641, 6000228, 6018453, 6035863, 6053961, 6071621, 6088976, 6106918, 6127419, 6148129, 6165819, 6185942, 6203412, 6221545, 6240612, 6259609, 6278725, 6296657, 6313999, 6331760, 6349291, 6367150, 6386110, 6403404, 6421232, 6440922, 6458824, 6476499, 6493663, 6511029, 6529884, 6547550, 6565558, 6582701, 6600990, 6618346, 6635870, 6653171, 6684797, 6704785, 6723050, 6740572, 6761575, 6779549, 6798288, 6816092, 6834215, 6851911, 6870514, 6887428, 6905799, 6923618, 6941599, 6959742, 6978245, 6998093, 7016740, 7035033, 7053941, 7072564, 7089745, 7107384, 7125086, 7143792, 7161145, 7179156, 7197624, 7215272, 7233439, 7252092, 7269704, 7286963, 7304160, 7322338, 7340070, 7357980, 7376380, 7394509, 7412583, 7430743, 7448361, 7467670, 7486373, 7503485, 7520835, 7539096, 7557295, 7581409, 7599507, 7616980, 7636183, 7654268, 7673796, 7692160, 7710569, 7728852, 7748241, 7767393, 7786427, 7806106, 7824145, 7843499, 7861561, 7881009, 7899575, 7918202, 7937540, 7955085, 7972914, 7990803, 8010287, 8028282, 8047309, 8064667, 8082570, 8102389, 8120773, 8138304, 8155840, 8175576, 8193955, 8212956, 8230464, 8248428, 8266769, 8285141, 8302730, 8322135, 8340133, 8359578, 8377471, 8395459, 8413640, 8432361, 8451710, 8469342, 8488189, 8506229, 8524444, 8543518, 8563927, 8581608, 8599650, 8617507, 8635767, 8653853, 8671524, 8689301, 8708784, 8727913, 8747026, 8766453, 8788096, 8807285, 8825285, 8844585, 8862236, 8880340, 8898099, 8917442, 8937410, 8955647, 8975049, 8993988, 9012237, 9030196, 9050597, 9068622, 9087105, 9106636, 9125865, 9145277, 9163994, 9182217, 9200396, 9217661, 9235604, 9255348, 9273883, 9291916, 9310073, 9327649, 9344799, 9363048, 9382685, 9401421, 9420106, 9437454, 9456780, 9474393, 9492868, 9511323, 9529323, 9548636, 9568133, 9586148, 9603875, 9623306, 9640876, 9659163, 9679904, 9699164, 9719632, 9738033, 9755706, 9775325, 9793940, 9813288, 9833014, 9851852, 9870571, 9889061, 9907408, 9926937, 9945865, 9963841, 9982813, 10000699, 10019346, 10038239, 10055559, 10074045, 10092528, 10109858, 10127548, 10146043, 10164049, 10181624, 10199536, 10219969, 10237911, 10259011, 10276642, 10298666, 10316963, 10336167, 10354667, 10372681, 10390717, 10408972, 10427087, 10446372, 10465233, 10482976, 10502366, 10521892, 10540325, 10557967, 10575518, 10594151, 10611218, 10628331, 10648326, 10666224, 10685598, 10704286, 10723347, 10741533, 10760002, 10777796, 10796650, 10814827, 10833240, 10851390, 10870840, 10889719, 10908598, 10927512, 10946074, 10965147, 10984733, 11002279, 11020163, 11037980, 11057775, 11075086, 11092695, 11110296, 11129047, 11146271, 11164879, 11183393, 11200863, 11218855, 11235794, 11253497, 11272029, 11289945, 11307471, 11327989, 11347299, 11366468, 11383940, 11402094, 11420973, 11438269, 11456241, 11474696, 11491863, 11509379, 11528244, 11546077, 11563629, 11581933, 11599774, 11617452, 11634510, 11652525, 11670061, 11688087, 11704952, 11722515, 11740114, 11758064, 11775060, 11793578, 11811028, 11829794, 11847057, 11864239, 11883775, 11901941, 11922254, 11939026, 11956171, 11974050, 11992085, 12008983, 12026442, 12043733, 12062107, 12080665, 12098249, 12116716, 12133711, 12151278, 12169120, 12187348, 12205634, 12222823, 12241502, 12258755, 12275909, 12294206, 12311557, 12329298, 12347152, 12364137, 12381832, 12399510, 12417471, 12435000, 12451853, 12471241, 12488546, 12507336, 12524513, 12543268, 12561458, 12578651, 12595830, 12613313, 12630374, 12648364, 12665576, 12683562, 12700697, 12718068, 12736044, 12753516, 12770643, 12788363, 12805295, 12823180, 12840567, 12858671, 12876176, 12893551, 12912153, 12929416, 12946230, 12963909, 12980931, 12998382, 13016450, 13033201, 13053528, 13070848, 13087929, 13105055, 13124117, 13142397, 13160348, 13178382, 13198159, 13216191, 13234169, 13250927, 13267938, 13285139, 13302829, 13320037, 13337462, 13354686, 13371866, 13390997, 13408299, 13425849, 13444207, 13461163, 13478828, 13496356, 13513482, 13530535, 13547413, 13565329, 13582709, 13600636, 13619363, 13636920, 13653817, 13671330, 13689678, 13706800, 13724065, 13742345, 13759542, 13776885, 13794292, 13811365, 13829353, 13847211, 13864556, 13882011, 13899247, 13916618, 13935742, 13953030, 13970395, 13988587, 14011367, 14028883, 14047018, 14063964, 14081895, 14099412, 14117946, 14136258, 14153519, 14170925, 14188537, 14205929, 14224043, 14242566, 14260191, 14276759, 14294042, 14311127, 14330424, 14347727, 14365734, 14384889, 14402909, 14420781, 14438049, 14456713, 14475606, 14494910, 14512339, 14530157, 14547708, 14565063, 14582467, 14599387, 14617070, 14634205, 14652117, 14669770, 14687272, 14705046, 14723202, 14790667, 14960544, 15145700, 15467752, 16242426, 16275967, 16478843, 16529593, 16714476, 16798720, 16916681, 17356057, 17727663, 17761173, 18114037, 18148182, 18165059, 18181809, 18215560, 18232922, 18250181, 18267192, 18284203, 18302329, 18320194, 18336836, 18353467, 18370058, 18403518, 18421394, 18438479, 18455818, 18472970, 18489974, 18507005, 18524395, 18541487, 18558867, 18575441, 18592841, 18610216, 18643987, 18661203, 18678148, 18694836, 18711569, 18728747, 18745884, 18762847, 18779925, 18797262, 18814635, 18831547, 18848579, 18865522, 18882913, 18899757, 18916572, 18933367, 18949971, 18966969, 18983925, 19000797, 19017562, 19034881, 19051690, 19068499, 19085451, 19102391, 19119549, 19136789, 19153999, 19171253, 19188305, 19205568, 19222598, 19239629, 19256497, 19273723, 19291090, 19308291, 19325090, 19342191, 19359564, 19376926, 19394330, 19411449, 19428553, 19445443, 19462177, 19479071, 19495869, 19512774, 19529748, 19546316, 19563325, 19579995, 19597380, 19614781, 19632312, 19650082, 19666844, 19683588, 19700742, 19718528, 19735922, 19752605, 19769303, 19786197, 19803513, 19820655, 19837584, 19854808, 19871505, 19888780, 19905630, 19922275, 19939526, 19956928, 19973883, 19990570, 20007961, 20024937, 20042277, 20059661, 20076735, 20094270, 20110996, 20128360, 20146288, 20162875, 20180100, 20197480, 20215970, 20232832, 20250237, 20267464, 20284319, 20301120, 20318130, 20335509, 20352280, 20369086, 20386435, 20403506, 20420875, 20439395, 20456264, 20473409, 20490690, 20508086, 20525476, 20542250, 20560255, 20577226, 20594539, 20611430, 20628363, 20646044, 20662950, 20680249, 20697593, 20714496, 20731321, 20748685, 20765564, 20782638, 20799621, 20816941, 20834026, 20851695, 20869096, 20886488, 20903880, 20920528, 20937788, 20954929, 20971952, 20989022, 21005902, 21022559, 21040106, 21057103, 21073999, 21091357, 21108780, 21125652, 21142900, 21159980, 21177000, 21194190, 21211544, 21228884, 21246225, 21263528, 21280850, 21298170, 21315444, 21332546, 21349419, 21366652, 21383862, 21400835, 21418153, 21434908, 21452368, 21468953, 21486145, 21503211, 21519865, 21537294, 21554278, 21571682, 21588485, 21605880, 21622626, 21639490, 21656894, 21673738, 21690662, 21707979, 21724911, 21742304, 21759635, 21777016, 21794401, 21811323, 21829291, 21845960, 21863326, 21880611, 21898006, 21915379, 21932307, 21949158, 21967038, 22004911, 22037619, 22055394, 22091086, 22115675, 22133040, 22150331, 22180129, 22203406, 22220670, 22237699, 22255583, 22274778, 22292652, 22337804, 22371897, 22388907, 22406791, 22447301, 22484703, 22502583, 22522486, 22541732, 22561687, 22579050, 22602569, 22624438, 22664259, 22683648, 22700619, 22720109, 22742375, 22781521, 22799399, 22832680, 22881822, 22908426, 22957558, 23000198, 23017589, 23038356, 23056040, 23073920, 23104111, 23153256, 23202373, 23234261, 23278317, 23298019, 23324935, 23342801, 23366614, 23395118, 23411981, 23429862, 23449639, 23497324, 23520147, 23544533, 23593671, 23613581, 23636397, 23668762, 23695845, 23713817, 23752984, 23771679, 23795197, 23842339, 23860094, 23881324, 23900819, 23923846, 23973330, 24003252, 24024023, 24052306, 24070070, 24119220, 24142738, 24168195, 24192313, 24209307, 24240716, 24266166, 24291684, 24315382, 24344266, 24361557, 24389693, 24434923, 24454918, 24476569, 24498384, 24521008, 24565446, 24582751, 24600459, 24621149, 24638417, 24655786, 24674208, 24702756, 24721154, 24742242, 24771343, 24820467, 24845745, 24878717, 24897384, 24915264, 24942381, 24959755, 24979969, 25010631, 25029918, 25051343, 25069227, 25096795, 25121361, 25170509, 25211854, 25229544, 25274167, 25304835, 25322361, 25344953, 25368894, 25386762, 25405552, 25423428, 25442254, 25459173, 25489215, 25505850, 25534188, 25575941, 25612087, 25634938, 25655345, 25678900, 25697466, 25715344, 25747853, 25779988, 25826973, 25851661, 25871351, 25902337, 25932090, 25949970, 25974279, 26023175, 26043407, 26071083, 26092273, 26141375, 26159192, 26193616, 26211242, 26228504, 26252891, 26270771, 26292126, 26324401, 26354042, 26375446, 26410158, 26430396, 26463983, 26492407, 26523843, 26572964, 26600660, 26622610, 26645749, 26673250, 26697326, 26732546, 26758458, 26801771, 26819653, 26845622, 26863413, 26887169, 26913922, 26939603, 26974227, 26991743, 27009623, 27035336, 27059023, 27076140, 27106144, 27124024, 27142320, 27163444, 27180279, 27198439, 27216089, 27240358, 27265576, 27283284, 27306483, 27340954, 27358834, 27392915, 27419276, 27437156, 27459150, 27478288, 27527490, 27545812, 27583247, 27600941, 27617955, 27660787, 27695746, 27725478, 27751480, 27772199, 27791951, 27825529, 27854694, 27874333, 27893028, 27928248, 27967872, 28002197, 28051307, 28082112, 28103482, 28121362, 28156687, 28181948, 28221123, 28240078, 28281418, 28299302, 28317745, 28345711, 28382655, 28411387, 28430543, 28450784, 28468323, 28493671, 28523977, 28573098, 28590011, 28606834, 28639877, 28656843, 28673842, 28690554, 28707175, 28724072, 28740816, 28757586, 28774246, 28791326, 28808196, 28824752, 28841478, 28858277, 28875270, 28892274, 28909168, 28925967, 28942663, 28959574, 28976414, 28993139, 29009770, 29026496, 29043684, 29060451, 29077377, 29094319, 29110963, 29127710, 29144671, 29161484, 29178396, 29195247, 29212322, 29229110, 29245963, 29262814, 29279631, 29296527, 29313215, 29329935, 29346880, 29363793, 29380649, 29397388, 29414396, 29431310, 29448188, 29464566, 29481374, 29498306, 29515079, 29532123, 29548815, 29565661, 29582558, 29599250, 29616267, 29632950, 29649822, 29666712, 29683513, 29700171, 29717050, 29734133, 29750912, 29767591, 29784239, 29800930, 29817676, 29834557, 29851307, 29868439, 29885247, 29901975, 29918824, 29935777, 29952620, 29969448, 29986130, 30003012, 30020238, 30037208, 30053887, 30070915, 30087712, 30104537, 30121321, 30138136, 30154973, 30171717, 30188563, 30205182, 30222221, 30239362, 30256237, 30273166, 30289947, 30306906, 30323810, 30340658, 30357450, 30374281, 30391195, 30407844, 30424787, 30441594, 30458474, 30475187, 30492005, 30509054, 30525763, 30542732, 30560043, 30577006, 30593533, 30610636, 30627518, 30644281, 30661256, 30678169, 30695093, 30711592, 30728279, 30745128, 30761948, 30778680, 30795305, 30812209, 30828909, 30845773, 30862688, 30879420, 30896210, 30912881, 30929824, 30946579, 30963313, 30980294, 30997047, 31014280, 31031140, 31047965, 31065089, 31081724, 31098614, 31115754, 31132537, 31149323, 31166027, 31182619, 31199332, 31216004, 31232920, 31249476, 31266406, 31283085, 31299834, 31316785, 31333729, 31350492, 31367227, 31383905, 31400778, 31417328, 31434314, 31450976, 31467720, 31484552, 31501194, 31517830, 31534789, 31551486, 31568424, 31585227, 31602085, 31618933, 31635844, 31652837, 31669514, 31686440, 31703769, 31720927, 31737791, 31754782, 31771712, 31788613, 31805645, 31822585, 31839587, 31856463, 31873485, 31890278, 31907334, 31924291, 31940963, 31957748, 31974598, 31991310, 32008813, 32025833, 32042589, 32059498, 32076443, 32093210, 32109956, 32126726, 32143371, 32160197, 32177078, 32193892, 32210824, 32227614, 32245037, 32261923, 32279057, 32295823, 32312865, 32329921, 32346599, 32363468, 32380425, 32397199, 32414527, 32431354, 32448413, 32465237, 32481997, 32498660, 32515504, 32532225, 32548922, 32565823, 32582599, 32599377, 32616275, 32632925, 32649550, 32666712, 32683686, 32700505, 32717379, 32734135, 32751338, 32768181, 32785109, 32801986, 32819185, 32835902, 32852614, 32869395, 32886257, 32903338, 32920204, 32937002, 32953465, 32969998, 32986773, 33003464, 33020178, 33036950, 33053537, 33070279, 33087156, 33103952, 33120773, 33137730, 33154353, 33171058, 33187936, 33204784, 33221716, 33238795, 33255425, 33272456, 33289300, 33306088, 33322875, 33339574, 33356857, 33373880, 33390647, 33407400, 33424290, 33441134, 33457803, 33474597, 33491299, 33508103, 33524955, 33541956, 33558762, 33575672, 33592393, 33609267, 33626199, 33643157, 33660000, 33676882, 33693795, 33710462, 33727470, 33744206, 33761225, 33777934, 33794705, 33811517, 33828360, 33844956, 33862208, 33878896, 33895626, 33912715, 33930189, 33946793, 33963787, 33980327, 33997070, 34014020, 34031189, 34048162, 34065020, 34081963, 34098466, 34115318, 34132154, 34149896, 34168266, 34185542, 34204565, 34223655, 34242648, 34260266, 34277430, 34294961, 34312977, 34331527, 34349399, 34366713, 34383668, 34401448, 34419831, 34437651, 34455841, 34474749, 34492366, 34510838, 34528856, 34546366, 34565038, 34582893, 34601002, 34619010, 34636845, 34654722, 34672137, 34689717, 34708588, 34726369, 34743543, 34760478, 34777989, 34794896, 34812167, 34829664, 34849469, 34866898, 34884575, 34901707, 34918504, 34936217, 34954193, 34972099, 34989290, 35006917, 35025114, 35042085, 35060054, 35077906, 35094984, 35111859, 35128654, 35146528, 35164281, 35181725, 35198889, 35216346, 35234277, 35251746, 35269728, 35288165, 35305974, 35324150, 35341004, 35358270, 35375901, 35393309, 35411669, 35428846, 35446069, 35464154, 35481717, 35499930, 35517990, 35535303, 35552665, 35569817, 35587831, 35604708, 35622272, 35639040, 35656422, 35674056, 35692509, 35710288, 35728258, 35746493, 35764054, 35781635, 35800476, 35817479, 35834611, 35852502, 35870053, 35888084, 35904975, 35922969, 35940471, 35959223, 35975925, 35992687, 36011266, 36028408, 36045827, 36065021, 36082508, 36100010, 36117790, 36135044, 36152218, 36169660, 36187491, 36204675, 36223119, 36241571, 36259161, 36276965, 36294204, 36310910, 36328377, 36346865, 36364615, 36381699, 36399826, 36417376, 36436148, 36453561, 36471420, 36489567, 36509226, 36526185, 36544091, 36561107, 36579081, 36598012, 36615970, 36633796, 36651388, 36668937, 36686194, 36703498, 36722421, 36739452, 36756824, 36775797, 36797018, 36813918, 36831966, 36849698, 36867326, 36884578, 36901723, 36920244, 36937673, 36956107, 36973259, 36990823, 37008095, 37025726, 37042697, 37060093, 37077487, 37094705, 37111898, 37128868, 37146402, 37163999, 37181873, 37200485, 37217500, 37235373, 37252589, 37271116, 37289299, 37307139, 37324105, 37342115, 37360107, 37377119, 37395364, 37412901, 37430730, 37447437, 37464420, 37482088, 37499657, 37516933, 37534693, 37551859, 37568775, 37585776, 37603781, 37621397, 37639841, 37657728, 37676669, 37695573, 37712770, 37729691, 37746601, 37763846, 37783222, 37800583, 37818835, 37836039, 37854189, 37871887, 37890916, 37908326, 37928332, 37945384, 37962729, 37979784, 37997494, 38015170, 38033749, 38052597, 38069726, 38086900, 38103987, 38121027, 38138486, 38157770, 38175451, 38193358, 38211160, 38227884, 38246005, 38264638, 38282093, 38299424, 38316679, 38334971, 38352050, 38369595, 38387312, 38404807, 38422360, 38439961, 38457095, 38474963, 38492100, 38509374, 38526194, 38544238, 38562468, 38581498, 38599696, 38616824, 38634546, 38651872, 38669413, 38687646, 38705404, 38723137, 38740738, 38758553, 38775928, 38795466, 38814107, 38831498, 38848198, 38865517, 38884348, 38902553, 38919359, 38937261, 38956006, 38973227, 38990855, 39008193, 39025521, 39042367, 39059426, 39077083, 39094448, 39112597, 39129694, 39147738, 39166087, 39183835, 39202235, 39219448, 39236269, 39253655, 39271253, 39289007, 39305999, 39323094, 39340530, 39358181, 39376775, 39393757, 39412115, 39429516, 39447381, 39464867, 39483243, 39500156, 39518198, 39536058, 39554089, 39571571, 39589171, 39607227, 39624170, 39641056, 39658978, 39676551, 39693654, 39710580, 39728261, 39745682, 39766941, 39784746, 39801963, 39820694, 39837557, 39856183, 39873507, 39891046, 39908567, 39925519, 39943487, 39960648, 39978380, 39995026, 40012476, 40030488, 40048291, 40065552, 40085186, 40102459, 40120284, 40137497, 40155866, 40173941, 40195145, 40212964, 40233364, 40253986, 40271856, 40289575, 40308788, 40344620, 40361879, 40381047, 40398545, 40416172, 40437781, 40458177, 40475518, 40492780, 40510597, 40531368, 40551339, 40572165, 40591421, 40609782, 40630247, 40647636, 40665498, 40683044, 40700342, 40720682, 40737979, 40756378, 40780353, 40797958, 40818774, 40835855, 40853225, 40871003, 40888385, 40906163, 40924030, 40941042, 40968685, 40987325, 41005559, 41026196, 41043709, 41064068, 41083231, 41101123, 41119961, 41141149, 41158474, 41178269, 41195986, 41217554, 41239287, 41256705, 41274446, 41291855, 41309661, 41327341, 41344953, 41362593, 41382997, 41400306, 41417808, 41437907, 41455728, 41473163, 41490986, 41508755, 41527299, 41544689, 41563606, 41581489, 41599504, 41618387, 41635678, 41655045, 41673975, 41691441, 41710345, 41730651, 41751052, 41774209, 41791643, 41811038, 41834205, 41851831, 41870849, 41889935, 41907372, 41924856, 41943248, 41961143, 41978705, 41996687, 42016266, 42034663, 42052171, 42070290, 42090014, 42107346, 42126415, 42144562, 42162027, 42180676, 42208655, 42226017, 42243412, 42263194, 42281031, 42298456, 42315876, 42333362, 42350976, 42369205, 42387074, 42405228, 42422663, 42447758, 42465301, 42482783, 42500364, 42517992, 42536650, 42554893, 42572405, 42590415, 42611299, 42628962, 42646226, 42665946, 42685100, 42703872, 42721097, 42740284, 42758607, 42776657, 42797517, 42818019, 42835994, 42853557, 42871593, 42888631, 42905831, 42924255, 42941394, 42958950, 42976414, 42994028, 43011517, 43033658, 43052016, 43069384, 43087582, 43104797, 43124124, 43142255, 43160543, 43177649, 43195873, 43214866, 43232876, 43249945, 43267007, 43284844, 43305335, 43323457, 43340936, 43358480, 43377835, 43396042, 43413676, 43431270, 43449705, 43467206, 43485159, 43504631, 43525979, 43543977, 43562714, 43580647, 43599402, 43617148, 43634625, 43651763, 43669745, 43686970, 43705220, 43723268, 43741123, 43759075, 43778645, 43796895, 43814046, 43831161, 43849464, 43867138, 43885467, 43902900, 43920599, 43937524, 43955565, 43973745, 43992198, 44009315, 44026775, 44043749, 44061150, 44078993, 44097159, 44118810, 44138138, 44155842, 44174023, 44193013, 44210503, 44228665, 44246954, 44266363, 44284308, 44303475, 44321304, 44339353, 44359056, 44378694, 44397492, 44415829, 44434406, 44452595, 44469960, 44491871, 44509841, 44529367, 44548965, 44567504, 44586162, 44603657, 44621320, 44639462, 44657667, 44675133, 44693295, 44712155, 44731327, 44749561, 44769288, 44787833, 44806158, 44825594, 44844746, 44862858, 44881366, 44899071, 44916992, 44937118, 44954854, 44973188, 44992018, 45011395, 45029987, 45048107, 45066794, 45085522, 45103972, 45123255, 45141470, 45159143, 45177131, 45195361, 45213328, 45230711, 45248569, 45266697, 45284741, 45301891, 45319079, 45339103, 45356200, 45373755, 45391402, 45410036, 45427669, 45444788, 45464382, 45482088, 45498916, 45516662, 45534573, 45551839, 45570663, 45587994, 45604837, 45622254, 45641015, 45658911, 45676169, 45693306, 45711218, 45728502, 45746516, 45770623, 45788432, 45805861, 45824073, 45841915, 45859497, 45878627, 45896935, 45915209, 45932963, 45949944, 45967982, 45984975, 46002619, 46019582, 46036873, 46054140, 46071681, 46089885, 46107367, 46125118, 46142618, 46161277, 46179463, 46196866, 46213724, 46232032, 46250198, 46268063, 46287471, 46305275, 46322131, 46340956, 46359813, 46377445, 46398561, 46415746, 46434330, 46452217, 46470649, 46489330, 46506516, 46523786, 46542064, 46559767, 46577668, 46594906, 46614308, 46631431, 46649629, 46669137, 46686564, 46704142, 46721099, 46738162, 46755999, 46773301, 46791519, 46808505, 46829039, 46846501, 46863738, 46881486, 46898889, 46916385, 46937240, 46955428, 46973318, 46991417, 47009177, 47026756, 47043704, 47061634, 47080840, 47249692, 47284147, 47485611, 47720421, 48141519, 48192920, 48733940, 48801820, 48819016, 48835974, 48852941, 48869861, 48886515, 48903907, 48920660, 48937965, 48954732, 48971613, 48988726, 49005881, 49022976, 49040144, 49057539, 49074387, 49091197, 49108274, 49125004, 49141801, 49159136, 49176491, 49193608, 49210361, 49227315, 49245028, 49262392, 49280378, 49297799, 49314703, 49331651, 49348494, 49365829, 49382618, 49399707, 49416689, 49433525, 49450601, 49467904, 49485281, 49502680, 49520688, 49537702, 49554659, 49571619, 49588699, 49606034, 49622864, 49639723, 49656968, 49673844, 49690498, 49707184, 49723877, 49740768, 49758719, 49775680, 49792771, 49809519, 49826124, 49842853, 49860067, 49877416, 49893958, 49910828, 49927874, 49945196, 49962592, 49979896, 49997253, 50013936, 50030978, 50048365, 50065250, 50082652, 50099524, 50116921, 50133946, 50150709, 50167818, 50184490, 50201783, 50219177, 50237300, 50254550, 50271268, 50288494, 50305894, 50323098, 50340004, 50356950, 50373970, 50391371, 50408537, 50425915, 50443041, 50460132, 50477520, 50494664, 50512059, 50529061, 50546130, 50562910, 50581239, 50598624, 50615718, 50633116, 50650447, 50667463, 50684340, 50701074, 50717873, 50734778, 50751777, 50769042, 50786112, 50803502, 50820804, 50837760, 50854804, 50871866, 50888999, 50905977, 50923311, 50941672, 50958329, 50975727, 50993127, 51010259, 51027275, 51044671, 51061775, 51082186, 51102294, 51131909, 51161710, 51184721, 51203702, 51229633, 51250302, 51280344, 51299619, 51317501, 51366623, 51599697, 51618044, 51648043, 51665937, 51684373, 51702255, 51728186, 51745012, 51771722, 51789604, 51819520, 51837389, 51855271, 51872552, 51921680, 51953300, 51993510, 52030517, 52074076, 52091954, 52116687, 52138366, 52168408, 52189217, 52219743, 52237680, 52265838, 52283718, 52307736, 52344118, 52372605, 52390458, 52439600, 52488891, 52505825, 52554933, 52591994, 52626772, 52675892, 52700716, 52736777, 52755932, 52773988, 52792021, 52813266, 52831146, 52859227, 52878040, 52908930, 52930507, 52949924, 52969062, 52986867, 53004139, 53023699, 53047287, 53073832, 53116056, 53144792, 53164803, 53212213, 53250833, 53267714, 53286793, 53331621, 53366334, 53393657, 53416893, 53451430, 53468910, 53503340, 53528996, 53547236, 53564612, 53591181, 53640275, 53657496, 53693957, 53713801, 53762897, 53796984, 53814866, 53852109, 53885092, 53902252, 53936918, 53954661, 53974302, 53992272, 54035843, 54084948, 54107891, 54132363, 54156053, 54173933, 54191434, 54210433, 54246683, 54270776, 54312964, 54331394, 54367449, 54385329, 54414888, 54432603, 54450256, 54467722, 54496541, 54531312, 54553331, 54575926, 54592951, 54618451, 54663762, 54683317, 54732445, 54749874, 54769029, 54792096, 54809135, 54830489, 54862760, 54888261, 54907910, 54934816, 54951516, 54968377, 54985425, 55002383, 55019126, 55035994, 55052892, 55069598, 55086447, 55103133, 55119994, 55136959, 55153890, 55170778, 55187539, 55204490, 55221349, 55238187, 55254841, 55271578, 55288519, 55305375, 55322156, 55338922, 55355616, 55372508, 55389487, 55406210, 55422955, 55439734, 55456585, 55473407, 55490369, 55507074, 55523795, 55540721, 55557409, 55574093, 55590968, 55607762, 55624467, 55641381, 55658250, 55675444, 55692080, 55708856, 55725667, 55742453, 55759365, 55776219, 55792947, 55809849, 55826517, 55843268, 55860043, 55876761, 55893580, 55910328, 55927116, 55943989, 55960786, 55977746, 55994457, 56011357, 56028212, 56045162, 56062264, 56079240, 56096054, 56112715, 56129508, 56146504, 56163487, 56180717, 56197380, 56214026, 56231335, 56248076, 56265067, 56281790, 56298637, 56315583, 56333066, 56350057, 56366719, 56383782, 56400663, 56417316, 56434130, 56451038, 56468454, 56485116, 56501721, 56518620, 56535583, 56552454, 56569094, 56585974, 56602862, 56619707, 56636557, 56653445, 56670226, 56687254, 56704201, 56721078, 56737963, 56754463, 56771441, 56788459, 56805366, 56822111, 56838894, 56855672, 56872690, 56889357, 56905950, 56922815, 56939776, 56957077, 56973687, 56990632, 57007508, 57024299, 57041119, 57057920, 57074805, 57091729, 57108595, 57125526, 57142371, 57158983, 57175896, 57192942, 57209802, 57226540, 57243349, 57259966, 57276596, 57293675, 57310297, 57327271, 57344453, 57361179, 57378011, 57394881, 57411923, 57428747, 57445754, 57462529, 57479465, 57496321, 57512906, 57529798, 57546802, 57563519, 57580750, 57597506, 57614147, 57630903, 57647887, 57664752, 57681574, 57698233, 57715238, 57732000, 57749167, 57766196, 57782852, 57799600, 57816794, 57834129, 57850835, 57867651, 57885637, 57905019, 57923579, 57943612, 57960842, 57978085, 57995768, 58013109, 58031016, 58048420, 58065847, 58082718, 58099756, 58117788, 58135210, 58153029, 58170932, 58188388, 58206336, 58223989, 58241060, 58259151, 58277050, 58294349, 58311916, 58328978, 58346766, 58365477, 58382397, 58399947, 58417326, 58434283, 58451917, 58470487, 58488246, 58506367, 58524035, 58541072, 58558585, 58575887, 58594530, 58612967, 58631091, 58648808, 58666332, 58684084, 58701951, 58719937, 58737616, 58755476, 58772338, 58789846, 58807152, 58824761, 58842517, 58859933, 58877368, 58894238, 58911925, 58929310, 58947281, 58965077, 58981827, 58999682, 59016870, 59033517, 59050903, 59068186, 59085044, 59102148, 59119477, 59137084, 59154412, 59171568, 59189522, 59206837, 59223865, 59241973, 59259494, 59276915, 59294320, 59311645, 59328824, 59346442, 59363698, 59380922, 59397911, 59417183, 59434709, 59452161, 59469290, 59486417, 59503201, 59520700, 59537693, 59555124, 59572984, 59590214, 59607553, 59624451, 59641491, 59660054, 59677379, 59694772, 59712628, 59730265, 59747139, 59764249, 59781211, 59799007, 59817534, 59835612, 59853000, 59870021, 59887158, 59904056, 59921556, 59939449, 59956661, 59973960, 59991959, 60008912, 60025626, 60043242, 60060392, 60077354, 60094898, 60111722, 60129570, 60147923, 60165371, 60182994, 60200487, 60218349, 60235776, 60252955, 60270017, 60286929, 60303889, 60322500, 60339852, 60358185, 60375417, 60392365, 60409563, 60426548, 60443806, 60461018, 60478181, 60495608, 60512772, 60530428, 60547320, 60565194, 60583765, 60601011, 60619069, 60636509, 60653582, 60671606]\n",
            "Etiqueta ['M', 'M', 'M', 'M', 'F', 'M', 'F', 'M', 'F', 'F', 'F', 'M', 'F', 'F', 'M', 'F', 'F', 'M', 'M', 'F', 'M', 'M', 'F', 'F', 'M', 'M', 'F', 'M', 'F', 'M', 'M', 'F', 'M', 'M', 'M', 'F', 'M', 'F', 'F', 'M', 'F', 'M', 'M', 'F', 'M', 'M', 'M', 'F', 'M', 'F', 'M', 'F', 'F', 'M', 'F', 'M', 'F', 'M', 'M', 'M', 'F', 'M', 'F', 'F', 'F', 'M', 'M', 'F', 'M', 'M', 'M', 'M', 'M', 'M', 'M', 'F', 'F', 'M', 'M', 'M', 'M', 'M', 'F', 'F', 'M', 'M', 'F', 'M', 'M', 'F', 'F', 'F', 'M', 'M', 'M', 'M', 'M', 'M', 'F', 'M', 'F', 'F', 'M', 'F', 'F', 'M', 'F', 'M', 'M', 'M', 'M', 'M', 'M', 'M', 'M', 'M', 'M', 'M', 'F', 'F', 'F', 'F', 'M', 'F', 'M', 'M', 'M', 'F', 'F', 'M', 'F', 'F', 'F', 'F', 'M', 'M', 'F', 'M', 'F', 'F', 'M', 'M', 'M', 'M', 'M', 'M', 'M', 'M', 'M', 'F', 'M', 'F', 'F', 'F', 'M', 'M', 'F', 'M', 'M', 'M', 'F', 'M', 'M', 'F', 'F', 'F', 'M', 'M', 'M', 'M', 'F', 'F', 'M', 'M', 'F', 'M', 'M', 'M', 'M', 'F', 'F', 'F', 'F', 'M', 'F', 'F', 'M', 'M', 'F', 'M', 'M', 'F', 'M', 'M', 'M', 'M', 'M', 'F', 'F', 'M', 'F', 'F', 'M', 'F', 'M', 'M', 'F', 'F', 'M', 'M', 'M', 'M', 'M', 'M', 'F', 'M', 'F', 'M', 'F', 'F', 'M', 'M', 'M', 'M', 'M', 'F', 'M', 'M', 'M', 'F', 'F', 'M', 'F', 'M', 'M', 'F', 'M', 'F', 'M', 'M', 'F', 'M', 'M', 'M', 'F', 'M', 'F', 'M', 'F', 'F', 'F', 'M', 'M', 'M', 'F', 'M', 'M', 'F', 'F', 'M', 'M', 'F', 'M', 'M', 'F', 'F', 'M', 'M', 'M', 'F', 'M', 'M', 'F', 'F', 'F', 'M', 'M', 'F', 'F', 'M', 'F', 'F', 'M', 'M', 'F', 'M', 'F', 'M', 'M', 'M', 'M', 'M', 'M', 'M', 'M', 'M', 'F', 'M', 'M', 'M', 'F', 'F', 'F', 'F', 'M', 'M', 'F', 'M', 'M', 'F', 'F', 'M', 'M', 'M', 'M', 'M', 'F', 'F', 'M', 'M', 'M', 'M', 'M', 'M', 'F', 'M', 'M', 'F', 'F', 'F', 'M', 'M', 'M', 'F', 'M', 'F', 'M', 'F', 'F', 'F', 'M', 'F', 'M', 'M', 'M', 'F', 'M', 'F', 'M', 'M', 'M', 'F', 'F', 'F', 'M', 'M', 'F', 'M', 'M', 'F', 'M', 'F', 'M', 'M', 'F', 'M', 'M', 'F', 'F', 'M', 'F', 'F', 'F', 'M', 'M', 'F', 'F', 'M', 'M', 'F', 'M', 'M', 'M', 'M', 'F', 'M', 'M', 'M', 'M', 'M', 'M', 'M', 'F', 'F', 'F', 'M', 'F', 'F', 'M', 'M', 'M', 'M', 'F', 'F', 'M', 'M', 'M', 'F', 'F', 'M', 'M', 'M', 'M', 'F', 'F', 'F', 'F', 'F', 'F', 'M', 'F', 'M', 'F', 'M', 'F', 'M', 'M', 'M', 'M', 'M', 'F', 'F', 'F', 'F', 'F', 'M', 'M', 'M', 'F', 'M', 'F', 'M', 'M', 'F', 'M', 'M', 'M', 'F', 'M', 'F', 'M', 'M', 'F', 'F', 'F', 'F', 'M', 'F', 'M', 'M', 'M', 'M', 'F', 'M', 'F', 'M', 'F', 'M', 'M', 'F', 'M', 'F', 'M', 'F', 'M', 'F', 'F', 'F', 'M', 'F', 'M', 'M', 'M', 'M', 'F', 'M', 'M', 'M', 'M', 'M', 'M', 'F', 'F', 'M', 'M', 'M', 'M', 'M', 'M', 'M', 'M', 'F', 'F', 'M', 'F', 'M', 'F', 'M', 'M', 'F', 'F', 'F', 'M', 'M', 'F', 'F', 'M', 'M', 'F', 'M', 'M', 'F', 'F', 'M', 'M', 'M', 'F', 'F', 'F', 'M', 'F', 'F', 'F', 'M', 'F', 'M', 'M', 'F', 'M', 'F', 'M', 'F', 'M', 'M', 'M', 'M', 'F', 'M', 'M', 'M', 'M', 'F', 'F', 'M', 'F', 'M', 'M', 'M', 'M', 'F', 'M', 'M', 'M', 'M', 'M', 'M', 'F', 'M', 'F', 'F', 'M', 'M', 'M', 'F', 'F', 'F', 'M', 'M', 'M', 'F', 'F', 'M', 'M', 'M', 'M', 'M', 'M', 'M', 'M', 'F', 'M', 'M', 'M', 'M', 'M', 'F', 'M', 'F', 'F', 'M', 'M', 'F', 'M', 'M', 'F', 'M', 'F', 'M', 'M', 'M', 'F', 'F', 'M', 'F', 'F', 'M', 'F', 'F', 'M', 'F', 'M', 'F', 'M', 'F', 'F', 'F', 'F', 'F', 'F', 'M', 'F', 'F', 'M', 'M', 'F', 'M', 'F', 'F', 'F', 'F', 'M', 'F', 'M', 'M', 'F', 'M', 'F', 'F', 'F', 'M', 'F', 'F', 'M', 'M', 'M', 'M', 'F', 'F', 'M', 'M', 'F', 'F', 'F', 'F', 'F', 'F', 'M', 'M', 'M', 'F', 'F', 'M', 'F', 'F', 'F', 'M', 'F', 'M', 'F', 'M', 'M', 'M', 'F', 'M', 'M', 'F', 'F', 'F', 'F', 'M', 'M', 'F', 'F', 'F', 'F', 'M', 'M', 'M', 'M', 'F', 'F', 'F', 'M', 'M', 'F', 'F', 'F', 'F', 'F', 'M', 'F', 'F', 'M', 'F', 'M', 'F', 'F', 'F', 'F', 'M', 'M', 'F', 'M', 'M', 'F', 'F', 'F', 'F', 'F', 'F', 'F', 'M', 'M', 'M', 'F', 'F', 'M', 'M', 'F', 'F', 'F', 'F', 'F', 'M', 'M', 'M', 'F', 'M', 'F', 'F', 'M', 'M', 'F', 'M', 'M', 'F', 'F', 'F', 'F', 'F', 'F', 'F', 'F', 'F', 'M', 'F', 'F', 'M', 'M', 'F', 'F', 'F', 'M', 'F', 'F', 'F', 'F', 'F', 'F', 'M', 'F', 'M', 'F', 'M', 'F', 'M', 'F', 'F', 'F', 'F', 'M', 'F', 'M', 'M', 'F', 'M', 'F', 'M', 'M', 'M', 'F', 'M', 'M', 'F', 'M', 'M', 'F', 'M', 'F', 'M', 'M', 'M', 'M', 'F', 'F', 'M', 'M', 'M', 'M', 'M', 'M', 'F', 'M', 'M', 'F', 'M', 'M', 'M', 'M', 'M', 'F', 'M', 'M', 'M', 'M', 'F', 'F', 'M', 'F', 'M', 'M', 'F', 'F', 'M', 'M', 'M', 'F', 'M', 'F', 'F', 'M', 'F', 'F', 'M', 'F', 'M', 'M', 'M', 'F', 'F', 'M', 'F', 'M', 'M', 'M', 'M', 'F', 'M', 'F', 'F', 'M', 'F', 'M', 'M', 'M', 'M', 'M', 'F', 'F', 'M', 'F', 'M', 'F', 'M', 'F', 'F', 'M', 'M', 'M', 'M', 'F', 'F', 'M', 'M', 'F', 'M', 'F', 'M', 'M', 'M', 'M', 'F', 'F', 'M', 'F', 'F', 'M', 'M', 'F', 'M', 'M', 'M', 'M', 'M', 'F', 'M', 'F', 'M', 'M', 'M', 'F', 'F', 'M', 'M', 'M', 'F', 'F', 'F', 'F', 'F', 'M', 'M', 'M', 'F', 'F', 'F', 'M', 'M', 'F', 'M', 'M', 'F', 'F', 'M', 'F', 'F', 'M', 'M', 'M', 'M', 'M', 'F', 'M', 'F', 'F', 'F', 'M', 'F', 'M', 'M', 'M', 'F', 'M', 'F', 'F', 'M', 'M', 'F', 'M', 'F', 'M', 'M', 'M', 'F', 'M', 'F', 'F', 'M', 'F', 'M', 'M', 'M', 'M', 'F', 'M', 'M', 'F', 'M', 'M', 'M', 'F', 'M', 'F', 'M', 'M', 'M', 'F', 'F', 'F', 'F', 'F', 'M', 'M', 'M', 'M', 'F', 'M', 'F', 'M', 'M', 'M', 'M', 'F', 'M', 'M', 'F', 'M', 'M', 'F', 'F', 'M', 'F', 'M', 'F', 'F', 'M', 'F', 'M', 'M', 'F', 'F', 'F', 'M', 'F', 'F', 'M', 'F', 'M', 'M', 'F', 'F', 'F', 'M', 'M', 'M', 'M', 'F', 'F', 'F', 'F', 'F', 'F', 'F', 'M', 'F', 'M', 'M', 'M', 'F', 'M', 'M', 'M', 'F', 'F', 'F', 'F', 'M', 'F', 'F', 'F', 'M', 'M', 'M', 'M', 'M', 'M', 'F', 'F', 'F', 'F', 'M', 'F', 'F', 'M', 'M', 'F', 'M', 'M', 'F', 'F', 'F', 'M', 'M', 'M', 'M', 'F', 'M', 'M', 'F', 'F', 'F', 'F', 'M', 'M', 'M', 'M', 'M', 'M', 'M', 'F', 'F', 'F', 'M', 'M', 'M', 'F', 'F', 'F', 'M', 'M', 'M', 'M', 'M', 'F', 'F', 'F', 'M', 'M', 'M', 'F', 'F', 'F', 'F', 'M', 'F', 'M', 'F', 'M', 'F', 'F', 'M', 'M', 'M', 'F', 'M', 'M', 'F', 'M', 'M', 'M', 'M', 'F', 'M', 'F', 'M', 'M', 'F', 'F', 'M', 'F', 'F', 'M', 'M', 'F', 'F', 'M', 'M', 'F', 'F', 'M', 'M', 'F', 'F', 'F', 'M', 'M', 'M', 'F', 'F', 'F', 'F', 'F', 'F', 'F', 'M', 'F', 'M', 'F', 'F', 'M', 'M', 'M', 'M', 'M', 'F', 'M', 'M', 'F', 'F', 'M', 'M', 'F', 'F', 'M', 'F', 'F', 'M', 'F', 'M', 'M', 'F', 'M', 'F', 'M', 'F', 'F', 'M', 'M', 'F', 'M', 'M', 'M', 'F', 'M', 'M', 'F', 'F', 'F', 'M', 'F', 'F', 'F', 'F', 'M', 'F', 'M', 'F', 'F', 'M', 'F', 'M', 'M', 'M', 'F', 'M', 'F', 'M', 'F', 'M', 'F', 'M', 'F', 'F', 'F', 'F', 'F', 'M', 'F', 'M', 'F', 'F', 'F', 'M', 'F', 'M', 'F', 'M', 'F', 'F', 'M', 'M', 'F', 'M', 'M', 'F', 'M', 'M', 'F', 'F', 'M', 'F', 'F', 'M', 'M', 'M', 'M', 'F', 'F', 'F', 'M', 'F', 'F', 'F', 'M', 'F', 'F', 'M', 'M', 'M', 'F', 'M', 'F', 'M', 'M', 'M', 'M', 'M', 'M', 'M', 'M', 'M', 'F', 'F', 'M', 'F', 'M', 'F', 'M', 'F', 'M', 'M', 'F', 'F', 'M', 'F', 'F', 'M', 'M', 'M', 'M', 'F', 'M', 'F', 'M', 'F', 'F', 'F', 'M', 'M', 'M', 'F', 'F', 'M', 'M', 'F', 'F', 'M', 'M', 'F', 'M', 'F', 'F', 'M', 'F', 'M', 'F', 'F', 'F', 'F', 'M', 'M', 'F', 'M', 'M', 'M', 'M', 'M', 'M', 'M', 'F', 'M', 'M', 'M', 'M', 'F', 'M', 'F', 'M', 'M', 'M', 'M', 'F', 'M', 'M', 'M', 'F', 'F', 'F', 'M', 'M', 'M', 'F', 'M', 'M', 'F', 'F', 'M', 'F', 'M', 'F', 'F', 'F', 'M', 'M', 'M', 'M', 'M', 'M', 'F', 'F', 'F', 'M', 'F', 'M', 'F', 'M', 'F', 'F', 'F', 'M', 'M', 'F', 'F', 'F', 'F', 'M', 'F', 'F', 'F', 'M', 'F', 'F', 'F', 'F', 'F', 'F', 'F', 'F', 'M', 'M', 'M', 'M', 'F', 'F', 'M', 'M', 'F', 'M', 'F', 'F', 'F', 'M', 'M', 'M', 'M', 'F', 'M', 'M', 'F', 'M', 'F', 'M', 'M', 'F', 'F', 'M', 'M', 'F', 'M', 'F', 'F', 'M', 'F', 'M', 'F', 'F', 'M', 'M', 'M', 'F', 'M', 'F', 'F', 'F', 'M', 'F', 'M', 'M', 'F', 'M', 'M', 'F', 'F', 'F', 'M', 'M', 'F', 'F', 'F', 'F', 'F', 'M', 'M', 'F', 'F', 'F', 'M', 'M', 'F', 'M', 'F', 'M', 'M', 'M', 'F', 'M', 'M', 'M', 'M', 'M', 'F', 'F', 'M', 'M', 'M', 'M', 'F', 'M', 'F', 'M', 'M', 'F', 'F', 'M', 'F', 'M', 'M', 'F', 'F', 'F', 'F', 'F', 'F', 'F', 'F', 'M', 'M', 'F', 'F', 'F', 'F', 'F', 'F', 'F', 'M', 'M', 'M', 'F', 'M', 'F', 'F', 'M', 'M', 'M', 'M', 'M', 'M', 'F', 'F', 'F', 'F', 'M', 'F', 'M', 'M', 'F', 'F', 'F', 'F', 'F', 'F', 'M', 'F', 'M', 'F', 'F', 'F', 'M', 'F', 'M', 'F', 'F', 'M', 'M', 'M', 'F', 'M', 'M', 'F', 'M', 'F', 'M', 'F', 'F', 'M', 'M', 'F', 'M', 'M', 'M', 'F', 'F', 'M', 'F', 'M', 'M', 'F', 'F', 'F', 'M', 'M', 'F', 'M', 'M', 'F', 'F', 'F', 'M', 'M', 'F', 'M', 'F', 'M', 'M', 'M', 'M', 'M', 'M', 'M', 'M', 'M', 'M', 'F', 'M', 'F', 'M', 'F', 'M', 'F', 'M', 'F', 'F', 'F', 'M', 'F', 'F', 'M', 'M', 'M', 'F', 'M', 'M', 'F', 'M', 'M', 'F', 'F', 'M', 'F', 'M', 'F', 'F', 'M', 'M', 'F', 'F', 'M', 'M', 'F', 'M', 'F', 'M', 'M', 'F', 'M', 'M', 'F', 'F', 'M', 'F', 'M', 'M', 'F', 'M', 'F', 'M', 'F', 'M', 'F', 'F', 'F', 'F', 'M', 'M', 'M', 'M', 'M', 'F', 'M', 'F', 'M', 'M', 'M', 'F', 'F', 'F', 'F', 'F', 'M', 'F', 'F', 'M', 'F', 'M', 'M', 'F', 'F', 'F', 'F', 'M', 'M', 'M', 'M', 'M', 'M', 'M', 'M', 'M', 'F', 'F', 'M', 'M', 'F', 'F', 'M', 'M', 'F', 'F', 'F', 'F', 'M', 'F', 'F', 'M', 'M', 'M', 'F', 'M', 'F', 'M', 'F', 'F', 'M', 'F', 'F', 'F', 'F', 'F', 'F', 'M', 'M', 'M', 'M', 'F', 'M', 'F', 'F', 'M', 'M', 'F', 'F', 'M', 'M', 'F', 'M', 'F', 'M', 'M', 'F', 'M', 'F', 'M', 'M', 'M', 'M', 'M', 'F', 'F', 'F', 'M', 'F', 'M', 'M', 'M', 'M', 'F', 'M', 'F', 'M', 'F', 'F', 'F', 'M', 'F', 'F', 'M', 'M', 'F', 'F', 'M', 'F', 'F', 'M', 'M', 'F', 'M', 'M', 'F', 'M', 'F', 'M', 'F', 'M', 'F', 'F', 'F', 'M', 'F', 'F', 'F', 'F', 'F', 'F', 'M', 'M', 'M', 'M', 'F', 'M', 'M', 'M', 'F', 'M', 'M', 'F', 'M', 'M', 'F', 'M', 'F', 'M', 'M', 'M', 'M', 'F', 'F', 'M', 'F', 'F', 'M', 'F', 'M', 'F', 'M', 'F', 'F', 'F', 'M', 'F', 'M', 'F', 'F', 'M', 'F', 'M', 'F', 'M', 'F', 'M', 'M', 'F', 'F', 'F', 'F', 'F', 'F', 'M', 'F', 'M', 'M', 'F', 'F', 'F', 'M', 'F', 'F', 'F', 'F', 'F', 'M', 'F', 'F', 'F', 'F', 'F', 'M', 'M', 'F', 'F', 'F', 'F', 'M', 'F', 'F', 'M', 'M', 'M', 'M', 'F', 'M', 'M', 'F', 'F', 'M', 'F', 'F', 'M', 'M', 'M', 'F', 'M', 'F', 'F', 'M', 'M', 'F', 'F', 'M', 'F', 'M', 'F', 'M', 'F', 'F', 'F', 'M', 'M', 'M', 'M', 'F', 'F', 'M', 'M', 'F', 'M', 'M', 'F', 'F', 'F', 'M', 'M', 'F', 'M', 'M', 'M', 'F', 'F', 'F', 'F', 'F', 'F', 'M', 'M', 'F', 'M', 'M', 'M', 'M', 'M', 'F', 'F', 'F', 'M', 'M', 'M', 'M', 'F', 'M', 'F', 'M', 'F', 'F', 'M', 'F', 'M', 'M', 'M', 'M', 'M', 'M', 'M', 'F', 'M', 'M', 'F', 'M', 'M', 'M', 'F', 'F', 'F', 'M', 'F', 'M', 'F', 'M', 'M', 'F', 'F', 'M', 'F', 'M', 'F', 'F', 'F', 'F', 'F', 'M', 'F', 'M', 'F', 'M', 'M', 'F', 'M', 'M', 'F', 'F', 'F', 'F', 'M', 'F', 'M', 'M', 'F', 'F', 'F', 'M', 'M', 'M', 'F', 'M', 'M', 'F', 'M', 'M', 'F', 'F', 'M', 'M', 'M', 'M', 'M', 'F', 'M', 'F', 'F', 'M', 'M', 'M', 'M', 'M', 'M', 'M', 'F', 'M', 'F', 'F', 'M', 'F', 'M', 'F', 'M', 'M', 'M', 'F', 'F', 'F', 'M', 'M', 'M', 'M', 'F', 'M', 'M', 'M', 'M', 'M', 'F', 'M', 'F', 'F', 'M', 'F', 'F', 'M', 'M', 'F', 'M', 'M', 'M', 'M', 'F', 'M', 'M', 'M', 'F', 'M', 'M', 'M', 'M', 'F', 'M', 'M', 'M', 'M', 'M', 'F', 'M', 'M', 'M', 'F', 'M', 'M', 'F', 'M', 'M', 'M', 'M', 'F', 'F', 'M', 'M', 'M', 'F', 'F', 'M', 'M', 'F', 'M', 'M', 'M', 'M', 'M', 'F', 'M', 'F', 'M', 'M', 'F', 'F', 'M', 'M', 'M', 'F', 'M', 'M', 'F', 'F', 'F', 'F', 'M', 'M', 'M', 'F', 'M', 'F', 'M', 'F', 'M', 'M', 'F', 'F', 'F', 'F', 'F', 'F', 'M', 'M', 'F', 'M', 'F', 'F', 'F', 'M', 'M', 'F', 'M', 'F', 'M', 'F', 'M', 'F', 'M', 'F', 'M', 'M', 'M', 'M', 'M', 'F', 'M', 'F', 'F', 'F', 'M', 'F', 'F', 'M', 'F', 'F', 'F', 'M', 'F', 'M', 'M', 'M', 'F', 'M', 'F', 'F', 'F', 'F', 'F', 'F', 'M', 'F', 'F', 'F', 'F', 'F', 'F', 'M', 'M', 'F', 'M', 'F', 'M', 'F', 'F', 'F', 'F', 'M', 'M', 'M', 'F', 'F', 'M', 'F', 'F', 'F', 'M', 'M', 'F', 'M', 'M', 'M', 'F', 'M', 'M', 'M', 'F', 'M', 'F', 'M', 'F', 'F', 'F', 'M', 'M', 'F', 'M', 'M', 'M', 'F', 'M', 'F', 'F', 'M', 'F', 'F', 'F', 'M', 'F', 'F', 'M', 'M', 'F', 'M', 'F', 'F', 'F', 'F', 'F', 'M', 'M', 'F', 'F', 'M', 'F', 'M', 'F', 'M', 'F', 'M', 'M', 'M', 'F', 'M', 'M', 'M', 'M', 'M', 'M', 'M', 'F', 'M', 'M', 'F', 'F', 'F', 'F', 'M', 'M', 'F', 'F', 'F', 'M', 'M', 'M', 'F', 'F', 'F', 'F', 'M', 'M', 'M', 'F', 'M', 'F', 'M', 'F', 'M', 'M', 'F', 'F', 'M', 'M', 'F', 'M', 'M', 'F', 'M', 'M', 'M', 'M', 'M', 'M', 'F', 'M', 'F', 'F', 'F', 'F', 'F', 'F', 'M', 'F', 'M', 'F', 'M', 'M', 'M', 'F', 'F', 'M', 'M', 'M', 'M', 'M', 'F', 'M', 'F', 'F', 'M', 'M', 'F', 'M', 'M', 'F', 'F', 'M', 'F', 'F', 'M', 'F', 'M', 'M', 'F', 'M', 'M', 'F', 'F', 'M', 'M', 'F', 'F', 'F', 'F', 'M', 'F', 'M', 'M', 'M', 'M', 'F', 'F', 'F', 'F', 'M', 'F', 'F', 'F', 'M', 'M', 'M', 'F', 'F', 'M', 'M', 'M', 'F', 'M', 'M', 'M', 'M', 'M', 'F', 'M', 'M', 'F', 'M', 'F', 'M', 'F', 'M', 'M', 'M', 'M', 'F', 'F', 'M', 'M', 'M', 'M', 'F', 'F', 'F', 'F', 'F', 'M', 'F', 'M', 'F', 'M', 'F', 'F', 'F', 'F', 'M', 'F', 'F', 'F', 'M', 'F', 'M', 'F', 'M', 'M', 'F', 'F', 'M', 'F', 'F', 'M', 'F', 'F', 'M', 'F', 'M', 'F', 'M', 'F', 'F', 'M', 'M', 'F', 'F', 'F', 'F', 'M', 'M', 'F', 'F', 'F', 'M', 'M', 'M', 'M', 'M', 'M', 'M', 'M', 'M', 'F', 'F', 'M', 'M', 'M', 'M', 'M', 'M', 'F', 'M', 'M', 'M', 'M', 'M', 'F', 'M', 'F', 'F', 'F', 'M', 'F', 'F', 'F', 'F', 'M', 'F', 'F', 'M', 'F', 'F', 'F', 'M', 'M', 'M', 'F', 'M', 'F', 'M', 'F', 'M', 'F', 'F', 'M', 'F', 'F', 'F', 'F', 'F', 'F', 'F', 'F', 'F', 'F', 'F', 'M', 'M', 'F', 'F', 'F', 'F', 'F', 'F', 'M', 'F', 'F', 'F', 'F', 'M', 'F', 'M', 'F', 'M', 'M', 'F', 'M', 'F', 'F', 'M', 'M', 'M', 'F', 'F', 'F', 'M', 'M', 'F', 'F', 'M', 'M', 'M', 'F', 'M', 'M', 'M', 'F', 'F', 'M', 'M', 'M', 'F', 'F', 'F', 'M', 'M', 'M', 'M', 'F', 'F', 'M', 'M', 'M', 'M', 'M', 'M', 'F', 'F', 'F', 'F', 'M', 'M', 'F', 'F', 'F', 'F', 'M', 'F', 'M', 'F', 'F', 'M', 'M', 'M', 'F', 'F', 'M', 'M', 'F', 'M', 'M', 'M', 'M', 'M', 'F', 'F', 'F', 'F', 'F', 'M', 'M', 'F', 'M', 'M', 'M', 'F', 'F', 'F', 'M', 'F', 'M', 'F', 'F', 'M', 'F', 'M', 'F', 'M', 'F', 'F', 'F', 'M', 'F', 'F', 'F', 'M', 'F', 'M', 'M', 'M', 'F', 'M', 'F', 'M', 'M', 'M', 'F', 'M', 'M', 'F', 'F', 'M', 'F', 'M', 'M', 'F', 'F', 'M', 'M', 'F', 'F', 'M', 'M', 'F', 'F', 'F', 'M', 'M', 'F', 'F', 'M', 'F', 'F', 'F', 'M', 'M', 'F', 'M', 'M', 'M', 'M', 'M', 'F', 'F', 'F', 'F', 'M', 'M', 'F', 'M', 'M', 'M', 'M', 'F', 'F', 'M', 'F', 'M', 'F', 'M', 'M', 'F', 'M', 'F', 'F', 'F', 'M', 'F', 'F', 'F', 'M', 'M', 'F', 'M', 'M', 'M', 'M', 'M', 'M', 'M', 'M', 'F', 'F', 'M', 'M', 'F', 'M', 'M', 'M', 'F', 'M', 'M', 'M', 'F', 'M', 'F', 'F', 'F', 'F', 'F', 'F', 'M', 'F', 'F', 'F', 'F', 'M', 'F', 'F', 'F', 'M', 'M', 'F', 'M', 'M', 'F', 'M', 'M', 'F', 'F', 'M', 'M', 'F', 'M', 'F', 'F', 'M', 'M', 'M', 'M', 'M', 'M', 'M', 'M', 'M', 'F', 'F', 'M', 'M', 'F', 'F', 'F', 'F', 'M', 'F', 'M', 'F', 'M', 'F', 'F', 'F', 'M', 'M', 'M', 'F', 'M', 'M', 'M', 'M', 'F', 'M', 'M', 'F', 'M', 'M', 'M', 'F', 'M', 'M', 'F', 'M', 'F', 'F', 'M', 'F', 'F', 'F', 'M', 'F', 'M', 'F', 'M', 'F', 'F', 'F', 'F', 'F', 'M', 'F', 'F', 'F', 'M', 'F', 'F', 'F', 'F', 'F', 'F', 'F', 'M', 'M', 'M', 'F', 'F', 'M', 'F', 'F', 'F', 'F', 'M', 'M', 'M', 'F', 'M', 'F', 'M', 'F', 'M', 'F', 'M', 'M', 'F']\n",
            "Número de textos: 2934\n"
          ]
        }
      ],
      "source": [
        "textos=[]\n",
        "etiquetas=[]\n",
        "def calcularPosicion(cadena,texto): #Función para encontrar todas las posiciones de una cadena en el texto\n",
        "  posiciones=[]\n",
        "  posicion = texto.find(cadena)\n",
        "  while posicion != -1:  # Hasta que no llegamos a la última posición encontrada\n",
        "      posiciones.append(posicion) #Guardamos posición\n",
        "      posicion=posicion+1\n",
        "      posicion = texto.find(cadena, posicion) # Buscamos la cadena empezando desde la posición ya incrementada\n",
        "  return posiciones\n",
        "\n",
        "def almacenarTextos(texto,vectorPosiciones): #Función para ir cortando el texto según un vector de posiciones\n",
        "  aux=texto.replace(\"Unnamed\",\",\")\n",
        "  texto=aux\n",
        "  for i in range(len(vectorPosiciones)):\n",
        "    if i == 0:  #Si es la primera posicion\n",
        "      inicio = 0\n",
        "    else:\n",
        "      inicio = vectorPosiciones[i-1]\n",
        "    \n",
        "    fin = vectorPosiciones[i]+2 # +2 Para poder comprobar qué etiqueta tiene\n",
        "    #print(texto[inicio:fin])\n",
        "    t=texto[inicio:fin]  # Nos quedamos con la parte del texto entre incio y fin\n",
        "    nuevoT=t.replace(\",\",\"\")  #Quitamos , del csv\n",
        "    #nlp(t)\n",
        "    #print(\"nlp\")\n",
        "    textos.append(nuevoT)\n",
        "      \n",
        "posicionesM = []  #Vector con la todas las posiciones en la que aparece \",M,\"\n",
        "posicionesF = [] #Vector con la todas las posiciones en la que aparece \",F,\"\n",
        "with open(\"Corpus.csv\", \"r\") as file:\n",
        "    texto = file.read()\n",
        "    ultimo=0\n",
        "    posicionesM=calcularPosicion(\",M,\",texto)\n",
        "    posicionesF=calcularPosicion(\",F,\",texto)\n",
        "file.close()\n",
        "lista=posicionesM+posicionesF  #Sumamos las dos listas y la ordenamos para tener los índices de donde acaba y empieza cada texto correctos\n",
        "lista.sort()\n",
        "almacenarTextos(texto,lista)\n",
        "\n",
        "for elemento in lista:  #Asignamos cada etiqueta a su texto\n",
        "  etiquetas.append(texto[elemento+1]) #En la posición elemento+1 encontramos la etiqueta de cada texto\n",
        "print(\"Fin de cada texto\",lista)\n",
        "print(\"Etiqueta\",etiquetas)\n",
        "print(\"Número de textos:\",len(textos))\n",
        "\n",
        "with open('textosCortados.txt', 'w') as f:\n",
        "    for texto in textos:\n",
        "      f.write(str(texto))\n",
        "      f.write(\"\\n\")\n",
        "      f.write(\"-----------------------\")\n",
        "      f.write(\"\\n\")\n",
        "      f.write(\"-----------------------\")\n",
        "      f.write(\"\\n\")\n",
        "    f.close()"
      ]
    },
    {
      "cell_type": "code",
      "execution_count": null,
      "metadata": {
        "id": "vz6ywbqszShM",
        "colab": {
          "base_uri": "https://localhost:8080/"
        },
        "outputId": "2511218d-cfff-4113-abd0-cd7df88a7b82"
      },
      "outputs": [
        {
          "output_type": "stream",
          "name": "stdout",
          "text": [
            "procesando texto: 0 \n",
            "\n",
            "procesando texto: 1 procesando texto: 2 procesando texto: 3 procesando texto: 4 procesando texto: 5 procesando texto: 6 procesando texto: 7 procesando texto: 8 procesando texto: 9 procesando texto: 10 procesando texto: 11 procesando texto: 12 procesando texto: 13 procesando texto: 14 procesando texto: 15 procesando texto: 16 procesando texto: 17 procesando texto: 18 procesando texto: 19 procesando texto: 20 procesando texto: 21 procesando texto: 22 procesando texto: 23 procesando texto: 24 procesando texto: 25 procesando texto: 26 procesando texto: 27 procesando texto: 28 procesando texto: 29 procesando texto: 30 procesando texto: 31 procesando texto: 32 procesando texto: 33 procesando texto: 34 procesando texto: 35 procesando texto: 36 procesando texto: 37 procesando texto: 38 procesando texto: 39 procesando texto: 40 procesando texto: 41 procesando texto: 42 procesando texto: 43 procesando texto: 44 procesando texto: 45 procesando texto: 46 procesando texto: 47 procesando texto: 48 procesando texto: 49 procesando texto: 50 procesando texto: 51 procesando texto: 52 procesando texto: 53 procesando texto: 54 procesando texto: 55 procesando texto: 56 procesando texto: 57 procesando texto: 58 procesando texto: 59 procesando texto: 60 procesando texto: 61 procesando texto: 62 procesando texto: 63 procesando texto: 64 procesando texto: 65 procesando texto: 66 procesando texto: 67 procesando texto: 68 procesando texto: 69 procesando texto: 70 procesando texto: 71 procesando texto: 72 procesando texto: 73 procesando texto: 74 procesando texto: 75 procesando texto: 76 procesando texto: 77 procesando texto: 78 procesando texto: 79 procesando texto: 80 procesando texto: 81 procesando texto: 82 procesando texto: 83 procesando texto: 84 procesando texto: 85 procesando texto: 86 procesando texto: 87 procesando texto: 88 procesando texto: 89 procesando texto: 90 procesando texto: 91 procesando texto: 92 procesando texto: 93 procesando texto: 94 procesando texto: 95 procesando texto: 96 procesando texto: 97 procesando texto: 98 procesando texto: 99 procesando texto: 100 procesando texto: 101 procesando texto: 102 procesando texto: 103 procesando texto: 104 procesando texto: 105 procesando texto: 106 procesando texto: 107 procesando texto: 108 procesando texto: 109 procesando texto: 110 procesando texto: 111 procesando texto: 112 procesando texto: 113 procesando texto: 114 procesando texto: 115 procesando texto: 116 procesando texto: 117 procesando texto: 118 procesando texto: 119 procesando texto: 120 procesando texto: 121 procesando texto: 122 procesando texto: 123 procesando texto: 124 procesando texto: 125 procesando texto: 126 procesando texto: 127 procesando texto: 128 procesando texto: 129 procesando texto: 130 procesando texto: 131 procesando texto: 132 procesando texto: 133 procesando texto: 134 procesando texto: 135 procesando texto: 136 procesando texto: 137 procesando texto: 138 procesando texto: 139 procesando texto: 140 procesando texto: 141 procesando texto: 142 procesando texto: 143 procesando texto: 144 procesando texto: 145 procesando texto: 146 procesando texto: 147 procesando texto: 148 procesando texto: 149 procesando texto: 150 procesando texto: 151 procesando texto: 152 procesando texto: 153 procesando texto: 154 procesando texto: 155 procesando texto: 156 procesando texto: 157 procesando texto: 158 procesando texto: 159 procesando texto: 160 procesando texto: 161 procesando texto: 162 procesando texto: 163 procesando texto: 164 procesando texto: 165 procesando texto: 166 procesando texto: 167 procesando texto: 168 procesando texto: 169 procesando texto: 170 procesando texto: 171 procesando texto: 172 procesando texto: 173 procesando texto: 174 procesando texto: 175 procesando texto: 176 procesando texto: 177 procesando texto: 178 procesando texto: 179 procesando texto: 180 procesando texto: 181 procesando texto: 182 procesando texto: 183 procesando texto: 184 procesando texto: 185 procesando texto: 186 procesando texto: 187 procesando texto: 188 procesando texto: 189 procesando texto: 190 procesando texto: 191 procesando texto: 192 procesando texto: 193 procesando texto: 194 procesando texto: 195 procesando texto: 196 procesando texto: 197 procesando texto: 198 procesando texto: 199 procesando texto: 200 procesando texto: 201 procesando texto: 202 procesando texto: 203 procesando texto: 204 procesando texto: 205 procesando texto: 206 procesando texto: 207 procesando texto: 208 procesando texto: 209 procesando texto: 210 procesando texto: 211 procesando texto: 212 procesando texto: 213 procesando texto: 214 procesando texto: 215 procesando texto: 216 procesando texto: 217 procesando texto: 218 procesando texto: 219 procesando texto: 220 procesando texto: 221 procesando texto: 222 procesando texto: 223 procesando texto: 224 procesando texto: 225 procesando texto: 226 procesando texto: 227 procesando texto: 228 procesando texto: 229 procesando texto: 230 procesando texto: 231 procesando texto: 232 procesando texto: 233 procesando texto: 234 procesando texto: 235 procesando texto: 236 procesando texto: 237 procesando texto: 238 procesando texto: 239 procesando texto: 240 procesando texto: 241 procesando texto: 242 procesando texto: 243 procesando texto: 244 procesando texto: 245 procesando texto: 246 procesando texto: 247 procesando texto: 248 procesando texto: 249 procesando texto: 250 procesando texto: 251 procesando texto: 252 procesando texto: 253 procesando texto: 254 procesando texto: 255 procesando texto: 256 procesando texto: 257 procesando texto: 258 procesando texto: 259 procesando texto: 260 procesando texto: 261 procesando texto: 262 procesando texto: 263 procesando texto: 264 procesando texto: 265 procesando texto: 266 procesando texto: 267 procesando texto: 268 procesando texto: 269 procesando texto: 270 procesando texto: 271 procesando texto: 272 procesando texto: 273 procesando texto: 274 procesando texto: 275 procesando texto: 276 procesando texto: 277 procesando texto: 278 procesando texto: 279 procesando texto: 280 procesando texto: 281 procesando texto: 282 procesando texto: 283 procesando texto: 284 procesando texto: 285 procesando texto: 286 procesando texto: 287 procesando texto: 288 procesando texto: 289 procesando texto: 290 procesando texto: 291 procesando texto: 292 procesando texto: 293 procesando texto: 294 procesando texto: 295 procesando texto: 296 procesando texto: 297 procesando texto: 298 procesando texto: 299 procesando texto: 300 procesando texto: 301 procesando texto: 302 procesando texto: 303 procesando texto: 304 procesando texto: 305 procesando texto: 306 procesando texto: 307 procesando texto: 308 procesando texto: 309 procesando texto: 310 procesando texto: 311 procesando texto: 312 procesando texto: 313 procesando texto: 314 procesando texto: 315 procesando texto: 316 procesando texto: 317 procesando texto: 318 procesando texto: 319 procesando texto: 320 procesando texto: 321 procesando texto: 322 procesando texto: 323 procesando texto: 324 procesando texto: 325 procesando texto: 326 procesando texto: 327 procesando texto: 328 procesando texto: 329 procesando texto: 330 procesando texto: 331 procesando texto: 332 procesando texto: 333 procesando texto: 334 procesando texto: 335 procesando texto: 336 procesando texto: 337 procesando texto: 338 procesando texto: 339 procesando texto: 340 procesando texto: 341 procesando texto: 342 procesando texto: 343 procesando texto: 344 procesando texto: 345 procesando texto: 346 procesando texto: 347 procesando texto: 348 procesando texto: 349 procesando texto: 350 procesando texto: 351 procesando texto: 352 procesando texto: 353 procesando texto: 354 procesando texto: 355 procesando texto: 356 procesando texto: 357 procesando texto: 358 procesando texto: 359 procesando texto: 360 procesando texto: 361 procesando texto: 362 procesando texto: 363 procesando texto: 364 procesando texto: 365 procesando texto: 366 procesando texto: 367 procesando texto: 368 procesando texto: 369 procesando texto: 370 procesando texto: 371 procesando texto: 372 procesando texto: 373 procesando texto: 374 procesando texto: 375 procesando texto: 376 procesando texto: 377 procesando texto: 378 procesando texto: 379 procesando texto: 380 procesando texto: 381 procesando texto: 382 procesando texto: 383 procesando texto: 384 procesando texto: 385 procesando texto: 386 procesando texto: 387 procesando texto: 388 procesando texto: 389 procesando texto: 390 procesando texto: 391 procesando texto: 392 procesando texto: 393 procesando texto: 394 procesando texto: 395 procesando texto: 396 procesando texto: 397 procesando texto: 398 procesando texto: 399 procesando texto: 400 \n",
            "\n",
            "procesando texto: 401 procesando texto: 402 procesando texto: 403 procesando texto: 404 procesando texto: 405 procesando texto: 406 procesando texto: 407 procesando texto: 408 procesando texto: 409 procesando texto: 410 procesando texto: 411 procesando texto: 412 procesando texto: 413 procesando texto: 414 procesando texto: 415 procesando texto: 416 procesando texto: 417 procesando texto: 418 procesando texto: 419 procesando texto: 420 procesando texto: 421 procesando texto: 422 procesando texto: 423 procesando texto: 424 procesando texto: 425 procesando texto: 426 procesando texto: 427 procesando texto: 428 procesando texto: 429 procesando texto: 430 procesando texto: 431 procesando texto: 432 procesando texto: 433 procesando texto: 434 procesando texto: 435 procesando texto: 436 procesando texto: 437 procesando texto: 438 procesando texto: 439 procesando texto: 440 procesando texto: 441 procesando texto: 442 procesando texto: 443 procesando texto: 444 procesando texto: 445 procesando texto: 446 procesando texto: 447 procesando texto: 448 procesando texto: 449 procesando texto: 450 procesando texto: 451 procesando texto: 452 procesando texto: 453 procesando texto: 454 procesando texto: 455 procesando texto: 456 procesando texto: 457 procesando texto: 458 procesando texto: 459 procesando texto: 460 procesando texto: 461 procesando texto: 462 procesando texto: 463 procesando texto: 464 procesando texto: 465 procesando texto: 466 procesando texto: 467 procesando texto: 468 procesando texto: 469 procesando texto: 470 procesando texto: 471 procesando texto: 472 procesando texto: 473 procesando texto: 474 procesando texto: 475 procesando texto: 476 procesando texto: 477 procesando texto: 478 procesando texto: 479 procesando texto: 480 procesando texto: 481 procesando texto: 482 procesando texto: 483 procesando texto: 484 procesando texto: 485 procesando texto: 486 procesando texto: 487 procesando texto: 488 procesando texto: 489 procesando texto: 490 procesando texto: 491 procesando texto: 492 procesando texto: 493 procesando texto: 494 procesando texto: 495 procesando texto: 496 procesando texto: 497 procesando texto: 498 procesando texto: 499 procesando texto: 500 procesando texto: 501 procesando texto: 502 procesando texto: 503 procesando texto: 504 procesando texto: 505 procesando texto: 506 procesando texto: 507 procesando texto: 508 procesando texto: 509 procesando texto: 510 procesando texto: 511 procesando texto: 512 procesando texto: 513 procesando texto: 514 procesando texto: 515 procesando texto: 516 procesando texto: 517 procesando texto: 518 procesando texto: 519 procesando texto: 520 procesando texto: 521 procesando texto: 522 procesando texto: 523 procesando texto: 524 procesando texto: 525 procesando texto: 526 procesando texto: 527 procesando texto: 528 procesando texto: 529 procesando texto: 530 procesando texto: 531 procesando texto: 532 procesando texto: 533 procesando texto: 534 procesando texto: 535 procesando texto: 536 procesando texto: 537 procesando texto: 538 procesando texto: 539 procesando texto: 540 procesando texto: 541 procesando texto: 542 procesando texto: 543 procesando texto: 544 procesando texto: 545 procesando texto: 546 procesando texto: 547 procesando texto: 548 procesando texto: 549 procesando texto: 550 procesando texto: 551 procesando texto: 552 procesando texto: 553 procesando texto: 554 procesando texto: 555 procesando texto: 556 procesando texto: 557 procesando texto: 558 procesando texto: 559 procesando texto: 560 procesando texto: 561 procesando texto: 562 procesando texto: 563 procesando texto: 564 procesando texto: 565 procesando texto: 566 procesando texto: 567 procesando texto: 568 procesando texto: 569 procesando texto: 570 procesando texto: 571 procesando texto: 572 procesando texto: 573 procesando texto: 574 procesando texto: 575 procesando texto: 576 procesando texto: 577 procesando texto: 578 procesando texto: 579 procesando texto: 580 procesando texto: 581 procesando texto: 582 procesando texto: 583 procesando texto: 584 procesando texto: 585 procesando texto: 586 procesando texto: 587 procesando texto: 588 procesando texto: 589 procesando texto: 590 procesando texto: 591 procesando texto: 592 procesando texto: 593 procesando texto: 594 procesando texto: 595 procesando texto: 596 procesando texto: 597 procesando texto: 598 procesando texto: 599 procesando texto: 600 procesando texto: 601 procesando texto: 602 procesando texto: 603 procesando texto: 604 procesando texto: 605 procesando texto: 606 procesando texto: 607 procesando texto: 608 procesando texto: 609 procesando texto: 610 procesando texto: 611 procesando texto: 612 procesando texto: 613 procesando texto: 614 procesando texto: 615 procesando texto: 616 procesando texto: 617 procesando texto: 618 procesando texto: 619 procesando texto: 620 procesando texto: 621 procesando texto: 622 procesando texto: 623 procesando texto: 624 procesando texto: 625 procesando texto: 626 procesando texto: 627 procesando texto: 628 procesando texto: 629 procesando texto: 630 procesando texto: 631 procesando texto: 632 procesando texto: 633 procesando texto: 634 procesando texto: 635 procesando texto: 636 procesando texto: 637 procesando texto: 638 procesando texto: 639 procesando texto: 640 procesando texto: 641 procesando texto: 642 procesando texto: 643 procesando texto: 644 procesando texto: 645 procesando texto: 646 procesando texto: 647 procesando texto: 648 procesando texto: 649 procesando texto: 650 procesando texto: 651 procesando texto: 652 procesando texto: 653 procesando texto: 654 procesando texto: 655 procesando texto: 656 procesando texto: 657 procesando texto: 658 procesando texto: 659 procesando texto: 660 procesando texto: 661 procesando texto: 662 procesando texto: 663 procesando texto: 664 procesando texto: 665 procesando texto: 666 procesando texto: 667 procesando texto: 668 procesando texto: 669 procesando texto: 670 procesando texto: 671 procesando texto: 672 procesando texto: 673 procesando texto: 674 procesando texto: 675 procesando texto: 676 procesando texto: 677 procesando texto: 678 procesando texto: 679 procesando texto: 680 procesando texto: 681 procesando texto: 682 procesando texto: 683 procesando texto: 684 procesando texto: 685 procesando texto: 686 procesando texto: 687 procesando texto: 688 procesando texto: 689 procesando texto: 690 procesando texto: 691 procesando texto: 692 procesando texto: 693 procesando texto: 694 procesando texto: 695 procesando texto: 696 procesando texto: 697 procesando texto: 698 procesando texto: 699 procesando texto: 700 procesando texto: 701 procesando texto: 702 procesando texto: 703 procesando texto: 704 procesando texto: 705 procesando texto: 706 procesando texto: 707 procesando texto: 708 procesando texto: 709 procesando texto: 710 procesando texto: 711 procesando texto: 712 procesando texto: 713 procesando texto: 714 procesando texto: 715 procesando texto: 716 procesando texto: 717 procesando texto: 718 procesando texto: 719 procesando texto: 720 procesando texto: 721 procesando texto: 722 procesando texto: 723 procesando texto: 724 procesando texto: 725 procesando texto: 726 procesando texto: 727 procesando texto: 728 procesando texto: 729 procesando texto: 730 procesando texto: 731 procesando texto: 732 procesando texto: 733 procesando texto: 734 procesando texto: 735 procesando texto: 736 procesando texto: 737 procesando texto: 738 procesando texto: 739 procesando texto: 740 procesando texto: 741 procesando texto: 742 procesando texto: 743 procesando texto: 744 procesando texto: 745 procesando texto: 746 procesando texto: 747 procesando texto: 748 procesando texto: 749 procesando texto: 750 procesando texto: 751 procesando texto: 752 procesando texto: 753 procesando texto: 754 procesando texto: 755 procesando texto: 756 procesando texto: 757 procesando texto: 758 procesando texto: 759 procesando texto: 760 procesando texto: 761 procesando texto: 762 procesando texto: 763 procesando texto: 764 procesando texto: 765 procesando texto: 766 procesando texto: 767 procesando texto: 768 procesando texto: 769 procesando texto: 770 procesando texto: 771 procesando texto: 772 procesando texto: 773 procesando texto: 774 procesando texto: 775 procesando texto: 776 procesando texto: 777 procesando texto: 778 procesando texto: 779 procesando texto: 780 procesando texto: 781 procesando texto: 782 procesando texto: 783 procesando texto: 784 procesando texto: 785 procesando texto: 786 procesando texto: 787 procesando texto: 788 procesando texto: 789 procesando texto: 790 procesando texto: 791 procesando texto: 792 procesando texto: 793 procesando texto: 794 procesando texto: 795 procesando texto: 796 procesando texto: 797 procesando texto: 798 procesando texto: 799 procesando texto: 800 \n",
            "\n",
            "procesando texto: 801 procesando texto: 802 procesando texto: 803 procesando texto: 804 procesando texto: 805 procesando texto: 806 procesando texto: 807 procesando texto: 808 procesando texto: 809 procesando texto: 810 procesando texto: 811 procesando texto: 812 procesando texto: 813 procesando texto: 814 procesando texto: 815 procesando texto: 816 procesando texto: 817 procesando texto: 818 procesando texto: 819 procesando texto: 820 procesando texto: 821 procesando texto: 822 procesando texto: 823 procesando texto: 824 procesando texto: 825 procesando texto: 826 procesando texto: 827 procesando texto: 828 procesando texto: 829 procesando texto: 830 procesando texto: 831 procesando texto: 832 procesando texto: 833 procesando texto: 834 procesando texto: 835 procesando texto: 836 procesando texto: 837 procesando texto: 838 procesando texto: 839 procesando texto: 840 procesando texto: 841 procesando texto: 842 procesando texto: 843 procesando texto: 844 procesando texto: 845 procesando texto: 846 procesando texto: 847 procesando texto: 848 procesando texto: 849 procesando texto: 850 procesando texto: 851 procesando texto: 852 procesando texto: 853 procesando texto: 854 procesando texto: 855 procesando texto: 856 procesando texto: 857 procesando texto: 858 procesando texto: 859 procesando texto: 860 procesando texto: 861 procesando texto: 862 procesando texto: 863 procesando texto: 864 procesando texto: 865 procesando texto: 866 procesando texto: 867 procesando texto: 868 procesando texto: 869 procesando texto: 870 procesando texto: 871 procesando texto: 872 procesando texto: 873 procesando texto: 874 procesando texto: 875 procesando texto: 876 procesando texto: 877 procesando texto: 878 procesando texto: 879 procesando texto: 880 procesando texto: 881 procesando texto: 882 procesando texto: 883 procesando texto: 884 procesando texto: 885 procesando texto: 886 procesando texto: 887 procesando texto: 888 procesando texto: 889 procesando texto: 890 procesando texto: 891 procesando texto: 892 procesando texto: 893 procesando texto: 894 procesando texto: 895 procesando texto: 896 procesando texto: 897 procesando texto: 898 procesando texto: 899 procesando texto: 900 procesando texto: 901 procesando texto: 902 procesando texto: 903 procesando texto: 904 procesando texto: 905 procesando texto: 906 procesando texto: 907 procesando texto: 908 procesando texto: 909 procesando texto: 910 procesando texto: 911 procesando texto: 912 procesando texto: 913 procesando texto: 914 procesando texto: 915 procesando texto: 916 procesando texto: 917 procesando texto: 918 procesando texto: 919 procesando texto: 920 procesando texto: 921 procesando texto: 922 procesando texto: 923 procesando texto: 924 procesando texto: 925 procesando texto: 926 procesando texto: 927 procesando texto: 928 procesando texto: 929 procesando texto: 930 procesando texto: 931 procesando texto: 932 procesando texto: 933 procesando texto: 934 procesando texto: 935 procesando texto: 936 procesando texto: 937 procesando texto: 938 procesando texto: 939 procesando texto: 940 procesando texto: 941 procesando texto: 942 procesando texto: 943 procesando texto: 944 procesando texto: 945 procesando texto: 946 procesando texto: 947 procesando texto: 948 procesando texto: 949 procesando texto: 950 procesando texto: 951 procesando texto: 952 procesando texto: 953 procesando texto: 954 procesando texto: 955 procesando texto: 956 procesando texto: 957 procesando texto: 958 procesando texto: 959 procesando texto: 960 procesando texto: 961 procesando texto: 962 procesando texto: 963 procesando texto: 964 procesando texto: 965 procesando texto: 966 procesando texto: 967 procesando texto: 968 procesando texto: 969 procesando texto: 970 procesando texto: 971 procesando texto: 972 procesando texto: 973 procesando texto: 974 procesando texto: 975 procesando texto: 976 procesando texto: 977 procesando texto: 978 procesando texto: 979 procesando texto: 980 procesando texto: 981 procesando texto: 982 procesando texto: 983 procesando texto: 984 procesando texto: 985 procesando texto: 986 procesando texto: 987 procesando texto: 988 procesando texto: 989 procesando texto: 990 procesando texto: 991 procesando texto: 992 procesando texto: 993 procesando texto: 994 procesando texto: 995 procesando texto: 996 procesando texto: 997 procesando texto: 998 procesando texto: 999 procesando texto: 1000 procesando texto: 1001 procesando texto: 1002 procesando texto: 1003 procesando texto: 1004 procesando texto: 1005 procesando texto: 1006 procesando texto: 1007 procesando texto: 1008 procesando texto: 1009 procesando texto: 1010 procesando texto: 1011 procesando texto: 1012 procesando texto: 1013 procesando texto: 1014 procesando texto: 1015 procesando texto: 1016 procesando texto: 1017 procesando texto: 1018 procesando texto: 1019 procesando texto: 1020 procesando texto: 1021 procesando texto: 1022 procesando texto: 1023 procesando texto: 1024 procesando texto: 1025 procesando texto: 1026 procesando texto: 1027 procesando texto: 1028 procesando texto: 1029 procesando texto: 1030 procesando texto: 1031 procesando texto: 1032 procesando texto: 1033 procesando texto: 1034 procesando texto: 1035 procesando texto: 1036 procesando texto: 1037 procesando texto: 1038 procesando texto: 1039 procesando texto: 1040 procesando texto: 1041 procesando texto: 1042 procesando texto: 1043 procesando texto: 1044 procesando texto: 1045 procesando texto: 1046 procesando texto: 1047 procesando texto: 1048 procesando texto: 1049 procesando texto: 1050 procesando texto: 1051 procesando texto: 1052 procesando texto: 1053 procesando texto: 1054 procesando texto: 1055 procesando texto: 1056 procesando texto: 1057 procesando texto: 1058 procesando texto: 1059 procesando texto: 1060 procesando texto: 1061 procesando texto: 1062 procesando texto: 1063 procesando texto: 1064 procesando texto: 1065 procesando texto: 1066 procesando texto: 1067 procesando texto: 1068 procesando texto: 1069 procesando texto: 1070 procesando texto: 1071 procesando texto: 1072 procesando texto: 1073 procesando texto: 1074 procesando texto: 1075 procesando texto: 1076 procesando texto: 1077 procesando texto: 1078 procesando texto: 1079 procesando texto: 1080 procesando texto: 1081 procesando texto: 1082 procesando texto: 1083 procesando texto: 1084 procesando texto: 1085 procesando texto: 1086 procesando texto: 1087 procesando texto: 1088 procesando texto: 1089 procesando texto: 1090 procesando texto: 1091 procesando texto: 1092 procesando texto: 1093 procesando texto: 1094 procesando texto: 1095 procesando texto: 1096 procesando texto: 1097 procesando texto: 1098 procesando texto: 1099 procesando texto: 1100 procesando texto: 1101 procesando texto: 1102 procesando texto: 1103 procesando texto: 1104 procesando texto: 1105 procesando texto: 1106 procesando texto: 1107 procesando texto: 1108 procesando texto: 1109 procesando texto: 1110 procesando texto: 1111 procesando texto: 1112 procesando texto: 1113 procesando texto: 1114 procesando texto: 1115 procesando texto: 1116 procesando texto: 1117 procesando texto: 1118 procesando texto: 1119 procesando texto: 1120 procesando texto: 1121 procesando texto: 1122 procesando texto: 1123 procesando texto: 1124 procesando texto: 1125 procesando texto: 1126 procesando texto: 1127 procesando texto: 1128 procesando texto: 1129 procesando texto: 1130 procesando texto: 1131 procesando texto: 1132 procesando texto: 1133 procesando texto: 1134 procesando texto: 1135 procesando texto: 1136 procesando texto: 1137 procesando texto: 1138 procesando texto: 1139 procesando texto: 1140 procesando texto: 1141 procesando texto: 1142 procesando texto: 1143 procesando texto: 1144 procesando texto: 1145 procesando texto: 1146 procesando texto: 1147 procesando texto: 1148 procesando texto: 1149 procesando texto: 1150 procesando texto: 1151 procesando texto: 1152 procesando texto: 1153 procesando texto: 1154 procesando texto: 1155 procesando texto: 1156 procesando texto: 1157 procesando texto: 1158 procesando texto: 1159 procesando texto: 1160 procesando texto: 1161 procesando texto: 1162 procesando texto: 1163 procesando texto: 1164 procesando texto: 1165 procesando texto: 1166 procesando texto: 1167 procesando texto: 1168 procesando texto: 1169 procesando texto: 1170 procesando texto: 1171 procesando texto: 1172 procesando texto: 1173 procesando texto: 1174 procesando texto: 1175 procesando texto: 1176 procesando texto: 1177 procesando texto: 1178 procesando texto: 1179 procesando texto: 1180 procesando texto: 1181 procesando texto: 1182 procesando texto: 1183 procesando texto: 1184 procesando texto: 1185 procesando texto: 1186 procesando texto: 1187 procesando texto: 1188 procesando texto: 1189 procesando texto: 1190 procesando texto: 1191 procesando texto: 1192 procesando texto: 1193 procesando texto: 1194 procesando texto: 1195 procesando texto: 1196 procesando texto: 1197 procesando texto: 1198 procesando texto: 1199 procesando texto: 1200 \n",
            "\n",
            "procesando texto: 1201 procesando texto: 1202 procesando texto: 1203 procesando texto: 1204 procesando texto: 1205 procesando texto: 1206 procesando texto: 1207 procesando texto: 1208 procesando texto: 1209 procesando texto: 1210 procesando texto: 1211 procesando texto: 1212 procesando texto: 1213 procesando texto: 1214 procesando texto: 1215 procesando texto: 1216 procesando texto: 1217 procesando texto: 1218 procesando texto: 1219 procesando texto: 1220 procesando texto: 1221 procesando texto: 1222 procesando texto: 1223 procesando texto: 1224 procesando texto: 1225 procesando texto: 1226 procesando texto: 1227 procesando texto: 1228 procesando texto: 1229 procesando texto: 1230 procesando texto: 1231 procesando texto: 1232 procesando texto: 1233 procesando texto: 1234 procesando texto: 1235 procesando texto: 1236 procesando texto: 1237 procesando texto: 1238 procesando texto: 1239 procesando texto: 1240 procesando texto: 1241 procesando texto: 1242 procesando texto: 1243 procesando texto: 1244 procesando texto: 1245 procesando texto: 1246 procesando texto: 1247 procesando texto: 1248 procesando texto: 1249 procesando texto: 1250 procesando texto: 1251 procesando texto: 1252 procesando texto: 1253 procesando texto: 1254 procesando texto: 1255 procesando texto: 1256 procesando texto: 1257 procesando texto: 1258 procesando texto: 1259 procesando texto: 1260 procesando texto: 1261 procesando texto: 1262 procesando texto: 1263 procesando texto: 1264 procesando texto: 1265 procesando texto: 1266 procesando texto: 1267 procesando texto: 1268 procesando texto: 1269 procesando texto: 1270 procesando texto: 1271 procesando texto: 1272 procesando texto: 1273 procesando texto: 1274 procesando texto: 1275 procesando texto: 1276 procesando texto: 1277 procesando texto: 1278 procesando texto: 1279 procesando texto: 1280 procesando texto: 1281 procesando texto: 1282 procesando texto: 1283 procesando texto: 1284 procesando texto: 1285 procesando texto: 1286 procesando texto: 1287 procesando texto: 1288 procesando texto: 1289 procesando texto: 1290 procesando texto: 1291 procesando texto: 1292 procesando texto: 1293 procesando texto: 1294 procesando texto: 1295 procesando texto: 1296 procesando texto: 1297 procesando texto: 1298 procesando texto: 1299 procesando texto: 1300 procesando texto: 1301 procesando texto: 1302 procesando texto: 1303 procesando texto: 1304 procesando texto: 1305 procesando texto: 1306 procesando texto: 1307 procesando texto: 1308 procesando texto: 1309 procesando texto: 1310 procesando texto: 1311 procesando texto: 1312 procesando texto: 1313 procesando texto: 1314 procesando texto: 1315 procesando texto: 1316 procesando texto: 1317 procesando texto: 1318 procesando texto: 1319 procesando texto: 1320 procesando texto: 1321 procesando texto: 1322 procesando texto: 1323 procesando texto: 1324 procesando texto: 1325 procesando texto: 1326 procesando texto: 1327 procesando texto: 1328 procesando texto: 1329 procesando texto: 1330 procesando texto: 1331 procesando texto: 1332 procesando texto: 1333 procesando texto: 1334 procesando texto: 1335 procesando texto: 1336 procesando texto: 1337 procesando texto: 1338 procesando texto: 1339 procesando texto: 1340 procesando texto: 1341 procesando texto: 1342 procesando texto: 1343 procesando texto: 1344 procesando texto: 1345 procesando texto: 1346 procesando texto: 1347 procesando texto: 1348 procesando texto: 1349 procesando texto: 1350 procesando texto: 1351 procesando texto: 1352 procesando texto: 1353 procesando texto: 1354 procesando texto: 1355 procesando texto: 1356 procesando texto: 1357 procesando texto: 1358 procesando texto: 1359 procesando texto: 1360 procesando texto: 1361 procesando texto: 1362 procesando texto: 1363 procesando texto: 1364 procesando texto: 1365 procesando texto: 1366 procesando texto: 1367 procesando texto: 1368 procesando texto: 1369 procesando texto: 1370 procesando texto: 1371 procesando texto: 1372 procesando texto: 1373 procesando texto: 1374 procesando texto: 1375 procesando texto: 1376 procesando texto: 1377 procesando texto: 1378 procesando texto: 1379 procesando texto: 1380 procesando texto: 1381 procesando texto: 1382 procesando texto: 1383 procesando texto: 1384 procesando texto: 1385 procesando texto: 1386 procesando texto: 1387 procesando texto: 1388 procesando texto: 1389 procesando texto: 1390 procesando texto: 1391 procesando texto: 1392 procesando texto: 1393 procesando texto: 1394 procesando texto: 1395 procesando texto: 1396 procesando texto: 1397 procesando texto: 1398 procesando texto: 1399 procesando texto: 1400 procesando texto: 1401 procesando texto: 1402 procesando texto: 1403 procesando texto: 1404 procesando texto: 1405 procesando texto: 1406 procesando texto: 1407 procesando texto: 1408 procesando texto: 1409 procesando texto: 1410 procesando texto: 1411 procesando texto: 1412 procesando texto: 1413 procesando texto: 1414 procesando texto: 1415 procesando texto: 1416 procesando texto: 1417 procesando texto: 1418 procesando texto: 1419 procesando texto: 1420 procesando texto: 1421 procesando texto: 1422 procesando texto: 1423 procesando texto: 1424 procesando texto: 1425 procesando texto: 1426 procesando texto: 1427 procesando texto: 1428 procesando texto: 1429 procesando texto: 1430 procesando texto: 1431 procesando texto: 1432 procesando texto: 1433 procesando texto: 1434 procesando texto: 1435 procesando texto: 1436 procesando texto: 1437 procesando texto: 1438 procesando texto: 1439 procesando texto: 1440 procesando texto: 1441 procesando texto: 1442 procesando texto: 1443 procesando texto: 1444 procesando texto: 1445 procesando texto: 1446 procesando texto: 1447 procesando texto: 1448 procesando texto: 1449 procesando texto: 1450 procesando texto: 1451 procesando texto: 1452 procesando texto: 1453 procesando texto: 1454 procesando texto: 1455 procesando texto: 1456 procesando texto: 1457 procesando texto: 1458 procesando texto: 1459 procesando texto: 1460 procesando texto: 1461 procesando texto: 1462 procesando texto: 1463 procesando texto: 1464 procesando texto: 1465 procesando texto: 1466 procesando texto: 1467 procesando texto: 1468 procesando texto: 1469 procesando texto: 1470 procesando texto: 1471 procesando texto: 1472 procesando texto: 1473 procesando texto: 1474 procesando texto: 1475 procesando texto: 1476 procesando texto: 1477 procesando texto: 1478 procesando texto: 1479 procesando texto: 1480 procesando texto: 1481 procesando texto: 1482 procesando texto: 1483 procesando texto: 1484 procesando texto: 1485 procesando texto: 1486 procesando texto: 1487 procesando texto: 1488 procesando texto: 1489 procesando texto: 1490 procesando texto: 1491 procesando texto: 1492 procesando texto: 1493 procesando texto: 1494 procesando texto: 1495 procesando texto: 1496 procesando texto: 1497 procesando texto: 1498 procesando texto: 1499 procesando texto: 1500 procesando texto: 1501 procesando texto: 1502 procesando texto: 1503 procesando texto: 1504 procesando texto: 1505 procesando texto: 1506 procesando texto: 1507 procesando texto: 1508 procesando texto: 1509 procesando texto: 1510 procesando texto: 1511 procesando texto: 1512 procesando texto: 1513 procesando texto: 1514 procesando texto: 1515 procesando texto: 1516 procesando texto: 1517 procesando texto: 1518 procesando texto: 1519 procesando texto: 1520 procesando texto: 1521 procesando texto: 1522 procesando texto: 1523 procesando texto: 1524 procesando texto: 1525 procesando texto: 1526 procesando texto: 1527 procesando texto: 1528 procesando texto: 1529 procesando texto: 1530 procesando texto: 1531 procesando texto: 1532 procesando texto: 1533 procesando texto: 1534 procesando texto: 1535 procesando texto: 1536 procesando texto: 1537 procesando texto: 1538 procesando texto: 1539 procesando texto: 1540 procesando texto: 1541 procesando texto: 1542 procesando texto: 1543 procesando texto: 1544 procesando texto: 1545 procesando texto: 1546 procesando texto: 1547 procesando texto: 1548 procesando texto: 1549 procesando texto: 1550 procesando texto: 1551 procesando texto: 1552 procesando texto: 1553 procesando texto: 1554 procesando texto: 1555 procesando texto: 1556 procesando texto: 1557 procesando texto: 1558 procesando texto: 1559 procesando texto: 1560 procesando texto: 1561 procesando texto: 1562 procesando texto: 1563 procesando texto: 1564 procesando texto: 1565 procesando texto: 1566 procesando texto: 1567 procesando texto: 1568 procesando texto: 1569 procesando texto: 1570 procesando texto: 1571 procesando texto: 1572 procesando texto: 1573 procesando texto: 1574 procesando texto: 1575 procesando texto: 1576 procesando texto: 1577 procesando texto: 1578 procesando texto: 1579 procesando texto: 1580 procesando texto: 1581 procesando texto: 1582 procesando texto: 1583 procesando texto: 1584 procesando texto: 1585 procesando texto: 1586 procesando texto: 1587 procesando texto: 1588 procesando texto: 1589 procesando texto: 1590 procesando texto: 1591 procesando texto: 1592 procesando texto: 1593 procesando texto: 1594 procesando texto: 1595 procesando texto: 1596 procesando texto: 1597 procesando texto: 1598 procesando texto: 1599 procesando texto: 1600 \n",
            "\n",
            "procesando texto: 1601 procesando texto: 1602 procesando texto: 1603 procesando texto: 1604 procesando texto: 1605 procesando texto: 1606 procesando texto: 1607 procesando texto: 1608 procesando texto: 1609 procesando texto: 1610 procesando texto: 1611 procesando texto: 1612 procesando texto: 1613 procesando texto: 1614 procesando texto: 1615 procesando texto: 1616 procesando texto: 1617 procesando texto: 1618 procesando texto: 1619 procesando texto: 1620 procesando texto: 1621 procesando texto: 1622 procesando texto: 1623 procesando texto: 1624 procesando texto: 1625 procesando texto: 1626 procesando texto: 1627 procesando texto: 1628 procesando texto: 1629 procesando texto: 1630 procesando texto: 1631 procesando texto: 1632 procesando texto: 1633 procesando texto: 1634 procesando texto: 1635 procesando texto: 1636 procesando texto: 1637 procesando texto: 1638 procesando texto: 1639 procesando texto: 1640 procesando texto: 1641 procesando texto: 1642 procesando texto: 1643 procesando texto: 1644 procesando texto: 1645 procesando texto: 1646 procesando texto: 1647 procesando texto: 1648 procesando texto: 1649 procesando texto: 1650 procesando texto: 1651 procesando texto: 1652 procesando texto: 1653 procesando texto: 1654 procesando texto: 1655 procesando texto: 1656 procesando texto: 1657 procesando texto: 1658 procesando texto: 1659 procesando texto: 1660 procesando texto: 1661 procesando texto: 1662 procesando texto: 1663 procesando texto: 1664 procesando texto: 1665 procesando texto: 1666 procesando texto: 1667 procesando texto: 1668 procesando texto: 1669 procesando texto: 1670 procesando texto: 1671 procesando texto: 1672 procesando texto: 1673 procesando texto: 1674 procesando texto: 1675 procesando texto: 1676 procesando texto: 1677 procesando texto: 1678 procesando texto: 1679 procesando texto: 1680 procesando texto: 1681 procesando texto: 1682 procesando texto: 1683 procesando texto: 1684 procesando texto: 1685 procesando texto: 1686 procesando texto: 1687 procesando texto: 1688 procesando texto: 1689 procesando texto: 1690 procesando texto: 1691 procesando texto: 1692 procesando texto: 1693 procesando texto: 1694 procesando texto: 1695 procesando texto: 1696 procesando texto: 1697 procesando texto: 1698 procesando texto: 1699 procesando texto: 1700 procesando texto: 1701 procesando texto: 1702 procesando texto: 1703 procesando texto: 1704 procesando texto: 1705 procesando texto: 1706 procesando texto: 1707 procesando texto: 1708 procesando texto: 1709 procesando texto: 1710 procesando texto: 1711 procesando texto: 1712 procesando texto: 1713 procesando texto: 1714 procesando texto: 1715 procesando texto: 1716 procesando texto: 1717 procesando texto: 1718 procesando texto: 1719 procesando texto: 1720 procesando texto: 1721 procesando texto: 1722 procesando texto: 1723 procesando texto: 1724 procesando texto: 1725 procesando texto: 1726 procesando texto: 1727 procesando texto: 1728 procesando texto: 1729 procesando texto: 1730 procesando texto: 1731 procesando texto: 1732 procesando texto: 1733 procesando texto: 1734 procesando texto: 1735 procesando texto: 1736 procesando texto: 1737 procesando texto: 1738 procesando texto: 1739 procesando texto: 1740 procesando texto: 1741 procesando texto: 1742 procesando texto: 1743 procesando texto: 1744 procesando texto: 1745 procesando texto: 1746 procesando texto: 1747 procesando texto: 1748 procesando texto: 1749 procesando texto: 1750 procesando texto: 1751 procesando texto: 1752 procesando texto: 1753 procesando texto: 1754 procesando texto: 1755 procesando texto: 1756 procesando texto: 1757 procesando texto: 1758 procesando texto: 1759 procesando texto: 1760 procesando texto: 1761 procesando texto: 1762 procesando texto: 1763 procesando texto: 1764 procesando texto: 1765 procesando texto: 1766 procesando texto: 1767 procesando texto: 1768 procesando texto: 1769 procesando texto: 1770 procesando texto: 1771 procesando texto: 1772 procesando texto: 1773 procesando texto: 1774 procesando texto: 1775 procesando texto: 1776 procesando texto: 1777 procesando texto: 1778 procesando texto: 1779 procesando texto: 1780 procesando texto: 1781 procesando texto: 1782 procesando texto: 1783 procesando texto: 1784 procesando texto: 1785 procesando texto: 1786 procesando texto: 1787 procesando texto: 1788 procesando texto: 1789 procesando texto: 1790 procesando texto: 1791 procesando texto: 1792 procesando texto: 1793 procesando texto: 1794 procesando texto: 1795 procesando texto: 1796 procesando texto: 1797 procesando texto: 1798 procesando texto: 1799 procesando texto: 1800 procesando texto: 1801 procesando texto: 1802 procesando texto: 1803 procesando texto: 1804 procesando texto: 1805 procesando texto: 1806 procesando texto: 1807 procesando texto: 1808 procesando texto: 1809 procesando texto: 1810 procesando texto: 1811 procesando texto: 1812 procesando texto: 1813 procesando texto: 1814 procesando texto: 1815 procesando texto: 1816 procesando texto: 1817 procesando texto: 1818 procesando texto: 1819 procesando texto: 1820 procesando texto: 1821 procesando texto: 1822 procesando texto: 1823 procesando texto: 1824 procesando texto: 1825 procesando texto: 1826 procesando texto: 1827 procesando texto: 1828 procesando texto: 1829 procesando texto: 1830 procesando texto: 1831 procesando texto: 1832 procesando texto: 1833 procesando texto: 1834 procesando texto: 1835 procesando texto: 1836 procesando texto: 1837 procesando texto: 1838 procesando texto: 1839 procesando texto: 1840 procesando texto: 1841 procesando texto: 1842 procesando texto: 1843 procesando texto: 1844 procesando texto: 1845 procesando texto: 1846 procesando texto: 1847 procesando texto: 1848 procesando texto: 1849 procesando texto: 1850 procesando texto: 1851 procesando texto: 1852 procesando texto: 1853 procesando texto: 1854 procesando texto: 1855 procesando texto: 1856 procesando texto: 1857 procesando texto: 1858 procesando texto: 1859 procesando texto: 1860 procesando texto: 1861 procesando texto: 1862 procesando texto: 1863 procesando texto: 1864 procesando texto: 1865 procesando texto: 1866 procesando texto: 1867 procesando texto: 1868 procesando texto: 1869 procesando texto: 1870 procesando texto: 1871 procesando texto: 1872 procesando texto: 1873 procesando texto: 1874 procesando texto: 1875 procesando texto: 1876 procesando texto: 1877 procesando texto: 1878 procesando texto: 1879 procesando texto: 1880 procesando texto: 1881 procesando texto: 1882 procesando texto: 1883 procesando texto: 1884 procesando texto: 1885 procesando texto: 1886 procesando texto: 1887 procesando texto: 1888 procesando texto: 1889 procesando texto: 1890 procesando texto: 1891 procesando texto: 1892 procesando texto: 1893 procesando texto: 1894 procesando texto: 1895 procesando texto: 1896 procesando texto: 1897 procesando texto: 1898 procesando texto: 1899 procesando texto: 1900 procesando texto: 1901 procesando texto: 1902 procesando texto: 1903 procesando texto: 1904 procesando texto: 1905 procesando texto: 1906 procesando texto: 1907 procesando texto: 1908 procesando texto: 1909 procesando texto: 1910 procesando texto: 1911 procesando texto: 1912 procesando texto: 1913 procesando texto: 1914 procesando texto: 1915 procesando texto: 1916 procesando texto: 1917 procesando texto: 1918 procesando texto: 1919 procesando texto: 1920 procesando texto: 1921 procesando texto: 1922 procesando texto: 1923 procesando texto: 1924 procesando texto: 1925 procesando texto: 1926 procesando texto: 1927 procesando texto: 1928 procesando texto: 1929 procesando texto: 1930 procesando texto: 1931 procesando texto: 1932 procesando texto: 1933 procesando texto: 1934 procesando texto: 1935 procesando texto: 1936 procesando texto: 1937 procesando texto: 1938 procesando texto: 1939 procesando texto: 1940 procesando texto: 1941 procesando texto: 1942 procesando texto: 1943 procesando texto: 1944 procesando texto: 1945 procesando texto: 1946 procesando texto: 1947 procesando texto: 1948 procesando texto: 1949 procesando texto: 1950 procesando texto: 1951 procesando texto: 1952 procesando texto: 1953 procesando texto: 1954 procesando texto: 1955 procesando texto: 1956 procesando texto: 1957 procesando texto: 1958 procesando texto: 1959 procesando texto: 1960 procesando texto: 1961 procesando texto: 1962 procesando texto: 1963 procesando texto: 1964 procesando texto: 1965 procesando texto: 1966 procesando texto: 1967 procesando texto: 1968 procesando texto: 1969 procesando texto: 1970 procesando texto: 1971 procesando texto: 1972 procesando texto: 1973 procesando texto: 1974 procesando texto: 1975 procesando texto: 1976 procesando texto: 1977 procesando texto: 1978 procesando texto: 1979 procesando texto: 1980 procesando texto: 1981 procesando texto: 1982 procesando texto: 1983 procesando texto: 1984 procesando texto: 1985 procesando texto: 1986 procesando texto: 1987 procesando texto: 1988 procesando texto: 1989 procesando texto: 1990 procesando texto: 1991 procesando texto: 1992 procesando texto: 1993 procesando texto: 1994 procesando texto: 1995 procesando texto: 1996 procesando texto: 1997 procesando texto: 1998 procesando texto: 1999 procesando texto: 2000 \n",
            "\n",
            "procesando texto: 2001 procesando texto: 2002 procesando texto: 2003 procesando texto: 2004 procesando texto: 2005 procesando texto: 2006 procesando texto: 2007 procesando texto: 2008 procesando texto: 2009 procesando texto: 2010 procesando texto: 2011 procesando texto: 2012 procesando texto: 2013 procesando texto: 2014 procesando texto: 2015 procesando texto: 2016 procesando texto: 2017 procesando texto: 2018 procesando texto: 2019 procesando texto: 2020 procesando texto: 2021 procesando texto: 2022 procesando texto: 2023 procesando texto: 2024 procesando texto: 2025 procesando texto: 2026 procesando texto: 2027 procesando texto: 2028 procesando texto: 2029 procesando texto: 2030 procesando texto: 2031 procesando texto: 2032 procesando texto: 2033 procesando texto: 2034 procesando texto: 2035 procesando texto: 2036 procesando texto: 2037 procesando texto: 2038 procesando texto: 2039 procesando texto: 2040 procesando texto: 2041 procesando texto: 2042 procesando texto: 2043 procesando texto: 2044 procesando texto: 2045 procesando texto: 2046 procesando texto: 2047 procesando texto: 2048 procesando texto: 2049 procesando texto: 2050 procesando texto: 2051 procesando texto: 2052 procesando texto: 2053 procesando texto: 2054 procesando texto: 2055 procesando texto: 2056 procesando texto: 2057 procesando texto: 2058 procesando texto: 2059 procesando texto: 2060 procesando texto: 2061 procesando texto: 2062 procesando texto: 2063 procesando texto: 2064 procesando texto: 2065 procesando texto: 2066 procesando texto: 2067 procesando texto: 2068 procesando texto: 2069 procesando texto: 2070 procesando texto: 2071 procesando texto: 2072 procesando texto: 2073 procesando texto: 2074 procesando texto: 2075 procesando texto: 2076 procesando texto: 2077 procesando texto: 2078 procesando texto: 2079 procesando texto: 2080 procesando texto: 2081 procesando texto: 2082 procesando texto: 2083 procesando texto: 2084 procesando texto: 2085 procesando texto: 2086 procesando texto: 2087 procesando texto: 2088 procesando texto: 2089 procesando texto: 2090 procesando texto: 2091 procesando texto: 2092 procesando texto: 2093 procesando texto: 2094 procesando texto: 2095 procesando texto: 2096 procesando texto: 2097 procesando texto: 2098 procesando texto: 2099 procesando texto: 2100 procesando texto: 2101 procesando texto: 2102 procesando texto: 2103 procesando texto: 2104 procesando texto: 2105 procesando texto: 2106 procesando texto: 2107 procesando texto: 2108 procesando texto: 2109 procesando texto: 2110 procesando texto: 2111 procesando texto: 2112 procesando texto: 2113 procesando texto: 2114 procesando texto: 2115 procesando texto: 2116 procesando texto: 2117 procesando texto: 2118 procesando texto: 2119 procesando texto: 2120 procesando texto: 2121 procesando texto: 2122 procesando texto: 2123 procesando texto: 2124 procesando texto: 2125 procesando texto: 2126 procesando texto: 2127 procesando texto: 2128 procesando texto: 2129 procesando texto: 2130 procesando texto: 2131 procesando texto: 2132 procesando texto: 2133 procesando texto: 2134 procesando texto: 2135 procesando texto: 2136 procesando texto: 2137 procesando texto: 2138 procesando texto: 2139 procesando texto: 2140 procesando texto: 2141 procesando texto: 2142 procesando texto: 2143 procesando texto: 2144 procesando texto: 2145 procesando texto: 2146 procesando texto: 2147 procesando texto: 2148 procesando texto: 2149 procesando texto: 2150 procesando texto: 2151 procesando texto: 2152 procesando texto: 2153 procesando texto: 2154 procesando texto: 2155 procesando texto: 2156 procesando texto: 2157 procesando texto: 2158 procesando texto: 2159 procesando texto: 2160 procesando texto: 2161 procesando texto: 2162 procesando texto: 2163 procesando texto: 2164 procesando texto: 2165 procesando texto: 2166 procesando texto: 2167 procesando texto: 2168 procesando texto: 2169 procesando texto: 2170 procesando texto: 2171 procesando texto: 2172 procesando texto: 2173 procesando texto: 2174 procesando texto: 2175 procesando texto: 2176 procesando texto: 2177 procesando texto: 2178 procesando texto: 2179 procesando texto: 2180 procesando texto: 2181 procesando texto: 2182 procesando texto: 2183 procesando texto: 2184 procesando texto: 2185 procesando texto: 2186 procesando texto: 2187 procesando texto: 2188 procesando texto: 2189 procesando texto: 2190 procesando texto: 2191 procesando texto: 2192 procesando texto: 2193 procesando texto: 2194 procesando texto: 2195 procesando texto: 2196 procesando texto: 2197 procesando texto: 2198 procesando texto: 2199 procesando texto: 2200 procesando texto: 2201 procesando texto: 2202 procesando texto: 2203 procesando texto: 2204 procesando texto: 2205 procesando texto: 2206 procesando texto: 2207 procesando texto: 2208 procesando texto: 2209 procesando texto: 2210 procesando texto: 2211 procesando texto: 2212 procesando texto: 2213 procesando texto: 2214 procesando texto: 2215 procesando texto: 2216 procesando texto: 2217 procesando texto: 2218 procesando texto: 2219 procesando texto: 2220 procesando texto: 2221 procesando texto: 2222 procesando texto: 2223 procesando texto: 2224 procesando texto: 2225 procesando texto: 2226 procesando texto: 2227 procesando texto: 2228 procesando texto: 2229 procesando texto: 2230 procesando texto: 2231 procesando texto: 2232 procesando texto: 2233 procesando texto: 2234 procesando texto: 2235 procesando texto: 2236 procesando texto: 2237 procesando texto: 2238 procesando texto: 2239 procesando texto: 2240 procesando texto: 2241 procesando texto: 2242 procesando texto: 2243 procesando texto: 2244 procesando texto: 2245 procesando texto: 2246 procesando texto: 2247 procesando texto: 2248 procesando texto: 2249 procesando texto: 2250 procesando texto: 2251 procesando texto: 2252 procesando texto: 2253 procesando texto: 2254 procesando texto: 2255 procesando texto: 2256 procesando texto: 2257 procesando texto: 2258 procesando texto: 2259 procesando texto: 2260 procesando texto: 2261 procesando texto: 2262 procesando texto: 2263 procesando texto: 2264 procesando texto: 2265 procesando texto: 2266 procesando texto: 2267 procesando texto: 2268 procesando texto: 2269 procesando texto: 2270 procesando texto: 2271 procesando texto: 2272 procesando texto: 2273 procesando texto: 2274 procesando texto: 2275 procesando texto: 2276 procesando texto: 2277 procesando texto: 2278 procesando texto: 2279 procesando texto: 2280 procesando texto: 2281 procesando texto: 2282 procesando texto: 2283 procesando texto: 2284 procesando texto: 2285 procesando texto: 2286 procesando texto: 2287 procesando texto: 2288 procesando texto: 2289 procesando texto: 2290 procesando texto: 2291 procesando texto: 2292 procesando texto: 2293 procesando texto: 2294 procesando texto: 2295 procesando texto: 2296 procesando texto: 2297 procesando texto: 2298 procesando texto: 2299 procesando texto: 2300 procesando texto: 2301 procesando texto: 2302 procesando texto: 2303 procesando texto: 2304 procesando texto: 2305 procesando texto: 2306 procesando texto: 2307 procesando texto: 2308 procesando texto: 2309 procesando texto: 2310 procesando texto: 2311 procesando texto: 2312 procesando texto: 2313 procesando texto: 2314 procesando texto: 2315 procesando texto: 2316 procesando texto: 2317 procesando texto: 2318 procesando texto: 2319 procesando texto: 2320 procesando texto: 2321 procesando texto: 2322 procesando texto: 2323 procesando texto: 2324 procesando texto: 2325 procesando texto: 2326 procesando texto: 2327 procesando texto: 2328 procesando texto: 2329 procesando texto: 2330 procesando texto: 2331 procesando texto: 2332 procesando texto: 2333 procesando texto: 2334 procesando texto: 2335 procesando texto: 2336 procesando texto: 2337 procesando texto: 2338 procesando texto: 2339 procesando texto: 2340 procesando texto: 2341 procesando texto: 2342 procesando texto: 2343 procesando texto: 2344 procesando texto: 2345 procesando texto: 2346 procesando texto: 2347 procesando texto: 2348 procesando texto: 2349 procesando texto: 2350 procesando texto: 2351 procesando texto: 2352 procesando texto: 2353 procesando texto: 2354 procesando texto: 2355 procesando texto: 2356 procesando texto: 2357 procesando texto: 2358 procesando texto: 2359 procesando texto: 2360 procesando texto: 2361 procesando texto: 2362 procesando texto: 2363 procesando texto: 2364 procesando texto: 2365 procesando texto: 2366 procesando texto: 2367 procesando texto: 2368 procesando texto: 2369 procesando texto: 2370 procesando texto: 2371 procesando texto: 2372 procesando texto: 2373 procesando texto: 2374 procesando texto: 2375 procesando texto: 2376 procesando texto: 2377 procesando texto: 2378 procesando texto: 2379 procesando texto: 2380 procesando texto: 2381 procesando texto: 2382 procesando texto: 2383 procesando texto: 2384 procesando texto: 2385 procesando texto: 2386 procesando texto: 2387 procesando texto: 2388 procesando texto: 2389 procesando texto: 2390 procesando texto: 2391 procesando texto: 2392 procesando texto: 2393 procesando texto: 2394 procesando texto: 2395 procesando texto: 2396 procesando texto: 2397 procesando texto: 2398 procesando texto: 2399 procesando texto: 2400 \n",
            "\n",
            "procesando texto: 2401 procesando texto: 2402 procesando texto: 2403 procesando texto: 2404 procesando texto: 2405 procesando texto: 2406 procesando texto: 2407 procesando texto: 2408 procesando texto: 2409 procesando texto: 2410 procesando texto: 2411 procesando texto: 2412 procesando texto: 2413 procesando texto: 2414 procesando texto: 2415 procesando texto: 2416 procesando texto: 2417 procesando texto: 2418 procesando texto: 2419 procesando texto: 2420 procesando texto: 2421 procesando texto: 2422 procesando texto: 2423 procesando texto: 2424 procesando texto: 2425 procesando texto: 2426 procesando texto: 2427 procesando texto: 2428 procesando texto: 2429 procesando texto: 2430 procesando texto: 2431 procesando texto: 2432 procesando texto: 2433 procesando texto: 2434 procesando texto: 2435 procesando texto: 2436 procesando texto: 2437 procesando texto: 2438 procesando texto: 2439 procesando texto: 2440 procesando texto: 2441 procesando texto: 2442 procesando texto: 2443 procesando texto: 2444 procesando texto: 2445 procesando texto: 2446 procesando texto: 2447 procesando texto: 2448 procesando texto: 2449 procesando texto: 2450 procesando texto: 2451 procesando texto: 2452 procesando texto: 2453 procesando texto: 2454 procesando texto: 2455 procesando texto: 2456 procesando texto: 2457 procesando texto: 2458 procesando texto: 2459 procesando texto: 2460 procesando texto: 2461 procesando texto: 2462 procesando texto: 2463 procesando texto: 2464 procesando texto: 2465 procesando texto: 2466 procesando texto: 2467 procesando texto: 2468 procesando texto: 2469 procesando texto: 2470 procesando texto: 2471 procesando texto: 2472 procesando texto: 2473 procesando texto: 2474 procesando texto: 2475 procesando texto: 2476 procesando texto: 2477 procesando texto: 2478 procesando texto: 2479 procesando texto: 2480 procesando texto: 2481 procesando texto: 2482 procesando texto: 2483 procesando texto: 2484 procesando texto: 2485 procesando texto: 2486 procesando texto: 2487 procesando texto: 2488 procesando texto: 2489 procesando texto: 2490 procesando texto: 2491 procesando texto: 2492 procesando texto: 2493 procesando texto: 2494 procesando texto: 2495 procesando texto: 2496 procesando texto: 2497 procesando texto: 2498 procesando texto: 2499 procesando texto: 2500 procesando texto: 2501 procesando texto: 2502 procesando texto: 2503 procesando texto: 2504 procesando texto: 2505 procesando texto: 2506 procesando texto: 2507 procesando texto: 2508 procesando texto: 2509 procesando texto: 2510 procesando texto: 2511 procesando texto: 2512 procesando texto: 2513 procesando texto: 2514 procesando texto: 2515 procesando texto: 2516 procesando texto: 2517 procesando texto: 2518 procesando texto: 2519 procesando texto: 2520 procesando texto: 2521 procesando texto: 2522 procesando texto: 2523 procesando texto: 2524 procesando texto: 2525 procesando texto: 2526 procesando texto: 2527 procesando texto: 2528 procesando texto: 2529 procesando texto: 2530 procesando texto: 2531 procesando texto: 2532 procesando texto: 2533 procesando texto: 2534 procesando texto: 2535 procesando texto: 2536 procesando texto: 2537 procesando texto: 2538 procesando texto: 2539 procesando texto: 2540 procesando texto: 2541 procesando texto: 2542 procesando texto: 2543 procesando texto: 2544 procesando texto: 2545 procesando texto: 2546 procesando texto: 2547 procesando texto: 2548 procesando texto: 2549 procesando texto: 2550 procesando texto: 2551 procesando texto: 2552 procesando texto: 2553 procesando texto: 2554 procesando texto: 2555 procesando texto: 2556 procesando texto: 2557 procesando texto: 2558 procesando texto: 2559 procesando texto: 2560 procesando texto: 2561 procesando texto: 2562 procesando texto: 2563 procesando texto: 2564 procesando texto: 2565 procesando texto: 2566 procesando texto: 2567 procesando texto: 2568 procesando texto: 2569 procesando texto: 2570 procesando texto: 2571 procesando texto: 2572 procesando texto: 2573 procesando texto: 2574 procesando texto: 2575 procesando texto: 2576 procesando texto: 2577 procesando texto: 2578 procesando texto: 2579 procesando texto: 2580 procesando texto: 2581 procesando texto: 2582 procesando texto: 2583 procesando texto: 2584 procesando texto: 2585 procesando texto: 2586 procesando texto: 2587 procesando texto: 2588 procesando texto: 2589 procesando texto: 2590 procesando texto: 2591 procesando texto: 2592 procesando texto: 2593 procesando texto: 2594 procesando texto: 2595 procesando texto: 2596 procesando texto: 2597 procesando texto: 2598 procesando texto: 2599 procesando texto: 2600 procesando texto: 2601 procesando texto: 2602 procesando texto: 2603 procesando texto: 2604 procesando texto: 2605 procesando texto: 2606 procesando texto: 2607 procesando texto: 2608 procesando texto: 2609 procesando texto: 2610 procesando texto: 2611 procesando texto: 2612 procesando texto: 2613 procesando texto: 2614 procesando texto: 2615 procesando texto: 2616 procesando texto: 2617 procesando texto: 2618 procesando texto: 2619 procesando texto: 2620 procesando texto: 2621 procesando texto: 2622 procesando texto: 2623 procesando texto: 2624 procesando texto: 2625 procesando texto: 2626 procesando texto: 2627 procesando texto: 2628 procesando texto: 2629 procesando texto: 2630 procesando texto: 2631 procesando texto: 2632 procesando texto: 2633 procesando texto: 2634 procesando texto: 2635 procesando texto: 2636 procesando texto: 2637 procesando texto: 2638 procesando texto: 2639 procesando texto: 2640 procesando texto: 2641 procesando texto: 2642 procesando texto: 2643 procesando texto: 2644 procesando texto: 2645 procesando texto: 2646 procesando texto: 2647 procesando texto: 2648 procesando texto: 2649 procesando texto: 2650 procesando texto: 2651 procesando texto: 2652 procesando texto: 2653 procesando texto: 2654 procesando texto: 2655 procesando texto: 2656 procesando texto: 2657 procesando texto: 2658 procesando texto: 2659 procesando texto: 2660 procesando texto: 2661 procesando texto: 2662 procesando texto: 2663 procesando texto: 2664 procesando texto: 2665 procesando texto: 2666 procesando texto: 2667 procesando texto: 2668 procesando texto: 2669 procesando texto: 2670 procesando texto: 2671 procesando texto: 2672 procesando texto: 2673 procesando texto: 2674 procesando texto: 2675 procesando texto: 2676 procesando texto: 2677 procesando texto: 2678 procesando texto: 2679 procesando texto: 2680 procesando texto: 2681 procesando texto: 2682 procesando texto: 2683 procesando texto: 2684 procesando texto: 2685 procesando texto: 2686 procesando texto: 2687 procesando texto: 2688 procesando texto: 2689 procesando texto: 2690 procesando texto: 2691 procesando texto: 2692 procesando texto: 2693 procesando texto: 2694 procesando texto: 2695 procesando texto: 2696 procesando texto: 2697 procesando texto: 2698 procesando texto: 2699 procesando texto: 2700 procesando texto: 2701 procesando texto: 2702 procesando texto: 2703 procesando texto: 2704 procesando texto: 2705 procesando texto: 2706 procesando texto: 2707 procesando texto: 2708 procesando texto: 2709 procesando texto: 2710 procesando texto: 2711 procesando texto: 2712 procesando texto: 2713 procesando texto: 2714 procesando texto: 2715 procesando texto: 2716 procesando texto: 2717 procesando texto: 2718 procesando texto: 2719 procesando texto: 2720 procesando texto: 2721 procesando texto: 2722 procesando texto: 2723 procesando texto: 2724 procesando texto: 2725 procesando texto: 2726 procesando texto: 2727 procesando texto: 2728 procesando texto: 2729 procesando texto: 2730 procesando texto: 2731 procesando texto: 2732 procesando texto: 2733 procesando texto: 2734 procesando texto: 2735 procesando texto: 2736 procesando texto: 2737 procesando texto: 2738 procesando texto: 2739 procesando texto: 2740 procesando texto: 2741 procesando texto: 2742 procesando texto: 2743 procesando texto: 2744 procesando texto: 2745 procesando texto: 2746 procesando texto: 2747 procesando texto: 2748 procesando texto: 2749 procesando texto: 2750 procesando texto: 2751 procesando texto: 2752 procesando texto: 2753 procesando texto: 2754 procesando texto: 2755 procesando texto: 2756 procesando texto: 2757 procesando texto: 2758 procesando texto: 2759 procesando texto: 2760 procesando texto: 2761 procesando texto: 2762 procesando texto: 2763 procesando texto: 2764 procesando texto: 2765 procesando texto: 2766 procesando texto: 2767 procesando texto: 2768 procesando texto: 2769 procesando texto: 2770 procesando texto: 2771 procesando texto: 2772 procesando texto: 2773 procesando texto: 2774 procesando texto: 2775 procesando texto: 2776 procesando texto: 2777 procesando texto: 2778 procesando texto: 2779 procesando texto: 2780 procesando texto: 2781 procesando texto: 2782 procesando texto: 2783 procesando texto: 2784 procesando texto: 2785 procesando texto: 2786 procesando texto: 2787 procesando texto: 2788 procesando texto: 2789 procesando texto: 2790 procesando texto: 2791 procesando texto: 2792 procesando texto: 2793 procesando texto: 2794 procesando texto: 2795 procesando texto: 2796 procesando texto: 2797 procesando texto: 2798 procesando texto: 2799 procesando texto: 2800 \n",
            "\n",
            "procesando texto: 2801 procesando texto: 2802 procesando texto: 2803 procesando texto: 2804 procesando texto: 2805 procesando texto: 2806 procesando texto: 2807 procesando texto: 2808 procesando texto: 2809 procesando texto: 2810 procesando texto: 2811 procesando texto: 2812 procesando texto: 2813 procesando texto: 2814 procesando texto: 2815 procesando texto: 2816 procesando texto: 2817 procesando texto: 2818 procesando texto: 2819 procesando texto: 2820 procesando texto: 2821 procesando texto: 2822 procesando texto: 2823 procesando texto: 2824 procesando texto: 2825 procesando texto: 2826 procesando texto: 2827 procesando texto: 2828 procesando texto: 2829 procesando texto: 2830 procesando texto: 2831 procesando texto: 2832 procesando texto: 2833 procesando texto: 2834 procesando texto: 2835 procesando texto: 2836 procesando texto: 2837 procesando texto: 2838 procesando texto: 2839 procesando texto: 2840 procesando texto: 2841 procesando texto: 2842 procesando texto: 2843 procesando texto: 2844 procesando texto: 2845 procesando texto: 2846 procesando texto: 2847 procesando texto: 2848 procesando texto: 2849 procesando texto: 2850 procesando texto: 2851 procesando texto: 2852 procesando texto: 2853 procesando texto: 2854 procesando texto: 2855 procesando texto: 2856 procesando texto: 2857 procesando texto: 2858 procesando texto: 2859 procesando texto: 2860 procesando texto: 2861 procesando texto: 2862 procesando texto: 2863 procesando texto: 2864 procesando texto: 2865 procesando texto: 2866 procesando texto: 2867 procesando texto: 2868 procesando texto: 2869 procesando texto: 2870 procesando texto: 2871 procesando texto: 2872 procesando texto: 2873 procesando texto: 2874 procesando texto: 2875 procesando texto: 2876 procesando texto: 2877 procesando texto: 2878 procesando texto: 2879 procesando texto: 2880 procesando texto: 2881 procesando texto: 2882 procesando texto: 2883 procesando texto: 2884 procesando texto: 2885 procesando texto: 2886 procesando texto: 2887 procesando texto: 2888 procesando texto: 2889 procesando texto: 2890 procesando texto: 2891 procesando texto: 2892 procesando texto: 2893 procesando texto: 2894 procesando texto: 2895 procesando texto: 2896 procesando texto: 2897 procesando texto: 2898 procesando texto: 2899 procesando texto: 2900 procesando texto: 2901 procesando texto: 2902 procesando texto: 2903 procesando texto: 2904 procesando texto: 2905 procesando texto: 2906 procesando texto: 2907 procesando texto: 2908 procesando texto: 2909 procesando texto: 2910 procesando texto: 2911 procesando texto: 2912 procesando texto: 2913 procesando texto: 2914 procesando texto: 2915 procesando texto: 2916 procesando texto: 2917 procesando texto: 2918 procesando texto: 2919 procesando texto: 2920 procesando texto: 2921 procesando texto: 2922 procesando texto: 2923 procesando texto: 2924 procesando texto: 2925 "
          ]
        },
        {
          "output_type": "stream",
          "name": "stderr",
          "text": [
            "IOPub data rate exceeded.\n",
            "The notebook server will temporarily stop sending output\n",
            "to the client in order to avoid crashing it.\n",
            "To change this limit, set the config variable\n",
            "`--NotebookApp.iopub_data_rate_limit`.\n",
            "\n",
            "Current values:\n",
            "NotebookApp.iopub_data_rate_limit=1000000.0 (bytes/sec)\n",
            "NotebookApp.rate_limit_window=3.0 (secs)\n",
            "\n"
          ]
        }
      ],
      "source": [
        "textosProcesados=[]\n",
        "numTexto=0\n",
        "for texto in textos:\n",
        "  print(\"procesando texto:\",numTexto,end=\" \")\n",
        "  if numTexto%400==0:\n",
        "    print(\"\\n\")\n",
        "  procesado=nlp(texto)\n",
        "  tokens=[]\n",
        "  for token in procesado:\n",
        "    if token.text.isalpha() and not token.is_stop: #Quitamos signos de puntuación y stop words\n",
        "      if token.text != \"M\" and token.text !=\"F\": #Quitamos etiqueta\n",
        "        tokens.append(token.lemma_.lower()) #Reducimos a la raiz cada palabra y la pasamos a minúscula\n",
        "      \n",
        "  numTexto=numTexto+1\n",
        "  textosProcesados.append(\" \".join(tokens))\n",
        "\n",
        "with open('textosProcesados.txt', 'w') as f:\n",
        "    for texto in textosProcesados:\n",
        "      f.write(str(texto))\n",
        "      f.write(\"\\n\")\n",
        "      f.write(\"-----------------------\")\n",
        "      f.write(\"\\n\")\n",
        "      f.write(\"-----------------------\")\n",
        "      f.write(\"\\n\")\n",
        "    f.close()\n",
        "\n",
        "print(textosProcesados)\n"
      ]
    },
    {
      "cell_type": "code",
      "source": [
        "print(len(textosProcesados))\n",
        "print(len(etiquetas))\n"
      ],
      "metadata": {
        "id": "ppQTtk0Km8cy",
        "colab": {
          "base_uri": "https://localhost:8080/"
        },
        "outputId": "1df46bb5-2389-4947-8a15-160cf8d00bcf"
      },
      "execution_count": null,
      "outputs": [
        {
          "output_type": "stream",
          "name": "stdout",
          "text": [
            "2934\n",
            "2934\n"
          ]
        }
      ]
    },
    {
      "cell_type": "code",
      "source": [
        "textos_prueba=[]\n",
        "for texto in mapa[\"Predic\"]:\n",
        "    procesado=nlp(texto)\n",
        "    tokens=[]\n",
        "    for token in procesado:\n",
        "      if token.text.isalpha() and not token.is_stop:\n",
        "          tokens.append(token.lemma_.lower())\n",
        "    textos_prueba.append(\" \".join(tokens))\n",
        "\n",
        "for texto in textos_prueba:\n",
        "  print(\"\\n\",texto)"
      ],
      "metadata": {
        "colab": {
          "base_uri": "https://localhost:8080/"
        },
        "id": "4Yc13PLCgktg",
        "outputId": "b8c9301c-30e4-4244-8f2f-fe06b71e7a50"
      },
      "execution_count": null,
      "outputs": [
        {
          "output_type": "stream",
          "name": "stdout",
          "text": [
            "\n",
            " tomorrow special envoy malaria united nations announce special social media envoy group use power social medium year raise awareness malaria control african country special envoy know figure social web broadcast medium include mashable pete cashmore join group pledge social action tweet facebook facebook post month year start world malaria day april year see malaria use twitter cause hope tweet post social action inspire motivate social medium audience support malaria control un goal provide endemic african country malaria control intervention end work aim near zero death malaria happy un enlist power social medium fight malaria disease kill million people year world malaria death occur sub saharan africa universal bed net coverage un choose prevention tool fight disease deliver million insecticidal mosquito net cover nearly million people\n",
            "\n",
            " presidential campaign joe biden democratic nominee vice president say patriotic people pay taxis interview abc good morning america pay taxis legally biden reasoning simplistic need jump time deal time help america rut accord cnbc jim cramer base legal precedence internal revenue service encourage people pay little tax possible long boundary seemingly endless tax code government clear series tax ruling income tax start learn law school actually patriotic right try pay little tax legally cramer say cnbc march street signs tax avoidance actually irs say listen tax avoidance tax evasion law tax avoidance irs say listen right try tax avoidance believe go advantage\n",
            "\n",
            " start take porter ent dr followup appointment monday have snotty nose cough go sleep worried tube come stop tube look good yea dr norris worried ongoing infection adenoid give augmentin nystatin ear drop augmentin bad gi tract porter handle antibiotic worried start have diarrhea night poor little booty raw painful skip dose night decide probably stay home daycare today eye well paste cake boudreaux butt paste working night have diarrhea day ahead making miserable day opposite great day porter go favorite park stay hour filthy leave run target thing porter fall asleep way home transfer bed take nap sleep hour eat cheeto hotdog late lunch set bedroom bathroom play work dance video play work try quick walk workout start rain run home porter mind squint smile stroller get shower bathroom porter love take shower hold water lay head shoulder let water run actually fall asleep shower time get jared get home soon pick pizza supper leave work know tired later worth get spend day little buddy potential bad day well picture day way park\n"
          ]
        }
      ]
    },
    {
      "cell_type": "code",
      "source": [
        "from sklearn.feature_extraction.text import TfidfVectorizer\n",
        "vectorizer = TfidfVectorizer()\n",
        "X = vectorizer.fit_transform(textosProcesados)"
      ],
      "metadata": {
        "id": "1QlKOLE8Xrjh"
      },
      "execution_count": null,
      "outputs": []
    },
    {
      "cell_type": "code",
      "source": [
        "modelo = svm.SVC()\n",
        "modelo.fit(X, etiquetas)"
      ],
      "metadata": {
        "colab": {
          "base_uri": "https://localhost:8080/",
          "height": 75
        },
        "id": "kid6qW1XX_oS",
        "outputId": "943023c2-8606-4216-d858-7ffee1112b23"
      },
      "execution_count": null,
      "outputs": [
        {
          "output_type": "execute_result",
          "data": {
            "text/plain": [
              "SVC()"
            ],
            "text/html": [
              "<style>#sk-container-id-14 {color: black;background-color: white;}#sk-container-id-14 pre{padding: 0;}#sk-container-id-14 div.sk-toggleable {background-color: white;}#sk-container-id-14 label.sk-toggleable__label {cursor: pointer;display: block;width: 100%;margin-bottom: 0;padding: 0.3em;box-sizing: border-box;text-align: center;}#sk-container-id-14 label.sk-toggleable__label-arrow:before {content: \"▸\";float: left;margin-right: 0.25em;color: #696969;}#sk-container-id-14 label.sk-toggleable__label-arrow:hover:before {color: black;}#sk-container-id-14 div.sk-estimator:hover label.sk-toggleable__label-arrow:before {color: black;}#sk-container-id-14 div.sk-toggleable__content {max-height: 0;max-width: 0;overflow: hidden;text-align: left;background-color: #f0f8ff;}#sk-container-id-14 div.sk-toggleable__content pre {margin: 0.2em;color: black;border-radius: 0.25em;background-color: #f0f8ff;}#sk-container-id-14 input.sk-toggleable__control:checked~div.sk-toggleable__content {max-height: 200px;max-width: 100%;overflow: auto;}#sk-container-id-14 input.sk-toggleable__control:checked~label.sk-toggleable__label-arrow:before {content: \"▾\";}#sk-container-id-14 div.sk-estimator input.sk-toggleable__control:checked~label.sk-toggleable__label {background-color: #d4ebff;}#sk-container-id-14 div.sk-label input.sk-toggleable__control:checked~label.sk-toggleable__label {background-color: #d4ebff;}#sk-container-id-14 input.sk-hidden--visually {border: 0;clip: rect(1px 1px 1px 1px);clip: rect(1px, 1px, 1px, 1px);height: 1px;margin: -1px;overflow: hidden;padding: 0;position: absolute;width: 1px;}#sk-container-id-14 div.sk-estimator {font-family: monospace;background-color: #f0f8ff;border: 1px dotted black;border-radius: 0.25em;box-sizing: border-box;margin-bottom: 0.5em;}#sk-container-id-14 div.sk-estimator:hover {background-color: #d4ebff;}#sk-container-id-14 div.sk-parallel-item::after {content: \"\";width: 100%;border-bottom: 1px solid gray;flex-grow: 1;}#sk-container-id-14 div.sk-label:hover label.sk-toggleable__label {background-color: #d4ebff;}#sk-container-id-14 div.sk-serial::before {content: \"\";position: absolute;border-left: 1px solid gray;box-sizing: border-box;top: 0;bottom: 0;left: 50%;z-index: 0;}#sk-container-id-14 div.sk-serial {display: flex;flex-direction: column;align-items: center;background-color: white;padding-right: 0.2em;padding-left: 0.2em;position: relative;}#sk-container-id-14 div.sk-item {position: relative;z-index: 1;}#sk-container-id-14 div.sk-parallel {display: flex;align-items: stretch;justify-content: center;background-color: white;position: relative;}#sk-container-id-14 div.sk-item::before, #sk-container-id-14 div.sk-parallel-item::before {content: \"\";position: absolute;border-left: 1px solid gray;box-sizing: border-box;top: 0;bottom: 0;left: 50%;z-index: -1;}#sk-container-id-14 div.sk-parallel-item {display: flex;flex-direction: column;z-index: 1;position: relative;background-color: white;}#sk-container-id-14 div.sk-parallel-item:first-child::after {align-self: flex-end;width: 50%;}#sk-container-id-14 div.sk-parallel-item:last-child::after {align-self: flex-start;width: 50%;}#sk-container-id-14 div.sk-parallel-item:only-child::after {width: 0;}#sk-container-id-14 div.sk-dashed-wrapped {border: 1px dashed gray;margin: 0 0.4em 0.5em 0.4em;box-sizing: border-box;padding-bottom: 0.4em;background-color: white;}#sk-container-id-14 div.sk-label label {font-family: monospace;font-weight: bold;display: inline-block;line-height: 1.2em;}#sk-container-id-14 div.sk-label-container {text-align: center;}#sk-container-id-14 div.sk-container {/* jupyter's `normalize.less` sets `[hidden] { display: none; }` but bootstrap.min.css set `[hidden] { display: none !important; }` so we also need the `!important` here to be able to override the default hidden behavior on the sphinx rendered scikit-learn.org. See: https://github.com/scikit-learn/scikit-learn/issues/21755 */display: inline-block !important;position: relative;}#sk-container-id-14 div.sk-text-repr-fallback {display: none;}</style><div id=\"sk-container-id-14\" class=\"sk-top-container\"><div class=\"sk-text-repr-fallback\"><pre>SVC()</pre><b>In a Jupyter environment, please rerun this cell to show the HTML representation or trust the notebook. <br />On GitHub, the HTML representation is unable to render, please try loading this page with nbviewer.org.</b></div><div class=\"sk-container\" hidden><div class=\"sk-item\"><div class=\"sk-estimator sk-toggleable\"><input class=\"sk-toggleable__control sk-hidden--visually\" id=\"sk-estimator-id-14\" type=\"checkbox\" checked><label for=\"sk-estimator-id-14\" class=\"sk-toggleable__label sk-toggleable__label-arrow\">SVC</label><div class=\"sk-toggleable__content\"><pre>SVC()</pre></div></div></div></div></div>"
            ]
          },
          "metadata": {},
          "execution_count": 133
        }
      ]
    },
    {
      "cell_type": "code",
      "source": [
        "for string in textos_prueba:\n",
        "    Y = vectorizer.transform([string])\n",
        "    prediction = modelo.predict(Y)\n",
        "    print(string,\"\\n\",prediction)"
      ],
      "metadata": {
        "colab": {
          "base_uri": "https://localhost:8080/"
        },
        "id": "2Dw6qdCgYV6o",
        "outputId": "5770964c-3679-41d8-f489-5b612ef3665a"
      },
      "execution_count": null,
      "outputs": [
        {
          "output_type": "stream",
          "name": "stdout",
          "text": [
            "tomorrow special envoy malaria united nations announce special social media envoy group use power social medium year raise awareness malaria control african country special envoy know figure social web broadcast medium include mashable pete cashmore join group pledge social action tweet facebook facebook post month year start world malaria day april year see malaria use twitter cause hope tweet post social action inspire motivate social medium audience support malaria control un goal provide endemic african country malaria control intervention end work aim near zero death malaria happy un enlist power social medium fight malaria disease kill million people year world malaria death occur sub saharan africa universal bed net coverage un choose prevention tool fight disease deliver million insecticidal mosquito net cover nearly million people \n",
            " ['M']\n",
            "presidential campaign joe biden democratic nominee vice president say patriotic people pay taxis interview abc good morning america pay taxis legally biden reasoning simplistic need jump time deal time help america rut accord cnbc jim cramer base legal precedence internal revenue service encourage people pay little tax possible long boundary seemingly endless tax code government clear series tax ruling income tax start learn law school actually patriotic right try pay little tax legally cramer say cnbc march street signs tax avoidance actually irs say listen tax avoidance tax evasion law tax avoidance irs say listen right try tax avoidance believe go advantage \n",
            " ['M']\n",
            "start take porter ent dr followup appointment monday have snotty nose cough go sleep worried tube come stop tube look good yea dr norris worried ongoing infection adenoid give augmentin nystatin ear drop augmentin bad gi tract porter handle antibiotic worried start have diarrhea night poor little booty raw painful skip dose night decide probably stay home daycare today eye well paste cake boudreaux butt paste working night have diarrhea day ahead making miserable day opposite great day porter go favorite park stay hour filthy leave run target thing porter fall asleep way home transfer bed take nap sleep hour eat cheeto hotdog late lunch set bedroom bathroom play work dance video play work try quick walk workout start rain run home porter mind squint smile stroller get shower bathroom porter love take shower hold water lay head shoulder let water run actually fall asleep shower time get jared get home soon pick pizza supper leave work know tired later worth get spend day little buddy potential bad day well picture day way park \n",
            " ['M']\n"
          ]
        }
      ]
    },
    {
      "cell_type": "markdown",
      "source": [
        "todos los textos devuelven la salida \"M\". Para comprobar que es correcto y que es posible obtener la salida F introduzco en el modelo un texto del corpus clasificado como F, en caso de que dé M, algo no estaría funcionando correctamente"
      ],
      "metadata": {
        "id": "Gsbn5gFgr8xY"
      }
    },
    {
      "cell_type": "code",
      "source": [
        "Y = vectorizer.transform([\"After college and getting settled in a new job I decided that it was time for a new chapter in life. So I moved into my very own place. Yes 23 and just moving out. I knew this would be a very difficult move because I had never even stayed overnight away from home but maybe 3 times. Boy was I right! So I called in for reinforcements. Jodi and Kristy to save the day. We all needed to get away for our own reasons so this was the perfect time. We would watch Tom Cruise movies and eat popcorn until we got sick. Painting the house was a damn good time considering that none of us was 100% sure of what was going on. Thank God  for family. Who knows what that place would have looked like. After the newest wore off and everybody got into something else, there I was all alone again. I still had family but I needed someone. So I had lost some weight and was feeling pretty good about myself so I called up Jodi and told her we needed to get together. She had been through a divorce recently so she was ready.\"])\n",
        "prediction = modelo.predict(Y)\n",
        "print(string,\"\\n\",prediction)"
      ],
      "metadata": {
        "colab": {
          "base_uri": "https://localhost:8080/"
        },
        "id": "T5pvWhLtsN0g",
        "outputId": "1d7cde77-cca1-41c6-dc0d-e7cf35493f61"
      },
      "execution_count": null,
      "outputs": [
        {
          "output_type": "stream",
          "name": "stdout",
          "text": [
            "start take porter ent dr followup appointment monday have snotty nose cough go sleep worried tube come stop tube look good yea dr norris worried ongoing infection adenoid give augmentin nystatin ear drop augmentin bad gi tract porter handle antibiotic worried start have diarrhea night poor little booty raw painful skip dose night decide probably stay home daycare today eye well paste cake boudreaux butt paste working night have diarrhea day ahead making miserable day opposite great day porter go favorite park stay hour filthy leave run target thing porter fall asleep way home transfer bed take nap sleep hour eat cheeto hotdog late lunch set bedroom bathroom play work dance video play work try quick walk workout start rain run home porter mind squint smile stroller get shower bathroom porter love take shower hold water lay head shoulder let water run actually fall asleep shower time get jared get home soon pick pizza supper leave work know tired later worth get spend day little buddy potential bad day well picture day way park \n",
            " ['F']\n"
          ]
        }
      ]
    },
    {
      "cell_type": "markdown",
      "source": [
        "Como vemos, devuelde F, por lo que parece funcionar correctamente\n"
      ],
      "metadata": {
        "id": "SZLRHDPFsPiA"
      }
    }
  ],
  "metadata": {
    "colab": {
      "provenance": []
    },
    "kernelspec": {
      "display_name": "Python 3",
      "name": "python3"
    }
  },
  "nbformat": 4,
  "nbformat_minor": 0
}