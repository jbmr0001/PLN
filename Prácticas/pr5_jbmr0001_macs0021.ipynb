{
  "nbformat": 4,
  "nbformat_minor": 0,
  "metadata": {
    "colab": {
      "provenance": []
    },
    "kernelspec": {
      "name": "python3",
      "display_name": "Python 3"
    }
  },
  "cells": [
    {
      "cell_type": "markdown",
      "metadata": {
        "id": "u01d30dm7Uyg"
      },
      "source": [
        "# **Procesamiento del Lenguaje Natural**\n",
        "## *Práctica 5 - Reconocimiento de entidades*"
      ]
    },
    {
      "cell_type": "markdown",
      "metadata": {
        "id": "ngEznx9s7Txv"
      },
      "source": [
        "## Objetivos\n",
        "\n",
        "*   Aprender a identificar y clasificar las entidades de un texto haciendo uso de la librería ***spaCy***.\n",
        "\n",
        "\n",
        "\n"
      ]
    },
    {
      "cell_type": "markdown",
      "metadata": {
        "id": "W50rPd_57eaD"
      },
      "source": [
        "## Reconocimiento de entidades\n",
        "\n",
        "El objetivo de un sistema de reconocimiento de entidades, también conocido como \"NER system\" (*Named Entity Recognition system*), es identificar y clasificar en categorías predefinidas (persona, organización, etc.) las entidades encontradas en un texto. El reconocimiento de entidades habitualmente se divide en dos subtareas: la detección de las entidades y la identificación del tipo de las entidades detectadas. \n",
        "\n",
        "Esta tarea, puede resultar de utilidad, entre otras cosas, para mejorar la precisión de los sistemas de Búsqueda de Respuestas, devolviendo al usuario el fragmento de texto que contiene una respuesta a su pregunta en lugar de devolver el texto completo, etc.\n",
        "\n",
        "Para esta práctica vamos a hacer uso de la librería [***spaCy***](https://spacy.io/usage/linguistic-features#named-entities) y su reconocedor de entidades automático utilizando como siempre un modelo pre-entrenado:\n"
      ]
    },
    {
      "cell_type": "code",
      "metadata": {
        "id": "q5-X4z69A49U",
        "colab": {
          "base_uri": "https://localhost:8080/"
        },
        "outputId": "ffdb166b-9f1f-4bdb-d5eb-b865d22efd5a"
      },
      "source": [
        "import spacy\n",
        "import en_core_web_sm\n",
        "\n",
        "nlp = en_core_web_sm.load()"
      ],
      "execution_count": null,
      "outputs": [
        {
          "output_type": "stream",
          "name": "stderr",
          "text": [
            "/usr/local/lib/python3.9/dist-packages/torch/cuda/__init__.py:497: UserWarning: Can't initialize NVML\n",
            "  warnings.warn(\"Can't initialize NVML\")\n"
          ]
        }
      ]
    },
    {
      "cell_type": "code",
      "metadata": {
        "id": "DRa9bkSPA_Cl"
      },
      "source": [
        "sentence = 'European authorities fined Google a record $5.1 billion on Wednesday for abusing its power in the mobile phone market and ordered the company to alter its practices.'"
      ],
      "execution_count": null,
      "outputs": []
    },
    {
      "cell_type": "code",
      "metadata": {
        "id": "cOhTQxK9BDuZ"
      },
      "source": [
        "doc = nlp(sentence)"
      ],
      "execution_count": null,
      "outputs": []
    },
    {
      "cell_type": "markdown",
      "metadata": {
        "id": "Hl9hQ2L_DQzc"
      },
      "source": [
        "Podemos ver el tipo de cada entidad recorriendo el *doc*:"
      ]
    },
    {
      "cell_type": "code",
      "metadata": {
        "id": "CHW6fxZMCrhR",
        "colab": {
          "base_uri": "https://localhost:8080/"
        },
        "outputId": "5a31eaef-9b04-4476-dc57-06c274579f3d"
      },
      "source": [
        "for word in doc:\n",
        "    print(word.text, word.ent_type_)"
      ],
      "execution_count": null,
      "outputs": [
        {
          "output_type": "stream",
          "name": "stdout",
          "text": [
            "European NORP\n",
            "authorities \n",
            "fined \n",
            "Google ORG\n",
            "a \n",
            "record \n",
            "$ MONEY\n",
            "5.1 MONEY\n",
            "billion MONEY\n",
            "on \n",
            "Wednesday DATE\n",
            "for \n",
            "abusing \n",
            "its \n",
            "power \n",
            "in \n",
            "the \n",
            "mobile \n",
            "phone \n",
            "market \n",
            "and \n",
            "ordered \n",
            "the \n",
            "company \n",
            "to \n",
            "alter \n",
            "its \n",
            "practices \n",
            ". \n"
          ]
        }
      ]
    },
    {
      "cell_type": "markdown",
      "metadata": {
        "id": "4AheBySnCLA3"
      },
      "source": [
        "Como podemos apreciar, la entidad *European* es de tipo **NORD** (nacionalidades o grupos religiosos o políticos), *Google* es una organización (**ORG**), *5.100 millones de dólares* es el valor monetario (**MONEY**) y el *miércoles* es un objeto de fecha (**DATE**)."
      ]
    },
    {
      "cell_type": "markdown",
      "metadata": {
        "id": "wG2mHemaDpbZ"
      },
      "source": [
        "Pero parece que no queda muy claro al tokenizar la sentencia puesto que una entidad puede estar compuesta por varias palabras ($5.1 billion). \n",
        "\n",
        "En el reconocimiento de entidades existe un esquema de etiquetado a nivel de palabra llamado BIO-tagging (Begin-Inside-Outside). Entonces, \"B\" significa que el token comienza una entidad, \"I\" significa que está dentro de una entidad, y \"O\" significa que está fuera de una entidad. Veamos un ejemplo:"
      ]
    },
    {
      "cell_type": "code",
      "metadata": {
        "id": "BJ464ah0EHCK",
        "colab": {
          "base_uri": "https://localhost:8080/"
        },
        "outputId": "1bd2baf4-9c94-45e7-c669-24c44e052c0f"
      },
      "source": [
        "for word in doc:\n",
        "    print(word.text, word.ent_iob_, word.ent_type_)"
      ],
      "execution_count": null,
      "outputs": [
        {
          "output_type": "stream",
          "name": "stdout",
          "text": [
            "European B NORP\n",
            "authorities O \n",
            "fined O \n",
            "Google B ORG\n",
            "a O \n",
            "record O \n",
            "$ B MONEY\n",
            "5.1 I MONEY\n",
            "billion I MONEY\n",
            "on O \n",
            "Wednesday B DATE\n",
            "for O \n",
            "abusing O \n",
            "its O \n",
            "power O \n",
            "in O \n",
            "the O \n",
            "mobile O \n",
            "phone O \n",
            "market O \n",
            "and O \n",
            "ordered O \n",
            "the O \n",
            "company O \n",
            "to O \n",
            "alter O \n",
            "its O \n",
            "practices O \n",
            ". O \n"
          ]
        }
      ]
    },
    {
      "cell_type": "markdown",
      "metadata": {
        "id": "Fd32avfQEXb6"
      },
      "source": [
        "Para visualizar solamente las entidades y además ver las entidades compuestas por varias palabras, podemos utilizar el atributo **ents** del doc:"
      ]
    },
    {
      "cell_type": "code",
      "metadata": {
        "id": "rS1msDm8Bifl",
        "colab": {
          "base_uri": "https://localhost:8080/"
        },
        "outputId": "cf1de5dc-8dd5-4a43-b7df-c6e38df4dcab"
      },
      "source": [
        "for ent in doc.ents:\n",
        "    print(ent.text, ent.label_)"
      ],
      "execution_count": null,
      "outputs": [
        {
          "output_type": "stream",
          "name": "stdout",
          "text": [
            "European NORP\n",
            "Google ORG\n",
            "$5.1 billion MONEY\n",
            "Wednesday DATE\n"
          ]
        }
      ]
    },
    {
      "cell_type": "markdown",
      "metadata": {
        "id": "iEMpQj2SCijN"
      },
      "source": [
        "También, podemos ver a través del display las entidades de forma visual:"
      ]
    },
    {
      "cell_type": "code",
      "metadata": {
        "id": "Ebz07f6jBDvx"
      },
      "source": [
        "from spacy import displacy"
      ],
      "execution_count": null,
      "outputs": []
    },
    {
      "cell_type": "code",
      "metadata": {
        "id": "VzKTFgaGEnrr",
        "colab": {
          "base_uri": "https://localhost:8080/",
          "height": 52
        },
        "outputId": "8f51f4fd-82dd-4de3-9653-033d0977b123"
      },
      "source": [
        "displacy.render(doc, jupyter=True, style='ent')"
      ],
      "execution_count": null,
      "outputs": [
        {
          "output_type": "display_data",
          "data": {
            "text/plain": [
              "<IPython.core.display.HTML object>"
            ],
            "text/html": [
              "<span class=\"tex2jax_ignore\"><div class=\"entities\" style=\"line-height: 2.5; direction: ltr\">\n",
              "<mark class=\"entity\" style=\"background: #c887fb; padding: 0.45em 0.6em; margin: 0 0.25em; line-height: 1; border-radius: 0.35em;\">\n",
              "    European\n",
              "    <span style=\"font-size: 0.8em; font-weight: bold; line-height: 1; border-radius: 0.35em; vertical-align: middle; margin-left: 0.5rem\">NORP</span>\n",
              "</mark>\n",
              " authorities fined \n",
              "<mark class=\"entity\" style=\"background: #7aecec; padding: 0.45em 0.6em; margin: 0 0.25em; line-height: 1; border-radius: 0.35em;\">\n",
              "    Google\n",
              "    <span style=\"font-size: 0.8em; font-weight: bold; line-height: 1; border-radius: 0.35em; vertical-align: middle; margin-left: 0.5rem\">ORG</span>\n",
              "</mark>\n",
              " a record \n",
              "<mark class=\"entity\" style=\"background: #e4e7d2; padding: 0.45em 0.6em; margin: 0 0.25em; line-height: 1; border-radius: 0.35em;\">\n",
              "    $5.1 billion\n",
              "    <span style=\"font-size: 0.8em; font-weight: bold; line-height: 1; border-radius: 0.35em; vertical-align: middle; margin-left: 0.5rem\">MONEY</span>\n",
              "</mark>\n",
              " on \n",
              "<mark class=\"entity\" style=\"background: #bfe1d9; padding: 0.45em 0.6em; margin: 0 0.25em; line-height: 1; border-radius: 0.35em;\">\n",
              "    Wednesday\n",
              "    <span style=\"font-size: 0.8em; font-weight: bold; line-height: 1; border-radius: 0.35em; vertical-align: middle; margin-left: 0.5rem\">DATE</span>\n",
              "</mark>\n",
              " for abusing its power in the mobile phone market and ordered the company to alter its practices.</div></span>"
            ]
          },
          "metadata": {}
        }
      ]
    },
    {
      "cell_type": "markdown",
      "metadata": {
        "id": "g-LPBsb7HVHz"
      },
      "source": [
        "Según el modelo utilizado, existen distintas categorías de entidad, por ejemplo, usando el modelo \"*en_core_web_sm*\", las entidades existentes son:\n",
        "\n",
        "\n",
        "*   PERSON People, including fictional. \n",
        "*   NORP Nationalities or religious or political groups.\n",
        "*   FAC Buildings, airports, highways, bridges, etc.\n",
        "*   ORG Companies, agencies, institutions, etc.\n",
        "*   GPE  Geopolitical entities including countries, cities, states.\n",
        "*   LOC Non-GPE locations, mountain ranges, bodies of water.\n",
        "*   PRODUCT Objects, vehicles, foods, etc. (Not services.)\n",
        "*   EVENT Named hurricanes, battles, wars, sports events, etc.\n",
        "*   WORK_OF_ART Titles of books, songs, etc.\n",
        "*   LAW Named documents made into laws.\n",
        "*   LANGUAGE Any named language.\n",
        "*   DATE Absolute or relative dates or periods.\n",
        "*   TIME Times smaller than a day.\n",
        "*   etc...\n"
      ]
    },
    {
      "cell_type": "markdown",
      "metadata": {
        "id": "IMKBCaDi30Tz"
      },
      "source": [
        "## Ejercicios\n",
        "\n",
        "El resultado de esta práctica deberá entregarse en PLATEA y tiene como límite de entrega las **23:59 horas del día 2 de abril de 2023**. Se entregará este mismo notebook de extensión *.ipynb* y se renombrará de la siguiente forma: pr5_usuario1_usuario2.ipynb. Sustituye \"usuario1\" y \"usuario2\" por el alias de vuestro correo.\n",
        "\n",
        "\n",
        "Descargar el archivo \"nyt.txt\" que se encuentra disponibles en PLATEA (carpeta Material complementario) y llevar a cabo las siguientes tareas:"
      ]
    },
    {
      "cell_type": "markdown",
      "source": [
        "**Autores de la práctica:** Juan Bautista Muñoz Ruiz jbmr0001@red.ujaen.es Marco Antonio Carrión Soriano macs0021@red.ujaen.es\n"
      ],
      "metadata": {
        "id": "eMSgKhHv--dy"
      }
    },
    {
      "cell_type": "markdown",
      "metadata": {
        "id": "l8SxN0j04SAg"
      },
      "source": [
        "### Ejercicio 1\n",
        "\n",
        "Extraer para cada categoría las entidades presentes en el texto y su frecuencia de aparición (teniendo en cuenta las multi-palabras), y responder a las siguientes preguntas:\n",
        "- A partir de las entidades extraídas, indicar de forma resumida sobre qué parece que trata la noticia.\n",
        "- ¿Cuáles son las dos personas de las que más se habla en la noticia?\n",
        "- ¿Cuáles son las tres entidades geopolíticas más referenciadas?"
      ]
    },
    {
      "cell_type": "code",
      "source": [
        "from google.colab import drive  #Montamos el drive\n",
        "drive.mount('/content/drive')"
      ],
      "metadata": {
        "colab": {
          "base_uri": "https://localhost:8080/"
        },
        "id": "E_5jz6Dq_kky",
        "outputId": "135c4be2-fcd9-4583-ce4e-f6bd687348c7"
      },
      "execution_count": null,
      "outputs": [
        {
          "output_type": "stream",
          "name": "stdout",
          "text": [
            "Mounted at /content/drive\n"
          ]
        }
      ]
    },
    {
      "cell_type": "code",
      "source": [
        "import os #Abrimos la carpeta\n",
        "path = os.chdir(\"/content/drive/MyDrive/PLN/P5\")\n",
        "os.getcwd()"
      ],
      "metadata": {
        "colab": {
          "base_uri": "https://localhost:8080/",
          "height": 36
        },
        "id": "qZg96uFn_sbK",
        "outputId": "d9c429c2-9800-46f5-9bf5-10481ad791d8"
      },
      "execution_count": null,
      "outputs": [
        {
          "output_type": "execute_result",
          "data": {
            "text/plain": [
              "'/content/drive/MyDrive/PLN/P5'"
            ],
            "application/vnd.google.colaboratory.intrinsic+json": {
              "type": "string"
            }
          },
          "metadata": {},
          "execution_count": 10
        }
      ]
    },
    {
      "cell_type": "code",
      "source": [
        "# Calculamos el encoding del archivo con libería chardet\n",
        "import chardet\n",
        "\n",
        "with open('nyt.txt', 'rb') as f:\n",
        "    resultado = chardet.detect(f.read())\n",
        "\n",
        "print(resultado['encoding'])"
      ],
      "metadata": {
        "colab": {
          "base_uri": "https://localhost:8080/"
        },
        "id": "zrDOBplpB-dR",
        "outputId": "6060f782-4315-4b16-dc5b-a29e7c120c7d"
      },
      "execution_count": null,
      "outputs": [
        {
          "output_type": "stream",
          "name": "stdout",
          "text": [
            "Windows-1252\n"
          ]
        }
      ]
    },
    {
      "cell_type": "code",
      "source": [
        "import glob   #Lectura y procesado de los archivos\n",
        "archivosProcesados=[]\n",
        "nombresArchivos=[]\n",
        "for filename in glob.glob('*.txt'):  #Lectura de todos los archivos de la carpeta con la libreria glob\n",
        "   with open(os.path.join(os.getcwd(), filename), 'r') as f:\n",
        "     nombresArchivos.append(filename)\n",
        "     fichero = open(f.name,encoding='Windows-1252')\n",
        "     archivosProcesados.append(fichero.read());\n",
        "j=0\n",
        "print('Archivos leídos:')\n",
        "for i in archivosProcesados: #Mostramos el nombre del archivo y el contenido leído\n",
        "  print(nombresArchivos[j])\n",
        "  #print(i)\n",
        "  j=j+1"
      ],
      "metadata": {
        "colab": {
          "base_uri": "https://localhost:8080/"
        },
        "id": "C0Re2Pcc_wWE",
        "outputId": "bababdf4-1d8e-4b87-fa97-4d8005126382"
      },
      "execution_count": null,
      "outputs": [
        {
          "output_type": "stream",
          "name": "stdout",
          "text": [
            "Archivos leídos:\n",
            "nyt.txt\n"
          ]
        }
      ]
    },
    {
      "cell_type": "code",
      "source": [
        "import spacy\n",
        "import en_core_web_sm\n",
        "\n",
        "nlp = en_core_web_sm.load()"
      ],
      "metadata": {
        "id": "cy18ErVO_2Md"
      },
      "execution_count": null,
      "outputs": []
    },
    {
      "cell_type": "code",
      "source": [
        "doc = nlp(archivosProcesados[0])"
      ],
      "metadata": {
        "id": "fj9FPM13ACq2"
      },
      "execution_count": null,
      "outputs": []
    },
    {
      "cell_type": "code",
      "source": [
        "map = {}  # Mapa para almacenar el número de veces que aparece cada entidad\n",
        "mapCategorias = {} # Mapa almacenar el anterior map por categorías\n",
        "for ent in doc.ents:  # Calculamos número de repeticiones\n",
        "  if ent.text.lower() not  in map: # Si no existe el elemento en el map lo creamos a 1 repeticiones\n",
        "    map[ent.text.lower()]=[ent.label_,1]\n",
        "  else: # Si exite el elemento en el map, incrementamos repeticiones\n",
        "    map[ent.text.lower()][1]=map[ent.text.lower()][1]+1\n",
        "\n",
        "for elemento in map: # Insertamos cada elemento del map en su correspondiente categoría\n",
        "  #print(ele,map[ele][0],map[ele][1])\n",
        "  if map[elemento][0] not in mapCategorias: # Si no existe la categoría del elemento\n",
        "    #print(map[elemento][0],elemento)\n",
        "    mapAux={} # Mapa auxiliar con el numRepeticiones por cada elemento\n",
        "    mapAux[elemento]=[map[elemento][1]]\n",
        "    etiqueta=map[elemento][0] # Extraemos etiqueta del elemento\n",
        "    mapCategorias[etiqueta]= mapAux # Insertamos en el mapaCategorías\n",
        "  else:\n",
        "    etiqueta=map[elemento][0] # Extraemos etiqueta del elemento\n",
        "    #print(map[elemento][0],elemento)\n",
        "    mapCategorias[etiqueta][elemento]=[map[elemento][1]] # Insertamos en el mapaCategorías\n",
        "\n",
        "for etique in mapCategorias:\n",
        "  listaOrdenada=list(mapCategorias[etique].items())\n",
        "  listaOrdenada.sort(key=lambda elemento: elemento[1], reverse=True) # Función sort, ordenamos según número de repeticiones\n",
        "  print(listaOrdenada)\n",
        " "
      ],
      "metadata": {
        "colab": {
          "base_uri": "https://localhost:8080/"
        },
        "id": "KiyjzH6kF50h",
        "outputId": "827453a9-94a4-417f-ba25-bef2c68501b8"
      },
      "execution_count": null,
      "outputs": [
        {
          "output_type": "stream",
          "name": "stdout",
          "text": [
            "[('egypt', [15]), ('cairo', [6]), ('the united states', [4]), ('washington', [3]), ('u.s.', [2]), ('america', [1]), ('russia', [1]), ('rome', [1]), ('mexico', [1]), ('china', [1]), ('turkey', [1]), ('united states', [1]), ('sinai', [1])]\n",
            "[('monday', [3]), ('last year', [3]), ('the century', [2]), ('nearly four years ago', [1]), ('2009', [1]), ('the waning years', [1]), ('2011', [1]), ('two years later', [1]), ('september', [1]), ('december', [1]), ('five years', [1]), ('january 2015', [1]), ('recent months', [1]), ('2015', [1])]\n",
            "[('trump', [23]), ('sisi', [22]), ('abdel fattah', [1]), ('el-sisi', [1]), ('barack obama', [1]), ('eric trager', [1]), ('hosni mubarak', [1]), ('mubarak', [1]), ('morsi', [1]), ('vladimir v. putin', [1]), ('giulio regeni', [1]), ('alessandra ballerini', [1]), ('aya hijazi', [1]), ('hijazi', [1]), ('wade mcmullen', [1]), ('amy hawthorne', [1]), ('hawthorne', [1])]\n",
            "[('the white house', [3]), ('the washington institute for near east policy', [1]), ('sisi’s', [1]), ('the muslim brotherhood’s', [1]), ('mohamed morsi', [1]), ('the united nations general assembly', [1]), ('fox business network', [1]), ('the financial times', [1]), ('the suez canal for  ', [1]), ('parliament', [1]), ('white house', [1]), ('muslim brotherhood', [1]), ('robert f. kennedy human rights', [1]), ('the muslim brotherhood', [1])]\n",
            "[('the oval office', [2])]\n",
            "[('one', [3]), ('two', [2]), ('hundreds', [1]), ('17', [1]), ('dozens', [1])]\n",
            "[('american', [7]), ('egyptians', [5]), ('egyptian', [3]), ('islam', [3]), ('jihadist', [2]), ('trumpian', [1]), ('israelis', [1]), ('palestinians', [1]), ('italian', [1]), ('republican', [1]), ('western', [1]), ('islamic', [1]), ('islamism', [1])]\n",
            "[('the six minutes', [1])]\n",
            "[('first', [2]), ('fifth', [1])]\n",
            "[('97 percent', [1])]\n",
            "[('middle eastern', [1]), ('the middle east', [1]), ('middle east', [1]), ('obama', [1]), ('middle east democracy', [1])]\n",
            "[('arabic', [1])]\n",
            "[('$1.3 billion', [1])]\n"
          ]
        }
      ]
    },
    {
      "cell_type": "markdown",
      "source": [
        "- A partir de las entidades extraídas, indicar de forma resumida sobre qué parece que trata la noticia.\n",
        "  - De una reunión de Donald Trump con Al Sisi en La Casa Blanca"
      ],
      "metadata": {
        "id": "eKCrwoPAUexd"
      }
    },
    {
      "cell_type": "markdown",
      "source": [
        "- ¿Cuáles son las dos personas de las que más se habla en la noticia?\n",
        "  - Trump y Sisi"
      ],
      "metadata": {
        "id": "zuu4508gKgDm"
      }
    },
    {
      "cell_type": "code",
      "source": [
        "listaOrdenada=list(mapCategorias['PERSON'].items())\n",
        "listaOrdenada.sort(key=lambda elemento: elemento[1], reverse=True)\n",
        "print(listaOrdenada)\n",
        "print(\"Dos personas más repetidas: \",listaOrdenada[:2])"
      ],
      "metadata": {
        "colab": {
          "base_uri": "https://localhost:8080/"
        },
        "id": "IuUZjlp9Or5q",
        "outputId": "eae7dfa4-b117-4649-9d1e-22bcedc9ba94"
      },
      "execution_count": null,
      "outputs": [
        {
          "output_type": "stream",
          "name": "stdout",
          "text": [
            "[('trump', [23]), ('sisi', [22]), ('abdel fattah', [1]), ('el-sisi', [1]), ('barack obama', [1]), ('eric trager', [1]), ('hosni mubarak', [1]), ('mubarak', [1]), ('morsi', [1]), ('vladimir v. putin', [1]), ('giulio regeni', [1]), ('alessandra ballerini', [1]), ('aya hijazi', [1]), ('hijazi', [1]), ('wade mcmullen', [1]), ('amy hawthorne', [1]), ('hawthorne', [1])]\n",
            "Dos personas más repetidas:  [('trump', [23]), ('sisi', [22])]\n"
          ]
        }
      ]
    },
    {
      "cell_type": "markdown",
      "source": [
        "- ¿Cuáles son las tres entidades geopolíticas más referenciadas?\n",
        "  - Egypt, Cairo y The United States\n"
      ],
      "metadata": {
        "id": "MyExpY1OP25J"
      }
    },
    {
      "cell_type": "code",
      "source": [
        "listaOrdenada=list(mapCategorias['GPE'].items())\n",
        "listaOrdenada.sort(key=lambda elemento: elemento[1], reverse=True)\n",
        "print(listaOrdenada)\n",
        "print(\"Tres GPE más repetidas: \",listaOrdenada[:3])"
      ],
      "metadata": {
        "colab": {
          "base_uri": "https://localhost:8080/"
        },
        "id": "mHXESI3hP2oZ",
        "outputId": "a7c54acb-5cd9-470d-dbf2-02203d68ddfb"
      },
      "execution_count": null,
      "outputs": [
        {
          "output_type": "stream",
          "name": "stdout",
          "text": [
            "[('egypt', [15]), ('cairo', [6]), ('the united states', [4]), ('washington', [3]), ('u.s.', [2]), ('america', [1]), ('russia', [1]), ('rome', [1]), ('mexico', [1]), ('china', [1]), ('turkey', [1]), ('united states', [1]), ('sinai', [1])]\n",
            "Tres GPE más repetidas:  [('egypt', [15]), ('cairo', [6]), ('the united states', [4])]\n"
          ]
        }
      ]
    },
    {
      "cell_type": "markdown",
      "metadata": {
        "id": "Y1lzKcN14eIk"
      },
      "source": [
        "### Ejercicio 2\n",
        "\n",
        "Teniendo en cuenta el sistema de etiquetado BIO, indicar cuantas entidades de tipo PERSONA aparecen solamente con una palabra."
      ]
    },
    {
      "cell_type": "code",
      "source": [
        "import spacy\n",
        "import en_core_web_sm\n",
        "\n",
        "nlp = en_core_web_sm.load()"
      ],
      "metadata": {
        "id": "7ouV6jtekvPN"
      },
      "execution_count": null,
      "outputs": []
    },
    {
      "cell_type": "code",
      "source": [
        "doc = nlp(archivosProcesados[0])"
      ],
      "metadata": {
        "id": "85SZ0Ga-loGr"
      },
      "execution_count": null,
      "outputs": []
    },
    {
      "cell_type": "code",
      "source": [
        "personas_una_palabra = []\n",
        "for ent in doc.ents:\n",
        "    if ent.label_ == \"PERSON\" and len(ent.text.split()) == 1:\n",
        "      personas_una_palabra.append(ent.text);"
      ],
      "metadata": {
        "id": "GFAfgIQElwMd"
      },
      "execution_count": null,
      "outputs": []
    },
    {
      "cell_type": "code",
      "source": [
        "print(\"PERSONA de una sola palabra: \", list(set(personas_una_palabra)))\n",
        "print(\"Cantidad: \", len(list(set(personas_una_palabra))))"
      ],
      "metadata": {
        "colab": {
          "base_uri": "https://localhost:8080/"
        },
        "id": "D8aGYVVCl0Gc",
        "outputId": "bb60b1a7-5334-4277-8d04-b7c6581dd03b"
      },
      "execution_count": null,
      "outputs": [
        {
          "output_type": "stream",
          "name": "stdout",
          "text": [
            "PERSONA de una sola palabra:  ['Hijazi', 'Morsi', 'Mubarak', 'Trump', 'el-Sisi', 'Hawthorne', 'Sisi']\n",
            "Cantidad:  7\n"
          ]
        }
      ]
    }
  ]
}