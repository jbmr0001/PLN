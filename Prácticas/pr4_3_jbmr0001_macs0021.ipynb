{
  "nbformat": 4,
  "nbformat_minor": 0,
  "metadata": {
    "colab": {
      "provenance": [],
      "collapsed_sections": [
        "ngEznx9s7Txv",
        "0U5ac5ZSoYMF",
        "sKSAn222pxFM"
      ]
    },
    "kernelspec": {
      "name": "python3",
      "display_name": "Python 3"
    }
  },
  "cells": [
    {
      "cell_type": "markdown",
      "metadata": {
        "id": "u01d30dm7Uyg"
      },
      "source": [
        "# **Procesamiento del Lenguaje Natural**\n",
        "## *Práctica 4.3 - Análisis semántico*"
      ]
    },
    {
      "cell_type": "markdown",
      "metadata": {
        "id": "ngEznx9s7Txv"
      },
      "source": [
        "## Objetivos\n",
        "\n",
        "*   Realizar el análisis semántico de un texto.\n",
        "\n",
        "\n",
        "\n"
      ]
    },
    {
      "cell_type": "markdown",
      "metadata": {
        "id": "W50rPd_57eaD"
      },
      "source": [
        "## Análisis semántico\n",
        "\n",
        "El análisis semántico consiste en determinar el significado de las palabras de un texto. En esta sesión vamos a ver cómo determinar el significado de las distintas palabras de un texto en función de su categoría gramatical y cómo obtener sinónimos y antónimos, lo cual puede ser de gran utilidad a la hora de facilitar la comprensión de un texto. \n",
        "\n",
        "**WordNet** es una base de datos léxica que contiene nombres, adjetivos, verbos y adverbios agrupados en conjuntos de sinónimos llamados synsets, proporcionando definiciones cortas y generales y almacenando las relaciones semánticas entre los conjuntos de sinónimos. Es la base de datos léxica más utilizada para desambiguar el significado de las palabras en inglés (word sense disambiguation - WSD), una tarea que tiene como objetivo asignar el concepto más apropiado a los términos según el contexto en el que aparezcan.\n",
        "\n",
        "NLTK proporciona una interfaz para poder usar WordNet\n",
        "(http://www.nltk.org/api/nltk.corpus.reader.html#module-nltk.corpus.reader.wordnet). A continuación, vamos a ver algunos ejemplos para comprender el potencial de esta base de datos léxica.\n"
      ]
    },
    {
      "cell_type": "markdown",
      "metadata": {
        "id": "0U5ac5ZSoYMF"
      },
      "source": [
        "### Significado de un término\n",
        "\n",
        "Dado un término, WordNet permite conocer los distintos significados que puede tener esa palabra, así como algunos ejemplos de oraciones en los que se puede utilizar. \n",
        "\n",
        "La función `synsets(lemma, pos=None, lang='eng')`, devuelve todos los synsets (conjuntos de sinónimos) del lema especificado que pertenezcan a la categoría (POS tag) señalada. Si no se especifica ninguna categoría gramatical, devuelve todos los synsets asociados al lema.\n",
        "\n",
        "\n"
      ]
    },
    {
      "cell_type": "code",
      "metadata": {
        "id": "VblTPOM5pNtM",
        "colab": {
          "base_uri": "https://localhost:8080/"
        },
        "outputId": "970ce7a5-ab1c-420c-c414-9eb6ed28a216"
      },
      "source": [
        "import nltk\n",
        "nltk.download('wordnet')"
      ],
      "execution_count": 1,
      "outputs": [
        {
          "output_type": "stream",
          "name": "stderr",
          "text": [
            "[nltk_data] Downloading package wordnet to /root/nltk_data...\n"
          ]
        },
        {
          "output_type": "execute_result",
          "data": {
            "text/plain": [
              "True"
            ]
          },
          "metadata": {},
          "execution_count": 1
        }
      ]
    },
    {
      "cell_type": "code",
      "metadata": {
        "id": "-TB886rSVQYc"
      },
      "source": [
        "from nltk.corpus import wordnet as wn"
      ],
      "execution_count": 2,
      "outputs": []
    },
    {
      "cell_type": "code",
      "metadata": {
        "id": "QAEYFoWBVQZ3",
        "colab": {
          "base_uri": "https://localhost:8080/"
        },
        "outputId": "115417d9-8724-4b7a-f177-c51fe5b3ae1d"
      },
      "source": [
        "for syn in wn.synsets(\"car\"):\n",
        "  print(syn, syn.definition())"
      ],
      "execution_count": 3,
      "outputs": [
        {
          "output_type": "stream",
          "name": "stdout",
          "text": [
            "Synset('car.n.01') a motor vehicle with four wheels; usually propelled by an internal combustion engine\n",
            "Synset('car.n.02') a wheeled vehicle adapted to the rails of railroad\n",
            "Synset('car.n.03') the compartment that is suspended from an airship and that carries personnel and the cargo and the power plant\n",
            "Synset('car.n.04') where passengers ride up and down\n",
            "Synset('cable_car.n.01') a conveyance for passengers or freight on a cable railway\n"
          ]
        }
      ]
    },
    {
      "cell_type": "markdown",
      "metadata": {
        "id": "1grNZuRspVxR"
      },
      "source": [
        "En el ejemplo anterior podemos ver que el término coche (\"car\") actúa siempre como un nombre (\"n\") y puede tener 5 significados distintos (\"car.n.01\", \"car.n.02\", \"car.n.03\", \"car.n.04\" y \"cable_car.n.01\"). \n",
        "\n",
        "\n",
        "\n",
        "Listado de POS tag usado en WordNet:\n",
        "```\n",
        "ADJ, ADJ_SAT, ADV, NOUN, VERB = \"a\", \"s\", \"r\", \"n\", \"v\"\n",
        "```\n",
        "\n",
        "Los adjetivos se organizan en grupos que contienen synsets de cabecera (a) y synsets de satélite (s):  \n",
        "\n",
        "*   ADJ: adjetivos tienen un significado mínimo, por ejemplo, \"seco\", \"bueno\", etc.\n",
        "*   ADJ_SAT: adjetivo que impone compromisos adicionales además del significado del adjetivo central, por ejemplo, \"árido\" = \"seco\" + un contexto particular (podría significar lugar o clima).\n",
        "\n",
        "\n",
        "Para obtener un ejemplo de una oración en la que este término se utiliza para referirse a un vehículo a motor de cuatro ruedas (\"car.n.01\") realizamos una llamada a la función `examples()` del synset:"
      ]
    },
    {
      "cell_type": "code",
      "metadata": {
        "id": "ve1cTf0TpqpM",
        "colab": {
          "base_uri": "https://localhost:8080/"
        },
        "outputId": "836046ac-5006-4832-a034-fb07782093de"
      },
      "source": [
        "wn.synset('car.n.01').examples()"
      ],
      "execution_count": 4,
      "outputs": [
        {
          "output_type": "execute_result",
          "data": {
            "text/plain": [
              "['he needs a car to get to work']"
            ]
          },
          "metadata": {},
          "execution_count": 4
        }
      ]
    },
    {
      "cell_type": "markdown",
      "metadata": {
        "id": "sKSAn222pxFM"
      },
      "source": [
        "### Sinónimos\n",
        "\n",
        "Aunque las definiciones ayudan a comprender el significado de una palabra, en algunas ocasiones puede resultar más útil obtener otras palabras con el mismo significado (sinónimos):"
      ]
    },
    {
      "cell_type": "code",
      "metadata": {
        "id": "y-nr5wi2p6Os",
        "colab": {
          "base_uri": "https://localhost:8080/"
        },
        "outputId": "b176f47b-6fee-4f78-d837-5e77b528b2f1"
      },
      "source": [
        "wn.synset('cable_car.n.01').lemma_names()"
      ],
      "execution_count": 5,
      "outputs": [
        {
          "output_type": "execute_result",
          "data": {
            "text/plain": [
              "['cable_car', 'car']"
            ]
          },
          "metadata": {},
          "execution_count": 5
        }
      ]
    },
    {
      "cell_type": "markdown",
      "metadata": {
        "id": "4kl-kul5p-B6"
      },
      "source": [
        "### Antónimos\n",
        "\n",
        "WordNet también permite obtener palabras con un significado opuesto a una dada (antónimos). \n",
        "\n",
        "En el siguiente ejemplo se muestra cómo obtener un antónimo de la palabra \"cheap\" cuando se utiliza con el significado de \"precio bajo\":"
      ]
    },
    {
      "cell_type": "code",
      "metadata": {
        "id": "pgZuHb9IqG2a",
        "colab": {
          "base_uri": "https://localhost:8080/"
        },
        "outputId": "a411678d-69e6-4238-e16e-548bde6df7f2"
      },
      "source": [
        "for ss in wn.synsets(\"cheap\"):\n",
        "  print(ss, ss.definition())"
      ],
      "execution_count": 6,
      "outputs": [
        {
          "output_type": "stream",
          "name": "stdout",
          "text": [
            "Synset('cheap.a.01') relatively low in price or charging low prices\n",
            "Synset('brassy.s.02') tastelessly showy\n",
            "Synset('bum.s.01') of very poor quality; flimsy\n",
            "Synset('cheap.s.04') embarrassingly stingy\n"
          ]
        }
      ]
    },
    {
      "cell_type": "code",
      "metadata": {
        "id": "i4vMwyhYqT4E",
        "colab": {
          "base_uri": "https://localhost:8080/"
        },
        "outputId": "f5a0c391-22c5-4496-c077-b47be5f1eb3d"
      },
      "source": [
        "for lemma in wn.synset(\"cheap.a.01\").lemmas():\n",
        "  if lemma.antonyms():\n",
        "    print(lemma.antonyms()[0].name())"
      ],
      "execution_count": 7,
      "outputs": [
        {
          "output_type": "stream",
          "name": "stdout",
          "text": [
            "expensive\n"
          ]
        }
      ]
    },
    {
      "cell_type": "markdown",
      "metadata": {
        "id": "kMapk7k-rrHz"
      },
      "source": [
        "### Desambiguación\n",
        "\n",
        "Hasta ahora hemos trabajado con términos concretos seleccionando el synset para el cual queremos obtener la información, pero qué ocurre si lo que tenemos no es un término sino una oración. Será necesario llevar a cabo un proceso de desambiguación teniendo en cuenta el contexto en el que ocurren las palabras. \n",
        "\n",
        "NLTK proporciona una implementación del algoritmo de desambiguación Lesk (https://www.nltk.org/api/nltk.wsd.lesk.html?highlight=lesk), el cual, dada una palabra ambigua y el contexto en el que se produce la palabra, devuelve el synset con el mayor número de palabras comunes entre el contexto de la oración y la definición del diccionario del synset. Por ejemplo, el adjetivo \"cheap\" es una palabra ambigua que puede tener uno de los siguientes significados: relativamente bajo en precio (\"cheap.a.01\"), sin sabor (\"brassy.s.02\"), de muy mala calidad; endeble (\"bum.s.01\") o vergonzosamente tacaño (\"cheap.s.04\")."
      ]
    },
    {
      "cell_type": "code",
      "metadata": {
        "id": "QDF7H4RssHbw"
      },
      "source": [
        "from nltk.wsd import lesk"
      ],
      "execution_count": 8,
      "outputs": []
    },
    {
      "cell_type": "code",
      "metadata": {
        "id": "A5-jzgzdsTKc",
        "colab": {
          "base_uri": "https://localhost:8080/"
        },
        "outputId": "a749d9c3-8674-4fa3-e2bb-fd27119340e7"
      },
      "source": [
        "sent = 'I am surprised with the price of this restaurant , it is very cheap .'\n",
        "sent = sent.split()\n",
        "synset = lesk(sent, 'cheap', 'a')\n",
        "print(synset)"
      ],
      "execution_count": 9,
      "outputs": [
        {
          "output_type": "stream",
          "name": "stdout",
          "text": [
            "Synset('cheap.a.01')\n"
          ]
        }
      ]
    },
    {
      "cell_type": "code",
      "metadata": {
        "id": "kqPsD7y_vKK8",
        "colab": {
          "base_uri": "https://localhost:8080/"
        },
        "outputId": "f3913121-d779-4565-8069-c9d7db862d8b"
      },
      "source": [
        "synset = lesk(sent, 'cheap', 's')\n",
        "print(synset)"
      ],
      "execution_count": 10,
      "outputs": [
        {
          "output_type": "stream",
          "name": "stdout",
          "text": [
            "Synset('bum.s.01')\n"
          ]
        }
      ]
    },
    {
      "cell_type": "markdown",
      "metadata": {
        "id": "DGI0myP0snsz"
      },
      "source": [
        "Si mostramos la definición del synset proporcionado por el algoritmo Lesk podemos ver que, en esa oración, la palabra \"cheap\" se refiere a \"bajo en precio\"."
      ]
    },
    {
      "cell_type": "code",
      "metadata": {
        "id": "PAJlts_qsklI",
        "colab": {
          "base_uri": "https://localhost:8080/"
        },
        "outputId": "21287dd6-0845-4ff0-b73e-1da107585f88"
      },
      "source": [
        "print(synset.definition())"
      ],
      "execution_count": 11,
      "outputs": [
        {
          "output_type": "stream",
          "name": "stdout",
          "text": [
            "of very poor quality; flimsy\n"
          ]
        }
      ]
    },
    {
      "cell_type": "markdown",
      "metadata": {
        "id": "IMKBCaDi30Tz"
      },
      "source": [
        "## Ejercicios\n",
        "\n",
        "El resultado de esta práctica deberá entregarse en PLATEA y tiene como límite de entrega las **23:59 horas del día 26 de marzo de 2023**. Se entregará este mismo notebook de extensión .ipynb y se renombrará de la siguiente forma: pr4_usuario1_usuario2.ipynb. Sustituye \"usuario1\" y \"usuario2\" por el alias de vuestro correo.\n",
        "\n",
        "Descargar los archivos \"regreso_al_paraiso.txt\" y \"carroll-alice.txt\" que se encuentra disponibles en PLATEA (carpeta Material complementario) y llevar a cabo las siguientes tareas:"
      ]
    },
    {
      "cell_type": "markdown",
      "source": [
        "**Autores de la práctica:** Juan Bautista Muñoz Ruiz jbmr0001@red.ujaen.es Marco Antonio Carrión Soriano macs0021@red.ujaen.es\n"
      ],
      "metadata": {
        "id": "6663SxOZ75se"
      }
    },
    {
      "cell_type": "markdown",
      "source": [
        "###Ejercicio 1 (Práctica 4.1)\n",
        "\n",
        "Utiliza el archivo \"regreso_al_pariso.txt\" para obtener el número de:\n",
        "\n",
        "\n",
        "*   Nombres en masculino y singular\n",
        "*   Nombres en masculino y plural\n",
        "*   Nombres en femenino y singular\n",
        "*   Nombres en femenino y plural\n",
        "\n",
        "¿Existen nombres sin género?"
      ],
      "metadata": {
        "id": "G3ZmJYTXEASV"
      }
    },
    {
      "cell_type": "code",
      "source": [
        "import spacy.cli\n",
        "spacy.cli.download(\"es_core_news_sm\")"
      ],
      "metadata": {
        "colab": {
          "base_uri": "https://localhost:8080/"
        },
        "id": "bYRGBxs1urGg",
        "outputId": "5b04ffa8-8be4-461b-c05d-fbca7c0b2d79"
      },
      "execution_count": 12,
      "outputs": [
        {
          "output_type": "stream",
          "name": "stderr",
          "text": [
            "/usr/local/lib/python3.9/dist-packages/torch/cuda/__init__.py:497: UserWarning: Can't initialize NVML\n",
            "  warnings.warn(\"Can't initialize NVML\")\n"
          ]
        },
        {
          "output_type": "stream",
          "name": "stdout",
          "text": [
            "\u001b[38;5;2m✔ Download and installation successful\u001b[0m\n",
            "You can now load the package via spacy.load('es_core_news_sm')\n"
          ]
        }
      ]
    },
    {
      "cell_type": "code",
      "source": [
        "import es_core_news_sm\n",
        "nlp = es_core_news_sm.load()"
      ],
      "metadata": {
        "id": "ctHHUCNguwhg"
      },
      "execution_count": 13,
      "outputs": []
    },
    {
      "cell_type": "code",
      "source": [
        "from google.colab import drive  #Montamos el drive\n",
        "drive.mount('/content/drive')"
      ],
      "metadata": {
        "colab": {
          "base_uri": "https://localhost:8080/"
        },
        "id": "wJbVw-vlqWS_",
        "outputId": "9b476b81-8131-4952-e75f-043c6be27aa2"
      },
      "execution_count": 14,
      "outputs": [
        {
          "output_type": "stream",
          "name": "stdout",
          "text": [
            "Mounted at /content/drive\n"
          ]
        }
      ]
    },
    {
      "cell_type": "code",
      "source": [
        "import os #Abrimos la carpeta\n",
        "path = os.chdir(\"/content/drive/MyDrive/PLN/P4.3\")\n",
        "os.getcwd()"
      ],
      "metadata": {
        "colab": {
          "base_uri": "https://localhost:8080/",
          "height": 35
        },
        "id": "TsnsD4M-qbUw",
        "outputId": "a3177159-7587-4cf6-a9e7-0b280f0b80ef"
      },
      "execution_count": 15,
      "outputs": [
        {
          "output_type": "execute_result",
          "data": {
            "text/plain": [
              "'/content/drive/MyDrive/PLN/P4.3'"
            ],
            "application/vnd.google.colaboratory.intrinsic+json": {
              "type": "string"
            }
          },
          "metadata": {},
          "execution_count": 15
        }
      ]
    },
    {
      "cell_type": "code",
      "source": [
        "import glob   #Lectura y procesado de los archivos\n",
        "archivosProcesados=[]\n",
        "nombresArchivos=[]\n",
        "for filename in glob.glob('*.txt'):  #Lectura de todos los archivos de la carpeta con la libreria glob\n",
        "   with open(os.path.join(os.getcwd(), filename), 'r') as f:\n",
        "     nombresArchivos.append(filename)\n",
        "     fichero = open(f.name)\n",
        "     archivosProcesados.append(fichero.read());\n",
        "j=0\n",
        "print('Archivos leídos:')\n",
        "for i in archivosProcesados: #Mostramos el nombre del archivo y el contenido leído\n",
        "  print(nombresArchivos[j])\n",
        "  #print(i)\n",
        "  j=j+1"
      ],
      "metadata": {
        "colab": {
          "base_uri": "https://localhost:8080/"
        },
        "id": "--SmX4YvqfWn",
        "outputId": "e820ee54-46e0-4622-a884-605df34d9bbd"
      },
      "execution_count": 16,
      "outputs": [
        {
          "output_type": "stream",
          "name": "stdout",
          "text": [
            "Archivos leídos:\n",
            "regreso_al_paraiso.txt\n",
            "carroll-alice.txt\n",
            "reemplazos.txt\n",
            "archivo_sinonimizado.txt\n"
          ]
        }
      ]
    },
    {
      "cell_type": "code",
      "source": [
        "masculino_singular = []\n",
        "masculino_plural = []\n",
        "femenino_singular = []\n",
        "femenino_plural = []\n",
        "nombres_sin_genero = []\n",
        "\n",
        "doc = nlp(archivosProcesados[0])\n",
        "for token in doc:\n",
        "    if token.text.isalpha(): \n",
        "        if token.pos_ == \"NOUN\" or token.pos_ == \"PROPN\":\n",
        "          if \"Gender=Masc\" in token.morph and \"Number=Sing\" in token.morph:\n",
        "              masculino_singular.append(token.text)\n",
        "          elif \"Gender=Masc\" in token.morph and \"Number=Plur\" in token.morph:\n",
        "              masculino_plural.append(token.text)\n",
        "          elif \"Gender=Fem\" in token.morph and \"Number=Sing\" in token.morph:\n",
        "              femenino_singular.append(token.text)\n",
        "          elif \"Gender=Fem\" in token.morph and \"Number=Plur\" in token.morph:\n",
        "              femenino_plural.append(token.text)\n",
        "          elif \"Gender\" not in token.morph:\n",
        "            nombres_sin_genero.append(token.text);\n",
        "            #print(token.text, token.pos_, token.morph)\n",
        "\n",
        "\n",
        "print(\"Nombres en masculino y singular:\", len(masculino_singular), masculino_singular)\n",
        "print(\"Nombres en masculino y plural:\", len(masculino_plural), masculino_plural)\n",
        "print(\"Nombres en femenino y singular:\", len(femenino_singular), femenino_singular)\n",
        "print(\"Nombres en femenino y plural:\", len(femenino_plural), femenino_plural)\n",
        "print(\"Nombres sin genero:\", len(nombres_sin_genero), nombres_sin_genero)"
      ],
      "metadata": {
        "colab": {
          "base_uri": "https://localhost:8080/"
        },
        "id": "DCRyavzZqpEe",
        "outputId": "2aa10a78-2e83-4800-bc9f-58c18012dc12"
      },
      "execution_count": 17,
      "outputs": [
        {
          "output_type": "stream",
          "name": "stdout",
          "text": [
            "Nombres en masculino y singular: 1723 ['autor', 'texto', 'camino', 'PROVERBIO', 'final', 'final', 'planeta', 'planeta', 'aire', 'planeta', 'petróleo', 'ejemplo', 'planeta', 'ordenador', 'trabajo', 'mundo', 'mundo', 'miedo', 'sentimiento', 'grupo', 'supernet', 'mundo', 'mundo', 'búnker', 'planeta', 'día', 'supernet', 'mundo', 'día', 'aviso', 'supernet', 'juego', 'mantenimiento', 'sistema', 'tiempo', 'mundo', 'complejo', 'supernet', 'planeta', 'coche', 'edificio', 'alimento', 'frío', 'calor', 'clima', 'cultivo', 'uso', 'ejemplo', 'mundo', 'supernet', 'planeta', 'plan', 'botón', 'cohete', 'planeta', 'combustible', 'equipo', 'momento', 'acceso', 'cohete', 'ascensor', 'suelo', 'ascensor', 'botón', 'momento', 'ascensor', 'problema', 'ascensor', 'elemento', 'túnel', 'tipo', 'mundo', 'pueblecito', 'acceso', 'tipo', 'momento', 'presentimiento', 'supernet', 'miniordenador', 'rato', 'fin', 'mundo', 'árbol', 'salvamento', 'anochecer', 'azul', 'cielo', 'paso', 'árbol', 'parque', 'árbol', 'estado', 'shock', 'día', 'grupo', 'amanecer', 'conjunto', 'mate', 'aire', 'dirigen', 'superordenador', 'tiempo', 'escuchadme', 'búnker', 'mundo', 'asunto', 'ultrasecreto', 'bienestar', 'plan', 'circuito', 'supernet', 'supernet', 'ordenador', 'valiente', 'búnker', 'timbre', 'sistema', 'robot', 'árbol', 'mundo', 'resto', 'corazón', 'robot', 'paso', 'brazo', 'gesto', 'grito', 'mundo', 'lado', 'búnker', 'despacio', 'contacto', 'peligro', 'salto', 'aire', 'ataque', 'vuelo', 'instante', 'suelo', 'agujero', 'agujero', 'rugido', 'silencio', 'miedo', 'mundo', 'abismo', 'túnel', 'ascensor', 'búnker', 'casco', 'fondo', 'mundo', 'ascensor', 'extremo', 'cohete', 'planeta', 'cohete', 'uso', 'cohete', 'mundo', 'ascensor', 'planeta', 'planeta', 'cohete', 'día', 'día', 'sol', 'planeta', 'espacio', 'alrededor', 'libro', 'tiempo', 'secreto', 'planeta', 'planeta', 'camino', 'planeta', 'planeta', 'grupo', 'lado', 'planeta', 'mundo', 'momento', 'planeta', 'árbol', 'supernet', 'sentido', 'pasado', 'entusiasmo', 'aterrizaje', 'equipo', 'planeta', 'ordenador', 'planeta', 'grupo', 'mundo', 'control', 'ejemplo', 'ejemplo', 'tiempo', 'acuerdo', 'planeta', 'planeta', 'nombre', 'debate', 'tema', 'niño', 'planeta', 'frío', 'aire', 'juego', 'planeta', 'dinero', 'dinero', 'invento', 'dinero', 'aplauso', 'niño', 'planeta', 'mundo', 'aplauso', 'tiempo', 'dinero', 'dinero', 'tiempo', 'montón', 'tiempo', 'mundo', 'suelo', 'cohete', 'día', 'planeta', 'adulto', 'ejemplo', 'voleibol', 'planeta', 'silencio', 'aplauso', 'mundo', 'mundo', 'niño', 'turno', 'planeta', 'suelo', 'planeta', 'paraíso', 'mundo', 'planeta', 'poder', 'hombre', 'niño', 'asunto', 'acuerdo', 'planeta', 'honor', 'resto', 'planeta', 'nombre', 'gusto', 'campo', 'cohete', 'planeta', 'grupo', 'planeta', 'calor', 'ejemplo', 'desierto', 'sol', 'culo', 'calor', 'planeta', 'sitio', 'ordenador', 'aterrizaje', 'vuelo', 'mundo', 'cohete', 'vacío', 'movimiento', 'miedo', 'freno', 'silencio', 'aire', 'sol', 'mundo', 'paso', 'mundo', 'aire', 'suelo', 'soplo', 'viento', 'aire', 'olor', 'niño', 'paso', 'pie', 'traje', 'planeta', 'pie', 'gusto', 'suelo', 'momento', 'mundo', 'exterior', 'aire', 'placer', 'vuelo', 'canto', 'ruido', 'pecho', 'planeta', 'planeta', 'terrícola', 'planeta', 'terrícola', 'planeta', 'nombre', 'origen', 'ejemplo', 'pescado', 'remedio', 'sentido', 'planeta', 'viaje', 'miedo', 'día', 'erizo', 'mundo', 'círculo', 'día', 'día', 'mundo', 'mundo', 'planeta', 'terreno', 'riachuelo', 'suelo', 'baño', 'río', 'lugar', 'día', 'día', 'humor', 'bosque', 'estado', 'bosque', 'tiempo', 'brazo', 'mundo', 'melón', 'plátano', 'día', 'mundo', 'cariño', 'día', 'mundo', 'cansancio', 'día', 'sol', 'entusiasmo', 'lugar', 'metal', 'sitio', 'pueblo', 'aplauso', 'río', 'lugar', 'paso', 'acceso', 'árbol', 'río', 'río', 'peligro', 'extremo', 'árbol', 'lado', 'árbol', 'río', 'aplauso', 'tiempo', 'mundo', 'orden', 'miedo', 'turno', 'silencio', 'dedo', 'agradecimiento', 'impulso', 'aire', 'pie', 'aplauso', 'mundo', 'río', 'campo', 'fútbol', 'lugar', 'animal', 'resto', 'tiempo', 'aire', 'verano', 'día', 'cielo', 'viento', 'vendaval', 'motivo', 'conjunto', 'iglú', 'huracán', 'planeta', 'día', 'vestido', 'río', 'día', 'vestido', 'trabajo', 'trabajo', 'planeta', 'comentario', 'gustito', 'placer', 'lugar', 'día', 'grano', 'ejemplo', 'maíz', 'nízcalo', 'ejemplo', 'espárrago', 'ruido', 'grupo', 'ojo', 'desayuno', 'guerrero', 'instante', 'tiempo', 'desayuno', 'resto', 'espanto', 'peligro', 'terror', 'mundo', 'miedo', 'mundo', 'escándalo', 'cortarte', 'dedo', 'dárselo', 'nombre', 'chico', 'brazo', 'corazón', 'conmigo', 'planeta', 'animal', 'encantador', 'día', 'claro', 'sol', 'suelo', 'palmo', 'prado', 'sol', 'color', 'pecho', 'paraíso', 'cuerpo', 'sol', 'rato', 'azul', 'cielo', 'olfato', 'oído', 'tigre', 'gruñir', 'peligro', 'mundo', 'día', 'día', 'día', 'motivo', 'año', 'tiempo', 'día', 'alimento', 'tiempo', 'zarpazo', 'golpe', 'precio', 'hombro', 'silencio', 'mundo', 'suelo', 'lado', 'brazo', 'morro', 'amor', 'niño', 'corazón', 'dolor', 'sufrimiento', 'peligro', 'lado', 'río', 'lado', 'río', 'alimento', 'río', 'problema', 'lado', 'río', 'día', 'lado', 'día', 'apetito', 'peso', 'día', 'miedo', 'remedio', 'resto', 'tiempo', 'río', 'lado', 'peligro', 'grupo', 'tiempo', 'sitio', 'territorio', 'lado', 'río', 'mundo', 'día', 'Noa', 'dolor', 'miedo', 'lenguaje', 'idioma', 'árbol', 'tiempo', 'árbol', 'estilo', 'ritmo', 'cambio', 'estilo', 'nombre', 'eco', 'amor', 'interior', 'espíritu', 'mensaje', 'corazón', 'rato', 'cuerpo', 'cuerpo', 'cuerpo', 'brazo', 'resto', 'cuerpo', 'resto', 'árbol', 'pelo', 'resto', 'cuerpo', 'pelo', 'pelo', 'pelo', 'pelo', 'universo', 'ser', 'cerebro', 'corazón', 'lugar', 'universo', 'espíritu', 'amor', 'límite', 'cariño', 'murciélago', 'día', 'día', 'minuto', 'matamoscas', 'cuerpo', 'barro', 'lado', 'lado', 'día', 'día', 'remedio', 'día', 'día', 'día', 'resto', 'aspecto', 'sol', 'mundo', 'silencio', 'rato', 'nacimiento', 'ciclo', 'sitio', 'cuerpo', 'espíritu', 'lado', 'resumen', 'ser', 'tenéis', 'espíritu', 'espíritu', 'espíritu', 'ejemplo', 'espíritu', 'nivel', 'reflejo', 'nivel', 'espíritu', 'espíritu', 'rumbo', 'cuerpo', 'cuerpo', 'cuerpo', 'ser', 'planeta', 'dejad', 'perjuicio', 'día', 'sitio', 'tiempo', 'equilibrio', 'equilibrio', 'caso', 'equilibrio', 'grupo', 'límite', 'límite', 'tenéis', 'territorio', 'planeta', 'control', 'regalo', 'mundo', 'mundo', 'ángel', 'cuerpo', 'espíritu', 'beso', 'día', 'cuerpo', 'sitio', 'árbol', 'cuerpo', 'árbol', 'contacto', 'nombre', 'nombre', 'nombre', 'nombre', 'paraíso', 'grupo', 'planeta', 'calor', 'frío', 'tiempo', 'día', 'hombre', 'tiempo', 'mantenimiento', 'tema', 'hombre', 'plan', 'tiempo', 'tiempo', 'control', 'planeta', 'poder', 'día', 'laboratorio', 'secreto', 'robot', 'ser', 'ejemplo', 'tipo', 'terrícola', 'robot', 'daño', 'humano', 'daño', 'robot', 'robot', 'ingeniero', 'caso', 'ingeniero', 'cargo', 'poder', 'hijo', 'padre', 'humano', 'lugar', 'cambio', 'trabajo', 'equipo', 'planeta', 'planeta', 'experimento', 'robot', 'leñador', 'ingeniero', 'equipo', 'robot', 'dormitorio', 'ingeniero', 'cuello', 'instante', 'día', 'cadáver', 'ejército', 'momento', 'mundo', 'paso', 'tiempo', 'poder', 'motivo', 'día', 'plato', 'cuello', 'mundo', 'miedo', 'amigo', 'día', 'plato', 'sabor', 'sabor', 'veneno', 'plato', 'dolor', 'cuello', 'mundo', 'ordenador', 'planeta', 'ordenador', 'día', 'ordenador', 'planeta', 'grupo', 'planeta', 'calor', 'sitio', 'trabajo', 'alimento', 'grupo', 'ordenador', 'principio', 'ordenador', 'día', 'alimento', 'ordenador', 'día', 'tesoro', 'ordenador', 'libro', 'libro', 'problema', 'fuego', 'ordenador', 'tiempo', 'trabajo', 'sistema', 'terremoto', 'mens', 'idioma', 'latín', 'cuerpo', 'tema', 'día', 'rato', 'teléfono', 'pensamiento', 'interés', 'practicaban', 'ordenador', 'ordenador', 'ordenador', 'fondo', 'mundo', 'sitio', 'día', 'tiempo', 'lado', 'alimento', 'tiempo', 'deporte', 'tiempo', 'día', 'bebé', 'bebé', 'árbol', 'suelo', 'grupo', 'pecho', 'miedo', 'depredador', 'bebé', 'contacto', 'olfato', 'peligro', 'tiempo', 'tiempo', 'territorio', 'peligro', 'día', 'territorio', 'trabajo', 'territorio', 'alimento', 'territorio', 'círculo', 'tiempo', 'desgaste', 'círculo', 'tiempo', 'pie', 'momento', 'problema', 'hombre', 'voto', 'centenar', 'problema', 'día', 'año', 'pecho', 'arco', 'resto', 'método', 'pecho', 'tiempo', 'mundo', 'círculo', 'principio', 'circuito', 'capítulo', 'viento', 'tiro', 'suelo', 'pensamiento', 'objeto', 'pasatiempo', 'hijo', 'lado', 'niño', 'resto', 'tiempo', 'día', 'trabajo', 'coro', 'grupo', 'día', 'nombre', 'bebé', 'suelo', 'palmo', 'aire', 'día', 'aire', 'suelo', 'año', 'estudio', 'día', 'pensamiento', 'miedo', 'tenéis', 'miedo', 'día', 'día', 'Lamento', 'motivo', 'peligro', 'consejo', 'miedo', 'cuidado', 'tema', 'secreto', 'mundo', 'miedo', 'envidia', 'amor', 'secreto', 'motivo', 'respeto', 'miedo', 'miedo', 'aire', 'teatro', 'aire', 'pelo', 'cielo', 'rato', 'terror', 'cielo', 'miedo', 'espectáculo', 'poder', 'amor', 'miedo', 'miedo', 'poder', 'día', 'cansancio', 'coco', 'mundo', 'suelo', 'puño', 'palmo', 'coco', 'blanco', 'impacto', 'coco', 'coco', 'aire', 'suelo', 'cielo', 'tiro', 'ejemplo', 'tono', 'pelo', 'alrededor', 'brazo', 'pie', 'tiempo', 'mensaje', 'corazón', 'mensaje', 'secreto', 'momento', 'veintitrés', 'conmigo', 'tiempo', 'interés', 'tono', 'daño', 'daño', 'podrías', 'momento', 'miedo', 'sentido', 'tiempo', 'ramo', 'arco', 'ramo', 'suelo', 'orgullo', 'suelo', 'pie', 'riesgo', 'hecho', 'poder', 'peligro', 'momento', 'suelo', 'silencio', 'aliento', 'respeto', 'servicio', 'tiempo', 'suelo', 'punto', 'cruel', 'sentido', 'contacto', 'corazón', 'hombro', 'día', 'arco', 'lugar', 'miedo', 'paso', 'corazón', 'camino', 'día', 'verdor', 'arco', 'momento', 'resto', 'viaje', 'alrededor', 'suelo', 'árbol', 'árbol', 'peso', 'peligro', 'principio', 'miedo', 'ojo', 'peligro', 'brazo', 'lado', 'día', 'arco', 'día', 'lado', 'aire', 'progreso', 'esfuerzo', 'peso', 'día', 'poder', 'poder', 'peligro', 'viaje', 'sur', 'cielo', 'alimento', 'momento', 'bosque', 'día', 'alimento', 'día', 'caso', 'día', 'día', 'camino', 'cielo', 'sol', 'sol', 'cuerpo', 'dolor', 'cuerpo', 'remedio', 'cansancio', 'juego', 'bosque', 'día', 'esfuerzo', 'paso', 'bosque', 'miedo', 'agotamiento', 'frío', 'camino', 'árbol', 'día', 'sol', 'cielo', 'cuerpo', 'camino', 'remedio', 'día', 'mes', 'entrenamiento', 'cuerpo', 'barro', 'sol', 'par', 'paso', 'tipo', 'ejercicio', 'pelo', 'sol', 'árbol', 'bosque', 'entrenamiento', 'día', 'cielo', 'pájaro', 'terror', 'pájaro', 'monstruo', 'monstruo', 'cerdo', 'monstruo', 'mono', 'mono', 'alimento', 'territorio', 'sur', 'momento', 'territorio', 'norte', 'peligro', 'peligro', 'día', 'sol', 'cueva', 'aire', 'escondrijo', 'día', 'paso', 'pico', 'resto', 'cuerpo', 'dragón', 'cuerpo', 'monstruo', 'bloqueo', 'odio', 'miedo', 'dragón', 'segundo', 'terror', 'cuerpo', 'lado', 'dragón', 'monstruo', 'cráneo', 'ruido', 'alrededor', 'cerebro', 'tiempo', 'huevo', 'nido', 'cuerpo', 'oso', 'nudo', 'apartaré', 'tacto', 'caso', 'huevo', 'dolor', 'corazón', 'precipicio', 'lado', 'rato', 'sol', 'mediodía', 'prisa', 'día', 'camino', 'puente', 'acceso', 'sitio', 'perdón', 'motivo', 'crimen', 'interior', 'lugar', 'pasadizo', 'pánico', 'momento', 'sentido', 'problema', 'medito', 'cuerpo', 'cuerpo', 'remedio', 'suelo', 'palmo', 'mundo', 'vértigo', 'control', 'suelo', 'problema', 'rato', 'valor', 'palmo', 'aire', 'día', 'momento', 'problema', 'camino', 'miedo', 'salto', 'palmo', 'metro', 'suelo', 'metro', 'lado', 'suelo', 'tramo', 'sueño', 'sol', 'horizonte', 'momento', 'borde', 'abismo', 'momento', 'corazón', 'aire', 'sol', 'tiempo', 'remedio', 'aire', 'paso', 'aire', 'precipicio', 'principio', 'apoyo', 'punto', 'espacio', 'aire', 'sol', 'cielo', 'río', 'cerebro', 'río', 'mediodía', 'mundo', 'día', 'sueño', 'mochila', 'cerebro', 'sueño', 'montón', 'arco', 'peligro', 'poquito', 'aire', 'cuerpo', 'pecho', 'arco', 'aire', 'resto', 'aire', 'mediodía', 'tiempo', 'sol', 'árbol', 'aire', 'día', 'esfuerzo', 'pie', 'alrededor', 'paisaje', 'día', 'punto', 'alrededor', 'sur', 'horizonte', 'norte', 'horizonte', 'cielo', 'sol', 'arco', 'cielo', 'mundo', 'salto', 'rato', 'control', 'vuelo', 'principio', 'río', 'rato', 'suelo', 'vuelo', 'sol', 'vuelo', 'aire', 'viento', 'frío', 'cuerpo', 'vuelo', 'miedo', 'obstáculo', 'vuelo', 'pelo', 'cuello', 'frío', 'árbol', 'vuelo', 'tiempo', 'día', 'día', 'mundo', 'horizonte', 'viaje', 'ejemplo', 'sur', 'punto', 'viaje', 'sureste', 'suroeste', 'problema', 'lago', 'horizonte', 'final', 'nombre', 'lago', 'día', 'calor', 'frío', 'lugar', 'desierto', 'alimento', 'lugar', 'mundo', 'pie', 'día', 'cuerpo', 'tiempo', 'río', 'camino', 'regreso', 'viaje', 'regreso', 'día', 'lado', 'montón', 'día', 'árbol', 'lado', 'viaje', 'día', 'rato', 'suelo', 'susto', 'juego', 'frío', 'suelo', 'vuelo', 'día', 'miedo', 'mundo', 'caso', 'animal', 'salto', 'cuello', 'poder', 'árbol', 'hueso', 'truco', 'cuerpo', 'peligro', 'momento', 'territorio', 'camino', 'alivio', 'territorio', 'tiempo', 'montón', 'destierro', 'tiempo', 'pinchazo', 'corazón', 'alcance', 'resto', 'momento', 'viento', 'interés', 'mundo', 'atractivo', 'sentimiento', 'mundo', 'campo', 'tono', 'ser', 'ejemplo', 'miedo', 'miedo', 'daño', 'hombre', 'cambio', 'tiempo', 'silencio', 'miedo', 'hombre', 'miedo', 'miedo', 'hombre', 'miedo', 'salto', 'terror', 'niño', 'método', 'ejemplo', 'golpe', 'daño', 'momento', 'pozo', 'corazón', 'bebé', 'precipicio', 'abismo', 'fondo', 'pecho', 'corazón', 'cuerpo', 'centro', 'trauma', 'bebé', 'silencio', 'río', 'pecho', 'hombro', 'desconsuelo', 'bebé', 'año', 'paso', 'trauma', 'hombre', 'daño', 'abandono', 'cariño', 'motivo', 'rincón', 'pecho', 'amor', 'pozo', 'fondo', 'corazón', 'crimen', 'sufrimiento', 'consuelo', 'maltrato', 'agotador', 'movimiento', 'lado', 'codo', 'brazo', 'pecho', 'cuerpo', 'sueño', 'ejemplo', 'mundo', 'ejemplo', 'ejemplo', 'cuerpo', 'derecho', 'aire', 'bailáis', 'fondo', 'hecho', 'dicho', 'corazón', 'pensamiento', 'cariño', 'ejemplo', 'aire', 'montón', 'lado', 'árbol', 'temblor', 'cuerpo', 'bien', 'aire', 'suelo', 'tiempo', 'día', 'día', 'momento', 'tiempo', 'favor', 'cariño', 'paso', 'miedo', 'caso', 'secreto', 'secreto', 'hombre', 'hombre', 'momento', 'amor', 'nudo', 'salto', 'suelo', 'cariño', 'gesto', 'salto', 'aire', 'árbol', 'día', 'contacto', 'abrazo', 'malestar', 'pecho', 'día', 'día', 'sentido', 'lado', 'corazón', 'lado', 'enfermo', 'mundo', 'día', 'canto', 'canto', 'canto', 'motivo', 'momento', 'peligro', 'día', 'día', 'alrededor', 'mundo', 'hombre', 'hombre', 'tiempo', 'sol', 'día', 'tiempo', 'cuerpo', 'mundo', 'intercambio', 'fuego', 'nivel', 'ecosistema', 'bebé', 'hombre', 'hombre', 'valor', 'día', 'desayuno', 'paso', 'pie', 'contacto', 'mundo', 'cuerpo', 'verte', 'amor', 'cuerpo', 'corazón', 'afecto', 'suelo', 'piso', 'amor', 'semicírculo', 'pie', 'centro', 'mundo', 'suelo', 'suelo', 'aspecto', 'apoyo', 'tiempo', 'bienestar', 'afecto', 'lado', 'suelo', 'aliento', 'peligro', 'aire', 'palmo', 'metro', 'miedo', 'espanto', 'suelo', 'lado', 'tiempo', 'lamento', 'cogerte', 'argumento', 'miedo', 'arranque', 'ejemplo', 'hombre', 'árbol', 'golpe', 'miedo', 'miedo', 'peligro', 'objetivo', 'cambio', 'tiempo', 'momento', 'comportamiento', 'método', 'problema', 'mundo', 'mundo', 'ejemplo', 'bien', 'viaje', 'lugar', 'hábitat', 'camino', 'movimiento', 'camino', 'peligro', 'miedo', 'momento', 'minuto', 'favor', 'minuto', 'sentido', 'tiempo', 'mundo', 'mundo', 'tiempo', 'lenguaje', 'ejemplo', 'rayo', 'cielo', 'ruido', 'cielo', 'rayo', 'cielo', 'instante', 'montoncito', 'rayo', 'vuelo', 'aire', 'monstruo', 'ordenador', 'objetivo', 'pelo', 'ordenador', 'rayo', 'segundo', 'blanco', 'monstruo', 'tiro', 'alrededor', 'casco', 'daño', 'monstruo', 'brazo', 'cañón', 'demonio', 'suelo', 'esfuerzo', 'esfuerzo', 'monstruo', 'suelo', 'monstruo', 'vuelo', 'esfuerzo', 'monstruo', 'suelo', 'yacimiento', 'suelo', 'ruido', 'rato', 'resultado', 'mundo', 'rato', 'suelo', 'lado', 'nombre', 'agotamiento', 'momento', 'mundo', 'hombre', 'día', 'día', 'día', 'monstruo', 'respeto', 'afecto', 'perdón', 'corazón', 'resultado', 'rayo', 'hecho', 'rayo', 'razonamiento', 'rayo', 'monstruo', 'ataque', 'monstruo', 'argumento', 'monstruo', 'monstruo', 'caso', 'mensaje', 'monstruo', 'peligro', 'favor', 'asunto', 'tiempo', 'esfuerzo', 'concederte', 'punto', 'afecto', 'asco', 'honor', 'hombre', 'hombre', 'vocabulario', 'sentimiento', 'resto', 'vientre', 'derecho', 'brazo', 'cuerpo', 'cuerpo', 'hogar', 'día', 'afecto', 'afecto', 'hombre', 'vientre', 'afecto', 'motivo', 'castigo', 'resto', 'interior', 'vacío', 'momento', 'hijo', 'bebé', 'monstruo', 'bebé', 'bebé', 'lado', 'corazón', 'sufrimiento', 'día', 'bebé', 'bebé', 'vínculo', 'rechazo', 'parto', 'suelo', 'hombro', 'rechazo', 'rechazo', 'rechazo', 'trauma', 'asunto', 'tiempo', 'tiempo', 'día', 'día', 'baile', 'momento', 'hijo', 'amor', 'ordenador', 'planeta', 'módulo', 'ordenador', 'peligro', 'planeta', 'momento', 'planeta', 'amor']\n",
            "Nombres en masculino y plural: 912 ['principios', 'principios', 'finales', 'millones', 'metales', 'recursos', 'robots', 'trabajos', 'campos', 'edificios', 'enfermos', 'supermercados', 'coches', 'trenes', 'dios', 'robots', 'amos', 'amos', 'metros', 'años', 'días', 'técnicos', 'tornados', 'núcleos', 'ascensores', 'coches', 'autobuses', 'trenes', 'aviones', 'medios', 'edificios', 'hospitales', 'supermercados', 'días', 'millones', 'países', 'sitios', 'ríos', 'ríos', 'pueblos', 'campos', 'agricultores', 'martillos', 'alimentos', 'amos', 'motores', 'alimentos', 'planetas', 'metros', 'metros', 'metros', 'amos', 'destrozos', 'tornados', 'instantes', 'niños', 'niños', 'niños', 'adultos', 'días', 'deberías', 'robots', 'cañones', 'circuitos', 'buscarlos', 'robots', 'robots', 'láseres', 'pasos', 'robots', 'pasos', 'pares', 'Pongámonos', 'metros', 'pies', 'metros', 'tigres', 'ojos', 'intrusos', 'tigres', 'humanos', 'atacarlos', 'morros', 'matarlos', 'tigres', 'intrusos', 'pies', 'tigres', 'tigres', 'amos', 'amos', 'ojos', 'ruidos', 'astrónomos', 'planetas', 'separarnos', 'grupos', 'grupos', 'ayudarnos', 'animales', 'microorganismos', 'grupos', 'adultos', 'adultos', 'adultos', 'niños', 'niños', 'adultos', 'habernos', 'caminos', 'niños', 'adultos', 'planetas', 'años', 'avances', 'problemas', 'amos', 'siglos', 'usamos', 'trabajos', 'muñecos', 'juegos', 'deportes', 'árboles', 'castillos', 'adultos', 'adultos', 'planetas', 'niños', 'ricos', 'niños', 'momentos', 'niños', 'ricos', 'padres', 'niños', 'juegos', 'exámenes', 'cuentos', 'errores', 'cometerlos', 'soldados', 'robots', 'robots', 'amos', 'aplausos', 'gritos', 'hombres', 'hombres', 'malos', 'hombres', 'niños', 'compañeros', 'cinturones', 'bandazos', 'reactores', 'corazones', 'cinturones', 'animales', 'insectos', 'pájaros', 'árboles', 'robots', 'Extraterrestres', 'extraterrestres', 'monstruos', 'productos', 'huevos', 'animales', 'ingredientes', 'animales', 'ingredientes', 'planetas', 'tigres', 'palos', 'lavarnos', 'días', 'cocodrilos', 'palos', 'tobillos', 'gritos', 'minutos', 'humanos', 'ojos', 'cabellos', 'alimentos', 'frutos', 'frutos', 'colores', 'sabores', 'saltos', 'niños', 'años', 'frutos', 'veganos', 'labios', 'días', 'alrededores', 'pros', 'fijaremos', 'días', 'saltitos', 'ánimos', 'metros', 'problemas', 'brazos', 'minutos', 'saltos', 'gritos', 'troncos', 'mamíferos', 'árboles', 'hilos', 'niños', 'alimentos', 'brotes', 'animales', 'quietos', 'animales', 'animales', 'tigres', 'animales', 'animales', 'gritos', 'gritos', 'humanos', 'instantes', 'ojos', 'pechos', 'ojos', 'ojos', 'platos', 'meo', 'peligros', 'humanos', 'aullidos', 'ruidos', 'dientes', 'sólidos', 'animales', 'buscárselos', 'humanos', 'perros', 'árboles', 'colores', 'niños', 'colores', 'reflejos', 'humanos', 'movimientos', 'ojos', 'saltos', 'ojos', 'brazos', 'rayos', 'pajaritos', 'humanos', 'humanos', 'humanos', 'congéneres', 'días', 'ratones', 'ojos', 'ojos', 'días', 'peluches', 'meses', 'animales', 'humanos', 'humanos', 'minutos', 'ojos', 'momentos', 'minutos', 'chorros', 'atacarnos', 'cadáveres', 'Encerrarnos', 'días', 'pies', 'haremos', 'materiales', 'días', 'animales', 'humanos', 'sueños', 'brazos', 'animales', 'humanos', 'árboles', 'árboles', 'años', 'comunicarnos', 'pelos', 'pelos', 'pelos', 'árboles', 'humanos', 'ojos', 'mosquitos', 'humanos', 'mosquitos', 'mosquitos', 'centenares', 'bichos', 'mosquitos', 'humanos', 'espantarlos', 'mosquitos', 'bichos', 'murciélagos', 'humanos', 'murciélagos', 'enjambres', 'mosquitos', 'murciélagos', 'cazarlos', 'humanos', 'mosquitos', 'murciélagos', 'murciélagos', 'mosquitos', 'murciélagos', 'mosquitos', 'murciélagos', 'sacos', 'murciélagos', 'murciélagos', 'mosquitos', 'años', 'niños', 'hombres', 'hijos', 'tristes', 'cuerpos', 'apoyándonos', 'explicándonos', 'haceros', 'podrías', 'ojos', 'dedos', 'oídos', 'pensamientos', 'sentimientos', 'vosotros', 'millones', 'millones', 'animalitos', 'animalitos', 'aparatos', 'veganos', 'individuos', 'quereros', 'ayudaros', 'inhumanos', 'enemigos', 'alimentos', 'frutos', 'hermanos', 'casos', 'recursos', 'recursos', 'recursos', 'alimentaros', 'dividiros', 'grupos', 'territorios', 'grupos', 'hijos', 'recursos', 'muertos', 'daros', 'años', 'vosotros', 'ojos', 'sueños', 'animales', 'vosotros', 'restos', 'veganos', 'consejos', 'años', 'veganos', 'consejos', 'adultos', 'humanos', 'años', 'robots', 'siglos', 'insectos', 'robots', 'campos', 'edificios', 'juegos', 'recursos', 'técnicos', 'siglos', 'humanos', 'robots', 'humanos', 'robots', 'enemigos', 'robots', 'robots', 'vecinos', 'robots', 'niños', 'Mm', 'robots', 'supernet', 'robots', 'exploradores', 'años', 'siglos', 'milenios', 'archivos', 'planetas', 'humanos', 'robots', 'meses', 'humanos', 'vegetales', 'chicos', 'vosotros', 'chicos', 'turnos', 'ayudaros', 'troncos', 'conocimientos', 'humanos', 'años', 'conocimientos', 'bichos', 'años', 'interiores', 'repasaremos', 'temas', 'dianícolas', 'pensamientos', 'objetos', 'tocarlos', 'pensamientos', 'objetos', 'años', 'años', 'años', 'chicos', 'hombres', 'antecesores', 'humanos', 'monos', 'monos', 'pechos', 'humanos', 'humanos', 'bebés', 'hombres', 'simios', 'monos', 'animales', 'amigos', 'humanos', 'árboles', 'monos', 'antecesores', 'recolectores', 'años', 'años', 'años', 'hombres', 'años', 'hombres', 'años', 'hombres', 'monos', 'hombres', 'hijos', 'cuántos', 'hijos', 'criterios', 'criterios', 'hombres', 'trabajos', 'monos', 'años', 'frutos', 'hombres', 'años', 'dianícolas', 'conocimientos', 'Terremotos', 'avances', 'cuerpos', 'avances', 'centímetros', 'ojos', 'kilos', 'progresos', 'teléfonos', 'hombres', 'animales', 'monos', 'hombres', 'monos', 'hombres', 'monos', 'hombres', 'hombres', 'bailes', 'pasatiempos', 'animales', 'seres', 'hombres', 'movimientos', 'bailes', 'ridículos', 'centímetros', 'meses', 'años', 'deditos', 'habilidades', 'poderes', 'poderes', 'poderes', 'poderes', 'años', 'poderes', 'habilidades', 'dones', 'dinos', 'centenares', 'metros', 'brazos', 'brazos', 'deciros', 'tamaños', 'hombres', 'monos', 'ojos', 'poderes', 'momentos', 'tomes', 'instantes', 'poderes', 'años', 'años', 'minutos', 'gestos', 'pensamientos', 'sentimientos', 'escalofríos', 'podrías', 'amenazarnos', 'ojos', 'plátanos', 'ojos', 'plátanos', 'ojos', 'ojos', 'aires', 'poderes', 'poderes', 'tiempos', 'monos', 'hombres', 'sollozos', 'años', 'meses', 'pies', 'frutos', 'pasos', 'monos', 'hombres', 'ruidos', 'movimientos', 'ruidos', 'olores', 'árboles', 'Mm', 'peligros', 'días', 'pasos', 'relajados', 'brazos', 'aires', 'brazos', 'días', 'días', 'meses', 'árboles', 'días', 'humanos', 'árboles', 'árboles', 'pies', 'rasguños', 'rayos', 'músculos', 'brazos', 'músculos', 'árboles', 'días', 'árboles', 'músculos', 'pies', 'hombres', 'parásitos', 'meses', 'metros', 'monstruos', 'monos', 'territorios', 'días', 'monstruos', 'dragones', 'picos', 'esfuerzos', 'terremotos', 'ojos', 'ojos', 'trozos', 'dragones', 'cerebros', 'metros', 'ojos', 'bebés', 'ojos', 'padres', 'huevos', 'nidos', 'cadáveres', 'Mm', 'objetos', 'cuerpos', 'nidos', 'nidos', 'huevos', 'padres', 'huevos', 'aires', 'sentimientos', 'temblores', 'alrededores', 'motivos', 'poderes', 'monstruos', 'hijos', 'dragones', 'monstruos', 'ojos', 'Mm', 'objetos', 'cuerpos', 'animales', 'huevos', 'Mm', 'ojos', 'centímetros', 'saltitos', 'metros', 'vuelos', 'dedos', 'pies', 'metros', 'dientes', 'pies', 'metros', 'dragones', 'brazos', 'lados', 'brazos', 'pájaros', 'brazos', 'aires', 'ojos', 'brazos', 'árboles', 'pájaros', 'hombros', 'hombros', 'alrededores', 'alrededores', 'viajes', 'árboles', 'animales', 'nervios', 'hijos', 'meses', 'aires', 'brazos', 'árboles', 'árboles', 'pájaros', 'pájaros', 'pájaros', 'comérselos', 'labios', 'días', 'días', 'monos', 'hombres', 'ojos', 'escuchándolos', 'hombres', 'movimientos', 'ángeles', 'hombres', 'ojos', 'platos', 'hombres', 'prestarnos', 'conoces', 'hombres', 'hombres', 'darnos', 'monosílabos', 'ruidos', 'hombres', 'vosotros', 'ojos', 'bebés', 'sentimientos', 'brazos', 'ojos', 'animales', 'hombros', 'años', 'niños', 'años', 'Millones', 'millones', 'almas', 'hombres', 'niños', 'hombres', 'abrazos', 'monos', 'hombres', 'niños', 'niños', 'millones', 'niños', 'sentimientos', 'ojos', 'hombres', 'hombres', 'cuentos', 'cuentos', 'sentimientos', 'extraños', 'hombres', 'metros', 'vosotros', 'hombres', 'llames', 'hijos', 'cuerpos', 'machos', 'pienses', 'hombres', 'días', 'días', 'hombres', 'miedos', 'días', 'brazos', 'años', 'meses', 'cuentos', 'hombres', 'movimientos', 'días', 'sentimientos', 'hombres', 'haremos', 'viajes', 'territorios', 'Mm', 'hombres', 'Aha', 'días', 'años', 'amigos', 'observarnos', 'Mm', 'días', 'conocimientos', 'recuerdos', 'aires', 'cuentos', 'viajes', 'hijos', 'hombres', 'pies', 'pájaros', 'monos', 'hombres', 'gestos', 'ojos', 'ojos', 'ojos', 'contaros', 'minutos', 'meses', 'pelos', 'poderes', 'cambios', 'vuestros', 'poderes', 'seres', 'metros', 'ojos', 'platos', 'metros', 'gritos', 'haceros', 'poderes', 'podrías', 'hombres', 'aires', 'humanos', 'rehuirnos', 'años', 'poderes', 'enseñaros', 'seres', 'seres', 'dejes', 'kilómetros', 'humanos', 'monstruos', 'monos', 'dragones', 'hombres', 'hombres', 'hombres', 'años', 'hombres', 'animales', 'pájaros', 'animales', 'hombres', 'increíbles', 'hombres', 'hombres', 'hombres', 'hechos', 'maestros', 'truenos', 'metros', 'datos', 'seres', 'mamíferos', 'monos', 'hombres', 'árboles', 'láseres', 'rayos', 'tiros', 'humanos', 'animales', 'hombres', 'muertos', 'brazos', 'ojos', 'ojos', 'ojos', 'ojos', 'ojos', 'sentimientos', 'hubieses', 'hombres', 'hombres', 'seres', 'ojos', 'argumentos', 'hombres', 'confesaros', 'dragones', 'hombres', 'hombres', 'minutos', 'días', 'hombres', 'hombres', 'años', 'brazos', 'hombres', 'vuestros', 'días', 'sollozos', 'meses', 'hombres', 'machos', 'ánimos', 'debates', 'hombres', 'hombres', 'hijos', 'niños', 'hombres', 'hombres', 'hombres', 'niños', 'años', 'hombres', 'hombres', 'años', 'errores', 'seres', 'siglos', 'siglos']\n",
            "Nombres en femenino y singular: 2463 ['traducción', 'futurs', 'edición', 'edita', 'parte', 'parte', 'parte', 'parte', 'parte', 'tierra', 'agua', 'tecnología', 'vida', 'comida', 'ropa', 'casa', 'gente', 'especie', 'mayoría', 'informática', 'gente', 'compasión', 'superlujo', 'tierra', 'profundidad', 'selva', 'gente', 'parte', 'cosa', 'avería', 'alarma', 'epidemia', 'parte', 'computación', 'red', 'reacción', 'cadena', 'red', 'televisión', 'comunicación', 'sed', 'hambre', 'agua', 'gente', 'agua', 'basura', 'maquinaria', 'tierra', 'vez', 'cosa', 'forma', 'vida', 'marcha', 'emergencia', 'ropa', 'galaxia', 'hora', 'superficie', 'nave', 'subida', 'superficie', 'vez', 'treinta', 'puerta', 'escalera', 'puerta', 'puerta', 'apertura', 'avería', 'lotería', 'salvación', 'manera', 'noticia', 'minoría', 'calle', 'casa', 'muñeca', 'cuenta', 'atónita', 'sombra', 'suerte', 'calle', 'adulta', 'operación', 'búsqueda', 'mayoría', 'persona', 'clase', 'vida', 'nube', 'noche', 'posibilidad', 'salvación', 'selva', 'selva', 'valla', 'gente', 'seguridad', 'existencia', 'semana', 'información', 'gente', 'población', 'pena', 'alternativa', 'muerte', 'gente', 'compasión', 'emergencia', 'comunicación', 'selva', 'pulsera', 'selva', 'prueba', 'valla', 'valla', 'selva', 'entrada', 'puerta', 'detección', 'marcha', 'selva', 'distancia', 'estatua', 'pedrada', 'máquina', 'alegría', 'esperanza', 'valla', 'electricidad', 'valla', 'victoria', 'euforia', 'heroína', 'valla', 'emoción', 'selva', 'entrada', 'fila', 'separación', 'precaución', 'sangre', 'pareja', 'piedra', 'rama', 'cosa', 'intención', 'superioridad', 'dirección', 'manera', 'tierra', 'incredulidad', 'vida', 'cabeza', 'lucecita', 'salida', 'emergencia', 'fila', 'compuerta', 'gente', 'identificación', 'experiencia', 'noche', 'noche', 'puerta', 'idea', 'ventana', 'vez', 'casa', 'humanidad', 'sensación', 'nave', 'diferencia', 'noche', 'ciudad', 'luz', 'dirección', 'persona', 'tecnología', 'parte', 'gente', 'galaxia', 'nave', 'órbita', 'cápsula', 'nave', 'órbita', 'cápsula', 'nave', 'humanidad', 'persona', 'supervivencia', 'especie', 'razón', 'carta', 'seguridad', 'hora', 'decisión', 'historia', 'Recordad', 'democracia', 'humanidad', 'oportunidad', 'cuenta', 'inocencia', 'imaginación', 'aportación', 'supervivencia', 'humanidad', 'mayoría', 'alegría', 'mujer', 'nave', 'vida', 'suerte', 'oportunidad', 'vez', 'cuenta', 'cápsula', 'supervivencia', 'nave', 'maquinaria', 'fuente', 'energía', 'felicidad', 'vida', 'naturaleza', 'tecnología', 'destrucción', 'contaminación', 'humanidad', 'tecnología', 'manera', 'humanidad', 'tecnología', 'tecnología', 'tecnología', 'tecnología', 'televisión', 'pelota', 'arena', 'discusión', 'mayoría', 'tecnología', 'tecnología', 'mano', 'ropa', 'diferencia', 'ropa', 'ropa', 'batalla', 'nieve', 'ropa', 'sesión', 'agua', 'ropa', 'mano', 'palabra', 'mayoría', 'hambre', 'muñeca', 'propuesta', 'palabra', 'mayoría', 'propuesta', 'aclamación', 'niña', 'mano', 'falta', 'comida', 'casa', 'tripa', 'niña', 'tierra', 'verdad', 'mano', 'propuesta', 'mayoría', 'práctica', 'forma', 'historia', 'vez', 'niña', 'palabra', 'enfermedad', 'vez', 'familia', 'guerra', 'gente', 'cosa', 'palabra', 'rabia', 'voz', 'verdura', 'dieta', 'mayoría', 'niña', 'palabra', 'contaminación', 'vida', 'ciudad', 'selva', 'naturaleza', 'armonía', 'alegría', 'mano', 'pelota', 'diosa', 'caza', 'protectora', 'naturaleza', 'parte', 'órbita', 'ropa', 'zona', 'piedra', 'agua', 'falta', 'vegetación', 'comida', 'sombra', 'zona', 'selva', 'cápsula', 'seguridad', 'cápsula', 'superficie', 'marcha', 'velocidad', 'atmósfera', 'cápsula', 'marcha', 'suavidad', 'fuerza', 'presión', 'compuerta', 'luz', 'inundación', 'luz', 'puerta', 'humanidad', 'superficie', 'hierba', 'tierna', 'planta', 'brisa', 'sensación', 'felicidad', 'persona', 'selva', 'bebida', 'cola', 'tierra', 'vida', 'especie', 'conversación', 'persona', 'carne', 'leche', 'granja', 'hermana', 'dieta', 'idea', 'punta', 'lanza', 'cápsula', 'entrada', 'noche', 'lanza', 'mano', 'formación', 'manera', 'idea', 'fuerza', 'alegría', 'cápsula', 'lanza', 'estatura', 'persona', 'noche', 'mañana', 'agua', 'falta', 'agua', 'formación', 'precaución', 'atención', 'cápsula', 'agua', 'corriente', 'agua', 'agua', 'agua', 'piscina', 'agua', 'diversión', 'tarde', 'cápsula', 'oscuridad', 'noche', 'cápsula', 'energía', 'vitalidad', 'cabeza', 'muslo', 'mejilla', 'pierna', 'tripa', 'madre', 'sensación', 'casa', 'verdad', 'madre', 'cosa', 'felicidad', 'hija', 'niña', 'cápsula', 'selva', 'variedad', 'manzana', 'naranja', 'sandía', 'cantidad', 'selva', 'hambre', 'alegría', 'casa', 'casa', 'niña', 'emoción', 'vida', 'vitalidad', 'energía', 'actividad', 'diversión', 'noche', 'satisfacción', 'sonrisa', 'ilusión', 'hambre', 'comida', 'cápsula', 'asamblea', 'cápsula', 'propuesta', 'ubicación', 'aldea', 'montaña', 'isla', 'asamblea', 'agua', 'mayoría', 'roca', 'fiera', 'pega', 'corriente', 'solución', 'sonrisa', 'cuerda', 'orilla', 'cintura', 'manera', 'pared', 'isla', 'tirolina', 'escalera', 'isla', 'orilla', 'propuesta', 'obra', 'ingeniería', 'emoción', 'tirolina', 'vez', 'tirolina', 'mirada', 'mirada', 'decisión', 'isla', 'tirolina', 'altura', 'agua', 'tirolina', 'tribu', 'señal', 'victoria', 'alegría', 'isla', 'cima', 'residencia', 'población', 'cabaña', 'casa', 'piedra', 'habitación', 'mayoría', 'casa', 'madriguera', 'lluvia', 'lluvia', 'temperatura', 'caída', 'casa', 'tempestad', 'ocasión', 'piedra', 'casa', 'forma', 'construcción', 'cueva', 'persona', 'ropa', 'verdad', 'falta', 'ropa', 'ocasión', 'sabiduría', 'ropa', 'cápsula', 'desnuda', 'noche', 'muslo', 'piel', 'carita', 'mano', 'cabeza', 'niña', 'isla', 'cosecha', 'dirección', 'vegetación', 'dificultad', 'clase', 'lechuga', 'planta', 'rosada', 'selva', 'paciencia', 'absorta', 'flor', 'perfume', 'cuenta', 'flor', 'pantera', 'suerte', 'valentía', 'lanza', 'pantera', 'niña', 'fiera', 'distancia', 'fiera', 'velocidad', 'pantera', 'tribu', 'niña', 'respiración', 'mirada', 'flor', 'sorpresa', 'respuesta', 'vez', 'impresión', 'ocasión', 'tribu', 'excursión', 'zona', 'vegetación', 'cría', 'hiena', 'madre', 'madre', 'pobrecita', 'pena', 'cría', 'hambre', 'fiera', 'coma', 'mascota', 'fiera', 'familia', 'leche', 'carne', 'carne', 'falta', 'chica', 'entrepierna', 'hembra', 'cría', 'madre', 'cría', 'madre', 'tribu', 'amiga', 'juguetón', 'exploración', 'selva', 'luz', 'hierba', 'altura', 'tribu', 'excepción', 'tranquilidad', 'distancia', 'luz', 'hierba', 'intensidad', 'piel', 'cabellera', 'alegría', 'alegría', 'gracia', 'escena', 'emoción', 'gratitud', 'belleza', 'garganta', 'felicidad', 'voz', 'emoción', 'voz', 'gente', 'boca', 'hierba', 'gloria', 'familia', 'presencia', 'pantera', 'vez', 'tripa', 'camada', 'cola', 'familia', 'tribu', 'convivencia', 'humana', 'selva', 'selva', 'hambre', 'tribu', 'tribu', 'cacería', 'batalla', 'pantera', 'fuerza', 'lanza', 'garra', 'suerte', 'superioridad', 'tribu', 'victoria', 'persona', 'muerte', 'hiena', 'pata', 'herida', 'hiena', 'persona', 'tribu', 'madre', 'isla', 'isla', 'isla', 'hambre', 'isla', 'posibilidad', 'tirolina', 'cuerda', 'cuerda', 'manera', 'agua', 'selva', 'casa', 'cuerda', 'verdad', 'cuerda', 'persona', 'hambre', 'vez', 'hambre', 'suerte', 'población', 'hambre', 'parte', 'selva', 'tribu', 'vida', 'diferencia', 'echo', 'alma', 'madre', 'muerte', 'madre', 'alma', 'alma', 'energía', 'selva', 'alegría', 'paz', 'sabiduría', 'alma', 'alma', 'vez', 'montaña', 'montaña', 'roca', 'presencia', 'sensación', 'voz', 'felicidad', 'tribu', 'mayoría', 'voz', 'montaña', 'forma', 'cabeza', 'alma', 'alma', 'alma', 'persona', 'alma', 'verdad', 'alma', 'persona', 'rama', 'persona', 'piel', 'verdad', 'parte', 'alma', 'esencia', 'pérdida', 'alma', 'montaña', 'alma', 'alma', 'alma', 'cosa', 'alma', 'mente', 'alma', 'sintonía', 'armonía', 'selva', 'plaga', 'vez', 'docena', 'loción', 'mayoría', 'isla', 'cueva', 'cueva', 'asamblea', 'solución', 'cueva', 'puerta', 'cueva', 'casa', 'piedra', 'isla', 'casa', 'cueva', 'piedra', 'red', 'puerta', 'cueva', 'red', 'puerta', 'cueva', 'manera', 'noche', 'cueva', 'cueva', 'cosa', 'cueva', 'noche', 'tribu', 'forma', 'salud', 'mañana', 'casa', 'tribu', 'casa', 'voz', 'separación', 'muerte', 'vida', 'tierra', 'naturaleza', 'manera', 'alma', 'vida', 'muerte', 'cosa', 'separación', 'alma', 'persona', 'alma', 'naturaleza', 'naturaleza', 'realidad', 'materia', 'materia', 'materia', 'parte', 'persona', 'materia', 'materia', 'materia', 'alma', 'felicidad', 'vida', 'célula', 'célula', 'vista', 'célula', 'casa', 'armonía', 'naturaleza', 'práctica', 'ropa', 'agricultura', 'ganadería', 'tecnología', 'naturaleza', 'manera', 'selva', 'mayoría', 'normalidad', 'naturaleza', 'raíz', 'planta', 'naturaleza', 'disposición', 'naturaleza', 'plaga', 'tribu', 'tribu', 'cantidad', 'tribu', 'cantidad', 'asamblea', 'naturaleza', 'zona', 'distancia', 'recolección', 'manera', 'decisión', 'asamblea', 'vida', 'noche', 'selva', 'luz', 'serpiente', 'piel', 'selva', 'tristeza', 'piedra', 'asamblea', 'isla', 'manera', 'niña', 'manera', 'niña', 'generación', 'madre', 'asamblea', 'historia', 'parte', 'ropa', 'zona', 'nave', 'ciudad', 'cúpula', 'lluvia', 'nieve', 'cúpula', 'tierra', 'asamblea', 'falta', 'televisión', 'realidad', 'falta', 'falta', 'asamblea', 'decisión', 'comunidad', 'gente', 'vida', 'parte', 'ciudad', 'investigación', 'persona', 'excepción', 'colonización', 'robótica', 'inacción', 'ley', 'existencia', 'ley', 'excepción', 'pregunta', 'curiosidad', 'asamblea', 'gente', 'vida', 'cuenta', 'ingeniería', 'vida', 'noche', 'gente', 'programación', 'mañana', 'vida', 'pesadilla', 'dictadura', 'cabeza', 'camarera', 'sopa', 'sopa', 'persona', 'confianza', 'hora', 'sopa', 'sopa', 'broma', 'gracia', 'broma', 'camarera', 'sopa', 'novia', 'tripa', 'consciencia', 'persona', 'persona', 'especie', 'memoria', 'fábrica', 'vez', 'nave', 'nave', 'misión', 'parte', 'ropa', 'zona', 'franja', 'cápsula', 'carne', 'falta', 'asamblea', 'falta', 'cabaña', 'calma', 'casa', 'cápsula', 'enciclopedia', 'humanidad', 'historia', 'energía', 'batería', 'selva', 'noche', 'casa', 'enciclopedia', 'tecnología', 'pena', 'enciclopedia', 'información', 'lástima', 'madera', 'cofre', 'idea', 'vida', 'máquina', 'falta', 'humedad', 'piedra', 'información', 'pared', 'persona', 'piedra', 'lluvia', 'cueva', 'cueva', 'luz', 'lluvia', 'piedra', 'idea', 'memoria', 'cueva', 'información', 'cabeza', 'frase', 'frase', 'mente', 'espiritualidad', 'telepatía', 'telequinesia', 'espiritualidad', 'mente', 'alma', 'meditación', 'telepatía', 'transmisión', 'distancia', 'telequinesia', 'capacidad', 'fuerza', 'información', 'enciclopedia', 'mente', 'cápsula', 'cofre', 'madera', 'cofre', 'piedra', 'cofre', 'madera', 'cueva', 'parte', 'tribu', 'telequinesia', 'piedra', 'enfermedad', 'cosa', 'madre', 'pérdida', 'cosa', 'mona', 'cogida', 'cría', 'cría', 'leche', 'cría', 'leche', 'leche', 'mona', 'hembra', 'mascota', 'tribu', 'descendencia', 'presencia', 'piedra', 'población', 'asamblea', 'situación', 'gente', 'selva', 'manera', 'guerra', 'piedra', 'idea', 'zona', 'busca', 'línea', 'naturaleza', 'piedra', 'casa', 'manera', 'vegetación', 'idea', 'mujer', 'confianza', 'manera', 'mitad', 'cosa', 'vez', 'población', 'orden', 'asamblea', 'población', 'cuenta', 'tribu', 'carga', 'descendencia', 'salud', 'memoria', 'piedra', 'dificultad', 'meditación', 'telequinesia', 'reproducción', 'herencia', 'selección', 'salud', 'habilidad', 'selva', 'idea', 'selección', 'mayoría', 'temporada', 'piedra', 'falta', 'copia', 'falta', 'copia', 'persona', 'vida', 'parte', 'cueva', 'aldea', 'vida', 'escuela', 'memoria', 'mano', 'parte', 'mujer', 'luchadora', 'pantera', 'puntería', 'forma', 'fuerza', 'mujer', 'concentración', 'mayoría', 'fuerza', 'mujer', 'piedra', 'puntería', 'puntería', 'fuerza', 'telepatía', 'distancia', 'asamblea', 'mujer', 'piedra', 'casa', 'habitación', 'historia', 'escuela', 'parte', 'cuenta', 'tradición', 'atención', 'música', 'mujer', 'hija', 'casa', 'mente', 'escuela', 'gente', 'escuela', 'maestra', 'memoria', 'vida', 'distancia', 'puntería', 'mamá', 'casualidad', 'hija', 'muñeca', 'verdad', 'mente', 'mente', 'mente', 'mamá', 'prueba', 'mente', 'madre', 'niña', 'tripa', 'continúas', 'tripa', 'mamá', 'hija', 'noche', 'estés', 'tribu', 'experiencia', 'mamá', 'selva', 'verdad', 'asamblea', 'manía', 'tribu', 'mamá', 'selva', 'tarde', 'asamblea', 'mujer', 'madre', 'verdad', 'preguntarte', 'niña', 'intención', 'cuenta', 'niña', 'capacidad', 'mayoría', 'orden', 'fuerza', 'altura', 'impresión', 'verdad', 'cabeza', 'niña', 'intención', 'verdad', 'forma', 'forma', 'manera', 'verdad', 'demostración', 'asamblea', 'asamblea', 'casa', 'mañana', 'hora', 'demostración', 'noche', 'idea', 'demostración', 'madre', 'cabeza', 'hija', 'madre', 'hija', 'mamá', 'razón', 'mamá', 'hija', 'asamblea', 'falta', 'cuenta', 'madre', 'noche', 'cara', 'palmera', 'mano', 'piedra', 'fuerza', 'mente', 'cabeza', 'velocidad', 'piedra', 'mirada', 'piedra', 'tentación', 'capacidad', 'puntería', 'tonta', 'habilidad', 'madre', 'mente', 'verdad', 'demostración', 'prueba', 'voz', 'expresión', 'cara', 'demostración', 'niña', 'mirada', 'profecía', 'niña', 'tribu', 'muerte', 'turbación', 'voz', 'bisabuela', 'bisabuela', 'mujer', 'sensibilidad', 'niña', 'tribu', 'aniquilación', 'tribu', 'asamblea', 'profecía', 'niña', 'heroína', 'asamblea', 'madre', 'hija', 'asamblea', 'descendencia', 'cadena', 'transmisión', 'profecía', 'falta', 'hija', 'salvadora', 'profecía', 'parte', 'distancia', 'niña', 'engreída', 'profecía', 'mente', 'capacidad', 'mente', 'voz', 'expresión', 'cara', 'persona', 'persona', 'mente', 'voluntad', 'mente', 'cosa', 'mente', 'violencia', 'salvajada', 'criatura', 'tribu', 'idea', 'voz', 'persona', 'comunidad', 'tirana', 'puntería', 'corona', 'flecha', 'rama', 'parte', 'cara', 'alegría', 'tristeza', 'tumba', 'ojeada', 'suficiencia', 'cuenta', 'desesperación', 'cuestión', 'tribu', 'voluntad', 'humildad', 'superioridad', 'persona', 'habla', 'profecía', 'responsabilidad', 'actitud', 'altura', 'ayuda', 'tribu', 'madurez', 'sabiduría', 'mujer', 'tribu', 'época', 'misión', 'palabra', 'distancia', 'eternidad', 'cabeza', 'vocecita', 'lástima', 'misión', 'misión', 'pista', 'humildad', 'sabiduría', 'niña', 'mujer', 'comunidad', 'región', 'velocidad', 'misión', 'cabeza', 'voz', 'vez', 'cosa', 'conexión', 'tribu', 'misión', 'estés', 'voz', 'mano', 'casa', 'madre', 'mochila', 'calabaza', 'agua', 'bendición', 'misión', 'paz', 'madre', 'madre', 'mano', 'vuelta', 'escena', 'distancia', 'cuenta', 'mirada', 'selva', 'selva', 'tribu', 'cosa', 'tribu', 'fiera', 'mano', 'flecha', 'cosa', 'noche', 'casa', 'fiera', 'rama', 'rama', 'manera', 'fiera', 'rama', 'rama', 'barrera', 'rama', 'cama', 'selva', 'manera', 'estabilidad', 'rama', 'pierna', 'rama', 'misión', 'prisa', 'pausa', 'fiera', 'tribu', 'alternativa', 'flecha', 'piedra', 'telequinesia', 'piedra', 'fuerza', 'mente', 'piedra', 'vez', 'fuerza', 'piedra', 'falta', 'selva', 'sierra', 'montaña', 'vez', 'vida', 'cosa', 'cuenta', 'selva', 'llana', 'sierra', 'altura', 'vegetación', 'vez', 'verdad', 'falta', 'cima', 'agua', 'noche', 'noche', 'misión', 'ocasión', 'alba', 'luz', 'mañana', 'compasión', 'piel', 'sombra', 'montaña', 'piedra', 'piel', 'cabeza', 'fiebre', 'pendiente', 'vida', 'noche', 'tarde', 'piedra', 'noche', 'suerte', 'luna', 'medianoche', 'hojarasca', 'rama', 'noche', 'fiera', 'indefensa', 'suerte', 'fiera', 'noche', 'fiebre', 'sierra', 'selva', 'semana', 'semana', 'sierra', 'zona', 'montaña', 'casa', 'misión', 'cima', 'piel', 'subida', 'piel', 'morena', 'tribu', 'cabeza', 'cabeza', 'cabaña', 'selva', 'subida', 'cima', 'meta', 'especie', 'lagartija', 'piel', 'piedra', 'especie', 'salamanquesa', 'madriguera', 'presencia', 'niña', 'entrada', 'madriguera', 'clase', 'mitología', 'madriguera', 'caza', 'selva', 'selva', 'caza', 'selva', 'sierra', 'tribu', 'profecía', 'tribu', 'noche', 'hora', 'madriguera', 'entrada', 'madriguera', 'noche', 'salida', 'cima', 'entrada', 'madriguera', 'entrada', 'suerte', 'temperatura', 'roca', 'temperatura', 'noche', 'salida', 'madriguera', 'montaña', 'forma', 'entrada', 'pared', 'piedra', 'cabeza', 'madriguera', 'trampa', 'vida', 'niña', 'suerte', 'mente', 'velocidad', 'cabeza', 'sangre', 'sustancia', 'dragón', 'cabeza', 'manera', 'madriguera', 'niña', 'cabeza', 'casa', 'masa', 'niña', 'nariz', 'boca', 'madriguera', 'capacidad', 'entrada', 'madriguera', 'precaución', 'penita', 'garganta', 'niña', 'manera', 'cría', 'telequinesia', 'telequinesia', 'alternativa', 'sensación', 'precaución', 'vida', 'seguridad', 'madriguera', 'especie', 'intención', 'especie', 'muerte', 'asesina', 'aluvión', 'cima', 'lucha', 'especie', 'roca', 'tierra', 'madriguera', 'tierra', 'salida', 'situación', 'cosa', 'energía', 'tierra', 'energía', 'encontrarte', 'tribu', 'raza', 'misión', 'falta', 'tribu', 'muerte', 'verdad', 'voz', 'personalidad', 'hija', 'misión', 'solución', 'atención', 'madriguera', 'cárcel', 'salida', 'solución', 'sugerencia', 'montaña', 'noche', 'manera', 'vida', 'vez', 'manera', 'tribu', 'telequinesia', 'manera', 'levitación', 'telequinesia', 'cosa', 'fuerza', 'mente', 'fuerza', 'atención', 'suerte', 'altura', 'vez', 'realidad', 'vez', 'hija', 'hija', 'alegría', 'confiada', 'energía', 'facilidad', 'alegría', 'altura', 'izquierda', 'derecha', 'emoción', 'confianza', 'vez', 'madriguera', 'vez', 'vez', 'cuenta', 'verdad', 'mochila', 'roca', 'pared', 'altura', 'precaución', 'pared', 'proximidad', 'tierra', 'seguridad', 'verdad', 'referencia', 'inmensidad', 'piel', 'costra', 'sangre', 'dragón', 'pizca', 'sustancia', 'ansia', 'agua', 'sed', 'cabaña', 'noche', 'casa', 'noche', 'sangre', 'hambre', 'agua', 'garganta', 'mochila', 'vida', 'sonrisa', 'satisfacción', 'cara', 'cosa', 'voltereta', 'posición', 'forma', 'estabilidad', 'cabeza', 'cabeza', 'puntería', 'clase', 'hambre', 'vida', 'cosa', 'misión', 'puesta', 'falta', 'mochila', 'cabaña', 'hora', 'mochila', 'cabaña', 'montaña', 'rapidísima', 'mano', 'cima', 'piedra', 'posición', 'sierra', 'recta', 'selva', 'superficie', 'selva', 'selva', 'volvía', 'selva', 'niña', 'belleza', 'zona', 'montaña', 'vegetación', 'sierra', 'cascada', 'intención', 'agua', 'fuerza', 'cascada', 'corriente', 'cascada', 'agua', 'cabaña', 'misión', 'intención', 'tribu', 'pena', 'velocidad', 'velocidad', 'postura', 'velocidad', 'posición', 'cabeza', 'coronilla', 'dirección', 'idea', 'dirección', 'velocidad', 'distancia', 'altitud', 'montaña', 'antelación', 'cabeza', 'sensación', 'velocidad', 'especie', 'armadura', 'corteza', 'velocidad', 'manera', 'curiosidad', 'cabaña', 'dirección', 'volvía', 'cabaña', 'partida', 'dirección', 'noche', 'clase', 'especie', 'arena', 'noche', 'planta', 'forma', 'vida', 'superficie', 'selva', 'hierba', 'conclusión', 'selva', 'vida', 'cansada', 'madre', 'tribu', 'cima', 'casa', 'cabaña', 'vez', 'molestia', 'tripa', 'sangre', 'herida', 'cabaña', 'sangre', 'entrepierna', 'regla', 'vez', 'entrepierna', 'importancia', 'niña', 'mujer', 'señal', 'hora', 'tribu', 'sangre', 'cabeza', 'ida', 'pausa', 'piedra', 'noche', 'rama', 'rama', 'cosa', 'rutina', 'comparación', 'ida', 'gracia', 'humana', 'intención', 'vida', 'normalidad', 'caída', 'rama', 'sonrisa', 'satisfacción', 'vida', 'pantera', 'pantera', 'fiera', 'pena', 'fiera', 'humana', 'cena', 'presa', 'pantera', 'mente', 'fuerza', 'pantera', 'velocidad', 'aldea', 'desierta', 'tribu', 'vez', 'aldea', 'alegría', 'tribu', 'aldea', 'misión', 'especie', 'vida', 'sociedad', 'fuera', 'estrategia', 'aproximación', 'tribu', 'madre', 'desgracia', 'tribu', 'fiera', 'acecha', 'presa', 'especie', 'traidora', 'atención', 'vida', 'tribu', 'aldea', 'exploradora', 'persona', 'situación', 'música', 'cosa', 'comparación', 'música', 'voz', 'alma', 'intensidad', 'cuenta', 'cosa', 'selva', 'soledad', 'semana', 'visión', 'normalidad', 'descubriera', 'atención', 'atención', 'respuesta', 'pregunta', 'curiosidad', 'mujer', 'atención', 'música', 'vez', 'mujer', 'manera', 'conversáis', 'verdad', 'mujer', 'vez', 'mano', 'muñeca', 'dulzura', 'vez', 'verdad', 'mujer', 'mujer', 'paciencia', 'agilidad', 'pantera', 'copa', 'palmera', 'mano', 'boca', 'expresión', 'cabeza', 'boca', 'madre', 'niña', 'cabeza', 'cara', 'madre', 'claridad', 'tristeza', 'salida', 'madre', 'cabeza', 'cabeza', 'pena', 'alma', 'mejilla', 'intuición', 'empatía', 'pena', 'desesperación', 'madre', 'pena', 'generación', 'generación', 'carencia', 'falta', 'confianza', 'alegría', 'costumbre', 'humanidad', 'crueldad', 'tradición', 'postura', 'aplastándola', 'cama', 'cabeza', 'cara', 'cuenta', 'experiencia', 'confianza', 'familiaridad', 'expresión', 'turbación', 'sorpresa', 'madre', 'pantera', 'bruja', 'alucinación', 'bruja', 'palabra', 'vida', 'escuela', 'noche', 'historia', 'humanidad', 'época', 'historia', 'escuela', 'escuela', 'leyenda', 'bruja', 'mujer', 'devora', 'mujer', 'magia', 'magia', 'entrepierna', 'alma', 'manera', 'razón', 'intuición', 'magia', 'ama', 'ama', 'cuenta', 'contradicción', 'cara', 'alma', 'vez', 'magia', 'magia', 'capacidad', 'tonelada', 'magia', 'verdad', 'bruja', 'sonrisa', 'pillina', 'bruja', 'forma', 'casa', 'cara', 'noche', 'verdad', 'casa', 'cosa', 'tribu', 'excusa', 'misión', 'cumpliese', 'verdad', 'aldea', 'vez', 'presencia', 'verdad', 'mujer', 'mujer', 'razón', 'razón', 'verte', 'vida', 'garganta', 'cabeza', 'sonrisa', 'pillina', 'palmera', 'miró', 'cara', 'alarma', 'telequinesia', 'palabra', 'despedida', 'mano', 'rama', 'vista', 'excursión', 'aldea', 'cama', 'barandilla', 'verdad', 'bruja', 'mañana', 'pregunta', 'broma', 'mujer', 'madre', 'vida', 'mujer', 'música', 'historia', 'telequinesia', 'levitación', 'enferma', 'energía', 'desolación', 'fuerza', 'manera', 'hambre', 'paciencia', 'aldea', 'estés', 'tribu', 'loca', 'pena', 'vida', 'sensación', 'vida', 'casa', 'verte', 'tempestad', 'enfermedad', 'tribu', 'culpa', 'enfermedad', 'razón', 'actitud', 'vida', 'ocasión', 'actitud', 'calma', 'Hagámoslo', 'gloria', 'vida', 'salud', 'verdad', 'locura', 'normalidad', 'enfermedad', 'cuestión', 'enfermedad', 'enfermedad', 'tribu', 'vez', 'vida', 'mujer', 'amiga', 'enfermedad', 'mujer', 'seguridad', 'diferencia', 'amiga', 'razón', 'alegría', 'música', 'música', 'sensación', 'música', 'realidad', 'fantasía', 'vez', 'pasión', 'autorización', 'asamblea', 'población', 'hija', 'mujer', 'descendencia', 'vez', 'posibilidad', 'reproducción', 'mujer', 'norma', 'vuelta', 'tribu', 'hora', 'mañana', 'hora', 'aldea', 'mochila', 'volvía', 'bienvenida', 'energía', 'vitalidad', 'inteligencia', 'sensatez', 'atención', 'fiera', 'sonrisa', 'madre', 'observándola', 'boca', 'hija', 'alegría', 'madre', 'mujer', 'bondad', 'pureza', 'madre', 'madre', 'cosa', 'asamblea', 'reverencia', 'cabeza', 'alegría', 'tribu', 'asamblea', 'misión', 'bienvenida', 'humildad', 'experiencia', 'persona', 'tribu', 'ocasión', 'vida', 'suerte', 'casualidad', 'soledad', 'comunidad', 'supervivencia', 'diferencia', 'niña', 'mujer', 'comunidad', 'soledad', 'escuela', 'asamblea', 'vida', 'soledad', 'ocasión', 'vida', 'altura', 'madre', 'forma', 'mamá', 'demostración', 'demostración', 'ponéis', 'persona', 'culpa', 'desgracia', 'extraña', 'tribu', 'engreída', 'rabia', 'monstruosidad', 'asamblea', 'voz', 'alarma', 'pantera', 'fuerza', 'pantera', 'velocidad', 'manera', 'vida', 'fiera', 'oportunidad', 'elección', 'finalidad', 'supervivencia', 'tribu', 'vida', 'razón', 'sensatez', 'novedad', 'situación', 'manera', 'mejora', 'historia', 'boca', 'vez', 'razón', 'razón', 'verdad', 'intransigencia', 'mujer', 'razón', 'estrategia', 'verdad', 'manera', 'niña', 'maestra', 'escuela', 'edad', 'historia', 'alumna', 'telequinesia', 'aversión', 'manía', 'rabia', 'boca', 'mujer', 'manera', 'conclusión', 'selva', 'vida', 'tierra', 'cima', 'tierra', 'destrucción', 'tribu', 'profecía', 'tribu', 'voz', 'cabeza', 'misión', 'verdad', 'asamblea', 'intención', 'escucharte', 'tontería', 'alma', 'loca', 'lástima', 'cosa', 'presencia', 'versión', 'historia', 'actividad', 'música', 'cosa', 'música', 'característica', 'música', 'vida', 'misión', 'cultura', 'idea', 'realidad', 'realidad', 'vida', 'escuela', 'capacidad', 'cosa', 'levitación', 'tribu', 'falta', 'mujer', 'mujer', 'dirección', 'altura', 'especie', 'ciudad', 'piedra', 'nave', 'forma', 'vida', 'nave', 'descripción', 'cola', 'persona', 'presencia', 'altura', 'distancia', 'piedra', 'nave', 'especie', 'vez', 'roca', 'nave', 'catástrofe', 'conmoción', 'madre', 'cara', 'expresión', 'cara', 'vida', 'mano', 'cara', 'cara', 'cabeza', 'vez', 'alma', 'persona', 'madre', 'manera', 'catástrofe', 'asamblea', 'palabra', 'heroína', 'vida', 'tribu', 'admiración', 'sorpresa', 'cabeza', 'opinión', 'invocación', 'conclusión', 'casualidad', 'duda', 'señal', 'razón', 'dulzura', 'realidad', 'cosa', 'manera', 'oportunidad', 'misión', 'profecía', 'garantía', 'sinceridad', 'honradez', 'idea', 'atención', 'demostración', 'vista', 'mañana', 'asamblea', 'mano', 'manera', 'confianza', 'intimidad', 'compostura', 'asamblea', 'asamblea', 'responsabilidad', 'altura', 'circunstancia', 'entonación', 'persona', 'bestia', 'experiencia', 'sangre', 'palabra', 'madre', 'mujer', 'sangre', 'mujer', 'tripa', 'sangre', 'mujer', 'leche', 'sensación', 'mujer', 'casa', 'mujer', 'mujer', 'culpa', 'cosa', 'vida', 'sensación', 'pérdida', 'tristeza', 'mujer', 'pena', 'aberración', 'naturaleza', 'noche', 'mujer', 'vida', 'mujer', 'conexión', 'fase', 'vida', 'cabeza', 'mano', 'demostración', 'diferencia', 'vida', 'voz', 'idea', 'reunión', 'calma', 'prueba', 'alegría', 'noche', 'formación', 'reunión', 'escuela', 'literatura', 'manera', 'hija', 'criatura', 'viejecita', 'historia', 'historia', 'generación', 'persona', 'diferencia', 'mitad', 'humanidad', 'vida', 'mitad', 'exterminadora', 'humanidad', 'alegría', 'salud', 'plenitud', 'historia', 'paz', 'armonía', 'naturaleza', 'galaxia', 'gloria']\n",
            "Nombres en femenino y plural: 917 ['personas', 'personas', 'personas', 'enfermas', 'máquinas', 'escuelas', 'máquinas', 'personas', 'personas', 'máquinas', 'personas', 'bombas', 'partes', 'centrales', 'puertas', 'escuelas', 'personas', 'casas', 'personas', 'ciudades', 'personas', 'ciudades', 'hierbas', 'ciudades', 'personas', 'herramientas', 'cosas', 'semanas', 'centrales', 'semanas', 'horas', 'baterías', 'horas', 'probabilidades', 'trillones', 'horas', 'horas', 'informaciones', 'puertas', 'seguirías', 'calles', 'personas', 'docenas', 'edades', 'centrales', 'semanas', 'horas', 'corrientes', 'personas', 'dices', 'vidas', 'personas', 'reparaciones', 'circunstancias', 'vías', 'supones', 'cosas', 'manos', 'manos', 'voces', 'personas', 'horas', 'venas', 'fieras', 'ramas', 'fieras', 'compuertas', 'espaldas', 'fieras', 'piedras', 'ramas', 'astronautas', 'horas', 'fieras', 'personas', 'vidas', 'instrucciones', 'personas', 'personas', 'cosas', 'armas', 'comodidades', 'comodidades', 'armas', 'máquinas', 'cartas', 'bolas', 'familias', 'niñas', 'personas', 'personas', 'cosas', 'madres', 'hijas', 'horas', 'partes', 'escuelas', 'escuelas', 'casas', 'herramientas', 'reglas', 'notas', 'escuelas', 'cosas', 'armas', 'personas', 'judías', 'caras', 'horas', 'mujeres', 'guerras', 'piedras', 'niñas', 'coordenadas', 'compuertas', 'válvulas', 'piedras', 'flores', 'voces', 'pulmones', 'hojas', 'ramas', 'terrícolas', 'antenas', 'cosas', 'plantas', 'parecidas', 'fieras', 'personas', 'lanzas', 'fieras', 'manos', 'canciones', 'ramas', 'herramientas', 'raciones', 'aguas', 'carcajadas', 'horas', 'canciones', 'plantas', 'reservas', 'plantas', 'bayas', 'formas', 'variedades', 'frutas', 'tripas', 'vacaciones', 'vacaciones', 'vueltas', 'caras', 'ganas', 'cosas', 'suculentas', 'frutas', 'casas', 'contras', 'fieras', 'paredes', 'lianas', 'gracias', 'fuerzas', 'noches', 'ramas', 'hojas', 'crías', 'latitudes', 'actividades', 'paredes', 'personas', 'reforzarlas', 'haciéndolas', 'sólidas', 'mañanas', 'frutas', 'hojas', 'raíces', 'plantas', 'hierbas', 'panteras', 'hienas', 'caras', 'carcajadas', 'nerviosas', 'risas', 'risas', 'cosas', 'hienas', 'lágrimas', 'flores', 'voces', 'flores', 'encendidas', 'niñas', 'criaturas', 'voces', 'lágrimas', 'piernas', 'nubes', 'fieras', 'personas', 'semanas', 'crías', 'horas', 'especies', 'hienas', 'panteras', 'crías', 'panteras', 'panteras', 'hienas', 'lanzas', 'hienas', 'manos', 'panteras', 'heridas', 'heridas', 'hienas', 'heridas', 'lágrimas', 'hienas', 'lágrimas', 'panteras', 'panteras', 'panteras', 'panteras', 'manos', 'tirolinas', 'panteras', 'tirolinas', 'panteras', 'fieras', 'panteras', 'noches', 'vueltas', 'crías', 'caricias', 'veces', 'vivencias', 'hienas', 'personas', 'plantas', 'plantas', 'piedras', 'paredes', 'cosas', 'ocasiones', 'palabras', 'palabras', 'orejas', 'partes', 'partes', 'hojas', 'cosas', 'uñas', 'partes', 'hienas', 'palabras', 'duermas', 'nubes', 'personas', 'picaduras', 'hojas', 'matamoscas', 'cantidades', 'cabañas', 'invasiones', 'niñas', 'mujeres', 'ocasiones', 'cosas', 'cosas', 'terrícolas', 'cosas', 'terrícolas', 'terrícolas', 'personas', 'hermanas', 'criaturas', 'piedras', 'terrícolas', 'cosas', 'partes', 'terrícolas', 'zonas', 'plantas', 'hojas', 'raíces', 'terrícolas', 'posibilidades', 'panteras', 'personas', 'personas', 'personas', 'tribus', 'terrícolas', 'guerras', 'terrícolas', 'terrícolas', 'gracias', 'lágrimas', 'lágrimas', 'plantas', 'cosas', 'cosas', 'casas', 'fábricas', 'fieras', 'personas', 'materias', 'revisiones', 'máquinas', 'asambleas', 'personas', 'esclavas', 'leyes', 'órdenes', 'leyes', 'leyes', 'investigaciones', 'leyes', 'expresiones', 'guerras', 'armas', 'mecánicas', 'espadas', 'preguntas', 'personas', 'órdenes', 'personas', 'Gracias', 'adivinas', 'horas', 'máquinas', 'selvas', 'fieras', 'armas', 'casas', 'chicas', 'flechas', 'nosotras', 'personas', 'chicas', 'chicas', 'ramas', 'hojas', 'cosas', 'cuestiones', 'cosas', 'informaciones', 'letras', 'inscripciones', 'plantas', 'paredes', 'letras', 'ventanas', 'plantas', 'ventanas', 'inscripciones', 'plantas', 'ventanas', 'cosas', 'cuevas', 'ciencias', 'cuestiones', 'terrícolas', 'palabras', 'personas', 'viejas', 'chicas', 'mujeres', 'casas', 'cuevas', 'historias', 'fieras', 'lecciones', 'mujeres', 'mujeres', 'crías', 'mujeres', 'personas', 'fieras', 'personas', 'heridas', 'fieras', 'casas', 'ramas', 'personas', 'docenas', 'tribus', 'vidas', 'guerras', 'casas', 'sagradas', 'salidas', 'casas', 'cosas', 'casas', 'cuevas', 'limpias', 'raíces', 'escrituras', 'personas', 'mujeres', 'asambleas', 'mujeres', 'decisiones', 'mujeres', 'asambleas', 'mujeres', 'mujeres', 'mujeres', 'separadas', 'personas', 'personas', 'personas', 'mujeres', 'mujeres', 'enseñanzas', 'antecesoras', 'cuevas', 'mujeres', 'excluidas', 'mujeres', 'mamas', 'generaciones', 'mujeres', 'mujeres', 'mamas', 'enfermedades', 'aldeas', 'casas', 'cuevas', 'sagradas', 'estudiarlas', 'recordarlas', 'completas', 'sagradas', 'mujeres', 'viejas', 'escrituras', 'mujeres', 'competiciones', 'piedras', 'mujeres', 'terrícolas', 'mujeres', 'casas', 'niñas', 'madres', 'mujeres', 'melodías', 'mujeres', 'melodías', 'veces', 'vosotras', 'escrituras', 'mujeres', 'flechas', 'ganas', 'personas', 'preguntas', 'sufras', 'mujeres', 'amigas', 'mujeres', 'mujeres', 'cosas', 'capacidades', 'capacidades', 'habilidades', 'manos', 'piedras', 'partes', 'mujeres', 'nosotras', 'piedras', 'piedras', 'Cuántas', 'piedras', 'piedras', 'piedras', 'piedras', 'levantarlas', 'mujeres', 'piedras', 'capacidades', 'lágrimas', 'Perdona', 'tenías', 'pudieras', 'capacidades', 'noches', 'mujeres', 'mujeres', 'capacidades', 'penas', 'palmas', 'manos', 'acabas', 'competiciones', 'piedras', 'habilidades', 'excusas', 'pudieras', 'palabras', 'caras', 'mujeres', 'vosotras', 'lunas', 'palabras', 'generaciones', 'mujeres', 'extraordinarias', 'conoces', 'distancias', 'palabras', 'cosas', 'nosotras', 'habilidades', 'hojas', 'mujeres', 'vosotras', 'habilidades', 'nosotras', 'personas', 'entiendes', 'entiendes', 'rodillas', 'lágrimas', 'mujeres', 'situaciones', 'exigencias', 'nosotras', 'vuelvas', 'nosotras', 'personas', 'mujeres', 'herramientas', 'flechas', 'mujeres', 'mujeres', 'voces', 'soluciones', 'panteras', 'ramas', 'plantas', 'fieras', 'noches', 'ganas', 'ideas', 'fuerzas', 'manos', 'horas', 'fieras', 'piedras', 'piedras', 'fuerzas', 'veces', 'paredes', 'horas', 'palmas', 'manos', 'plantas', 'llenas', 'piedras', 'fuerzas', 'piernas', 'fuerzas', 'fuerzas', 'semanas', 'palmas', 'manos', 'plantas', 'mujeres', 'plantas', 'alas', 'lagartijas', 'garras', 'rocas', 'garras', 'dragones', 'dragones', 'garras', 'dragones', 'dragones', 'piedras', 'dragones', 'dragones', 'piedras', 'dragones', 'piedras', 'piedras', 'garras', 'piedras', 'garras', 'piedras', 'dragones', 'crías', 'piedras', 'crías', 'garras', 'lágrimas', 'crías', 'piedras', 'piedras', 'cosas', 'crías', 'piedras', 'muertes', 'piedras', 'dragones', 'paredes', 'piedras', 'piedras', 'toneladas', 'piedras', 'puntas', 'pulmones', 'direcciones', 'frutas', 'frutas', 'hojas', 'herramientas', 'flechas', 'carcajadas', 'tirabuzones', 'piernas', 'piernas', 'manos', 'piedras', 'piruetas', 'nubes', 'nubes', 'gracias', 'gracias', 'semanas', 'técnicas', 'velocidades', 'piernas', 'montañas', 'axilas', 'distancias', 'excursiones', 'montañas', 'frías', 'piernas', 'piedras', 'piernas', 'ramas', 'dragones', 'crías', 'normas', 'voces', 'melodías', 'horas', 'melodías', 'composiciones', 'excursiones', 'frases', 'mujeres', 'amas', 'mujeres', 'canciones', 'lamentas', 'mujeres', 'mujeres', 'vosotras', 'cosas', 'axilas', 'palabras', 'rodillas', 'piernas', 'lágrimas', 'horas', 'madres', 'madres', 'atenciones', 'víctimas', 'mujeres', 'horas', 'emociones', 'hojas', 'mujeres', 'palabras', 'palabras', 'vosotras', 'horas', 'cosas', 'escrituras', 'noches', 'historias', 'historias', 'leyendas', 'historias', 'tonterías', 'Locuras', 'mentiras', 'nosotras', 'leyendas', 'historias', 'terrícolas', 'alas', 'brujas', 'imaginarias', 'mujeres', 'cosas', 'mujeres', 'mujeres', 'amas', 'piedras', 'leyendas', 'diferencias', 'hembras', 'diferencias', 'horas', 'carcajadas', 'personas', 'cosas', 'piedras', 'piedras', 'piedras', 'piedras', 'estuvieras', 'horas', 'mujeres', 'mujeres', 'excursiones', 'ganas', 'cosas', 'excursiones', 'palabras', 'piernas', 'noches', 'piruetas', 'hojas', 'sabías', 'brujas', 'caricias', 'leyendas', 'escrituras', 'caras', 'ganas', 'fuerzas', 'tareas', 'caras', 'emociones', 'opciones', 'tareas', 'cosas', 'mujeres', 'mujeres', 'personas', 'personas', 'conclusiones', 'harías', 'experiencias', 'leyendas', 'aventuras', 'semanas', 'reglas', 'sagradas', 'plantas', 'mujeres', 'mujeres', 'lágrimas', 'pruebas', 'mujeres', 'mujeres', 'mujeres', 'vosotras', 'experiencias', 'nosotras', 'vuestras', 'lecciones', 'horas', 'piruetas', 'mujeres', 'mujeres', 'mujeres', 'Perdona', 'hermanas', 'pones', 'hermanas', 'vosotras', 'Comprendes', 'vosotras', 'mujeres', 'fieras', 'cosas', 'fieras', 'asustarlas', 'criaturas', 'hermanas', 'hijas', 'nosotras', 'asustarlas', 'matarlas', 'fieras', 'fieras', 'compañeras', 'antecesoras', 'fieras', 'mujeres', 'antecesoras', 'fieras', 'matarlas', 'matarlas', 'matarlas', 'escrituras', 'formas', 'generaciones', 'ideas', 'escrituras', 'antecesoras', 'fieras', 'matarlas', 'antecesoras', 'jovencitas', 'mujeres', 'dices', 'viejas', 'veces', 'fieras', 'fieras', 'matándolas', 'cosas', 'regiones', 'antecesoras', 'tierras', 'dragones', 'vosotras', 'cosas', 'personas', 'mujeres', 'carcajadas', 'mujeres', 'tonterías', 'nosotras', 'nosotras', 'cosas', 'nosotras', 'sagradas', 'bestias', 'mujeres', 'burradas', 'penas', 'frases', 'cosas', 'escrituras', 'asambleas', 'palabras', 'mujeres', 'palabras', 'mujeres', 'piedras', 'personas', 'piedras', 'Toneladas', 'toneladas', 'dragones', 'piedras', 'fuerzas', 'casas', 'casas', 'personas', 'mujeres', 'personas', 'mujeres', 'mujeres', 'mujeres', 'mujeres', 'hermanas', 'personas', 'nosotras', 'cosas', 'mujeres', 'cosas', 'pides', 'mujeres', 'amas', 'mujeres', 'vosotras', 'vosotras', 'atenciones', 'vueltas', 'lágrimas', 'entrañas', 'pesadillas', 'chicas', 'emociones', 'nosotras', 'rodillas', 'vuestras', 'hijas', 'amas', 'bestias', 'emociones', 'escrituras', 'mujeres', 'mujeres', 'madres', 'asambleas', 'jornadas', 'mujeres', 'mujeres', 'niñas', 'escrituras', 'completarlas', 'corregirlas', 'mujeres', 'máquinas', 'personas', 'enseñanzas', 'terrícolas', 'dianícolas']\n",
            "Nombres sin genero: 1286 ['paraíso', 'Pablo', 'Mendoza', 'Casp', 'original', 'Pablo', 'Mendoza', 'Casp', 'Pablo', 'Mendoza', 'Casp', 'ISBN', 'ÍNDICE', 'Vega', 'Terranova', 'Diana', 'siglo', 'XXI', 'Tierra', 'manera', 'Tierra', 'internet', 'supernet', 'siquiera', 'especialistas', 'robótica', 'tanto', 'prueba', 'través', 'repente', 'completo', 'consecuencia', 'pie', 'siquiera', 'habitantes', 'mano', 'Boboshima', 'nube', 'evacuación', 'general', 'Vale', 'Avisad', 'Atención', 'Setenta', 'Cincuenta', 'Treinta', 'evacuación', 'pie', 'especialista', 'Lidia', 'Lidia', 'llevar', 'Lidia', 'Lidia', 'Hola', 'Lidia', 'Marina', 'supervivientes', 'supervivientes', 'cuidarte', 'momento', 'estrellas', 'Lidia', 'Lidia', 'tal', 'vez', 'Supernet', 'favor', 'Dejad', 'caso', 'Supernet', 'Estás', 'nada', 'Vale', 'Evidentemente', 'Lidia', 'Lidia', 'punto', 'absoluto', 'Lidia', 'supervivientes', 'Lidia', 'cuanto', 'frente', 'Hacedlo', 'Piedras', 'Lidia', 'Lidia', 'punto', 'Instrucciones', 'pilotos', 'Propongo', 'supervivientes', 'Tierra', 'medio', 'estrellas', 'Lidia', 'cohete', 'continuación', 'Tierra', 'siquiera', 'piloto', 'continuación', 'representantes', 'acuerdo', 'Vale', 'Lidia', 'Tierra', 'Noa', 'acuerdo', 'Lidia', 'internet', 'juguetes', 'Terranova', 'Lidia', 'Noa', 'Terranova', 'hecho', 'Marina', 'Solo', 'siquiera', 'pobres', 'continuación', 'asamblea', 'pillapilla', 'hambre', 'juguetes', 'Noa', 'Tierra', 'contra', 'repente', 'nada', 'Noa', 'Lidia', 'Manuel', 'Lidia', 'Diana', 'Noa', 'Vega', 'Vega', 'fin', 'principio', 'Marina', 'repente', 'Desabrochaos', 'repente', 'Salva', 'Uau', 'Tierra', 'Noa', 'habitante', 'Tierra', 'Noa', 'Noa', 'Vega', 'Noa', 'Noa', 'Lidia', 'Vega', 'Terranova', 'Diana', 'Tierra', 'Buena', 'Salva', 'defensa', 'guardia', 'día', 'unión', 'continuación', 'Noa', 'Marina', 'erizo', 'mediodía', 'fin', 'tanto', 'repente', 'sorprendiera', 'medio', 'bosque', 'Vega', 'Marina', 'muslo', 'Noa', 'Noa', 'solo', 'cuna', 'Noa', 'Noa', 'pie', 'Noa', 'punto', 'Marina', 'Noa', 'Yuhuuu', 'volteretas', 'Noa', 'Noa', 'Salva', 'vez', 'medio', 'defensa', 'Salva', 'unanimidad', 'fin', 'asamblea', 'Salva', 'suertes', 'Marina', 'Tranquila', 'Vale', 'Salva', 'Noa', 'Salva', 'lado', 'continuación', 'día', 'fondo', 'Vega', 'continuación', 'prisa', 'sorprendiera', 'Vega', 'siquiera', 'menudo', 'absoluto', 'siquiera', 'Noa', 'Vaya', 'siquiera', 'Noa', 'Marina', 'desnudo', 'Noa', 'veces', 'zanahoria', 'día', 'Marina', 'repente', 'Noa', 'Marina', 'Marina', 'Busquémosla', 'Salva', 'punto', 'Salva', 'vikingo', 'Salva', 'Salva', 'Marina', 'Marina', 'gritabais', 'fantasma', 'Marina', 'fin', 'Marina', 'tiempo', 'Marina', 'pesar', 'Vega', 'Escuchad', 'gritara', 'Mirad', 'Mírala', 'Vale', 'Quedémonosla', 'Vale', 'Miradle', 'Marina', 'Pilar', 'echo', 'repente', 'partido', 'mar', 'Pilar', 'Marina', 'Pilar', 'Tierra', 'dirección', 'Noa', 'Noa', 'volteretas', 'Pilar', 'Noa', 'Ven', 'Noa', 'Noa', 'vez', 'Pilar', 'parte', 'gracias', 'Pilar', 'Pilar', 'Marina', 'Pilar', 'pobrecillos', 'humanos', 'pocas', 'nada', 'guardia', 'obstante', 'Pilar', 'Manuel', 'Manuel', 'Pilar', 'Noa', 'Manuel', 'Pilar', 'supuesto', 'fin', 'sea', 'tanto', 'Vale', 'camino', 'cabo', 'tanto', 'Marina', 'Noa', 'Noa', 'Marina', 'Marina', 'vez', 'Manuel', 'Pilar', 'Pilar', 'menudo', 'Pilar', 'enfermo', 'fin', 'menudo', 'Montaña', 'Sagrada', 'pie', 'Madre', 'Tierra', 'veces', 'Marina', 'Solo', 'realidad', 'parte', 'iguales', 'obstante', 'Marinas', 'Nooo', 'ja', 'parte', 'parte', 'realidad', 'cuántas', 'humanos', 'Solo', 'parte', 'parte', 'Marina', 'Noa', 'veces', 'vez', 'Noa', 'bandada', 'fin', 'Satisfactoria', 'lado', 'vez', 'general', 'Noa', 'Marina', 'Noa', 'Noa', 'repente', 'Noa', 'parte', 'caso', 'solo', 'parte', 'parte', 'Pareces', 'Recordad', 'Madre', 'Naturaleza', 'parte', 'revés', 'vuestro', 'Gracias', 'egoístas', 'Debéis', 'fuego', 'Madre', 'Naturaleza', 'Ellas', 'Vale', 'manos', 'Vale', 'Sois', 'Buenas', 'noches', 'Noa', 'Noa', 'continuación', 'Noa', 'Miradme', 'Noa', 'Noa', 'Noa', 'Noa', 'Noa', 'muera', 'continuación', 'vez', 'Noa', 'Noa', 'Terranova', 'habitantes', 'Terranova', 'Terranova', 'Teofrasto', 'Mirad', 'cosa', 'tanto', 'queréis', 'acuerdo', 'Teofrasto', 'Teofrasto', 'vez', 'general', 'año', 'Terranova', 'Isaac', 'Asimov', 'Vale', 'tanto', 'Teobaldo', 'Teobaldo', 'Teobaldo', 'Teobaldo', 'Terranova', 'Teobaldo', 'Teobaldo', 'Teobaldo', 'partir', 'habitantes', 'Terranova', 'principio', 'Teobaldo', 'Teobaldo', 'también', 'Teobaldo', 'Teobaldo', 'Solo', 'Alberto', 'Alberto', 'Teobaldo', 'Vale', 'mm', 'Alberto', 'Teobaldo', 'punto', 'Cortad', 'Alberto', 'Matad', 'Terranova', 'Teobaldo', 'Terranova', 'completo', 'casualidad', 'Terranova', 'Diana', 'Diana', 'solo', 'tanto', 'Lidia', 'artes', 'marciales', 'piedra', 'Lidia', 'Diana', 'Lidia', 'exteriores', 'piedra', 'menudo', 'piedra', 'piedra', 'Lidia', 'corpore', 'decir', 'habitantes', 'Diana', 'dianícolas', 'momento', 'Lidia', 'Diana', 'artes', 'marciales', 'vez', 'Diana', 'mono', 'Dádmela', 'compañía', 'manera', 'tribus', 'toda', 'costa', 'Diana', 'lado', 'cabo', 'asamblea', 'asamblea', 'siquiera', 'partir', 'Solo', 'Vale', 'acuerdo', 'menudo', 'Vale', 'artes', 'marciales', 'artes', 'general', 'Vale', 'tanto', 'largo', 'dado', 'tanto', 'artes', 'marciales', 'artes', 'móviles', 'macho', 'mamar', 'vez', 'cambio', 'menudo', 'pesar', 'Ana', 'Shira', 'Shira', 'veces', 'piedrecitas', 'sea', 'Shira', 'volteretas', 'Shira', 'Shira', 'artes', 'marciales', 'Ana', 'Shira', 'Ana', 'Shira', 'mente', 'sea', 'Dímelo', 'educarte', 'Ana', 'Shira', 'vez', 'Shira', 'Tranquila', 'Madre', 'Xanta', 'Shira', 'conocer', 'Perdonad', 'fin', 'cabo', 'Cuánta', 'Shira', 'Xanta', 'Shira', 'Perdonadme', 'Shira', 'vez', 'Shira', 'realidad', 'obstante', 'Shira', 'Shira', 'Ana', 'Shira', 'Madre', 'Madre', 'Buenas', 'Shira', 'Shira', 'también', 'Xanta', 'Dinos', 'Shira', 'Shira', 'continuación', 'lleno', 'Shira', 'Xanta', 'Shira', 'Shira', 'Mentira', 'Xanta', 'Tu', 'Dime', 'público', 'Xanta', 'fin', 'Podrías', 'Shira', 'repente', 'dirección', 'Jeilyn', 'Jeilyn', 'Larisa', 'asamblea', 'Montaña', 'Madre', 'Larisa', 'Madre', 'Larisa', 'Madre', 'secreto', 'Madre', 'principio', 'Shira', 'Madre', 'Shira', 'contrario', 'Shira', 'Jeilyn', 'Jeilyn', 'fondo', 'contra', 'caso', 'Shira', 'Podrías', 'repente', 'Shira', 'blanca', 'Podrías', 'Shira', 'Shira', 'Shira', 'Shira', 'Perdón', 'Shira', 'perdonarte', 'Shira', 'humos', 'Shira', 'Madre', 'Shira', 'Larisa', 'Montaña', 'Allá', 'duda', 'Madre', 'Ana', 'Shira', 'mar', 'rato', 'Shira', 'hayas', 'hacerte', 'cargo', 'Dame', 'Xanta', 'Shira', 'Shira', 'Shira', 'Shira', 'Moriré', 'Shira', 'Querida', 'Shira', 'Madre', 'nada', 'estarás', 'Shira', 'Xanta', 'siquiera', 'final', 'Shira', 'estés', 'Madre', 'Ana', 'Shira', 'Shira', 'Shira', 'desayunó', 'Ana', 'Hija', 'Madre', 'espíritu', 'Shira', 'absoluto', 'Shira', 'Shira', 'Shira', 'hecho', 'duerma', 'vez', 'Shira', 'sea', 'Shira', 'boca', 'forma', 'derechos', 'Shira', 'Montaña', 'Allá', 'tanto', 'prisa', 'vez', 'Shira', 'través', 'dirección', 'Shira', 'fin', 'Montaña', 'Allá', 'Shira', 'pie', 'Montaña', 'Allá', 'fin', 'Shira', 'pie', 'Montaña', 'Allá', 'Shira', 'estrellas', 'Shira', 'mediodía', 'Shira', 'efecto', 'sobrehumano', 'piedra', 'paso', 'Shira', 'Shira', 'fin', 'Montaña', 'Allá', 'momento', 'solo', 'horitas', 'Shira', 'pie', 'Montaña', 'Allá', 'fin', 'Shira', 'Shira', 'Shira', 'Shira', 'Shira', 'humanos', 'mente', 'moveré', 'decir', 'Shira', 'Shira', 'Shira', 'punto', 'culpable', 'Shira', 'Shira', 'Shira', 'Shira', 'Shira', 'pies', 'cabeza', 'mortales', 'Shira', 'sepa', 'Shira', 'cabo', 'Shira', 'Shira', 'pareces', 'Madre', 'Madre', 'Shira', 'Madre', 'Naturaleza', 'mía', 'Busca', 'encontrarás', 'Shira', 'Madre', 'Levitar', 'principio', 'Madre', 'Madre', 'Tierra', 'tu', 'lado', 'fuera', 'Shira', 'repente', 'Volar', 'Estoy', 'consiguiéndolo', 'realidad', 'repente', 'principio', 'fin', 'bosque', 'Desayunó', 'fondo', 'oreja', 'oreja', 'T', 'bailes', 'fin', 'Uau', 'hecho', 'siquiera', 'vez', 'Montaña', 'Allá', 'oeste', 'repente', 'Shira', 'iris', 'Madre', 'paraíso', 'Montaña', 'Allá', 'parte', 'bosque', 'vez', 'Shira', 'Supuestamente', 'Shira', 'partir', 'principio', 'tanto', 'tórax', 'Volar', 'fondo', 'base', 'bosques', 'Montaña', 'Allá', 'maravillolago', 'mar', 'mar', 'tanto', 'Shira', 'mar', 'básicamente', 'Repentinamente', 'tanto', 'base', 'Montaña', 'Allá', 'Madre', 'Madre', 'Tierra', 'Montaña', 'Allá', 'partir', 'Madre', 'pie', 'prisa', 'ras', 'fin', 'veces', 'Shira', 'Shira', 'fin', 'Madre', 'decir', 'Uf', 'lado', 'Shira', 'fin', 'repente', 'caso', 'Hola', 'parte', 'parte', 'Shira', 'vez', 'Ana', 'obstante', 'cuanto', 'Shira', 'soplara', 'revés', 'fuera', 'Shira', 'cambio', 'Shira', 'joven', 'particular', 'Landon', 'Shira', 'cuerpo', 'Shira', 'Landon', 'común', 'menudo', 'fuera', 'Hola', 'Landon', 'Shira', 'sea', 'habláis', 'hacerte', 'Curiosidad', 'Cantas', 'Disculpa', 'tanto', 'Landon', 'Landon', 'punto', 'Shira', 'Landon', 'Landon', 'favor', 'explicarte', 'Landon', 'momento', 'Tranquilízate', 'favor', 'Shira', 'pie', 'Landon', 'Landon', 'boca', 'Landon', 'pies', 'punto', 'Duérmete', 'niño', 'Landon', 'Shira', 'Landon', 'punto', 'completo', 'Shira', 'Landon', 'lloró', 'Shira', 'Shira', 'solo', 'Landon', 'también', 'lado', 'Shira', 'Landon', 'Shira', 'Shira', 'Shira', 'Landon', 'habláis', 'veces', 'Actitudes', 'sois', 'Leyendas', 'Aha', 'Magia', 'Shira', 'nada', 'Landon', 'Vosotras', 'cantáis', 'sabéis', 'magia', 'conocerte', 'Shira', 'Shira', 'repente', 'Shira', 'Landon', 'acuerdo', 'Shira', 'Shira', 'Shira', 'tiempo', 'copa', 'Oooh', 'Shira', 'manera', 'Landon', 'continuación', 'Pones', 'Vale', 'Landon', 'ja', 'Shira', 'Escucha', 'parte', 'tanto', 'Sabrás', 'caso', 'Shira', 'Vale', 'Landon', 'Shira', 'Landon', 'pie', 'Landon', 'vez', 'Shira', 'Landon', 'Shira', 'copa', 'Uau', 'Landon', 'ja', 'ja', 'eras', 'Landon', 'Landon', 'Shira', 'Landon', 'salgas', 'estés', 'Landon', 'Shira', 'favor', 'llores', 'nada', 'tanto', 'cosa', 'Landon', 'Cálmate', 'Shira', 'favor', 'tanto', 'Correcto', 'estás', 'sola', 'comí', 'decir', 'Landon', 'Shira', 'Día', 'menudo', 'Landon', 'Shira', 'través', 'detalle', 'Montaña', 'Allá', 'veces', 'vez', 'fin', 'Shira', 'Madre', 'Tierra', 'Shira', 'Shira', 'Ana', 'Madre', 'favor', 'Shira', 'Shira', 'Hermanas', 'fin', 'Gracias', 'Gracias', 'Estimada', 'Shira', 'hayas', 'vuelto', 'Cuéntanos', 'favor', 'punto', 'Solo', 'Madre', 'caso', 'madre', 'común', 'enriquece', 'fin', 'Muéstranoslo', 'Shira', 'espera', 'punto', 'Shira', 'Ana', 'Mamá', 'favor', 'Ana', 'Shira', 'Ana', 'Shira', 'Shira', 'Xanta', 'Continúas', 'Perdonadme', 'Shira', 'Vosotras', 'Madre', 'Andrea', 'Xanta', 'Xanta', 'todas', 'Pantera', 'Shira', 'solo', 'continuación', 'Shira', 'Madre', 'parte', 'hecho', 'sea', 'gracias', 'Madre', 'contrario', 'largo', 'Xanta', 'punto', 'Andrea', 'Xanta', 'Shira', 'Xanta', 'menudo', 'Andrea', 'Xanta', 'teoría', 'Shira', 'momento', 'momento', 'queréis', 'Xanta', 'Xanta', 'Andrea', 'maestra', 'favor', 'Xanta', 'Shira', 'Madre', 'Xanta', 'Shira', 'Montaña', 'Madre', 'Montaña', 'Allá', 'Madre', 'Presenciaste', 'Dragones', 'Madre', 'realidad', 'dínoslo', 'Shira', 'serio', 'favor', 'Escuchadme', 'Shira', 'Nosotras', 'Shira', 'tanto', 'solo', 'Shira', 'Xanta', 'Shira', 'Madre', 'base', 'Shira', 'Shira', 'Shira', 'Madre', 'Xanta', 'Xanta', 'ceniza', 'lado', 'Xanta', 'continuación', 'fin', 'asamblea', 'Shira', 'Noooo', 'monstruo', 'Métete', 'Terranova', 'base', 'es', 'decir', 'Shira', 'implacablemente', 'principio', 'Shira', 'Shira', 'Shira', 'Shira', 'punto', 'Shira', 'Ana', 'joven', 'Landon', 'lado', 'Shira', 'Shira', 'Landon', 'mano', 'Ana', 'Ana', 'Landon', 'Ana', 'Shira', 'Ana', 'supervivientes', 'vez', 'Andrea', 'Shira', 'nombre', 'Gracias', 'Estáis', 'supuesto', 'telepáticamente', 'tiempo', 'podrías', 'mentes', 'Shira', 'Andrea', 'Xanta', 'Madre', 'obstante', 'Madre', 'Xanta', 'Shira', 'quizá', 'solo', 'Xanta', 'Shira', 'Madre', 'parte', 'favor', 'Gracias', 'Madre', 'tanto', 'Madre', 'Madre', 'Vale', 'Gracias', 'Landon', 'Landon', 'Comprobaréis', 'fin', 'cabo', 'Landon', 'Shira', 'cogidos', 'punto', 'Andrea', 'Hola', 'Landon', 'Andrea', 'Landon', 'madre', 'Perdona', 'Nací', 'paraíso', 'paraíso', 'favor', 'macho', 'rechacé', 'Aún', 'macho', 'Chicas', 'Landon', 'Shira', 'Landon', 'Perdonadme', 'sufrís', 'vuestro', 'Andrea', 'asamblea', 'fin', 'cabo', 'artes', 'marciales', 'partir', 'Shira', 'Landon', 'Shira', 'asamblea', 'tal', 'Terranova', 'Diana', 'Vega', 'Noa', 'habitantes', 'Diana', 'paraíso', 'gozo', 'infinito']\n"
          ]
        }
      ]
    },
    {
      "cell_type": "markdown",
      "source": [
        "### Ejercicio 2 (Práctica 4.2)\n",
        "Utiliza el archivo \"regreso_al_pariso.txt\" para contestar a las siguientes preguntas: \n",
        "\n",
        "1. ¿Cuáles son los 5 sujetos nominales más frecuentes?\n",
        "\n",
        "2. ¿Cuáles son los 5 complementos directos más frecuentes? \n",
        "\n",
        "3. ¿Cuáles son los 5 negadores más frecuentes?"
      ],
      "metadata": {
        "id": "SccwqYD1E0Ur"
      }
    },
    {
      "cell_type": "code",
      "source": [
        "sujetosNominales=[]\n",
        "complementosDirectos=[]\n",
        "negadores=[]\n",
        "doc = nlp(archivosProcesados[0])\n",
        "for token in doc:\n",
        "  if token.text.isalpha(): #Quitamos signos puntuación\n",
        "    if token.dep_ == 'nsubj': #Si es sujeto nominal\n",
        "      sujetosNominales.append(token.text.lower()) #Los pasamos a minúscula para evitar duplicados\n",
        "    if token.dep_ == 'obj': #Si es complemento directo\n",
        "      complementosDirectos.append(token.text.lower()) #Los pasamos a minúscula para evitar duplicados\n",
        "    if 'Polarity=Neg' in token.morph or \"PronType=Neg\" in token.morph: #Si es un negador\n",
        "      negadores.append(token.text.lower()) #Los pasamos a minúscula para evitar duplicados\n",
        "\n",
        "import pandas as pd \n",
        "\n",
        "listaNominales = pd.Series(sujetosNominales) #Creamos un panda series para calcular las veces que se repiten\n",
        "resultadosNominales = listaNominales.value_counts()\n",
        "\n",
        "listaComplementos = pd.Series(complementosDirectos)  #Creamos un panda series para calcular las veces que se repiten\n",
        "resultadosComplementos = listaComplementos.value_counts()\n",
        "\n",
        "listaNegadores = pd.Series(negadores)  #Creamos un panda series para calcular las veces que se repiten\n",
        "resultadosNegadores = listaNegadores.value_counts()\n",
        "\n",
        "print(\"Cinco sujetos nominales más frecuentes:\")\n",
        "print(resultadosNominales.head(5)) #Mostramos los 5 que más se repiten\n",
        "print(\" \")\n",
        "\n",
        "print(\"Cinco complementos directos más frecuentes:\")\n",
        "print(resultadosComplementos.head(5)) #Mostramos los 5 que más se repiten\n",
        "print(\" \")\n",
        "\n",
        "print(\"Cinco negadores más frecuentes:\")\n",
        "top_cinco = resultadosNegadores.head(5);\n",
        "print(top_cinco) #Mostramos los 5 que más se repiten\n",
        "print(\" \")"
      ],
      "metadata": {
        "colab": {
          "base_uri": "https://localhost:8080/"
        },
        "id": "sWSy3tmXvQeg",
        "outputId": "de9d210f-4e1e-4e17-a3a9-6b9e635c801e"
      },
      "execution_count": 18,
      "outputs": [
        {
          "output_type": "stream",
          "name": "stdout",
          "text": [
            "Cinco sujetos nominales más frecuentes:\n",
            "que        348\n",
            "shira      116\n",
            "yo          96\n",
            "eso         61\n",
            "mujeres     47\n",
            "dtype: int64\n",
            " \n",
            "Cinco complementos directos más frecuentes:\n",
            "lo     156\n",
            "que    141\n",
            "le     121\n",
            "la      70\n",
            "me      47\n",
            "dtype: int64\n",
            " \n",
            "Cinco negadores más frecuentes:\n",
            "no         725\n",
            "nadie       49\n",
            "nada        45\n",
            "ninguna     11\n",
            "ningún       7\n",
            "dtype: int64\n",
            " \n"
          ]
        }
      ]
    },
    {
      "cell_type": "markdown",
      "source": [
        "### Ejercicio 3 (Práctica 4.2)\n",
        "Busca información y navega por el arbol de dependencias en spaCy para obtener las 3 palabras con mayor frecuencia que están conectadas con cada uno de los negadores obtenidos en el ejercicio 2."
      ],
      "metadata": {
        "id": "T4bxyEYJFBzT"
      }
    },
    {
      "cell_type": "code",
      "source": [
        "for negador in (top_cinco.index):\n",
        "  palabras_conectadas = {}  # Creamos un diccionario vacío para almacenar las palabras conectadas al negador\n",
        "\n",
        "\n",
        "  doc = nlp(archivosProcesados[0])\n",
        "  for token in doc:\n",
        "      if token.text.isalpha() and token.text.lower() == negador:  # Comprobamos si la palabra está en la lista\n",
        "            for child in token.children:\n",
        "                if child.dep_ != 'punct':  # Comprobamos si es un signo de puntuación\n",
        "                    palabra = child.text.lower()\n",
        "                    if palabra in palabras_conectadas: #Si la palabra ya se ha descubierto sumamos uno, si no la añadimos.\n",
        "                        palabras_conectadas[palabra] += 1\n",
        "                    else: \n",
        "                        palabras_conectadas[palabra] = 1\n",
        "\n",
        "  # Ordenamos el diccionario por frecuencia descendente y mostramos las 3 palabras más frecuentes\n",
        "  palabras_ordenadas = sorted(palabras_conectadas.items(), key=lambda x: x[1], reverse=True)\n",
        "  print(f\"Las 3 palabras más frecuentes conectadas al negador '{negador}' son:\")\n",
        "  for palabra, frecuencia in palabras_ordenadas[:3]:\n",
        "    print(f\"{palabra}: {frecuencia}\")"
      ],
      "metadata": {
        "colab": {
          "base_uri": "https://localhost:8080/"
        },
        "id": "SSfLpZdbw4Fh",
        "outputId": "f5514081-48c9-471a-c2e8-3862d3d0869d"
      },
      "execution_count": 19,
      "outputs": [
        {
          "output_type": "stream",
          "name": "stdout",
          "text": [
            "Las 3 palabras más frecuentes conectadas al negador 'no' son:\n",
            "obstante: 5\n",
            "pero: 4\n",
            "que: 4\n",
            "Las 3 palabras más frecuentes conectadas al negador 'nadie' son:\n",
            "a: 6\n",
            "de: 2\n",
            "casi: 1\n",
            "Las 3 palabras más frecuentes conectadas al negador 'nada' son:\n",
            "más: 6\n",
            "de: 3\n",
            "que: 2\n",
            "Las 3 palabras más frecuentes conectadas al negador 'ninguna' son:\n",
            "otra: 2\n",
            "más: 1\n",
            "Las 3 palabras más frecuentes conectadas al negador 'ningún' son:\n",
            "otro: 1\n"
          ]
        }
      ]
    },
    {
      "cell_type": "markdown",
      "metadata": {
        "id": "l8SxN0j04SAg"
      },
      "source": [
        "### Ejercicio 4 (Práctica 4.3)\n",
        "\n",
        "Utiliza el fichero \"carroll-alice.txt\" para generar un archivo resultante de sustituir todos los adjetivos existentes en el texto por sinónimos.\n",
        "\n",
        "Guardar los pares (adj_sustituido, sinónimo), junto con su frecuencia, en un nuevo documento."
      ]
    },
    {
      "cell_type": "code",
      "source": [
        "import spacy.cli\n",
        "spacy.cli.download(\"en_core_web_sm\")"
      ],
      "metadata": {
        "colab": {
          "base_uri": "https://localhost:8080/"
        },
        "id": "FG82jEKz8rOT",
        "outputId": "fddc42eb-c290-49dd-9c02-3d59ede7aa61"
      },
      "execution_count": 20,
      "outputs": [
        {
          "output_type": "stream",
          "name": "stdout",
          "text": [
            "\u001b[38;5;2m✔ Download and installation successful\u001b[0m\n",
            "You can now load the package via spacy.load('en_core_web_sm')\n"
          ]
        }
      ]
    },
    {
      "cell_type": "code",
      "source": [
        "import en_core_web_sm\n",
        "nlpEn = en_core_web_sm.load()"
      ],
      "metadata": {
        "id": "sa1HhZfR8smD"
      },
      "execution_count": 21,
      "outputs": []
    },
    {
      "cell_type": "code",
      "source": [
        "import nltk\n",
        "nltk.download('wordnet')"
      ],
      "metadata": {
        "colab": {
          "base_uri": "https://localhost:8080/"
        },
        "id": "F8EcqDVd8vxT",
        "outputId": "c661fa3a-a94d-4d3c-ee86-b9e055a486dc"
      },
      "execution_count": 22,
      "outputs": [
        {
          "output_type": "stream",
          "name": "stderr",
          "text": [
            "[nltk_data] Downloading package wordnet to /root/nltk_data...\n",
            "[nltk_data]   Package wordnet is already up-to-date!\n"
          ]
        },
        {
          "output_type": "execute_result",
          "data": {
            "text/plain": [
              "True"
            ]
          },
          "metadata": {},
          "execution_count": 22
        }
      ]
    },
    {
      "cell_type": "code",
      "source": [
        "from nltk.corpus import wordnet as wn"
      ],
      "metadata": {
        "id": "2gU735q-8yw7"
      },
      "execution_count": 23,
      "outputs": []
    },
    {
      "cell_type": "code",
      "source": [
        "for syn in wn.synsets(\"car\"):\n",
        "  print(syn, syn.definition())"
      ],
      "metadata": {
        "colab": {
          "base_uri": "https://localhost:8080/"
        },
        "id": "Frerk7LX80Gr",
        "outputId": "5b3b0c93-02a1-44f3-95cd-b8a827002fda"
      },
      "execution_count": 24,
      "outputs": [
        {
          "output_type": "stream",
          "name": "stdout",
          "text": [
            "Synset('car.n.01') a motor vehicle with four wheels; usually propelled by an internal combustion engine\n",
            "Synset('car.n.02') a wheeled vehicle adapted to the rails of railroad\n",
            "Synset('car.n.03') the compartment that is suspended from an airship and that carries personnel and the cargo and the power plant\n",
            "Synset('car.n.04') where passengers ride up and down\n",
            "Synset('cable_car.n.01') a conveyance for passengers or freight on a cable railway\n"
          ]
        }
      ]
    },
    {
      "cell_type": "code",
      "source": [
        "doc = nlpEn(archivosProcesados[1]) #Procesamos el texto\n",
        "pares={} # Creamos un map\n",
        "# Cálculo de sinónimos\n",
        "print(\"Calculando sinónimos...\")\n",
        "for token in doc:\n",
        "  if token.text.isalpha(): # Quitamos signos de puntuación\n",
        "    if token.pos == spacy.parts_of_speech.ADJ:\n",
        "      sinonimosPalabra=[] # Vector para guardar los sinónimos de cada adjetivo\n",
        "      sinonimoElegido= \"\" # Sinónimo con el que nos quedaremos\n",
        "\n",
        "      # Guardamos los sinónimos que genera cada synset\n",
        "      for synset in wn.synsets(token.text,pos=wn.ADJ):  \n",
        "        for sinonimo in synset.lemma_names():\n",
        "          sinonimoString=sinonimo.replace(\"_\",\" \")# Quitamos la _\n",
        "          sinonimosPalabra.append(sinonimoString)\n",
        "      #print(sinonimosPalabra)\n",
        "\n",
        "      # Elegimos sinónimo\n",
        "      elegido = False\n",
        "      if len(sinonimosPalabra) !=0: # Si la lista no está vacía\n",
        "        for sinonimo in sinonimosPalabra: # Nos quedamos con el primero que no sea igual que la palabra\n",
        "          if token.text.lower() != sinonimo.lower() and elegido == False: # Comparamos ambos en minúscula\n",
        "            sinonimoElegido=sinonimo\n",
        "            elegido = True\n",
        "\n",
        "        #print(sinonimoElegido)\n",
        "        if sinonimoElegido != \"\": #Realizamos algunos procesamientos\n",
        "          sinonimoProcesado= sinonimoElegido\n",
        "          if token.text.istitle(): # Si la la primera es mayúscula, ponemos la primera en mayúscula del sinónimo\n",
        "            sinonimoProcesado=sinonimoElegido.capitalize() \n",
        "          if token.text.isupper():\n",
        "            sinonimoProcesado=sinonimoElegido.upper() #Si está en mayúscula, convertirmos el sinónimo\n",
        "          pares[token.text]= sinonimoProcesado\n",
        "\n",
        "# Sustitución de adjetivos\n",
        "print(\"Calculando sustituyendo adjetivos por sinónimos...\")\n",
        "texto=archivosProcesados[1]\n",
        "numRemplazos={} # Map con el número de veces que aparece cada término\n",
        "textoOriginal=texto\n",
        "for elemento in pares:\n",
        "  num=textoOriginal.count(elemento) # Contamos el número de veces que aparece el término a reemplazar\n",
        "  numRemplazos[elemento]=num\n",
        "  texto=texto.replace(elemento,pares[elemento]) # Reemplazamos\n",
        "\n",
        "# Guardado de texto con el archivo reemplazado\n",
        "print(\"Guardando archivo con adjetivos reemplazados por sinónimos...\")\n",
        "archivo = open(\"archivo_sinonimizado.txt\", \"w\")\n",
        "archivo.write(str(texto))\n",
        "archivo.close\n",
        "\n",
        "# Guardado de archivo de pares y frecuencia\n",
        "print(\"Generando archivo de frecuencias...\")\n",
        "f = open(\"reemplazos.txt\", \"w\") \n",
        "for elemento in pares:\n",
        "  f.write(elemento)\n",
        "  f.write(\" -> \" )\n",
        "  f.write(pares[elemento])\n",
        "  f.write(\" || Frecuencia: \" )\n",
        "  f.write(str(numRemplazos[elemento]))\n",
        "  f.write(\"/\")\n",
        "  f.write(str(len(pares)))\n",
        "  f.write(\" = \")\n",
        "  f.write(str(numRemplazos[elemento]/len(pares)))\n",
        "  f.write(\"\\n\")\n",
        "f.close()\n",
        "\n",
        "#Comprobamos contenido de los archivos\n",
        "arch1 = open(\"reemplazos.txt\", \"r\")\n",
        "print(arch1.read())\n",
        "arch2 = open(\"archivo_sinonimizado.txt\", \"r\")\n",
        "#print(arch2.read())\n",
        "      \n",
        "    "
      ],
      "metadata": {
        "id": "SuGqXwN4x_2B",
        "colab": {
          "base_uri": "https://localhost:8080/"
        },
        "outputId": "dec8afde-5470-488e-96db-00975ff4dab6"
      },
      "execution_count": 40,
      "outputs": [
        {
          "output_type": "stream",
          "name": "stdout",
          "text": [
            "Calculando sinónimos...\n",
            "Calculando sustituyendo adjetivos por sinónimos...\n",
            "Guardando archivo con adjetivos reemplazados por sinónimos...\n",
            "Generando archivo de frecuencias...\n",
            "tired -> banal || Frecuencia: 7/320 = 0.021875\n",
            "own -> ain || Frecuencia: 135/320 = 0.421875\n",
            "hot -> raging || Frecuencia: 7/320 = 0.021875\n",
            "sleepy -> sleepy-eyed || Frecuencia: 5/320 = 0.015625\n",
            "stupid -> dazed || Frecuencia: 7/320 = 0.021875\n",
            "worth -> deserving || Frecuencia: 6/320 = 0.01875\n",
            "pink -> pinkish || Frecuencia: 1/320 = 0.003125\n",
            "close -> near || Frecuencia: 17/320 = 0.053125\n",
            "remarkable -> singular || Frecuencia: 2/320 = 0.00625\n",
            "dear -> beloved || Frecuencia: 31/320 = 0.096875\n",
            "late -> belated || Frecuencia: 27/320 = 0.084375\n",
            "natural -> instinctive || Frecuencia: 4/320 = 0.0125\n",
            "large -> big || Frecuencia: 41/320 = 0.128125\n",
            "deep -> bass || Frecuencia: 12/320 = 0.0375\n",
            "dark -> black || Frecuencia: 4/320 = 0.0125\n",
            "great -> outstanding || Frecuencia: 39/320 = 0.121875\n",
            "empty -> hollow || Frecuencia: 1/320 = 0.003125\n",
            "brave -> courageous || Frecuencia: 1/320 = 0.003125\n",
            "likely -> probable || Frecuencia: 5/320 = 0.015625\n",
            "true -> dead on target || Frecuencia: 3/320 = 0.009375\n",
            "several -> respective || Frecuencia: 4/320 = 0.0125\n",
            "good -> full || Frecuencia: 26/320 = 0.08125\n",
            "right -> correct || Frecuencia: 53/320 = 0.165625\n",
            "nice -> decent || Frecuencia: 8/320 = 0.025\n",
            "grand -> expansive || Frecuencia: 3/320 = 0.009375\n",
            "funny -> amusing || Frecuencia: 3/320 = 0.009375\n",
            "glad -> happy || Frecuencia: 11/320 = 0.034375\n",
            "ignorant -> nescient || Frecuencia: 1/320 = 0.003125\n",
            "little -> small || Frecuencia: 125/320 = 0.390625\n",
            "dreamy -> moony || Frecuencia: 1/320 = 0.003125\n",
            "dry -> ironic || Frecuencia: 8/320 = 0.025\n",
            "hurt -> wounded || Frecuencia: 3/320 = 0.009375\n",
            "long -> retentive || Frecuencia: 46/320 = 0.14375\n",
            "low -> low-toned || Frecuencia: 62/320 = 0.19375\n",
            "other -> early || Frecuencia: 75/320 = 0.234375\n",
            "solid -> hearty || Frecuencia: 1/320 = 0.003125\n",
            "tiny -> bantam || Frecuencia: 4/320 = 0.0125\n",
            "golden -> aureate || Frecuencia: 7/320 = 0.021875\n",
            "first -> 1st || Frecuencia: 44/320 = 0.1375\n",
            "small -> little || Frecuencia: 15/320 = 0.046875\n",
            "second -> 2nd || Frecuencia: 6/320 = 0.01875\n",
            "high -> eminent || Frecuencia: 16/320 = 0.05\n",
            "larger -> bigger || Frecuencia: 7/320 = 0.021875\n",
            "loveliest -> lovely || Frecuencia: 1/320 = 0.003125\n",
            "bright -> brilliant || Frecuencia: 10/320 = 0.03125\n",
            "cool -> coolheaded || Frecuencia: 2/320 = 0.00625\n",
            "poor -> hapless || Frecuencia: 25/320 = 0.078125\n",
            "impossible -> inconceivable || Frecuencia: 3/320 = 0.009375\n",
            "wise -> judicious || Frecuencia: 6/320 = 0.01875\n",
            "wild -> untamed || Frecuencia: 4/320 = 0.0125\n",
            "simple -> elementary || Frecuencia: 6/320 = 0.01875\n",
            "red -> reddish || Frecuencia: 77/320 = 0.240625\n",
            "certain -> sure || Frecuencia: 16/320 = 0.05\n",
            "mixed -> assorted || Frecuencia: 2/320 = 0.00625\n",
            "curious -> funny || Frecuencia: 20/320 = 0.0625\n",
            "lovely -> adorable || Frecuencia: 2/320 = 0.00625\n",
            "nervous -> anxious || Frecuencia: 5/320 = 0.015625\n",
            "best -> better || Frecuencia: 10/320 = 0.03125\n",
            "slippery -> slippy || Frecuencia: 1/320 = 0.003125\n",
            "fond -> affectionate || Frecuencia: 4/320 = 0.0125\n",
            "enough -> adequate || Frecuencia: 18/320 = 0.05625\n",
            "respectable -> estimable || Frecuencia: 1/320 = 0.003125\n",
            "smaller -> littler || Frecuencia: 3/320 = 0.009375\n",
            "same -> like || Frecuencia: 23/320 = 0.071875\n",
            "sure -> certain || Frecuencia: 23/320 = 0.071875\n",
            "dull -> muffled || Frecuencia: 3/320 = 0.009375\n",
            "common -> mutual || Frecuencia: 3/320 = 0.009375\n",
            "largest -> large || Frecuencia: 1/320 = 0.003125\n",
            "Good -> Full || Frecuencia: 1/320 = 0.003125\n",
            "able -> capable || Frecuencia: 34/320 = 0.10625\n",
            "kind -> genial || Frecuencia: 9/320 = 0.028125\n",
            "new -> fresh || Frecuencia: 19/320 = 0.059375\n",
            "odd -> uneven || Frecuencia: 2/320 = 0.00625\n",
            "RIGHT -> CORRECT || Frecuencia: 1/320 = 0.003125\n",
            "more -> more than || Frecuencia: 47/320 = 0.146875\n",
            "white -> snowy || Frecuencia: 8/320 = 0.025\n",
            "savage -> barbarous || Frecuencia: 4/320 = 0.0125\n",
            "desperate -> despairing || Frecuencia: 2/320 = 0.00625\n",
            "ready -> quick || Frecuencia: 10/320 = 0.03125\n",
            "timid -> diffident || Frecuencia: 12/320 = 0.0375\n",
            "Dear -> Beloved || Frecuencia: 1/320 = 0.003125\n",
            "queer -> curious || Frecuencia: 13/320 = 0.040625\n",
            "usual -> common || Frecuencia: 8/320 = 0.025\n",
            "different -> unlike || Frecuencia: 9/320 = 0.028125\n",
            "next -> following || Frecuencia: 28/320 = 0.0875\n",
            "wrong -> incorrect || Frecuencia: 5/320 = 0.015625\n",
            "hoarse -> gruff || Frecuencia: 4/320 = 0.0125\n",
            "strange -> unusual || Frecuencia: 5/320 = 0.015625\n",
            "poky -> dilatory || Frecuencia: 1/320 = 0.003125\n",
            "alone -> lone || Frecuencia: 4/320 = 0.0125\n",
            "narrow -> narrow-minded || Frecuencia: 2/320 = 0.00625\n",
            "worse -> worsened || Frecuencia: 3/320 = 0.009375\n",
            "bad -> big || Frecuencia: 2/320 = 0.00625\n",
            "general -> cosmopolitan || Frecuencia: 10/320 = 0.03125\n",
            "French -> Gallic || Frecuencia: 4/320 = 0.0125\n",
            "clear -> open || Frecuencia: 5/320 = 0.015625\n",
            "shrill -> sharp || Frecuencia: 5/320 = 0.015625\n",
            "angry -> furious || Frecuencia: 5/320 = 0.015625\n",
            "quiet -> restrained || Frecuencia: 7/320 = 0.021875\n",
            "soft -> delicate || Frecuencia: 2/320 = 0.00625\n",
            "HATED -> DESPISED || Frecuencia: 1/320 = 0.003125\n",
            "nasty -> awful || Frecuencia: 1/320 = 0.003125\n",
            "vulgar -> coarse || Frecuencia: 1/320 = 0.003125\n",
            "brown -> brownish || Frecuencia: 2/320 = 0.00625\n",
            "useful -> utile || Frecuencia: 2/320 = 0.00625\n",
            "round -> circular || Frecuencia: 52/320 = 0.1625\n",
            "pale -> pallid || Frecuencia: 4/320 = 0.0125\n",
            "whole -> unharmed || Frecuencia: 13/320 = 0.040625\n",
            "draggled -> bedraggled || Frecuencia: 1/320 = 0.003125\n",
            "wet -> lactating || Frecuencia: 2/320 = 0.00625\n",
            "cross -> transverse || Frecuencia: 12/320 = 0.0375\n",
            "sulky -> huffish || Frecuencia: 3/320 = 0.009375\n",
            "older -> aged || Frecuencia: 2/320 = 0.00625\n",
            "better -> best || Frecuencia: 14/320 = 0.04375\n",
            "old -> older || Frecuencia: 68/320 = 0.2125\n",
            "last -> concluding || Frecuencia: 36/320 = 0.1125\n",
            "important -> of import || Frecuencia: 12/320 = 0.0375\n",
            "patriotic -> loyal || Frecuencia: 1/320 = 0.003125\n",
            "moderate -> temperate || Frecuencia: 1/320 = 0.003125\n",
            "melancholy -> melancholic || Frecuencia: 6/320 = 0.01875\n",
            "immediate -> contiguous || Frecuencia: 4/320 = 0.0125\n",
            "energetic -> gumptious || Frecuencia: 1/320 = 0.003125\n",
            "offended -> pained || Frecuencia: 10/320 = 0.03125\n",
            "inclined -> disposed || Frecuencia: 1/320 = 0.003125\n",
            "exact -> accurate || Frecuencia: 6/320 = 0.01875\n",
            "easy -> easygoing || Frecuencia: 3/320 = 0.009375\n",
            "confused -> baffled || Frecuencia: 4/320 = 0.0125\n",
            "elegant -> graceful || Frecuencia: 1/320 = 0.003125\n",
            "short -> little || Frecuencia: 6/320 = 0.01875\n",
            "absurd -> cockeyed || Frecuencia: 2/320 = 0.00625\n",
            "grave -> sedate || Frecuencia: 7/320 = 0.021875\n",
            "solemn -> grave || Frecuencia: 7/320 = 0.021875\n",
            "sad -> deplorable || Frecuencia: 8/320 = 0.025\n",
            "cunning -> cute || Frecuencia: 1/320 = 0.003125\n",
            "fifth -> 5th || Frecuencia: 1/320 = 0.003125\n",
            "quicker -> quick || Frecuencia: 1/320 = 0.003125\n",
            "young -> immature || Frecuencia: 5/320 = 0.015625\n",
            "particular -> peculiar || Frecuencia: 4/320 = 0.0125\n",
            "various -> assorted || Frecuencia: 1/320 = 0.003125\n",
            "lonely -> alone || Frecuencia: 2/320 = 0.00625\n",
            "spirited -> bouncing || Frecuencia: 1/320 = 0.003125\n",
            "frightened -> scared || Frecuencia: 7/320 = 0.021875\n",
            "neat -> orderly || Frecuencia: 4/320 = 0.0125\n",
            "real -> existent || Frecuencia: 15/320 = 0.046875\n",
            "tidy -> kempt || Frecuencia: 1/320 = 0.003125\n",
            "drunk -> intoxicated || Frecuencia: 2/320 = 0.00625\n",
            "magic -> charming || Frecuencia: 1/320 = 0.003125\n",
            "full -> entire || Frecuencia: 26/320 = 0.08125\n",
            "unhappy -> dysphoric || Frecuencia: 2/320 = 0.00625\n",
            "foolish -> anserine || Frecuencia: 1/320 = 0.003125\n",
            "broken -> crushed || Frecuencia: 6/320 = 0.01875\n",
            "possible -> potential || Frecuencia: 4/320 = 0.0125\n",
            "Sure -> Certain || Frecuencia: 4/320 = 0.0125\n",
            "loose -> informal || Frecuencia: 1/320 = 0.003125\n",
            "loud -> brassy || Frecuencia: 15/320 = 0.046875\n",
            "Shy -> Diffident || Frecuencia: 1/320 = 0.003125\n",
            "sharp -> crisp || Frecuencia: 10/320 = 0.03125\n",
            "Last -> Concluding || Frecuencia: 2/320 = 0.00625\n",
            "feeble -> lame || Frecuencia: 2/320 = 0.00625\n",
            "dead -> all in || Frecuencia: 4/320 = 0.0125\n",
            "delighted -> beguiled || Frecuencia: 2/320 = 0.00625\n",
            "safe -> dependable || Frecuencia: 2/320 = 0.00625\n",
            "thick -> slurred || Frecuencia: 1/320 = 0.003125\n",
            "excellent -> first-class || Frecuencia: 2/320 = 0.00625\n",
            "only -> lone || Frecuencia: 48/320 = 0.15\n",
            "smallest -> small || Frecuencia: 2/320 = 0.00625\n",
            "enormous -> tremendous || Frecuencia: 1/320 = 0.003125\n",
            "Poor -> Hapless || Frecuencia: 2/320 = 0.00625\n",
            "hungry -> athirst || Frecuencia: 3/320 = 0.009375\n",
            "faint -> weak || Frecuencia: 2/320 = 0.00625\n",
            "languid -> dreamy || Frecuencia: 1/320 = 0.003125\n",
            "encouraging -> supporting || Frecuencia: 2/320 = 0.00625\n",
            "confusing -> perplexing || Frecuencia: 3/320 = 0.009375\n",
            "irritated -> annoyed || Frecuencia: 1/320 = 0.003125\n",
            "VERY -> IDENTICAL || Frecuencia: 14/320 = 0.04375\n",
            "puzzling -> enigmatic || Frecuencia: 4/320 = 0.0125\n",
            "OLD -> OLDER || Frecuencia: 2/320 = 0.00625\n",
            "fat -> fatty || Frecuencia: 3/320 = 0.009375\n",
            "supple -> lissome || Frecuencia: 1/320 = 0.003125\n",
            "weak -> watery || Frecuencia: 2/320 = 0.00625\n",
            "tougher -> tough || Frecuencia: 1/320 = 0.003125\n",
            "muscular -> mesomorphic || Frecuencia: 1/320 = 0.003125\n",
            "steady -> firm || Frecuencia: 1/320 = 0.003125\n",
            "clever -> cagey || Frecuencia: 2/320 = 0.00625\n",
            "content -> contented || Frecuencia: 1/320 = 0.003125\n",
            "wretched -> deplorable || Frecuencia: 2/320 = 0.00625\n",
            "piteous -> hapless || Frecuencia: 1/320 = 0.003125\n",
            "taller -> tall || Frecuencia: 2/320 = 0.00625\n",
            "shorter -> short || Frecuencia: 2/320 = 0.00625\n",
            "difficult -> hard || Frecuencia: 7/320 = 0.021875\n",
            "violent -> wild || Frecuencia: 6/320 = 0.01875\n",
            "free -> complimentary || Frecuencia: 3/320 = 0.009375\n",
            "immense -> huge || Frecuencia: 1/320 = 0.003125\n",
            "green -> greenish || Frecuencia: 4/320 = 0.0125\n",
            "distant -> remote || Frecuencia: 2/320 = 0.00625\n",
            "graceful -> elegant || Frecuencia: 1/320 = 0.003125\n",
            "subdued -> hushed || Frecuencia: 1/320 = 0.003125\n",
            "puzzled -> at a loss || Frecuencia: 9/320 = 0.028125\n",
            "sorry -> regretful || Frecuencia: 1/320 = 0.003125\n",
            "highest -> high || Frecuencia: 1/320 = 0.003125\n",
            "deepest -> deep || Frecuencia: 1/320 = 0.003125\n",
            "truthful -> true || Frecuencia: 1/320 = 0.003125\n",
            "silent -> soundless || Frecuencia: 7/320 = 0.021875\n",
            "raw -> natural || Frecuencia: 15/320 = 0.046875\n",
            "open -> unfastened || Frecuencia: 20/320 = 0.0625\n",
            "powdered -> powdery || Frecuencia: 1/320 = 0.003125\n",
            "extraordinary -> over-the-top || Frecuencia: 2/320 = 0.00625\n",
            "constant -> changeless || Frecuencia: 2/320 = 0.00625\n",
            "uncivil -> rude || Frecuencia: 1/320 = 0.003125\n",
            "louder -> loud || Frecuencia: 1/320 = 0.003125\n",
            "dreadful -> awful || Frecuencia: 8/320 = 0.025\n",
            "crazy -> brainsick || Frecuencia: 1/320 = 0.003125\n",
            "idiotic -> crackbrained || Frecuencia: 1/320 = 0.003125\n",
            "middle -> in-between || Frecuencia: 7/320 = 0.021875\n",
            "pleased -> proud of || Frecuencia: 7/320 = 0.021875\n",
            "PRECIOUS -> CHERISHED || Frecuencia: 1/320 = 0.003125\n",
            "proper -> right || Frecuencia: 3/320 = 0.009375\n",
            "tight -> taut || Frecuencia: 1/320 = 0.003125\n",
            "relieved -> alleviated || Frecuencia: 1/320 = 0.003125\n",
            "ugly -> surly || Frecuencia: 2/320 = 0.00625\n",
            "handsome -> fine-looking || Frecuencia: 1/320 = 0.003125\n",
            "wider -> wide || Frecuencia: 1/320 = 0.003125\n",
            "mad -> huffy || Frecuencia: 44/320 = 0.1375\n",
            "giddy -> dizzy || Frecuencia: 2/320 = 0.00625\n",
            "Mad -> Huffy || Frecuencia: 1/320 = 0.003125\n",
            "asleep -> benumbed || Frecuencia: 8/320 = 0.025\n",
            "civil -> polite || Frecuencia: 4/320 = 0.0125\n",
            "rude -> ill-mannered || Frecuencia: 3/320 = 0.009375\n",
            "fourth -> 4th || Frecuencia: 1/320 = 0.003125\n",
            "slightest -> little || Frecuencia: 1/320 = 0.003125\n",
            "past -> preceding || Frecuencia: 3/320 = 0.009375\n",
            "mournful -> plaintive || Frecuencia: 2/320 = 0.00625\n",
            "quick -> speedy || Frecuencia: 4/320 = 0.0125\n",
            "ill -> sick || Frecuencia: 137/320 = 0.428125\n",
            "MORE -> MORE THAN || Frecuencia: 2/320 = 0.00625\n",
            "clean -> clear || Frecuencia: 1/320 = 0.003125\n",
            "stupidest -> stupid || Frecuencia: 1/320 = 0.003125\n",
            "unjust -> unfair || Frecuencia: 1/320 = 0.003125\n",
            "flat -> level || Frecuencia: 2/320 = 0.00625\n",
            "royal -> imperial || Frecuencia: 2/320 = 0.00625\n",
            "crimson -> red || Frecuencia: 2/320 = 0.00625\n",
            "doubtful -> dubious || Frecuencia: 4/320 = 0.0125\n",
            "humble -> low || Frecuencia: 1/320 = 0.003125\n",
            "unfortunate -> inauspicious || Frecuencia: 3/320 = 0.009375\n",
            "fine -> all right || Frecuencia: 2/320 = 0.00625\n",
            "live -> unrecorded || Frecuencia: 21/320 = 0.065625\n",
            "chief -> main || Frecuencia: 2/320 = 0.00625\n",
            "provoking -> agitative || Frecuencia: 1/320 = 0.003125\n",
            "furious -> ferocious || Frecuencia: 2/320 = 0.00625\n",
            "uneasy -> restless || Frecuencia: 1/320 = 0.003125\n",
            "alive -> live || Frecuencia: 3/320 = 0.009375\n",
            "impertinent -> irreverent || Frecuencia: 1/320 = 0.003125\n",
            "helpless -> incapacitated || Frecuencia: 1/320 = 0.003125\n",
            "anxious -> dying || Frecuencia: 17/320 = 0.053125\n",
            "hopeful -> bright || Frecuencia: 1/320 = 0.003125\n",
            "sour -> rancid || Frecuencia: 2/320 = 0.00625\n",
            "bitter -> acrimonious || Frecuencia: 1/320 = 0.003125\n",
            "sweet -> angelic || Frecuencia: 1/320 = 0.003125\n",
            "stingy -> ungenerous || Frecuencia: 1/320 = 0.003125\n",
            "cheap -> inexpensive || Frecuencia: 1/320 = 0.003125\n",
            "worried -> disquieted || Frecuencia: 1/320 = 0.003125\n",
            "favourite -> favorite || Frecuencia: 1/320 = 0.003125\n",
            "fair -> just || Frecuencia: 4/320 = 0.0125\n",
            "lazy -> faineant || Frecuencia: 1/320 = 0.003125\n",
            "nearer -> near || Frecuencia: 5/320 = 0.015625\n",
            "hollow -> empty || Frecuencia: 1/320 = 0.003125\n",
            "occasional -> episodic || Frecuencia: 2/320 = 0.00625\n",
            "heavy -> fleshy || Frecuencia: 2/320 = 0.00625\n",
            "proud -> gallant || Frecuencia: 2/320 = 0.00625\n",
            "extra -> excess || Frecuencia: 4/320 = 0.0125\n",
            "regular -> veritable || Frecuencia: 2/320 = 0.00625\n",
            "prettier -> pretty || Frecuencia: 1/320 = 0.003125\n",
            "encouraged -> bucked up || Frecuencia: 1/320 = 0.003125\n",
            "modern -> mod || Frecuencia: 1/320 = 0.003125\n",
            "stiff -> starchy || Frecuencia: 1/320 = 0.003125\n",
            "eleventh -> 11th || Frecuencia: 1/320 = 0.003125\n",
            "twelfth -> 12th || Frecuencia: 1/320 = 0.003125\n",
            "Same -> Like || Frecuencia: 1/320 = 0.003125\n",
            "delightful -> delicious || Frecuencia: 2/320 = 0.00625\n",
            "beloved -> darling || Frecuencia: 1/320 = 0.003125\n",
            "shiny -> glistening || Frecuencia: 1/320 = 0.003125\n",
            "impatient -> raring || Frecuencia: 6/320 = 0.01875\n",
            "wide -> broad || Frecuencia: 3/320 = 0.009375\n",
            "gay -> cheery || Frecuencia: 1/320 = 0.003125\n",
            "contemptuous -> disdainful || Frecuencia: 3/320 = 0.009375\n",
            "tremulous -> quavering || Frecuencia: 1/320 = 0.003125\n",
            "uncommon -> rare || Frecuencia: 2/320 = 0.00625\n",
            "later -> ulterior || Frecuencia: 3/320 = 0.009375\n",
            "rich -> fat || Frecuencia: 1/320 = 0.003125\n",
            "comfortable -> comfy || Frecuencia: 5/320 = 0.015625\n",
            "Stupid -> Dazed || Frecuencia: 1/320 = 0.003125\n",
            "indignant -> incensed || Frecuencia: 5/320 = 0.015625\n",
            "interrupted -> fitful || Frecuencia: 9/320 = 0.028125\n",
            "First -> 1st || Frecuencia: 7/320 = 0.021875\n",
            "reasonable -> sensible || Frecuencia: 1/320 = 0.003125\n",
            "ridiculous -> pathetic || Frecuencia: 1/320 = 0.003125\n",
            "thin -> lean || Frecuencia: 231/320 = 0.721875\n",
            "miserable -> suffering || Frecuencia: 2/320 = 0.00625\n",
            "hard -> difficult || Frecuencia: 19/320 = 0.059375\n",
            "lower -> low || Frecuencia: 5/320 = 0.015625\n",
            "vague -> obscure || Frecuencia: 1/320 = 0.003125\n",
            "unable -> ineffective || Frecuencia: 1/320 = 0.003125\n",
            "upset -> disquieted || Frecuencia: 4/320 = 0.0125\n",
            "UNimportant -> insignificant || Frecuencia: 2/320 = 0.00625\n",
            "respectful -> reverential || Frecuencia: 1/320 = 0.003125\n",
            "unimportant -> insignificant || Frecuencia: 3/320 = 0.009375\n",
            "oldest -> old || Frecuencia: 1/320 = 0.003125\n",
            "queerest -> curious || Frecuencia: 1/320 = 0.003125\n",
            "honest -> honorable || Frecuencia: 1/320 = 0.003125\n",
            "fit -> primed || Frecuencia: 5/320 = 0.015625\n",
            "clearer -> clear || Frecuencia: 1/320 = 0.003125\n",
            "twentieth -> 20th || Frecuencia: 1/320 = 0.003125\n",
            "wonderful -> fantastic || Frecuencia: 2/320 = 0.00625\n",
            "very -> identical || Frecuencia: 162/320 = 0.50625\n",
            "wandering -> mobile || Frecuencia: 2/320 = 0.00625\n",
            "suppressed -> smothered || Frecuencia: 4/320 = 0.0125\n",
            "closed -> shut || Frecuencia: 2/320 = 0.00625\n",
            "busy -> fussy || Frecuencia: 1/320 = 0.003125\n",
            "grown -> adult || Frecuencia: 7/320 = 0.021875\n",
            "happy -> felicitous || Frecuencia: 3/320 = 0.009375\n",
            "\n"
          ]
        }
      ]
    },
    {
      "cell_type": "markdown",
      "metadata": {
        "id": "Y1lzKcN14eIk"
      },
      "source": [
        "### Ejercicio 5 (Práctica 4.3)\n",
        "\n",
        "Indicar cuál es el adjetivo más frecuente del texto y obtener los posibles significados, sinónimos y antónimos del mismo."
      ]
    },
    {
      "cell_type": "code",
      "source": [
        "palabra_mas_repetida = \"\"\n",
        "numero_repeticiones = 0\n",
        "\n",
        "for par in pares:\n",
        "  if numRemplazos[par]>numero_repeticiones:\n",
        "    numero_repeticiones =  numRemplazos[par]\n",
        "    palabra_mas_repetida = par\n",
        "\n",
        "print(palabra_mas_repetida + \" \" + str(numero_repeticiones))\n",
        "\n",
        "synsets = wn.synsets(palabra_mas_repetida, pos=wn.ADJ)\n",
        "if len(synsets) > 0:\n",
        "    print(\"Significado:\")\n",
        "    for synset in synsets:\n",
        "        print(\"- \", synset.definition())\n",
        "    print(\"Sinónimos:\")\n",
        "    for synset in synsets:\n",
        "        for lemma in synset.lemmas():\n",
        "            if lemma.name() != palabra_mas_repetida:\n",
        "                print(\"- \", lemma.name())\n",
        "    print(\"Antónimos:\")\n",
        "    for synset in synsets:\n",
        "        for antonimo in synset.lemmas()[0].antonyms():\n",
        "            print(\"- \", antonimo.name())\n",
        "else:\n",
        "    print(\"No se han encontrado resultados para \", palabra_mas_repetida)\n"
      ],
      "metadata": {
        "colab": {
          "base_uri": "https://localhost:8080/"
        },
        "id": "MKiMmG0jf0zz",
        "outputId": "19e8754b-3f34-484c-9a77-8988231ffae6"
      },
      "execution_count": 26,
      "outputs": [
        {
          "output_type": "stream",
          "name": "stdout",
          "text": [
            "thin 231\n",
            "Significado:\n",
            "-  of relatively small extent from one surface to the opposite or in cross section\n",
            "-  lacking excess flesh; ; -Shakespeare\n",
            "-  very narrow\n",
            "-  not dense\n",
            "-  relatively thin in consistency or low in density; not viscous\n",
            "-  (of sound) lacking resonance or volume\n",
            "-  lacking spirit or sincere effort\n",
            "-  lacking substance or significance; ; ; ; a fragile claim to fame\"\n",
            "Sinónimos:\n",
            "-  lean\n",
            "-  slender\n",
            "-  sparse\n",
            "-  flimsy\n",
            "-  fragile\n",
            "-  slight\n",
            "-  tenuous\n",
            "Antónimos:\n",
            "-  thick\n",
            "-  fat\n",
            "-  thick\n",
            "-  full\n"
          ]
        }
      ]
    }
  ]
}