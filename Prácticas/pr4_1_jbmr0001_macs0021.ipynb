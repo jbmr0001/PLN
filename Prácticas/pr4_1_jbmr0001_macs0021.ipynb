{
  "nbformat": 4,
  "nbformat_minor": 0,
  "metadata": {
    "colab": {
      "provenance": []
    },
    "kernelspec": {
      "name": "python3",
      "display_name": "Python 3"
    }
  },
  "cells": [
    {
      "cell_type": "markdown",
      "metadata": {
        "id": "u01d30dm7Uyg"
      },
      "source": [
        "# **Procesamiento del Lenguaje Natural**\n",
        "## *Práctica 4.1 - Análisis morfológico*"
      ]
    },
    {
      "cell_type": "markdown",
      "metadata": {
        "id": "ngEznx9s7Txv"
      },
      "source": [
        "## Objetivos\n",
        "\n",
        "*   Conocer la librería spaCy y sus modelos.\n",
        "*   Realizar el análisis morfológico de un texto.\n",
        "\n",
        "\n",
        "\n"
      ]
    },
    {
      "cell_type": "markdown",
      "metadata": {
        "id": "6TOjFk9n81ZZ"
      },
      "source": [
        "## spaCy\n",
        "\n",
        "***spaCy*** es una biblioteca gratuita de código abierto para el procesamiento avanzado del lenguaje natural en Python. Está diseñada específicamente para uso en producción y le ayuda a crear aplicaciones que procesan y \"comprenden\" grandes volúmenes de texto. Además, ***spaCy*** es usualmente utilizado para construir sistemas de extracción de información o comprensión del lenguaje natural.\n",
        "\n",
        "Si bien NLTK se creó teniendo en cuenta el aprendizaje de PLN, ***spaCy*** se diseñó específicamente con el objetivo de ser una biblioteca útil para implementar sistemas listos para producción.\n",
        "\n",
        "***spaCy*** incluye [modelos estadísticos pre-entrenados](https://spacy.io/usage/models) y vectores de palabras, y actualmente admite tokenización para más de 49 idiomas. Por este motivo, tiene una mayor orientación al desarrollo de modelos en producción.\n",
        "\n",
        "\n"
      ]
    },
    {
      "cell_type": "markdown",
      "metadata": {
        "id": "BoPDYAW19OkL"
      },
      "source": [
        "\n",
        "### Instalando spaCy\n",
        "\n",
        "Antes de hacer nada, debes tener spaCy instalado, así como su modelo en el idioma que necesites utilizar.\n"
      ]
    },
    {
      "cell_type": "code",
      "metadata": {
        "id": "AzHGoAtbrA__",
        "colab": {
          "base_uri": "https://localhost:8080/"
        },
        "outputId": "07a19e92-2123-4cc6-d9ee-cd783cf0edb8"
      },
      "source": [
        "!pip install spacy"
      ],
      "execution_count": null,
      "outputs": [
        {
          "output_type": "stream",
          "name": "stdout",
          "text": [
            "Looking in indexes: https://pypi.org/simple, https://us-python.pkg.dev/colab-wheels/public/simple/\n",
            "Requirement already satisfied: spacy in /usr/local/lib/python3.9/dist-packages (3.4.4)\n",
            "Requirement already satisfied: thinc<8.2.0,>=8.1.0 in /usr/local/lib/python3.9/dist-packages (from spacy) (8.1.8)\n",
            "Requirement already satisfied: pathy>=0.3.5 in /usr/local/lib/python3.9/dist-packages (from spacy) (0.10.1)\n",
            "Requirement already satisfied: setuptools in /usr/local/lib/python3.9/dist-packages (from spacy) (57.4.0)\n",
            "Requirement already satisfied: packaging>=20.0 in /usr/local/lib/python3.9/dist-packages (from spacy) (23.0)\n",
            "Requirement already satisfied: requests<3.0.0,>=2.13.0 in /usr/local/lib/python3.9/dist-packages (from spacy) (2.25.1)\n",
            "Requirement already satisfied: preshed<3.1.0,>=3.0.2 in /usr/local/lib/python3.9/dist-packages (from spacy) (3.0.8)\n",
            "Requirement already satisfied: typer<0.8.0,>=0.3.0 in /usr/local/lib/python3.9/dist-packages (from spacy) (0.7.0)\n",
            "Requirement already satisfied: smart-open<7.0.0,>=5.2.1 in /usr/local/lib/python3.9/dist-packages (from spacy) (6.3.0)\n",
            "Requirement already satisfied: srsly<3.0.0,>=2.4.3 in /usr/local/lib/python3.9/dist-packages (from spacy) (2.4.6)\n",
            "Requirement already satisfied: catalogue<2.1.0,>=2.0.6 in /usr/local/lib/python3.9/dist-packages (from spacy) (2.0.8)\n",
            "Requirement already satisfied: jinja2 in /usr/local/lib/python3.9/dist-packages (from spacy) (3.1.2)\n",
            "Requirement already satisfied: numpy>=1.15.0 in /usr/local/lib/python3.9/dist-packages (from spacy) (1.22.4)\n",
            "Requirement already satisfied: cymem<2.1.0,>=2.0.2 in /usr/local/lib/python3.9/dist-packages (from spacy) (2.0.7)\n",
            "Requirement already satisfied: tqdm<5.0.0,>=4.38.0 in /usr/local/lib/python3.9/dist-packages (from spacy) (4.65.0)\n",
            "Requirement already satisfied: wasabi<1.1.0,>=0.9.1 in /usr/local/lib/python3.9/dist-packages (from spacy) (0.10.1)\n",
            "Requirement already satisfied: spacy-loggers<2.0.0,>=1.0.0 in /usr/local/lib/python3.9/dist-packages (from spacy) (1.0.4)\n",
            "Requirement already satisfied: spacy-legacy<3.1.0,>=3.0.10 in /usr/local/lib/python3.9/dist-packages (from spacy) (3.0.12)\n",
            "Requirement already satisfied: pydantic!=1.8,!=1.8.1,<1.11.0,>=1.7.4 in /usr/local/lib/python3.9/dist-packages (from spacy) (1.10.5)\n",
            "Requirement already satisfied: murmurhash<1.1.0,>=0.28.0 in /usr/local/lib/python3.9/dist-packages (from spacy) (1.0.9)\n",
            "Requirement already satisfied: langcodes<4.0.0,>=3.2.0 in /usr/local/lib/python3.9/dist-packages (from spacy) (3.3.0)\n",
            "Requirement already satisfied: typing-extensions>=4.2.0 in /usr/local/lib/python3.9/dist-packages (from pydantic!=1.8,!=1.8.1,<1.11.0,>=1.7.4->spacy) (4.5.0)\n",
            "Requirement already satisfied: certifi>=2017.4.17 in /usr/local/lib/python3.9/dist-packages (from requests<3.0.0,>=2.13.0->spacy) (2022.12.7)\n",
            "Requirement already satisfied: urllib3<1.27,>=1.21.1 in /usr/local/lib/python3.9/dist-packages (from requests<3.0.0,>=2.13.0->spacy) (1.26.14)\n",
            "Requirement already satisfied: idna<3,>=2.5 in /usr/local/lib/python3.9/dist-packages (from requests<3.0.0,>=2.13.0->spacy) (2.10)\n",
            "Requirement already satisfied: chardet<5,>=3.0.2 in /usr/local/lib/python3.9/dist-packages (from requests<3.0.0,>=2.13.0->spacy) (4.0.0)\n",
            "Requirement already satisfied: confection<1.0.0,>=0.0.1 in /usr/local/lib/python3.9/dist-packages (from thinc<8.2.0,>=8.1.0->spacy) (0.0.4)\n",
            "Requirement already satisfied: blis<0.8.0,>=0.7.8 in /usr/local/lib/python3.9/dist-packages (from thinc<8.2.0,>=8.1.0->spacy) (0.7.9)\n",
            "Requirement already satisfied: click<9.0.0,>=7.1.1 in /usr/local/lib/python3.9/dist-packages (from typer<0.8.0,>=0.3.0->spacy) (8.1.3)\n",
            "Requirement already satisfied: MarkupSafe>=2.0 in /usr/local/lib/python3.9/dist-packages (from jinja2->spacy) (2.1.2)\n"
          ]
        }
      ]
    },
    {
      "cell_type": "markdown",
      "metadata": {
        "id": "l5ClvYu6rTSS"
      },
      "source": [
        "Elegimos el modelo que necesitemos para el tratamiento de la información y lo descargamos:"
      ]
    },
    {
      "cell_type": "code",
      "metadata": {
        "id": "Ip9ObXT3rDZe",
        "colab": {
          "base_uri": "https://localhost:8080/"
        },
        "outputId": "2ab85c7d-7b15-4520-a3c0-36d1caafbd28"
      },
      "source": [
        "import spacy.cli\n",
        "spacy.cli.download(\"es_core_news_sm\")"
      ],
      "execution_count": null,
      "outputs": [
        {
          "output_type": "stream",
          "name": "stdout",
          "text": [
            "\u001b[38;5;2m✔ Download and installation successful\u001b[0m\n",
            "You can now load the package via spacy.load('es_core_news_sm')\n"
          ]
        }
      ]
    },
    {
      "cell_type": "markdown",
      "metadata": {
        "id": "BHqcfnUQtgPL"
      },
      "source": [
        "Ahora podemos usar el modelo descargado en nuestro programa de la siguiente manera:"
      ]
    },
    {
      "cell_type": "code",
      "metadata": {
        "id": "NvxnipFCq1Ek"
      },
      "source": [
        "import es_core_news_sm\n",
        "nlp = es_core_news_sm.load()"
      ],
      "execution_count": null,
      "outputs": []
    },
    {
      "cell_type": "markdown",
      "metadata": {
        "id": "W50rPd_57eaD"
      },
      "source": [
        "### Análisis morfológico\n",
        "\n",
        "El análisis morfológico consiste en determinar la forma, clase o categoría gramatical de cada palabra de una oración. Este proceso también se conoce como etiquetado gramatical, por su nombre en inglés, “POS tagging” (Part Of Speech tagging).\n",
        "\n",
        "A continuación, vamos a ver cómo obtener la categoría gramatical de las palabras de la oración:\n",
        "\n",
        "\n",
        "\n",
        "1.   Primero creamos un **doc** a partir del texto que queremos analizar. Doc es un objeto de ***spaCy*** que almacena el texto y todas sus anotaciones. \n",
        "2.   Luego iteramos a través del documento para ver lo que ***spaCy*** ha analizado\n",
        "\n"
      ]
    },
    {
      "cell_type": "code",
      "metadata": {
        "id": "-KQJRiq3u9Ze",
        "colab": {
          "base_uri": "https://localhost:8080/"
        },
        "outputId": "d3e2ba24-1606-4e4e-bdd0-d9d572cd34cb"
      },
      "source": [
        "text = \"La lluvia en España cae principalmente en la llanura sin montañas.\"\n",
        "doc = nlp(text)\n",
        "\n",
        "for token in doc:\n",
        "    print(token.text, token.pos_, token.morph)\n",
        "\n",
        "\n"
      ],
      "execution_count": null,
      "outputs": [
        {
          "output_type": "stream",
          "name": "stdout",
          "text": [
            "La DET Definite=Def|Gender=Fem|Number=Sing|PronType=Art\n",
            "lluvia NOUN Gender=Fem|Number=Sing\n",
            "en ADP \n",
            "España PROPN \n",
            "cae VERB Mood=Ind|Number=Sing|Person=3|Tense=Pres|VerbForm=Fin\n",
            "principalmente ADV \n",
            "en ADP \n",
            "la DET Definite=Def|Gender=Fem|Number=Sing|PronType=Art\n",
            "llanura NOUN Gender=Fem|Number=Sing\n",
            "sin ADP \n",
            "montañas NOUN Gender=Fem|Number=Plur\n",
            ". PUNCT PunctType=Peri\n",
            "futurs VERB VerbForm=Inf\n"
          ]
        }
      ]
    },
    {
      "cell_type": "markdown",
      "metadata": {
        "id": "f9a3M_bzv-cQ"
      },
      "source": [
        "Como podemos ver, spaCy primero realiza la tokenización según el modelo utilizado y para el idioma específico. Posteriormente analiza y etiqueta la oración. \n",
        "\n",
        "Los modelos estadísticos permiten a ***spaCy*** hacer predicciones de qué etiqueta se aplica con mayor probabilidad en un contexto determinado. \n",
        "\n",
        "Un modelo entrenado incluye datos con suficientes ejemplos para que pueda hacer predicciones que se generalicen en todo el idioma; por ejemplo, una palabra que sigue a determinante \"el\" probablemente sea un sustantivo.\n",
        "\n",
        "Las anotaciones lingüísticas están disponibles como **Token** ofreciendo información de cada palabra de la sentencia como:\n",
        "\n",
        "\n",
        "*   Texto: El texto original de la palabra.\n",
        "*   Lema: La forma base de la palabra.\n",
        "*   POS: La etiqueta de la palabra.\n",
        "*   Tag: Revisión minuciosa de la cualidad anterior especificando parámetros dentro de la categoría.\n",
        "*   Dep: Dependencia sintáctica, es decir, la relación entre los tokens.\n",
        "*   Forma: La forma de la palabra: mayúsculas, puntuación, dígitos.\n",
        "*   Alfa: ¿Es el token un carácter alfanumérico?\n",
        "*   Stop-word: ¿forma parte el token de una lista de parada?\n",
        "\n",
        "\n",
        "\n"
      ]
    },
    {
      "cell_type": "code",
      "metadata": {
        "id": "OYkuiQwWvBRg",
        "colab": {
          "base_uri": "https://localhost:8080/"
        },
        "outputId": "9c6d49f3-9342-4049-8dd0-41971fc186f6"
      },
      "source": [
        "doc = nlp(\"Apple estudia comprar una empresa británica por 1000 millones de $.\")\n",
        "\n",
        "for token in doc:\n",
        "    print(token.text, token.lemma_, token.pos_, token.morph, token.dep_,\n",
        "            token.shape_, token.is_alpha, token.is_stop)"
      ],
      "execution_count": null,
      "outputs": [
        {
          "output_type": "stream",
          "name": "stdout",
          "text": [
            "Apple Apple PROPN  nsubj Xxxxx True False\n",
            "estudia estudiar VERB Mood=Ind|Number=Sing|Person=3|Tense=Pres|VerbForm=Fin ROOT xxxx True False\n",
            "comprar comprar VERB VerbForm=Inf xcomp xxxx True False\n",
            "una uno DET Definite=Ind|Gender=Fem|Number=Sing|PronType=Art det xxx True True\n",
            "empresa empresa NOUN Gender=Fem|Number=Sing obj xxxx True False\n",
            "británica británico ADJ Gender=Fem|Number=Sing amod xxxx True False\n",
            "por por ADP  case xxx True True\n",
            "1000 1000 NUM NumForm=Digit|NumType=Card nummod dddd False False\n",
            "millones millón NOUN Gender=Masc|Number=Plur appos xxxx True False\n",
            "de de ADP  case xx True True\n",
            "$ $ PROPN  nmod $ False False\n",
            ". . PUNCT PunctType=Peri punct . False False\n"
          ]
        }
      ]
    },
    {
      "cell_type": "markdown",
      "metadata": {
        "id": "GcqAjAeR5BDD"
      },
      "source": [
        "** La forma de las palabras es algo muy simple, se coloca una X mayúscula cuando está en mayúscula la letra y en minúscula en el caso contrario, dando estructuras de Xxxxx además si se introduce un numero este también tiene su propio valor en cuyo caso es una *d*."
      ]
    },
    {
      "cell_type": "markdown",
      "metadata": {
        "id": "l2jAoPyEybpJ"
      },
      "source": [
        "La mayoría de las categorías morfológicas parecen bastante abstractas y varían según el idioma. El método **spacy.explain()** te mostrará una breve descripción en algunos casos:"
      ]
    },
    {
      "cell_type": "code",
      "metadata": {
        "id": "fdskGDasyGeP",
        "colab": {
          "base_uri": "https://localhost:8080/",
          "height": 35
        },
        "outputId": "e047786e-d79a-4dc0-8208-73e27ce40eeb"
      },
      "source": [
        "import spacy\n",
        "spacy.explain(\"PROPN\")"
      ],
      "execution_count": 12,
      "outputs": [
        {
          "output_type": "execute_result",
          "data": {
            "text/plain": [
              "'proper noun'"
            ],
            "application/vnd.google.colaboratory.intrinsic+json": {
              "type": "string"
            }
          },
          "metadata": {},
          "execution_count": 12
        }
      ]
    },
    {
      "cell_type": "markdown",
      "metadata": {
        "id": "IMKBCaDi30Tz"
      },
      "source": [
        "## Ejercicios\n",
        "\n",
        "Los ejercicios deben realizarse sobre este *notebook*, y se deberán entregar a través de PLATEA antes de la fecha límite que se indique.\n",
        "\n",
        "Descargar el cuento “regreso_al_paraiso.txt” que se encuentran disponibles en Docencia Virtual (carpeta Material complementario) y realiza los métodos necesarios para analizar siguiente información: \n",
        "\n",
        "**Autores de la práctica:** Juan Bautista Muñoz Ruiz jbmr0001@red.ujaen.es Marco Antonio Carrión Soriano macs0021@red.ujaen.es"
      ]
    },
    {
      "cell_type": "markdown",
      "metadata": {
        "id": "l8SxN0j04SAg"
      },
      "source": [
        "### Ejercicio 1\n",
        "\n",
        "Obtener el número total de nombres/sustantivos, adjetivos, verbos y adverbios en cada fichero."
      ]
    },
    {
      "cell_type": "code",
      "source": [
        "!pip install spacy"
      ],
      "metadata": {
        "colab": {
          "base_uri": "https://localhost:8080/"
        },
        "id": "rKC0YXrIjl3J",
        "outputId": "d38d6c5c-f25e-4b99-fd38-2cc83d999729"
      },
      "execution_count": null,
      "outputs": [
        {
          "output_type": "stream",
          "name": "stdout",
          "text": [
            "Looking in indexes: https://pypi.org/simple, https://us-python.pkg.dev/colab-wheels/public/simple/\n",
            "Requirement already satisfied: spacy in /usr/local/lib/python3.9/dist-packages (3.4.4)\n",
            "Requirement already satisfied: langcodes<4.0.0,>=3.2.0 in /usr/local/lib/python3.9/dist-packages (from spacy) (3.3.0)\n",
            "Requirement already satisfied: smart-open<7.0.0,>=5.2.1 in /usr/local/lib/python3.9/dist-packages (from spacy) (6.3.0)\n",
            "Requirement already satisfied: requests<3.0.0,>=2.13.0 in /usr/local/lib/python3.9/dist-packages (from spacy) (2.25.1)\n",
            "Requirement already satisfied: wasabi<1.1.0,>=0.9.1 in /usr/local/lib/python3.9/dist-packages (from spacy) (0.10.1)\n",
            "Requirement already satisfied: preshed<3.1.0,>=3.0.2 in /usr/local/lib/python3.9/dist-packages (from spacy) (3.0.8)\n",
            "Requirement already satisfied: spacy-loggers<2.0.0,>=1.0.0 in /usr/local/lib/python3.9/dist-packages (from spacy) (1.0.4)\n",
            "Requirement already satisfied: spacy-legacy<3.1.0,>=3.0.10 in /usr/local/lib/python3.9/dist-packages (from spacy) (3.0.12)\n",
            "Requirement already satisfied: thinc<8.2.0,>=8.1.0 in /usr/local/lib/python3.9/dist-packages (from spacy) (8.1.8)\n",
            "Requirement already satisfied: jinja2 in /usr/local/lib/python3.9/dist-packages (from spacy) (3.1.2)\n",
            "Requirement already satisfied: catalogue<2.1.0,>=2.0.6 in /usr/local/lib/python3.9/dist-packages (from spacy) (2.0.8)\n",
            "Requirement already satisfied: setuptools in /usr/local/lib/python3.9/dist-packages (from spacy) (57.4.0)\n",
            "Requirement already satisfied: packaging>=20.0 in /usr/local/lib/python3.9/dist-packages (from spacy) (23.0)\n",
            "Requirement already satisfied: typer<0.8.0,>=0.3.0 in /usr/local/lib/python3.9/dist-packages (from spacy) (0.7.0)\n",
            "Requirement already satisfied: pathy>=0.3.5 in /usr/local/lib/python3.9/dist-packages (from spacy) (0.10.1)\n",
            "Requirement already satisfied: pydantic!=1.8,!=1.8.1,<1.11.0,>=1.7.4 in /usr/local/lib/python3.9/dist-packages (from spacy) (1.10.5)\n",
            "Requirement already satisfied: srsly<3.0.0,>=2.4.3 in /usr/local/lib/python3.9/dist-packages (from spacy) (2.4.6)\n",
            "Requirement already satisfied: murmurhash<1.1.0,>=0.28.0 in /usr/local/lib/python3.9/dist-packages (from spacy) (1.0.9)\n",
            "Requirement already satisfied: cymem<2.1.0,>=2.0.2 in /usr/local/lib/python3.9/dist-packages (from spacy) (2.0.7)\n",
            "Requirement already satisfied: numpy>=1.15.0 in /usr/local/lib/python3.9/dist-packages (from spacy) (1.22.4)\n",
            "Requirement already satisfied: tqdm<5.0.0,>=4.38.0 in /usr/local/lib/python3.9/dist-packages (from spacy) (4.65.0)\n",
            "Requirement already satisfied: typing-extensions>=4.2.0 in /usr/local/lib/python3.9/dist-packages (from pydantic!=1.8,!=1.8.1,<1.11.0,>=1.7.4->spacy) (4.5.0)\n",
            "Requirement already satisfied: certifi>=2017.4.17 in /usr/local/lib/python3.9/dist-packages (from requests<3.0.0,>=2.13.0->spacy) (2022.12.7)\n",
            "Requirement already satisfied: idna<3,>=2.5 in /usr/local/lib/python3.9/dist-packages (from requests<3.0.0,>=2.13.0->spacy) (2.10)\n",
            "Requirement already satisfied: chardet<5,>=3.0.2 in /usr/local/lib/python3.9/dist-packages (from requests<3.0.0,>=2.13.0->spacy) (4.0.0)\n",
            "Requirement already satisfied: urllib3<1.27,>=1.21.1 in /usr/local/lib/python3.9/dist-packages (from requests<3.0.0,>=2.13.0->spacy) (1.26.14)\n",
            "Requirement already satisfied: blis<0.8.0,>=0.7.8 in /usr/local/lib/python3.9/dist-packages (from thinc<8.2.0,>=8.1.0->spacy) (0.7.9)\n",
            "Requirement already satisfied: confection<1.0.0,>=0.0.1 in /usr/local/lib/python3.9/dist-packages (from thinc<8.2.0,>=8.1.0->spacy) (0.0.4)\n",
            "Requirement already satisfied: click<9.0.0,>=7.1.1 in /usr/local/lib/python3.9/dist-packages (from typer<0.8.0,>=0.3.0->spacy) (8.1.3)\n",
            "Requirement already satisfied: MarkupSafe>=2.0 in /usr/local/lib/python3.9/dist-packages (from jinja2->spacy) (2.1.2)\n"
          ]
        }
      ]
    },
    {
      "cell_type": "code",
      "source": [
        "import spacy.cli\n",
        "spacy.cli.download(\"es_core_news_sm\")"
      ],
      "metadata": {
        "colab": {
          "base_uri": "https://localhost:8080/"
        },
        "id": "FJb7XMi1jvoh",
        "outputId": "35ee6b43-36ed-4227-ccbf-adc181761671"
      },
      "execution_count": 3,
      "outputs": [
        {
          "output_type": "stream",
          "name": "stderr",
          "text": [
            "/usr/local/lib/python3.9/dist-packages/torch/cuda/__init__.py:497: UserWarning: Can't initialize NVML\n",
            "  warnings.warn(\"Can't initialize NVML\")\n"
          ]
        },
        {
          "output_type": "stream",
          "name": "stdout",
          "text": [
            "\u001b[38;5;2m✔ Download and installation successful\u001b[0m\n",
            "You can now load the package via spacy.load('es_core_news_sm')\n"
          ]
        }
      ]
    },
    {
      "cell_type": "code",
      "source": [
        "import es_core_news_sm\n",
        "nlp = es_core_news_sm.load()"
      ],
      "metadata": {
        "id": "Qvk0maiSj2Hg"
      },
      "execution_count": 4,
      "outputs": []
    },
    {
      "cell_type": "code",
      "source": [
        "from google.colab import drive  #Montamos el drive\n",
        "drive.mount('/content/drive')"
      ],
      "metadata": {
        "colab": {
          "base_uri": "https://localhost:8080/"
        },
        "id": "4ICiNaukow6W",
        "outputId": "1a0c80c1-033d-480a-9b6c-6883b02d7b1e"
      },
      "execution_count": 5,
      "outputs": [
        {
          "output_type": "stream",
          "name": "stdout",
          "text": [
            "Mounted at /content/drive\n"
          ]
        }
      ]
    },
    {
      "cell_type": "code",
      "source": [
        "import os #Abrimos la carpeta\n",
        "path = os.chdir(\"/content/drive/MyDrive/PLN/P4.1\")\n",
        "os.getcwd()"
      ],
      "metadata": {
        "colab": {
          "base_uri": "https://localhost:8080/",
          "height": 35
        },
        "id": "AHxFTDbapmQQ",
        "outputId": "64f12617-3678-47dc-cbbc-55daee508e90"
      },
      "execution_count": 6,
      "outputs": [
        {
          "output_type": "execute_result",
          "data": {
            "text/plain": [
              "'/content/drive/MyDrive/PLN/P4.1'"
            ],
            "application/vnd.google.colaboratory.intrinsic+json": {
              "type": "string"
            }
          },
          "metadata": {},
          "execution_count": 6
        }
      ]
    },
    {
      "cell_type": "code",
      "source": [
        "import glob   #Lectura y procesado de los archivos\n",
        "archivosProcesados=[]\n",
        "nombresArchivos=[]\n",
        "for filename in glob.glob('*.txt'):  #Lectura de todos los archivos de la carpeta con la libreria glob\n",
        "   with open(os.path.join(os.getcwd(), filename), 'r') as f:\n",
        "     nombresArchivos.append(filename)\n",
        "     fichero = open(f.name)\n",
        "     archivosProcesados.append(fichero.read());\n",
        "j=0\n",
        "print('Archivos leídos:')\n",
        "for i in archivosProcesados: #Mostramos el nombre del archivo y el contenido leído\n",
        "  print(nombresArchivos[j])\n",
        "  #print(i)\n",
        "  j=j+1"
      ],
      "metadata": {
        "colab": {
          "base_uri": "https://localhost:8080/"
        },
        "id": "lAiglYkNpp_0",
        "outputId": "8379af6a-f82f-49e6-b86b-91c889b2a068"
      },
      "execution_count": 7,
      "outputs": [
        {
          "output_type": "stream",
          "name": "stdout",
          "text": [
            "Archivos leídos:\n",
            "regreso_al_paraiso.txt\n"
          ]
        }
      ]
    },
    {
      "cell_type": "code",
      "source": [
        "for archivo in archivosProcesados: #Recorremos los archivos y contamos los de cada categoría\n",
        "  adverbios=0\n",
        "  verbos=0\n",
        "  sustantivos=0\n",
        "  adjetivos=0\n",
        "  doc = nlp(archivo)\n",
        "\n",
        "  for token in doc:\n",
        "    #print(token.text, token.lemma_, token.pos_, token.morph)\n",
        "    if token.pos == spacy.parts_of_speech.ADV:\n",
        "      adverbios=adverbios+1\n",
        "    if token.pos == spacy.parts_of_speech.ADJ:\n",
        "      adjetivos=adjetivos+1\n",
        "    if token.pos == spacy.parts_of_speech.VERB:\n",
        "      verbos=verbos+1\n",
        "    if token.pos == spacy.parts_of_speech.NOUN:\n",
        "      sustantivos=sustantivos+1\n",
        "    if token.pos == spacy.parts_of_speech.PROPN and token.text.isalpha():  #Quitamos los signos detectados como nombres \n",
        "      sustantivos=sustantivos+1\n",
        "    \n",
        "\n",
        "  print(adverbios,end=\" \")\n",
        "  print(\"Adverbios\")\n",
        "  print(verbos,end=\" \")\n",
        "  print(\"Verbos\")\n",
        "  print(sustantivos,end=\" \")\n",
        "  print(\"Sustantivos\")\n",
        "  print(adjetivos,end=\" \")\n",
        "  print(\"Adjetivos\")\n"
      ],
      "metadata": {
        "colab": {
          "base_uri": "https://localhost:8080/"
        },
        "id": "19A_J1zWqXND",
        "outputId": "909e5b09-b5f0-475f-9d17-dc6ad3febfae"
      },
      "execution_count": 27,
      "outputs": [
        {
          "output_type": "stream",
          "name": "stdout",
          "text": [
            "3420 Adverbios\n",
            "5355 Verbos\n",
            "7401 Sustantivos\n",
            "2077 Adjetivos\n"
          ]
        }
      ]
    },
    {
      "cell_type": "markdown",
      "metadata": {
        "id": "Y1lzKcN14eIk"
      },
      "source": [
        "### Ejercicio 2\n",
        "Calcular la proporción (en porcentaje) del número de nombres, adjetivos, verbos y adverbios en toda la colección."
      ]
    },
    {
      "cell_type": "code",
      "source": [
        "totalesSinPuntuación=0\n",
        "proporcionNombres=0\n",
        "proporcionAdjetivos=0\n",
        "proporcionVerbos=0\n",
        "proporcionAdverbios=0\n",
        "for token in doc:  #Contamos los que no son signos de puntuación\n",
        "   if not token.is_punct:\n",
        "     totalesSinPuntuación=totalesSinPuntuación+1\n",
        "\n",
        "proporcionNombres=(sustantivos/totalesSinPuntuación)*100\n",
        "proporcionAdjetivos=(adjetivos/totalesSinPuntuación)*100\n",
        "proporcionVerbos=(verbos/totalesSinPuntuación)*100\n",
        "proporcionAdverbios=(adverbios/totalesSinPuntuación)*100\n",
        "\n",
        "print(\"Tokens totales:\",end=\" \")\n",
        "print(totalesSinPuntuación)\n",
        "print(\"Proporción de sustantivos:\",end=\" \")\n",
        "print(proporcionNombres,end=\" %\\n\")\n",
        "print(\"Proporción de adjetivos:\",end=\" \")\n",
        "print(proporcionAdjetivos,end=\" %\\n\")\n",
        "print(\"Proporción de adverbios:\",end=\" \")\n",
        "print(proporcionAdverbios,end=\" %\\n\")\n",
        "print(\"Proporción de verbos:\",end=\" \")\n",
        "print(proporcionVerbos,end=\" %\\n\")\n"
      ],
      "metadata": {
        "colab": {
          "base_uri": "https://localhost:8080/"
        },
        "id": "U-ibIhVKlc2Y",
        "outputId": "02e22880-7ed1-4655-e11f-dd01b2b662c5"
      },
      "execution_count": 28,
      "outputs": [
        {
          "output_type": "stream",
          "name": "stdout",
          "text": [
            "Tokens totales: 36390\n",
            "Proporción de sustantivos: 20.33800494641385 %\n",
            "Proporción de adjetivos: 5.707611981313548 %\n",
            "Proporción de adverbios: 9.398186314921682 %\n",
            "Proporción de verbos: 14.71558120362737 %\n"
          ]
        }
      ]
    },
    {
      "cell_type": "markdown",
      "metadata": {
        "id": "3ETcvckh6Gn7"
      },
      "source": [
        "### Ejercicio 3\n",
        "Obtener el número de:\n",
        "\n",
        "\n",
        "*   Nombres en masculino y singular\n",
        "*   Nombres en masculino y plural\n",
        "*   Nombres en femenino y singular\n",
        "*   Nombres en femenino y plural\n",
        "\n",
        "¿Existen nombres sin género?\n"
      ]
    },
    {
      "cell_type": "markdown",
      "source": [
        "Como se puede ver en el ejercicio si que existen nombres sin género para la libreria spaCy"
      ],
      "metadata": {
        "id": "ihVY8vAB4wBX"
      }
    },
    {
      "cell_type": "markdown",
      "source": [
        "- Con \"Gender\" not in token.morph:"
      ],
      "metadata": {
        "id": "tGELYV0tEKmo"
      }
    },
    {
      "cell_type": "code",
      "source": [
        "masculino_singular = []\n",
        "masculino_plural = []\n",
        "femenino_singular = []\n",
        "femenino_plural = []\n",
        "nombres_sin_genero = []\n",
        "\n",
        "for archivo in archivosProcesados:\n",
        "    doc = nlp(archivo)\n",
        "    for token in doc:\n",
        "        if token.text.isalpha(): \n",
        "          if token.pos_ == \"NOUN\" or token.pos_ == \"PROPN\":\n",
        "            if \"Gender=Masc\" in token.morph and \"Number=Sing\" in token.morph:\n",
        "                masculino_singular.append(token.text)\n",
        "            elif \"Gender=Masc\" in token.morph and \"Number=Plur\" in token.morph:\n",
        "                masculino_plural.append(token.text)\n",
        "            elif \"Gender=Fem\" in token.morph and \"Number=Sing\" in token.morph:\n",
        "                femenino_singular.append(token.text)\n",
        "            elif \"Gender=Fem\" in token.morph and \"Number=Plur\" in token.morph:\n",
        "                femenino_plural.append(token.text)\n",
        "            elif \"Gender\" not in token.morph:\n",
        "              nombres_sin_genero.append(token.text);\n",
        "              #print(token.text, token.pos_, token.morph)\n",
        "\n",
        "\n",
        "print(\"Nombres en masculino y singular:\", len(masculino_singular), masculino_singular)\n",
        "print(\"Nombres en masculino y plural:\", len(masculino_plural), masculino_plural)\n",
        "print(\"Nombres en femenino y singular:\", len(femenino_singular), femenino_singular)\n",
        "print(\"Nombres en femenino y plural:\", len(femenino_plural), femenino_plural)\n",
        "print(\"Nombres sin genero:\", len(nombres_sin_genero), nombres_sin_genero)"
      ],
      "metadata": {
        "colab": {
          "base_uri": "https://localhost:8080/"
        },
        "id": "ZdzUUmJ4tD8y",
        "outputId": "2bf9f64e-7609-4081-bea9-920769ac3fb6"
      },
      "execution_count": 29,
      "outputs": [
        {
          "output_type": "stream",
          "name": "stdout",
          "text": [
            "Nombres en masculino y singular: 1723 ['autor', 'texto', 'camino', 'final', 'final', 'planeta', 'aire', 'planeta', 'petróleo', 'ejemplo', 'planeta', 'ordenador', 'trabajo', 'mundo', 'supernet', 'mundo', 'miedo', 'sentimiento', 'grupo', 'supernet', 'mundo', 'mundo', 'búnker', 'superlujo', 'planeta', 'día', 'mundo', 'día', 'aviso', 'juego', 'mantenimiento', 'sistema', 'tiempo', 'mundo', 'complejo', 'supernet', 'planeta', 'coche', 'edificio', 'alimento', 'frío', 'calor', 'clima', 'cultivo', 'uso', 'ejemplo', 'mundo', 'planeta', 'plan', 'botón', 'cohete', 'planeta', 'combustible', 'equipo', 'momento', 'acceso', 'cohete', 'ascensor', 'suelo', 'ascensor', 'botón', 'momento', 'ascensor', 'problema', 'ascensor', 'elemento', 'túnel', 'tipo', 'mundo', 'pueblecito', 'acceso', 'tipo', 'momento', 'presentimiento', 'miniordenador', 'rato', 'fin', 'mundo', 'árbol', 'cuidarte', 'salvamento', 'azul', 'cielo', 'paso', 'árbol', 'parque', 'árbol', 'estado', 'shock', 'día', 'grupo', 'amanecer', 'conjunto', 'aire', 'superordenador', 'tiempo', 'escuchadme', 'búnker', 'mundo', 'asunto', 'bienestar', 'plan', 'circuito', 'supernet', 'supernet', 'ordenador', 'búnker', 'timbre', 'sistema', 'robot', 'árbol', 'mundo', 'resto', 'corazón', 'paso', 'brazo', 'gesto', 'grito', 'mundo', 'lado', 'búnker', 'contacto', 'peligro', 'salto', 'aire', 'ataque', 'vuelo', 'instante', 'suelo', 'agujero', 'agujero', 'rugido', 'silencio', 'miedo', 'mundo', 'abismo', 'túnel', 'ascensor', 'búnker', 'casco', 'fondo', 'mundo', 'ascensor', 'extremo', 'cohete', 'planeta', 'cohete', 'uso', 'cohete', 'mundo', 'ascensor', 'planeta', 'planeta', 'cohete', 'día', 'día', 'sol', 'planeta', 'espacio', 'alrededor', 'cohete', 'libro', 'tiempo', 'secreto', 'planeta', 'planeta', 'camino', 'planeta', 'planeta', 'grupo', 'lado', 'planeta', 'mundo', 'momento', 'planeta', 'árbol', 'supernet', 'sentido', 'pasado', 'entusiasmo', 'aterrizaje', 'equipamiento', 'equipo', 'planeta', 'ordenador', 'planeta', 'grupo', 'mundo', 'control', 'tablet', 'ejemplo', 'ejemplo', 'tiempo', 'acuerdo', 'planeta', 'planeta', 'nombre', 'crees', 'debate', 'tema', 'niño', 'planeta', 'frío', 'aire', 'juego', 'planeta', 'dinero', 'dinero', 'invento', 'dinero', 'aplauso', 'niño', 'planeta', 'mundo', 'aplauso', 'tiempo', 'dinero', 'dinero', 'tiempo', 'montón', 'tiempo', 'mundo', 'suelo', 'cohete', 'sol', 'día', 'parlamentando', 'planeta', 'adulto', 'ejemplo', 'voleibol', 'planeta', 'silencio', 'aplauso', 'mundo', 'mundo', 'niño', 'turno', 'planeta', 'suelo', 'planeta', 'paraíso', 'mundo', 'planeta', 'poder', 'hombre', 'niño', 'asunto', 'acuerdo', 'planeta', 'honor', 'resto', 'planeta', 'nombre', 'gusto', 'campo', 'cohete', 'planeta', 'grupo', 'planeta', 'calor', 'ejemplo', 'desierto', 'sol', 'culo', 'calor', 'planeta', 'sitio', 'ordenador', 'aterrizaje', 'vuelo', 'mundo', 'cohete', 'vacío', 'movimiento', 'miedo', 'freno', 'silencio', 'aire', 'sol', 'mundo', 'paso', 'mundo', 'aire', 'suelo', 'soplo', 'viento', 'aire', 'olor', 'niño', 'paso', 'pie', 'traje', 'planeta', 'pie', 'gusto', 'suelo', 'momento', 'mundo', 'exterior', 'aire', 'placer', 'vuelo', 'canto', 'ruido', 'pecho', 'planeta', 'planeta', 'planeta', 'planeta', 'nombre', 'origen', 'ejemplo', 'pescado', 'remedio', 'sentido', 'planeta', 'viaje', 'miedo', 'día', 'día', 'erizo', 'mundo', 'círculo', 'día', 'día', 'mundo', 'mundo', 'planeta', 'erizo', 'terreno', 'riachuelo', 'suelo', 'baño', 'lugar', 'bosque', 'día', 'día', 'humor', 'bosque', 'estado', 'muslo', 'muslo', 'bosque', 'tiempo', 'brazo', 'mundo', 'melón', 'plátano', 'día', 'mundo', 'cariño', 'día', 'mundo', 'cansancio', 'día', 'sol', 'entusiasmo', 'lugar', 'metal', 'plástico', 'sitio', 'pueblo', 'aplauso', 'río', 'lugar', 'paso', 'acceso', 'árbol', 'río', 'río', 'peligro', 'extremo', 'árbol', 'lado', 'árbol', 'río', 'aplauso', 'tiempo', 'mundo', 'orden', 'miedo', 'turno', 'silencio', 'dedo', 'agradecimiento', 'impulso', 'aire', 'aplauso', 'mundo', 'río', 'día', 'campo', 'fútbol', 'lugar', 'animal', 'resto', 'tiempo', 'aire', 'verano', 'día', 'cielo', 'viento', 'vendaval', 'motivo', 'conjunto', 'iglú', 'huracán', 'planeta', 'día', 'vestido', 'río', 'día', 'vestido', 'trabajo', 'trabajo', 'planeta', 'comentario', 'gustito', 'placer', 'lugar', 'día', 'grano', 'ejemplo', 'maíz', 'nízcalo', 'ejemplo', 'espárrago', 'ruido', 'día', 'grupo', 'ojo', 'desayuno', 'guerrero', 'instante', 'tiempo', 'desayuno', 'resto', 'espanto', 'peligro', 'estuvieseis', 'terror', 'mundo', 'miedo', 'mundo', 'escándalo', 'dedo', 'dárselo', 'nombre', 'chico', 'brazo', 'corazón', 'planeta', 'animal', 'juguetón', 'encantador', 'día', 'claro', 'sol', 'suelo', 'palmo', 'prado', 'sol', 'color', 'pecho', 'cuerpo', 'sol', 'rato', 'azul', 'cielo', 'olfato', 'oído', 'tigre', 'gruñir', 'peligro', 'mundo', 'día', 'día', 'tripa', 'día', 'motivo', 'año', 'tiempo', 'día', 'alimento', 'tiempo', 'zarpazo', 'golpe', 'precio', 'hombro', 'silencio', 'mundo', 'suelo', 'lado', 'brazo', 'morro', 'amor', 'niño', 'corazón', 'dolor', 'sufrimiento', 'peligro', 'lado', 'río', 'lado', 'río', 'alimento', 'río', 'problema', 'lado', 'río', 'día', 'lado', 'camino', 'día', 'peso', 'día', 'miedo', 'remedio', 'resto', 'tiempo', 'río', 'lado', 'peligro', 'grupo', 'tiempo', 'sitio', 'territorio', 'lado', 'río', 'mundo', 'día', 'dolor', 'miedo', 'lenguaje', 'idioma', 'árbol', 'enfermo', 'tiempo', 'árbol', 'estilo', 'ritmo', 'cambio', 'estilo', 'nombre', 'eco', 'amor', 'interior', 'espíritu', 'mensaje', 'corazón', 'rato', 'cuerpo', 'cuerpo', 'cuerpo', 'brazo', 'resto', 'cuerpo', 'resto', 'árbol', 'pelo', 'resto', 'cuerpo', 'pelo', 'pelo', 'pelo', 'pelo', 'universo', 'ser', 'cerebro', 'corazón', 'lugar', 'universo', 'espíritu', 'amor', 'límite', 'cariño', 'murciélago', 'día', 'día', 'minuto', 'cuerpo', 'barro', 'lado', 'lado', 'día', 'día', 'remedio', 'día', 'día', 'día', 'resto', 'aspecto', 'sol', 'mundo', 'silencio', 'rato', 'nacimiento', 'ciclo', 'sitio', 'cuerpo', 'espíritu', 'abrazarte', 'lado', 'resumen', 'ser', 'espíritu', 'espíritu', 'espíritu', 'ejemplo', 'espíritu', 'nivel', 'reflejo', 'nivel', 'espíritu', 'espíritu', 'rumbo', 'cuerpo', 'cuerpo', 'ser', 'planeta', 'dejad', 'perjuicio', 'día', 'sitio', 'tiempo', 'equilibrio', 'equilibrio', 'caso', 'equilibrio', 'grupo', 'límite', 'límite', 'tribus', 'territorio', 'planeta', 'control', 'regalo', 'mundo', 'mundo', 'ángel', 'Miradme', 'cuerpo', 'espíritu', 'beso', 'día', 'cuerpo', 'frío', 'sitio', 'árbol', 'cuerpo', 'árbol', 'contacto', 'nombre', 'nombre', 'nombre', 'nombre', 'grupo', 'planeta', 'calor', 'frío', 'tiempo', 'día', 'hombre', 'tiempo', 'mantenimiento', 'tema', 'hombre', 'plan', 'tiempo', 'tiempo', 'control', 'planeta', 'poder', 'día', 'laboratorio', 'secreto', 'robot', 'ser', 'ejemplo', 'tipo', 'terrícola', 'robot', 'daño', 'humano', 'humano', 'daño', 'robot', 'robot', 'ingeniero', 'caso', 'ingeniero', 'cargo', 'poder', 'hijo', 'padre', 'humano', 'lugar', 'cambio', 'trabajo', 'equipo', 'planeta', 'planeta', 'experimento', 'robot', 'leñador', 'ingeniero', 'equipo', 'robot', 'dormitorio', 'ingeniero', 'cuello', 'instante', 'día', 'cadáver', 'ejército', 'momento', 'mundo', 'paso', 'tiempo', 'poder', 'motivo', 'día', 'plato', 'cuello', 'mundo', 'miedo', 'amigo', 'día', 'plato', 'sabor', 'continúo', 'sabor', 'plato', 'dolor', 'cuello', 'mundo', 'ordenador', 'planeta', 'ordenador', 'día', 'ordenador', 'planeta', 'grupo', 'planeta', 'calor', 'sitio', 'trabajo', 'alimento', 'grupo', 'ordenador', 'principio', 'ordenador', 'día', 'alimento', 'ordenador', 'día', 'tesoro', 'cofre', 'ordenador', 'libro', 'libro', 'problema', 'fuego', 'ordenador', 'tiempo', 'trabajo', 'sistema', 'terremoto', 'idioma', 'latín', 'cuerpo', 'tema', 'día', 'rato', 'teléfono', 'pensamiento', 'interés', 'ordenador', 'ordenador', 'cofre', 'cofre', 'cofre', 'ordenador', 'fondo', 'mundo', 'sitio', 'día', 'tiempo', 'lado', 'alimento', 'tiempo', 'deporte', 'tiempo', 'día', 'bebé', 'bebé', 'árbol', 'suelo', 'grupo', 'pecho', 'miedo', 'mono', 'depredador', 'bebé', 'contacto', 'olfato', 'peligro', 'tiempo', 'tiempo', 'tribus', 'territorio', 'peligro', 'tribus', 'día', 'territorio', 'alrededor', 'trabajo', 'territorio', 'alimento', 'territorio', 'círculo', 'tiempo', 'desgaste', 'tiempo', 'momento', 'problema', 'hombre', 'voto', 'centenar', 'problema', 'día', 'año', 'pecho', 'arco', 'resto', 'método', 'pecho', 'tiempo', 'mundo', 'círculo', 'principio', 'circuito', 'capítulo', 'viento', 'tiro', 'suelo', 'pensamiento', 'objeto', 'pasatiempo', 'hijo', 'lado', 'niño', 'resto', 'tiempo', 'día', 'trabajo', 'coro', 'grupo', 'día', 'nombre', 'bebé', 'suelo', 'palmo', 'aire', 'día', 'aire', 'suelo', 'año', 'estudio', 'día', 'pensamiento', 'miedo', 'miedo', 'día', 'día', 'motivo', 'peligro', 'consejo', 'miedo', 'cuidado', 'tema', 'secreto', 'mundo', 'miedo', 'secreto', 'motivo', 'respeto', 'miedo', 'miedo', 'aire', 'teatro', 'aire', 'pelo', 'cielo', 'rato', 'terror', 'cielo', 'miedo', 'espectáculo', 'poder', 'miedo', 'miedo', 'ayudarte', 'día', 'cansancio', 'coco', 'mundo', 'suelo', 'puño', 'palmo', 'coco', 'blanco', 'impacto', 'coco', 'coco', 'aire', 'suelo', 'cielo', 'tiro', 'ejemplo', 'tono', 'pelo', 'alrededor', 'brazo', 'pie', 'tiempo', 'mensaje', 'corazón', 'mensaje', 'secreto', 'momento', 'tiempo', 'interés', 'tono', 'daño', 'daño', 'momento', 'miedo', 'sentido', 'tiempo', 'ramo', 'arco', 'ramo', 'suelo', 'orgullo', 'suelo', 'pie', 'riesgo', 'hecho', 'poder', 'peligro', 'momento', 'suelo', 'silencio', 'aliento', 'rato', 'cargo', 'respeto', 'servicio', 'tiempo', 'suelo', 'punto', 'cruel', 'sentido', 'contacto', 'corazón', 'hombro', 'día', 'arco', 'lugar', 'miedo', 'paso', 'espíritu', 'corazón', 'camino', 'día', 'verdor', 'arco', 'momento', 'resto', 'viaje', 'alrededor', 'suelo', 'árbol', 'árbol', 'peso', 'peligro', 'principio', 'miedo', 'ojo', 'cerrado', 'peligro', 'brazo', 'lado', 'día', 'arco', 'día', 'lado', 'aire', 'progreso', 'esfuerzo', 'peso', 'día', 'poder', 'poder', 'peligro', 'viaje', 'sur', 'cielo', 'pie', 'alimento', 'momento', 'bosque', 'día', 'alimento', 'día', 'caso', 'día', 'día', 'camino', 'cielo', 'sol', 'sol', 'cuerpo', 'dolor', 'cuerpo', 'remedio', 'cansancio', 'juego', 'bosque', 'día', 'esfuerzo', 'paso', 'bosque', 'miedo', 'agotamiento', 'frío', 'camino', 'árbol', 'día', 'sol', 'cielo', 'cuerpo', 'camino', 'remedio', 'día', 'mes', 'entrenamiento', 'cuerpo', 'barro', 'sol', 'par', 'volveré', 'paso', 'tipo', 'ejercicio', 'pelo', 'sol', 'árbol', 'bosque', 'entrenamiento', 'día', 'cielo', 'pájaro', 'terror', 'pájaro', 'monstruo', 'monstruo', 'cerdo', 'monstruo', 'mono', 'mono', 'alimento', 'territorio', 'sur', 'momento', 'territorio', 'norte', 'peligro', 'peligro', 'día', 'sol', 'frío', 'aire', 'escondrijo', 'día', 'paso', 'pico', 'resto', 'cuerpo', 'dragón', 'cuerpo', 'monstruo', 'bloqueo', 'odio', 'miedo', 'dragón', 'segundo', 'terror', 'cuerpo', 'lado', 'dragón', 'monstruo', 'cráneo', 'ruido', 'alrededor', 'cerebro', 'tiempo', 'dragón', 'huevo', 'nido', 'cuerpo', 'oso', 'nudo', 'tacto', 'caso', 'huevo', 'dolor', 'corazón', 'precipicio', 'lado', 'rato', 'aluvión', 'sol', 'mediodía', 'día', 'camino', 'puente', 'acceso', 'sitio', 'perdón', 'motivo', 'crimen', 'interior', 'lugar', 'pánico', 'momento', 'sentido', 'problema', 'cuerpo', 'cuerpo', 'remedio', 'suelo', 'palmo', 'mundo', 'vértigo', 'control', 'suelo', 'problema', 'rato', 'valor', 'palmo', 'aire', 'día', 'momento', 'problema', 'camino', 'miedo', 'salto', 'palmo', 'metro', 'suelo', 'metro', 'lado', 'suelo', 'tramo', 'sueño', 'rato', 'sol', 'horizonte', 'momento', 'abismo', 'momento', 'corazón', 'fortísimo', 'aire', 'sol', 'tiempo', 'remedio', 'aire', 'paso', 'aire', 'precipicio', 'principio', 'apoyo', 'punto', 'espacio', 'aire', 'sol', 'cielo', 'río', 'cerebro', 'dragón', 'río', 'mediodía', 'mundo', 'día', 'sueño', 'cerebro', 'sueño', 'montón', 'arco', 'peligro', 'poquito', 'aire', 'cuerpo', 'pecho', 'arco', 'aire', 'resto', 'aire', 'mediodía', 'tiempo', 'sol', 'árbol', 'aire', 'día', 'esfuerzo', 'pie', 'alrededor', 'paisaje', 'día', 'punto', 'alrededor', 'oeste', 'sur', 'horizonte', 'horizonte', 'cielo', 'sol', 'arco', 'cielo', 'bonito', 'mundo', 'salto', 'rato', 'control', 'vuelo', 'principio', 'río', 'rato', 'suelo', 'vuelo', 'sol', 'vuelo', 'aire', 'viento', 'frío', 'cuerpo', 'vuelo', 'miedo', 'obstáculo', 'vuelo', 'pelo', 'cuello', 'frío', 'árbol', 'vuelo', 'tiempo', 'día', 'día', 'mundo', 'horizonte', 'viaje', 'ejemplo', 'sur', 'viaje', 'sureste', 'suroeste', 'problema', 'frío', 'lago', 'horizonte', 'final', 'nombre', 'lago', 'día', 'calor', 'frío', 'lugar', 'animal', 'alimento', 'lugar', 'mundo', 'día', 'cuerpo', 'tiempo', 'río', 'camino', 'regreso', 'viaje', 'regreso', 'día', 'lado', 'montón', 'día', 'árbol', 'lado', 'viaje', 'día', 'rato', 'suelo', 'susto', 'juego', 'frío', 'suelo', 'vuelo', 'día', 'miedo', 'mundo', 'caso', 'animal', 'salto', 'cuello', 'poder', 'árbol', 'hueso', 'truco', 'cuerpo', 'peligro', 'momento', 'territorio', 'camino', 'alivio', 'territorio', 'tiempo', 'montón', 'destierro', 'tiempo', 'pinchazo', 'corazón', 'alcance', 'resto', 'momento', 'viento', 'interés', 'mundo', 'atractivo', 'sentimiento', 'mundo', 'campo', 'tono', 'vuelto', 'ser', 'ejemplo', 'miedo', 'miedo', 'daño', 'hombre', 'cambio', 'tiempo', 'silencio', 'miedo', 'hombre', 'miedo', 'miedo', 'hombre', 'miedo', 'salto', 'terror', 'niño', 'método', 'ejemplo', 'golpe', 'daño', 'momento', 'pozo', 'corazón', 'bebé', 'precipicio', 'abismo', 'fondo', 'pecho', 'corazón', 'cuerpo', 'centro', 'trauma', 'bebé', 'silencio', 'río', 'pecho', 'hombro', 'desconsuelo', 'bebé', 'año', 'paso', 'trauma', 'hombre', 'daño', 'abandono', 'cariño', 'motivo', 'rincón', 'pecho', 'amor', 'pozo', 'corazón', 'crimen', 'sufrimiento', 'consuelo', 'maltrato', 'movimiento', 'lado', 'codo', 'brazo', 'pecho', 'cuerpo', 'sueño', 'ejemplo', 'habláis', 'mundo', 'ejemplo', 'ejemplo', 'cuerpo', 'derecho', 'aire', 'fondo', 'hecho', 'corazón', 'pensamiento', 'cariño', 'ejemplo', 'aire', 'montón', 'lado', 'árbol', 'temblor', 'cuerpo', 'aire', 'atónito', 'suelo', 'explicártelo', 'tiempo', 'día', 'momento', 'tiempo', 'favor', 'Ves', 'cariño', 'paso', 'miedo', 'caso', 'secreto', 'secreto', 'hombre', 'hombre', 'momento', 'nudo', 'salto', 'suelo', 'cariño', 'gesto', 'salto', 'aire', 'árbol', 'bebé', 'día', 'contacto', 'abrazo', 'malestar', 'pecho', 'día', 'día', 'estés', 'sentido', 'lado', 'corazón', 'lado', 'enfermo', 'mundo', 'enfermo', 'día', 'saco', 'canto', 'motivo', 'momento', 'peligro', 'día', 'día', 'alrededor', 'mundo', 'hombre', 'hombre', 'tiempo', 'sol', 'Ves', 'día', 'tiempo', 'cuerpo', 'mundo', 'intercambio', 'fuego', 'nivel', 'ecosistema', 'bebé', 'hombre', 'hombre', 'valor', 'día', 'desayuno', 'paso', 'pie', 'contacto', 'mundo', 'cuerpo', 'siento', 'verte', 'cuerpo', 'corazón', 'afecto', 'suelo', 'piso', 'amor', 'semicírculo', 'centro', 'mundo', 'suelo', 'suelo', 'siento', 'aspecto', 'favor', 'apoyo', 'tiempo', 'bienestar', 'afecto', 'lado', 'suelo', 'aliento', 'peligro', 'aire', 'palmo', 'metro', 'miedo', 'espanto', 'suelo', 'tiempo', 'cogerte', 'argumento', 'miedo', 'arranque', 'ejemplo', 'hombre', 'árbol', 'golpe', 'miedo', 'miedo', 'crees', 'peligro', 'objetivo', 'tiempo', 'momento', 'comportamiento', 'método', 'problema', 'mundo', 'mundo', 'ejemplo', 'bien', 'viaje', 'lugar', 'hábitat', 'camino', 'movimiento', 'camino', 'peligro', 'miedo', 'momento', 'minuto', 'favor', 'escucharte', 'minuto', 'sentido', 'tiempo', 'mundo', 'mundo', 'lenguaje', 'ejemplo', 'rayo', 'cielo', 'ruido', 'cielo', 'rayo', 'cielo', 'instante', 'montoncito', 'lado', 'rayo', 'vuelo', 'aire', 'monstruo', 'ordenador', 'objetivo', 'pelo', 'ordenador', 'rayo', 'segundo', 'blanco', 'monstruo', 'tiro', 'segundo', 'alrededor', 'casco', 'daño', 'monstruo', 'brazo', 'demonio', 'suelo', 'esfuerzo', 'esfuerzo', 'monstruo', 'suelo', 'monstruo', 'vuelo', 'esfuerzo', 'monstruo', 'suelo', 'yacimiento', 'suelo', 'ruido', 'rato', 'resultado', 'mundo', 'rato', 'suelo', 'lado', 'nombre', 'agotamiento', 'momento', 'lado', 'mundo', 'hombre', 'día', 'día', 'día', 'monstruo', 'respeto', 'afecto', 'perdón', 'corazón', 'resultado', 'rayo', 'hecho', 'rayo', 'rayo', 'monstruo', 'ataque', 'monstruo', 'argumento', 'monstruo', 'monstruo', 'caso', 'mensaje', 'monstruo', 'peligro', 'favor', 'asunto', 'tiempo', 'esfuerzo', 'punto', 'afecto', 'asco', 'honor', 'hombre', 'hombre', 'vocabulario', 'sentimiento', 'resto', 'vientre', 'derecho', 'brazo', 'cuerpo', 'cuerpo', 'hogar', 'día', 'afecto', 'hombre', 'vientre', 'afecto', 'paraíso', 'motivo', 'castigo', 'resto', 'interior', 'vacío', 'momento', 'hijo', 'bebé', 'monstruo', 'bebé', 'bebé', 'lado', 'corazón', 'sufrimiento', 'día', 'bebé', 'bebé', 'vínculo', 'rechazo', 'parto', 'suelo', 'hombro', 'rechazo', 'rechazo', 'rechazo', 'asunto', 'tiempo', 'tiempo', 'día', 'día', 'baile', 'momento', 'hijo', 'amor', 'ordenador', 'planeta', 'módulo', 'ordenador', 'peligro', 'planeta', 'momento', 'planeta', 'gozo']\n",
            "Nombres en masculino y plural: 894 ['principios', 'principios', 'finales', 'millones', 'metales', 'recursos', 'robots', 'trabajos', 'campos', 'juguetes', 'edificios', 'enfermos', 'supermercados', 'coches', 'trenes', 'dios', 'robots', 'amos', 'amos', 'metros', 'años', 'días', 'técnicos', 'tornados', 'núcleos', 'ascensores', 'coches', 'autobuses', 'trenes', 'aviones', 'medios', 'edificios', 'hospitales', 'supermercados', 'días', 'millones', 'países', 'sitios', 'descampados', 'ríos', 'ríos', 'pueblos', 'campos', 'agricultores', 'martillos', 'alimentos', 'amos', 'motores', 'alimentos', 'planetas', 'metros', 'metros', 'trillones', 'metros', 'amos', 'destrozos', 'tornados', 'instantes', 'niños', 'niños', 'niños', 'adultos', 'días', 'robots', 'cañones', 'circuitos', 'robots', 'robots', 'láseres', 'pasos', 'robots', 'pasos', 'pares', 'metros', 'pies', 'metros', 'tigres', 'ojos', 'intrusos', 'tigres', 'humanos', 'atacarlos', 'morros', 'matarlos', 'tigres', 'intrusos', 'palmos', 'pies', 'tigres', 'tigres', 'amos', 'amos', 'ojos', 'ruidos', 'astrónomos', 'grupos', 'grupos', 'ayudarnos', 'animales', 'microorganismos', 'dividirnos', 'grupos', 'adultos', 'adultos', 'adultos', 'niños', 'niños', 'adultos', 'habernos', 'caminos', 'niños', 'adultos', 'planetas', 'años', 'avances', 'problemas', 'amos', 'siglos', 'trabajos', 'muñecos', 'juegos', 'deportes', 'árboles', 'castillos', 'adultos', 'adultos', 'planetas', 'niños', 'ricos', 'niños', 'momentos', 'niños', 'ricos', 'amos', 'padres', 'niños', 'juguetes', 'exámenes', 'cuentos', 'errores', 'cometerlos', 'soldados', 'robots', 'robots', 'amos', 'aplausos', 'gritos', 'hombres', 'hombres', 'malos', 'hombres', 'niños', 'compañeros', 'bandazos', 'reactores', 'corazones', 'cinturones', 'animales', 'pulmones', 'insectos', 'pájaros', 'árboles', 'robots', 'extraterrestres', 'monstruos', 'productos', 'huevos', 'animales', 'ingredientes', 'ingredientes', 'tigres', 'palos', 'alegres', 'días', 'cocodrilos', 'palos', 'tobillos', 'gritos', 'minutos', 'humanos', 'ojos', 'cabellos', 'alimentos', 'frutos', 'frutos', 'colores', 'sabores', 'saltos', 'niños', 'años', 'frutos', 'nutritivos', 'veganos', 'labios', 'días', 'alrededores', 'pros', 'días', 'saltitos', 'suertes', 'ánimos', 'metros', 'problemas', 'brazos', 'minutos', 'saltos', 'gritos', 'troncos', 'mamíferos', 'árboles', 'hilos', 'niños', 'alimentos', 'brotes', 'animales', 'quietos', 'animales', 'animales', 'tigres', 'animales', 'animales', 'gritos', 'gritos', 'instantes', 'ojos', 'pechos', 'ojos', 'ojos', 'platos', 'peligros', 'humanos', 'aullidos', 'ruidos', 'dientes', 'Buscaremos', 'animales', 'daremos', 'buscárselos', 'humanos', 'perros', 'árboles', 'colores', 'niños', 'colores', 'reflejos', 'humanos', 'movimientos', 'ojos', 'saltos', 'ojos', 'brazos', 'rayos', 'pajaritos', 'humanos', 'humanos', 'humanos', 'tristes', 'abandonarlos', 'congéneres', 'días', 'ratones', 'ojos', 'ojos', 'días', 'peluches', 'humanos', 'meses', 'animales', 'humanos', 'minutos', 'ojos', 'momentos', 'minutos', 'chorros', 'cadáveres', 'días', 'pies', 'materiales', 'tristes', 'días', 'animales', 'humanos', 'sueños', 'brazos', 'animales', 'humanos', 'hienas', 'árboles', 'árboles', 'años', 'pelos', 'pelos', 'pelos', 'árboles', 'humanos', 'ojos', 'mosquitos', 'humanos', 'mosquitos', 'mosquitos', 'centenares', 'bichos', 'mosquitos', 'humanos', 'espantarlos', 'mosquitos', 'bichos', 'murciélagos', 'humanos', 'murciélagos', 'enjambres', 'mosquitos', 'murciélagos', 'cazarlos', 'humanos', 'mosquitos', 'murciélagos', 'murciélagos', 'mosquitos', 'murciélagos', 'mosquitos', 'murciélagos', 'cogeremos', 'sacos', 'murciélagos', 'murciélagos', 'mosquitos', 'años', 'niños', 'hombres', 'hijos', 'tristes', 'cuerpos', 'nuevos', 'cuentos', 'explicándonos', 'haceros', 'ojos', 'dedos', 'oídos', 'pensamientos', 'sentimientos', 'vosotros', 'millones', 'millones', 'animalitos', 'animalitos', 'aparatos', 'veganos', 'individuos', 'quereros', 'ayudaros', 'enemigos', 'alimentos', 'frutos', 'hermanos', 'casos', 'recursos', 'recursos', 'recursos', 'alimentaros', 'tenéis', 'dividiros', 'grupos', 'territorios', 'grupos', 'hijos', 'recursos', 'muertos', 'años', 'vosotros', 'ojos', 'sueños', 'animales', 'vosotros', 'restos', 'veganos', 'consejos', 'años', 'veganos', 'consejos', 'adultos', 'humanos', 'años', 'robots', 'siglos', 'insectos', 'robots', 'campos', 'edificios', 'juegos', 'recursos', 'técnicos', 'asesinarnos', 'siglos', 'humanos', 'robots', 'humanos', 'robots', 'enemigos', 'robots', 'robots', 'vecinos', 'robots', 'niños', 'mm', 'robots', 'robots', 'exploradores', 'años', 'siglos', 'archivos', 'humanos', 'robots', 'meses', 'humanos', 'vegetales', 'chicos', 'chicos', 'turnos', 'ayudaros', 'troncos', 'conocimientos', 'humanos', 'años', 'conocimientos', 'bichos', 'años', 'interiores', 'repasaremos', 'temas', 'pensamientos', 'objetos', 'tocarlos', 'pensamientos', 'objetos', 'años', 'años', 'años', 'chicos', 'hombres', 'antecesores', 'humanos', 'monos', 'monos', 'pechos', 'humanos', 'humanos', 'bebés', 'hombres', 'simios', 'mansos', 'monos', 'animales', 'amigos', 'humanos', 'árboles', 'monos', 'alimentarnos', 'antecesores', 'recolectores', 'años', 'años', 'repararemos', 'años', 'hombres', 'años', 'hombres', 'años', 'hombres', 'monos', 'hombres', 'hijos', 'hijos', 'criterios', 'criterios', 'hombres', 'trabajos', 'monos', 'años', 'frutos', 'hombres', 'años', 'conocimientos', 'avances', 'cuerpos', 'avances', 'centímetros', 'ojos', 'kilos', 'progresos', 'hombres', 'animales', 'monos', 'hombres', 'monos', 'hombres', 'monos', 'hombres', 'hombres', 'bailes', 'pasatiempos', 'animales', 'seres', 'hombres', 'movimientos', 'ridículos', 'centímetros', 'meses', 'años', 'deditos', 'poderes', 'poderes', 'poderes', 'poderes', 'años', 'poderes', 'dones', 'dinos', 'centenares', 'metros', 'brazos', 'brazos', 'deciros', 'habrías', 'tamaños', 'hombres', 'monos', 'ojos', 'poderes', 'momentos', 'tomes', 'instantes', 'poderes', 'años', 'años', 'minutos', 'gestos', 'pensamientos', 'sentimientos', 'escalofríos', 'matarnos', 'ojos', 'plátanos', 'ojos', 'plátanos', 'ojos', 'ojos', 'aires', 'humos', 'poderes', 'poderes', 'tiempos', 'monos', 'hombres', 'sollozos', 'años', 'meses', 'pies', 'frutos', 'pasos', 'monos', 'hombres', 'ruidos', 'movimientos', 'ruidos', 'olores', 'árboles', 'Mm', 'peligros', 'izquierdos', 'días', 'pasos', 'brazos', 'aires', 'brazos', 'días', 'días', 'meses', 'árboles', 'días', 'humanos', 'árboles', 'árboles', 'pies', 'rasguños', 'rayos', 'músculos', 'brazos', 'músculos', 'árboles', 'días', 'árboles', 'músculos', 'pies', 'hombres', 'parásitos', 'meses', 'metros', 'monstruos', 'monos', 'territorios', 'humanos', 'días', 'monstruos', 'picos', 'esfuerzos', 'terremotos', 'ojos', 'ojos', 'trozos', 'cerebros', 'metros', 'ojos', 'bebés', 'tiernos', 'ojos', 'padres', 'huevos', 'nidos', 'cadáveres', 'objetos', 'cuerpos', 'palpitantes', 'nidos', 'nidos', 'huevos', 'padres', 'huevos', 'aires', 'sentimientos', 'temblores', 'alrededores', 'pareces', 'motivos', 'poderes', 'monstruos', 'hijos', 'monstruos', 'ojos', 'Mm', 'objetos', 'cuerpos', 'animales', 'huevos', 'ojos', 'centímetros', 'saltitos', 'metros', 'vuelos', 'dedos', 'pies', 'metros', 'dientes', 'pulmones', 'pies', 'metros', 'monstruos', 'brazos', 'lados', 'brazos', 'pájaros', 'brazos', 'aires', 'ojos', 'brazos', 'costados', 'árboles', 'pájaros', 'hombros', 'hombros', 'alrededores', 'alrededores', 'viajes', 'bosques', 'árboles', 'animales', 'nervios', 'hijos', 'meses', 'aires', 'brazos', 'árboles', 'árboles', 'pájaros', 'pájaros', 'pájaros', 'comérselos', 'labios', 'días', 'días', 'monos', 'hombres', 'ojos', 'escuchándolos', 'hombres', 'movimientos', 'ángeles', 'hombres', 'ojos', 'platos', 'hombres', 'hombres', 'hombres', 'monosílabos', 'viles', 'hacíais', 'ruidos', 'hombres', 'vosotros', 'ojos', 'bebés', 'sentimientos', 'brazos', 'ojos', 'animales', 'hombros', 'años', 'niños', 'años', 'Millones', 'millones', 'hombres', 'niños', 'hombres', 'abrazos', 'monos', 'hombres', 'niños', 'niños', 'millones', 'niños', 'sentimientos', 'ojos', 'hombres', 'hombres', 'cuentos', 'cuentos', 'sentimientos', 'hombres', 'metros', 'vosotros', 'hombres', 'hijos', 'abandonamos', 'cuerpos', 'machos', 'hombres', 'días', 'días', 'hombres', 'miedos', 'días', 'brazos', 'años', 'meses', 'cuentos', 'hombres', 'movimientos', 'días', 'sentimientos', 'hombres', 'viajes', 'territorios', 'hombres', 'días', 'años', 'amigos', 'observarnos', 'días', 'conocimientos', 'recuerdos', 'aires', 'cuentos', 'viajes', 'hijos', 'hombres', 'pies', 'pájaros', 'monos', 'hombres', 'gestos', 'ojos', 'ojos', 'ojos', 'contaros', 'minutos', 'meses', 'pelos', 'poderes', 'cambios', 'vuestros', 'poderes', 'seres', 'metros', 'ojos', 'platos', 'metros', 'gritos', 'haceros', 'poderes', 'hombres', 'aires', 'humanos', 'rehuirnos', 'años', 'poderes', 'enseñaros', 'seres', 'seres', 'kilómetros', 'humanos', 'monstruos', 'monos', 'hombres', 'hombres', 'hombres', 'años', 'hombres', 'animales', 'pájaros', 'animales', 'hombres', 'monstruos', 'hombres', 'hombres', 'hombres', 'hechos', 'maestros', 'truenos', 'metros', 'datos', 'seres', 'mamíferos', 'monos', 'hombres', 'árboles', 'láseres', 'rayos', 'tiros', 'humanos', 'animales', 'hombres', 'muertos', 'brazos', 'ojos', 'ojos', 'ojos', 'ojos', 'ojos', 'sentimientos', 'mentes', 'hubieses', 'hombres', 'hombres', 'seres', 'ojos', 'argumentos', 'hombres', 'confesaros', 'hombres', 'hombres', 'minutos', 'días', 'hombres', 'hombres', 'años', 'brazos', 'hombres', 'vuestros', 'días', 'sollozos', 'meses', 'hombres', 'ánimos', 'debates', 'hombres', 'hombres', 'hijos', 'niños', 'hombres', 'hombres', 'hombres', 'cursos', 'niños', 'años', 'hombres', 'hombres', 'años', 'presentes', 'errores', 'seres', 'siglos', 'siglos']\n",
            "Nombres en femenino y singular: 2448 ['traducción', 'edición', 'parte', 'parte', 'parte', 'parte', 'parte', 'planeta', 'tierra', 'agua', 'tecnología', 'vida', 'comida', 'ropa', 'casa', 'gente', 'especie', 'mayoría', 'informática', 'gente', 'compasión', 'tierra', 'profundidad', 'selva', 'gente', 'parte', 'cosa', 'avería', 'alarma', 'epidemia', 'parte', 'computación', 'red', 'reacción', 'cadena', 'red', 'televisión', 'comunicación', 'sed', 'hambre', 'agua', 'gente', 'agua', 'basura', 'maquinaria', 'tierra', 'vez', 'cosa', 'nube', 'forma', 'vida', 'marcha', 'evacuación', 'emergencia', 'ropa', 'galaxia', 'hora', 'superficie', 'nave', 'subida', 'superficie', 'Cincuenta', 'vez', 'puerta', 'evacuación', 'escalera', 'puerta', 'puerta', 'apertura', 'avería', 'lotería', 'salvación', 'manera', 'noticia', 'minoría', 'calle', 'casa', 'muñeca', 'cuenta', 'sombra', 'suerte', 'calle', 'adulta', 'operación', 'búsqueda', 'mayoría', 'persona', 'clase', 'vida', 'nube', 'noche', 'posibilidad', 'salvación', 'selva', 'selva', 'valla', 'gente', 'seguridad', 'existencia', 'semana', 'información', 'gente', 'población', 'pena', 'alternativa', 'muerte', 'gente', 'compasión', 'emergencia', 'comunicación', 'selva', 'pulsera', 'selva', 'prueba', 'valla', 'valla', 'selva', 'entrada', 'puerta', 'detección', 'marcha', 'selva', 'distancia', 'estatua', 'pedrada', 'máquina', 'alegría', 'esperanza', 'valla', 'electricidad', 'valla', 'victoria', 'euforia', 'heroína', 'valla', 'emoción', 'selva', 'entrada', 'fila', 'separación', 'precaución', 'sangre', 'pareja', 'piedra', 'rama', 'cosa', 'intención', 'superioridad', 'dirección', 'manera', 'tierra', 'incredulidad', 'vida', 'cabeza', 'lucecita', 'salida', 'emergencia', 'fila', 'compuerta', 'gente', 'identificación', 'experiencia', 'noche', 'noche', 'puerta', 'idea', 'ventana', 'vez', 'casa', 'humanidad', 'sensación', 'nave', 'noche', 'ciudad', 'luz', 'dirección', 'persona', 'tecnología', 'parte', 'gente', 'galaxia', 'nave', 'órbita', 'cápsula', 'nave', 'órbita', 'cápsula', 'nave', 'humanidad', 'persona', 'supervivencia', 'especie', 'razón', 'carta', 'seguridad', 'hora', 'decisión', 'historia', 'Recordad', 'democracia', 'humanidad', 'oportunidad', 'cuenta', 'inocencia', 'imaginación', 'aportación', 'supervivencia', 'humanidad', 'mayoría', 'alegría', 'mujer', 'nave', 'vida', 'suerte', 'oportunidad', 'cuenta', 'cápsula', 'supervivencia', 'nave', 'maquinaria', 'fuente', 'energía', 'felicidad', 'vida', 'naturaleza', 'tecnología', 'destrucción', 'contaminación', 'humanidad', 'tecnología', 'manera', 'humanidad', 'tecnología', 'tecnología', 'tecnología', 'tecnología', 'televisión', 'pelota', 'arena', 'discusión', 'mayoría', 'tecnología', 'tecnología', 'mano', 'ropa', 'diferencia', 'ropa', 'ropa', 'batalla', 'nieve', 'ropa', 'sesión', 'agua', 'ropa', 'mano', 'palabra', 'mayoría', 'hambre', 'muñeca', 'propuesta', 'palabra', 'mayoría', 'propuesta', 'aclamación', 'niña', 'mano', 'falta', 'comida', 'casa', 'pillapilla', 'hambre', 'tripa', 'niña', 'tierra', 'verdad', 'mano', 'propuesta', 'mayoría', 'práctica', 'forma', 'vez', 'niña', 'palabra', 'enfermedad', 'vez', 'familia', 'guerra', 'gente', 'cosa', 'palabra', 'voz', 'verdura', 'dieta', 'mayoría', 'niña', 'palabra', 'contaminación', 'vida', 'ciudad', 'selva', 'naturaleza', 'armonía', 'alegría', 'mano', 'pelota', 'diosa', 'caza', 'protectora', 'naturaleza', 'parte', 'órbita', 'ropa', 'zona', 'piedra', 'agua', 'falta', 'vegetación', 'comida', 'sombra', 'zona', 'selva', 'cápsula', 'seguridad', 'cápsula', 'superficie', 'velocidad', 'atmósfera', 'cápsula', 'sacudida', 'marcha', 'suavidad', 'fuerza', 'presión', 'compuerta', 'luz', 'inundación', 'luz', 'puerta', 'humanidad', 'superficie', 'hierba', 'planta', 'brisa', 'sensación', 'felicidad', 'persona', 'terrícola', 'bebida', 'cola', 'tierra', 'vida', 'terrícola', 'especie', 'conversación', 'persona', 'carne', 'leche', 'granja', 'hermana', 'dieta', 'idea', 'punta', 'lanza', 'cápsula', 'entrada', 'noche', 'lanza', 'mano', 'formación', 'manera', 'idea', 'unión', 'fuerza', 'alegría', 'cápsula', 'lanza', 'estatura', 'persona', 'noche', 'mañana', 'agua', 'falta', 'agua', 'formación', 'precaución', 'atención', 'cápsula', 'agua', 'corriente', 'agua', 'agua', 'agua', 'piscina', 'agua', 'diversión', 'tarde', 'cápsula', 'oscuridad', 'noche', 'cápsula', 'energía', 'vitalidad', 'cabeza', 'mejilla', 'pierna', 'tripa', 'sensación', 'casa', 'verdad', 'madre', 'cosa', 'felicidad', 'hija', 'niña', 'cápsula', 'selva', 'variedad', 'manzana', 'naranja', 'sandía', 'cantidad', 'selva', 'hambre', 'alegría', 'casa', 'casa', 'niña', 'emoción', 'vida', 'vitalidad', 'energía', 'actividad', 'diversión', 'noche', 'satisfacción', 'sonrisa', 'ilusión', 'hambre', 'comida', 'cápsula', 'asamblea', 'cápsula', 'propuesta', 'ubicación', 'aldea', 'montaña', 'isla', 'asamblea', 'agua', 'mayoría', 'roca', 'fiera', 'pega', 'corriente', 'solución', 'sonrisa', 'cuerda', 'orilla', 'cintura', 'manera', 'pared', 'isla', 'tirolina', 'escalera', 'isla', 'orilla', 'propuesta', 'obra', 'ingeniería', 'emoción', 'tirolina', 'vez', 'tirolina', 'mirada', 'mirada', 'decisión', 'isla', 'tirolina', 'altura', 'agua', 'tirolina', 'tribu', 'señal', 'victoria', 'recompensa', 'alegría', 'isla', 'cima', 'residencia', 'población', 'cabaña', 'prisa', 'casa', 'piedra', 'habitación', 'mayoría', 'casa', 'madriguera', 'lluvia', 'lluvia', 'temperatura', 'caída', 'casa', 'tempestad', 'ocasión', 'piedra', 'casa', 'forma', 'construcción', 'cueva', 'persona', 'ropa', 'verdad', 'falta', 'ropa', 'ocasión', 'sabiduría', 'ropa', 'cápsula', 'desnuda', 'noche', 'muslo', 'piel', 'carita', 'mano', 'cabeza', 'niña', 'isla', 'cosecha', 'dirección', 'vegetación', 'dificultad', 'clase', 'lechuga', 'planta', 'rosada', 'zanahoria', 'selva', 'paciencia', 'flor', 'perfume', 'cuenta', 'flor', 'pantera', 'suerte', 'valentía', 'lanza', 'pantera', 'niña', 'fiera', 'distancia', 'fiera', 'velocidad', 'pantera', 'tribu', 'niña', 'respiración', 'mirada', 'flor', 'sorpresa', 'respuesta', 'vez', 'impresión', 'ocasión', 'tribu', 'excursión', 'zona', 'vegetación', 'gritara', 'cría', 'hiena', 'madre', 'madre', 'pena', 'cría', 'hambre', 'fiera', 'mascota', 'fiera', 'familia', 'leche', 'carne', 'carne', 'cortarte', 'falta', 'entrepierna', 'hembra', 'cría', 'madre', 'cría', 'madre', 'tribu', 'amiga', 'exploración', 'selva', 'luz', 'hierba', 'altura', 'tribu', 'excepción', 'tranquilidad', 'distancia', 'luz', 'hierba', 'intensidad', 'piel', 'cabellera', 'alegría', 'alegría', 'gracia', 'escena', 'emoción', 'gratitud', 'belleza', 'garganta', 'felicidad', 'voz', 'emoción', 'voz', 'gente', 'boca', 'hierba', 'gloria', 'familia', 'presencia', 'pantera', 'vez', 'camada', 'cola', 'familia', 'tribu', 'convivencia', 'humana', 'provechosa', 'selva', 'selva', 'hambre', 'tribu', 'tribu', 'cacería', 'batalla', 'pantera', 'fuerza', 'lanza', 'garra', 'suerte', 'superioridad', 'tribu', 'victoria', 'persona', 'muerte', 'pata', 'herida', 'persona', 'tribu', 'madre', 'isla', 'isla', 'isla', 'hambre', 'isla', 'posibilidad', 'tirolina', 'cuerda', 'cuerda', 'manera', 'agua', 'selva', 'casa', 'cuerda', 'verdad', 'cuerda', 'persona', 'hambre', 'vez', 'hambre', 'suerte', 'población', 'hambre', 'parte', 'selva', 'tribu', 'vida', 'diferencia', 'echo', 'alma', 'madre', 'muerte', 'madre', 'alma', 'alma', 'energía', 'selva', 'alegría', 'paz', 'sabiduría', 'alma', 'alma', 'vez', 'montaña', 'montaña', 'roca', 'presencia', 'sensación', 'voz', 'felicidad', 'tribu', 'mayoría', 'voz', 'montaña', 'forma', 'cabeza', 'alma', 'alma', 'alma', 'persona', 'alma', 'verdad', 'alma', 'persona', 'rama', 'persona', 'piel', 'verdad', 'parte', 'alma', 'esencia', 'pérdida', 'alma', 'montaña', 'alma', 'alma', 'forma', 'alma', 'cosa', 'alma', 'mente', 'alma', 'sintonía', 'armonía', 'selva', 'plaga', 'vez', 'docena', 'loción', 'Repelía', 'mayoría', 'isla', 'cueva', 'cueva', 'bandada', 'asamblea', 'solución', 'cueva', 'puerta', 'cueva', 'casa', 'piedra', 'isla', 'casa', 'cueva', 'piedra', 'red', 'puerta', 'cueva', 'red', 'puerta', 'cueva', 'manera', 'noche', 'cueva', 'cueva', 'cosa', 'cueva', 'noche', 'tribu', 'forma', 'salud', 'mañana', 'casa', 'atendiéndola', 'tribu', 'casa', 'voz', 'separación', 'recordad', 'muerte', 'vida', 'tierra', 'naturaleza', 'manera', 'alma', 'vida', 'muerte', 'cosa', 'separación', 'alma', 'persona', 'alma', 'naturaleza', 'naturaleza', 'realidad', 'materia', 'materia', 'materia', 'parte', 'persona', 'materia', 'materia', 'materia', 'alma', 'felicidad', 'vida', 'célula', 'célula', 'vista', 'célula', 'casa', 'armonía', 'naturaleza', 'práctica', 'ropa', 'agricultura', 'tecnología', 'naturaleza', 'manera', 'selva', 'mayoría', 'normalidad', 'naturaleza', 'raíz', 'planta', 'naturaleza', 'disposición', 'naturaleza', 'plaga', 'tribu', 'tribu', 'cantidad', 'tribu', 'cantidad', 'asamblea', 'naturaleza', 'zona', 'distancia', 'recolección', 'manera', 'decisión', 'asamblea', 'vida', 'noche', 'selva', 'luz', 'serpiente', 'piel', 'selva', 'tristeza', 'piedra', 'asamblea', 'isla', 'manera', 'niña', 'manera', 'niña', 'generación', 'madre', 'asamblea', 'historia', 'parte', 'ropa', 'zona', 'nave', 'ciudad', 'cúpula', 'lluvia', 'nieve', 'cúpula', 'tierra', 'asamblea', 'falta', 'televisión', 'realidad', 'cosa', 'falta', 'falta', 'asamblea', 'decisión', 'comunidad', 'gente', 'vida', 'parte', 'ciudad', 'investigación', 'persona', 'excepción', 'colonización', 'inacción', 'ley', 'existencia', 'ley', 'excepción', 'pregunta', 'curiosidad', 'asamblea', 'gente', 'vida', 'cuenta', 'ingeniería', 'vida', 'noche', 'gente', 'programación', 'mañana', 'vida', 'pesadilla', 'dictadura', 'cabeza', 'camarera', 'sopa', 'sopa', 'persona', 'confianza', 'hora', 'sopa', 'sopa', 'broma', 'gracia', 'broma', 'camarera', 'sopa', 'novia', 'tripa', 'consciencia', 'persona', 'persona', 'especie', 'memoria', 'fábrica', 'vez', 'nave', 'nave', 'misión', 'parte', 'ropa', 'zona', 'franja', 'cápsula', 'carne', 'falta', 'asamblea', 'falta', 'cabaña', 'calma', 'casa', 'piedra', 'cápsula', 'enciclopedia', 'humanidad', 'historia', 'energía', 'batería', 'selva', 'noche', 'casa', 'enciclopedia', 'tecnología', 'pena', 'enciclopedia', 'información', 'lástima', 'madera', 'idea', 'vida', 'máquina', 'falta', 'humedad', 'piedra', 'información', 'pared', 'persona', 'piedra', 'lluvia', 'cueva', 'cueva', 'luz', 'lluvia', 'piedra', 'idea', 'memoria', 'cueva', 'información', 'piedra', 'cabeza', 'frase', 'mens', 'corpore', 'frase', 'mente', 'espiritualidad', 'telequinesia', 'espiritualidad', 'mente', 'alma', 'meditación', 'transmisión', 'distancia', 'telequinesia', 'capacidad', 'fuerza', 'información', 'enciclopedia', 'mente', 'cápsula', 'madera', 'piedra', 'madera', 'cueva', 'parte', 'tribu', 'telequinesia', 'piedra', 'enfermedad', 'cosa', 'madre', 'pérdida', 'cosa', 'mona', 'cogida', 'cría', 'cría', 'leche', 'cría', 'leche', 'leche', 'mona', 'hembra', 'mascota', 'tribu', 'descendencia', 'presencia', 'piedra', 'población', 'asamblea', 'situación', 'gente', 'selva', 'manera', 'guerra', 'piedra', 'idea', 'zona', 'busca', 'línea', 'naturaleza', 'piedra', 'casa', 'manera', 'vegetación', 'idea', 'asamblea', 'mujer', 'confianza', 'manera', 'mitad', 'cosa', 'vez', 'población', 'orden', 'asamblea', 'población', 'cuenta', 'tribu', 'carga', 'descendencia', 'salud', 'memoria', 'piedra', 'dificultad', 'meditación', 'reproducción', 'herencia', 'selección', 'salud', 'habilidad', 'selva', 'idea', 'selección', 'mayoría', 'temporada', 'piedra', 'falta', 'copia', 'falta', 'copia', 'persona', 'vida', 'parte', 'cueva', 'aldea', 'vida', 'escuela', 'memoria', 'mano', 'parte', 'mujer', 'luchadora', 'pantera', 'puntería', 'forma', 'fuerza', 'mujer', 'concentración', 'mayoría', 'fuerza', 'mujer', 'piedra', 'puntería', 'puntería', 'fuerza', 'distancia', 'asamblea', 'mujer', 'piedra', 'casa', 'habitación', 'historia', 'escuela', 'parte', 'cuenta', 'tradición', 'atención', 'música', 'mujer', 'hija', 'casa', 'mente', 'escuela', 'gente', 'escuela', 'maestra', 'vida', 'distancia', 'puntería', 'casualidad', 'boquiabierta', 'hija', 'muñeca', 'verdad', 'mente', 'mente', 'mente', 'mente', 'prueba', 'mente', 'madre', 'niña', 'tripa', 'tripa', 'mamá', 'hija', 'noche', 'estés', 'tribu', 'experiencia', 'mamá', 'selva', 'verdad', 'asamblea', 'manía', 'tribu', 'mamá', 'selva', 'tarde', 'asamblea', 'mujer', 'madre', 'verdad', 'preguntarte', 'niña', 'intención', 'cuenta', 'niña', 'capacidad', 'mayoría', 'orden', 'fuerza', 'altura', 'impresión', 'verdad', 'cabeza', 'niña', 'intención', 'verdad', 'forma', 'forma', 'manera', 'verdad', 'demostración', 'asamblea', 'asamblea', 'casa', 'mañana', 'hora', 'demostración', 'noche', 'idea', 'demostración', 'madre', 'cabeza', 'hija', 'madre', 'hija', 'razón', 'mamá', 'hija', 'asamblea', 'falta', 'cuenta', 'madre', 'noche', 'cara', 'palmera', 'mano', 'piedra', 'fuerza', 'mente', 'cabeza', 'velocidad', 'piedra', 'mirada', 'piedra', 'tentación', 'capacidad', 'puntería', 'tonta', 'habilidad', 'madre', 'mente', 'verdad', 'demostración', 'prueba', 'voz', 'expresión', 'cara', 'demostración', 'niña', 'mirada', 'profecía', 'niña', 'tribu', 'muerte', 'turbación', 'voz', 'bisabuela', 'bisabuela', 'mujer', 'sensibilidad', 'asamblea', 'niña', 'tribu', 'aniquilación', 'tribu', 'asamblea', 'profecía', 'niña', 'heroína', 'asamblea', 'madre', 'asamblea', 'descendencia', 'cadena', 'transmisión', 'profecía', 'falta', 'hija', 'salvadora', 'profecía', 'parte', 'distancia', 'niña', 'engreída', 'profecía', 'mente', 'capacidad', 'mente', 'voz', 'expresión', 'cara', 'persona', 'persona', 'mente', 'voluntad', 'mente', 'cosa', 'mente', 'violencia', 'salvajada', 'criatura', 'tribu', 'idea', 'voz', 'persona', 'comunidad', 'tirana', 'puntería', 'corona', 'flecha', 'rama', 'parte', 'cara', 'alegría', 'tristeza', 'tumba', 'ojeada', 'suficiencia', 'cuenta', 'desesperación', 'perdonarte', 'cuestión', 'tribu', 'voluntad', 'humildad', 'superioridad', 'persona', 'habla', 'profecía', 'responsabilidad', 'actitud', 'altura', 'ayuda', 'tribu', 'madurez', 'sabiduría', 'mujer', 'tribu', 'época', 'misión', 'palabra', 'distancia', 'eternidad', 'cabeza', 'vocecita', 'lástima', 'misión', 'misión', 'pista', 'humildad', 'sabiduría', 'niña', 'mujer', 'comunidad', 'región', 'velocidad', 'misión', 'cabeza', 'voz', 'vez', 'cosa', 'conexión', 'tribu', 'misión', 'estés', 'voz', 'mano', 'casa', 'madre', 'mochila', 'calabaza', 'agua', 'bendición', 'misión', 'paz', 'madre', 'madre', 'mano', 'vuelta', 'escena', 'distancia', 'mirada', 'selva', 'selva', 'tribu', 'cosa', 'tribu', 'fiera', 'mano', 'flecha', 'cosa', 'noche', 'casa', 'fiera', 'rama', 'rama', 'manera', 'fiera', 'rama', 'rama', 'barrera', 'rama', 'cama', 'selva', 'manera', 'estabilidad', 'rama', 'pierna', 'rama', 'misión', 'prisa', 'prisa', 'pausa', 'fiera', 'tribu', 'alternativa', 'flecha', 'piedra', 'telequinesia', 'piedra', 'fuerza', 'mente', 'piedra', 'vez', 'fuerza', 'piedra', 'falta', 'selva', 'sierra', 'montaña', 'vez', 'vida', 'cosa', 'cuenta', 'selva', 'sierra', 'altura', 'vegetación', 'vez', 'verdad', 'falta', 'cima', 'agua', 'noche', 'noche', 'misión', 'ocasión', 'alba', 'luz', 'mañana', 'compasión', 'piel', 'sombra', 'montaña', 'piedra', 'piel', 'cabeza', 'fiebre', 'vida', 'noche', 'tarde', 'piedra', 'piedra', 'noche', 'suerte', 'luna', 'hojarasca', 'rama', 'noche', 'fiera', 'indefensa', 'suerte', 'fiera', 'noche', 'fiebre', 'sierra', 'selva', 'semana', 'semana', 'sierra', 'zona', 'montaña', 'casa', 'misión', 'cima', 'piel', 'subida', 'piel', 'morena', 'tribu', 'cabeza', 'cabeza', 'cabaña', 'selva', 'subida', 'cima', 'meta', 'especie', 'piel', 'piedra', 'especie', 'salamanquesa', 'madriguera', 'presencia', 'niña', 'entrada', 'madriguera', 'clase', 'mitología', 'madriguera', 'caza', 'selva', 'selva', 'caza', 'selva', 'sierra', 'tribu', 'profecía', 'tribu', 'noche', 'hora', 'madriguera', 'mente', 'entrada', 'madriguera', 'noche', 'salida', 'cima', 'entrada', 'madriguera', 'entrada', 'suerte', 'temperatura', 'roca', 'cueva', 'pobre', 'temperatura', 'noche', 'salida', 'madriguera', 'montaña', 'forma', 'entrada', 'pared', 'piedra', 'cabeza', 'madriguera', 'trampa', 'vida', 'niña', 'suerte', 'mente', 'velocidad', 'cabeza', 'sangre', 'sustancia', 'cabeza', 'manera', 'madriguera', 'niña', 'cabeza', 'casa', 'masa', 'niña', 'nariz', 'boca', 'madriguera', 'capacidad', 'entrada', 'madriguera', 'precaución', 'penita', 'garganta', 'niña', 'manera', 'cría', 'telequinesia', 'telequinesia', 'alternativa', 'sensación', 'precaución', 'vida', 'seguridad', 'madriguera', 'especie', 'intención', 'especie', 'muerte', 'asesina', 'cima', 'lucha', 'especie', 'roca', 'tierra', 'madriguera', 'tierra', 'salida', 'situación', 'cosa', 'energía', 'tierra', 'energía', 'encontrarte', 'tribu', 'raza', 'misión', 'falta', 'tribu', 'muerte', 'verdad', 'voz', 'personalidad', 'hija', 'misión', 'solución', 'atención', 'madriguera', 'cárcel', 'salida', 'solución', 'sugerencia', 'montaña', 'noche', 'manera', 'vida', 'vez', 'manera', 'tribu', 'telequinesia', 'manera', 'levitación', 'telequinesia', 'cosa', 'fuerza', 'mente', 'fuerza', 'atención', 'suerte', 'altura', 'vez', 'realidad', 'vez', 'hija', 'hija', 'alegría', 'energía', 'facilidad', 'alegría', 'altura', 'izquierda', 'derecha', 'emoción', 'confianza', 'vez', 'madriguera', 'vez', 'vez', 'cuenta', 'verdad', 'mochila', 'roca', 'pared', 'altura', 'precaución', 'pared', 'proximidad', 'tierra', 'seguridad', 'verdad', 'referencia', 'inmensidad', 'piel', 'costra', 'sangre', 'pizca', 'sustancia', 'ansia', 'agua', 'sed', 'cabaña', 'noche', 'casa', 'noche', 'mochila', 'sangre', 'hambre', 'agua', 'garganta', 'mochila', 'vida', 'sonrisa', 'satisfacción', 'cara', 'cosa', 'voltereta', 'posición', 'forma', 'estabilidad', 'cabeza', 'cabeza', 'puntería', 'clase', 'hambre', 'vida', 'cosa', 'misión', 'puesta', 'falta', 'mochila', 'cabaña', 'hora', 'mochila', 'cabaña', 'montaña', 'mano', 'cima', 'piedra', 'boquiabierta', 'posición', 'sierra', 'recta', 'selva', 'superficie', 'selva', 'selva', 'selva', 'niña', 'belleza', 'zona', 'montaña', 'vegetación', 'sierra', 'intención', 'agua', 'fuerza', 'corriente', 'cascada', 'agua', 'cabaña', 'misión', 'intención', 'tribu', 'pena', 'velocidad', 'velocidad', 'postura', 'velocidad', 'posición', 'cabeza', 'coronilla', 'dirección', 'idea', 'dirección', 'velocidad', 'distancia', 'altitud', 'montaña', 'antelación', 'cabeza', 'sensación', 'velocidad', 'especie', 'armadura', 'corteza', 'velocidad', 'manera', 'curiosidad', 'cabaña', 'dirección', 'cabaña', 'partida', 'dirección', 'noche', 'clase', 'especie', 'arena', 'noche', 'planta', 'forma', 'vida', 'superficie', 'selva', 'hierba', 'conclusión', 'selva', 'vida', 'madre', 'tribu', 'cima', 'casa', 'cabaña', 'vez', 'molestia', 'tripa', 'sangre', 'herida', 'cabaña', 'sangre', 'entrepierna', 'regla', 'vez', 'entrepierna', 'importancia', 'niña', 'mujer', 'señal', 'hora', 'tribu', 'sangre', 'cabeza', 'ida', 'prisa', 'pausa', 'piedra', 'noche', 'rama', 'boca', 'rama', 'cosa', 'rutina', 'comparación', 'ida', 'gracia', 'humana', 'intención', 'vida', 'normalidad', 'caída', 'rama', 'sonrisa', 'satisfacción', 'vida', 'pantera', 'pantera', 'fiera', 'pena', 'fiera', 'humana', 'cena', 'presa', 'pantera', 'mente', 'fuerza', 'pantera', 'velocidad', 'aldea', 'desierta', 'tribu', 'vez', 'aldea', 'alegría', 'tribu', 'aldea', 'misión', 'especie', 'vida', 'sociedad', 'estrategia', 'aproximación', 'tribu', 'vez', 'madre', 'desgracia', 'tribu', 'fiera', 'presa', 'especie', 'traidora', 'atención', 'vida', 'tribu', 'aldea', 'exploradora', 'persona', 'situación', 'música', 'cosa', 'música', 'voz', 'alma', 'intensidad', 'cuenta', 'cosa', 'selva', 'soledad', 'semana', 'visión', 'normalidad', 'descubriera', 'atención', 'atención', 'respuesta', 'pregunta', 'curiosidad', 'mujer', 'atención', 'música', 'vez', 'mujer', 'manera', 'verdad', 'mujer', 'vez', 'mano', 'muñeca', 'dulzura', 'vez', 'verdad', 'mujer', 'mujer', 'paciencia', 'agilidad', 'pantera', 'palmera', 'mano', 'boca', 'expresión', 'boca', 'madre', 'niña', 'cabeza', 'cara', 'madre', 'claridad', 'tristeza', 'salida', 'cabeza', 'cabeza', 'pena', 'alma', 'mejilla', 'intuición', 'empatía', 'pena', 'desesperación', 'madre', 'pena', 'generación', 'generación', 'carencia', 'falta', 'confianza', 'alegría', 'costumbre', 'humanidad', 'crueldad', 'tradición', 'postura', 'cama', 'cabeza', 'cara', 'cuenta', 'experiencia', 'confianza', 'familiaridad', 'expresión', 'turbación', 'sorpresa', 'madre', 'pantera', 'bruja', 'alucinación', 'bruja', 'palabra', 'vida', 'escuela', 'noche', 'historia', 'humanidad', 'época', 'historia', 'escuela', 'escuela', 'leyenda', 'bruja', 'mujer', 'devora', 'mujer', 'magia', 'magia', 'entrepierna', 'alma', 'manera', 'razón', 'intuición', 'magia', 'ama', 'ama', 'cuenta', 'contradicción', 'cara', 'alma', 'magia', 'magia', 'capacidad', 'tonelada', 'magia', 'verdad', 'bruja', 'sonrisa', 'pillina', 'bruja', 'manera', 'forma', 'casa', 'cara', 'noche', 'verdad', 'casa', 'cosa', 'tribu', 'excusa', 'misión', 'cumpliese', 'verdad', 'aldea', 'vez', 'presencia', 'verdad', 'mujer', 'mujer', 'razón', 'razón', 'verte', 'vida', 'garganta', 'cabeza', 'sonrisa', 'pillina', 'palmera', 'alarma', 'telequinesia', 'palabra', 'despedida', 'mano', 'rama', 'vista', 'excursión', 'aldea', 'cama', 'barandilla', 'verdad', 'bruja', 'mañana', 'pregunta', 'broma', 'mujer', 'madre', 'vida', 'mujer', 'música', 'historia', 'levitación', 'enseñara', 'enferma', 'energía', 'desolación', 'fuerza', 'manera', 'hambre', 'paciencia', 'aldea', 'tribu', 'loca', 'pena', 'vida', 'verte', 'sensación', 'vida', 'casa', 'verte', 'tempestad', 'enfermedad', 'tribu', 'culpa', 'enfermedad', 'razón', 'actitud', 'vida', 'ocasión', 'actitud', 'calma', 'gloria', 'vida', 'salud', 'verdad', 'locura', 'normalidad', 'enfermedad', 'cuestión', 'enfermedad', 'enfermedad', 'tribu', 'vez', 'vida', 'mujer', 'amiga', 'enfermedad', 'mujer', 'seguridad', 'diferencia', 'amiga', 'razón', 'alegría', 'música', 'música', 'sensación', 'música', 'realidad', 'fantasía', 'vez', 'pasión', 'autorización', 'asamblea', 'vez', 'población', 'hija', 'mujer', 'descendencia', 'vez', 'posibilidad', 'reproducción', 'mujer', 'norma', 'vuelta', 'tribu', 'hora', 'mañana', 'hora', 'aldea', 'mochila', 'bienvenida', 'energía', 'vitalidad', 'inteligencia', 'sensatez', 'atención', 'fiera', 'sonrisa', 'madre', 'boca', 'hija', 'alegría', 'madre', 'mujer', 'bondad', 'pureza', 'madre', 'madre', 'cosa', 'asamblea', 'reverencia', 'cabeza', 'alegría', 'tribu', 'asamblea', 'misión', 'bienvenida', 'humildad', 'experiencia', 'persona', 'tribu', 'ocasión', 'vida', 'suerte', 'casualidad', 'soledad', 'comunidad', 'supervivencia', 'diferencia', 'niña', 'mujer', 'comunidad', 'soledad', 'madre', 'escuela', 'asamblea', 'vida', 'soledad', 'ocasión', 'vida', 'altura', 'madre', 'forma', 'mamá', 'Continúas', 'demostración', 'demostración', 'persona', 'culpa', 'desgracia', 'extraña', 'tribu', 'engreída', 'monstruosidad', 'asamblea', 'voz', 'alarma', 'pantera', 'fuerza', 'pantera', 'velocidad', 'manera', 'vida', 'fiera', 'oportunidad', 'elección', 'finalidad', 'supervivencia', 'tribu', 'vida', 'razón', 'sensatez', 'novedad', 'situación', 'manera', 'mejora', 'historia', 'boca', 'adelantársele', 'contraria', 'vez', 'razón', 'razón', 'verdad', 'verdad', 'intransigencia', 'mujer', 'razón', 'estrategia', 'verdad', 'manera', 'niña', 'maestra', 'escuela', 'edad', 'maestra', 'historia', 'telequinesia', 'aversión', 'manía', 'boca', 'mujer', 'manera', 'conclusión', 'selva', 'vida', 'tierra', 'cima', 'tierra', 'destrucción', 'tribu', 'profecía', 'tribu', 'voz', 'cabeza', 'misión', 'verdad', 'asamblea', 'intención', 'tontería', 'alma', 'loca', 'lástima', 'cosa', 'presencia', 'versión', 'historia', 'actividad', 'música', 'cosa', 'música', 'característica', 'música', 'vida', 'misión', 'cultura', 'idea', 'realidad', 'realidad', 'vida', 'escuela', 'capacidad', 'cosa', 'levitación', 'tribu', 'falta', 'ceniza', 'mujer', 'mujer', 'asamblea', 'dirección', 'altura', 'especie', 'ciudad', 'piedra', 'nave', 'forma', 'vida', 'nave', 'descripción', 'cola', 'persona', 'presencia', 'altura', 'distancia', 'piedra', 'nave', 'especie', 'vez', 'roca', 'nave', 'catástrofe', 'conmoción', 'madre', 'expresión', 'cara', 'vida', 'mano', 'cara', 'mano', 'cara', 'cabeza', 'vez', 'alma', 'persona', 'madre', 'manera', 'catástrofe', 'asamblea', 'palabra', 'heroína', 'vida', 'tribu', 'admiración', 'es', 'sorpresa', 'cabeza', 'opinión', 'invocación', 'conclusión', 'casualidad', 'duda', 'señal', 'razón', 'dulzura', 'realidad', 'cosa', 'manera', 'parte', 'oportunidad', 'misión', 'profecía', 'sinceridad', 'honradez', 'idea', 'atención', 'demostración', 'vista', 'mañana', 'asamblea', 'mano', 'manera', 'confianza', 'intimidad', 'compostura', 'asamblea', 'ama', 'asamblea', 'responsabilidad', 'altura', 'circunstancia', 'entonación', 'persona', 'bestia', 'experiencia', 'sangre', 'palabra', 'madre', 'mujer', 'ama', 'sangre', 'mujer', 'tripa', 'sangre', 'mujer', 'leche', 'sensación', 'mujer', 'casa', 'mujer', 'mujer', 'culpa', 'cosa', 'vida', 'sensación', 'pérdida', 'tristeza', 'mujer', 'pena', 'aberración', 'naturaleza', 'noche', 'mujer', 'vida', 'mujer', 'conexión', 'fase', 'vida', 'cabeza', 'mano', 'demostración', 'diferencia', 'vida', 'voz', 'idea', 'reunión', 'calma', 'asamblea', 'prueba', 'alegría', 'noche', 'formación', 'reunión', 'escuela', 'literatura', 'manera', 'hija', 'criatura', 'viejecita', 'asamblea', 'historia', 'historia', 'generación', 'persona', 'diferencia', 'mitad', 'humanidad', 'vida', 'mitad', 'exterminadora', 'humanidad', 'alegría', 'salud', 'plenitud', 'historia', 'paz', 'armonía', 'naturaleza', 'galaxia', 'gloria']\n",
            "Nombres en femenino y plural: 942 ['personas', 'personas', 'personas', 'enfermas', 'máquinas', 'escuelas', 'máquinas', 'personas', 'personas', 'máquinas', 'personas', 'bombas', 'partes', 'centrales', 'puertas', 'escuelas', 'personas', 'casas', 'personas', 'ciudades', 'personas', 'ciudades', 'hierbas', 'ciudades', 'personas', 'herramientas', 'sierras', 'cosas', 'semanas', 'centrales', 'semanas', 'horas', 'baterías', 'horas', 'compuertas', 'probabilidades', 'horas', 'horas', 'informaciones', 'puertas', 'seguirías', 'calles', 'personas', 'docenas', 'edades', 'centrales', 'semanas', 'horas', 'corrientes', 'deberías', 'personas', 'dices', 'vidas', 'personas', 'reparaciones', 'circunstancias', 'vías', 'supones', 'sobrevives', 'cosas', 'manos', 'manos', 'voces', 'personas', 'horas', 'venas', 'fieras', 'ramas', 'fieras', 'compuertas', 'espaldas', 'fieras', 'piedras', 'ramas', 'Instrucciones', 'astronautas', 'horas', 'fieras', 'personas', 'vidas', 'instrucciones', 'planetas', 'personas', 'personas', 'cosas', 'armas', 'comodidades', 'comodidades', 'armas', 'máquinas', 'cartas', 'bolas', 'familias', 'niñas', 'personas', 'personas', 'cosas', 'madres', 'hijas', 'horas', 'partes', 'escuelas', 'escuelas', 'casas', 'herramientas', 'reglas', 'notas', 'escuelas', 'cosas', 'armas', 'personas', 'judías', 'caras', 'horas', 'mujeres', 'guerras', 'piedras', 'niñas', 'coordenadas', 'compuertas', 'cinturones', 'válvulas', 'piedras', 'flores', 'voces', 'hojas', 'ramas', 'antenas', 'cosas', 'planetas', 'plantas', 'parecidas', 'fieras', 'personas', 'lanzas', 'fieras', 'manos', 'canciones', 'ramas', 'herramientas', 'raciones', 'aguas', 'carcajadas', 'horas', 'canciones', 'plantas', 'reservas', 'plantas', 'formas', 'variedades', 'frutas', 'tripas', 'vacaciones', 'vacaciones', 'vueltas', 'caras', 'contentas', 'ganas', 'cosas', 'suculentas', 'frutas', 'casas', 'contras', 'fieras', 'paredes', 'lianas', 'gracias', 'fuerzas', 'noches', 'ramas', 'hojas', 'crías', 'latitudes', 'actividades', 'paredes', 'personas', 'haciéndolas', 'gordas', 'sólidas', 'mañanas', 'frutas', 'hojas', 'raíces', 'plantas', 'hierbas', 'panteras', 'hienas', 'caras', 'carcajadas', 'risas', 'risas', 'cosas', 'hienas', 'lágrimas', 'flores', 'voces', 'flores', 'niñas', 'criaturas', 'voces', 'lágrimas', 'piernas', 'nubes', 'fieras', 'personas', 'semanas', 'crías', 'horas', 'especies', 'hienas', 'panteras', 'crías', 'panteras', 'panteras', 'hienas', 'lanzas', 'hienas', 'manos', 'pocas', 'panteras', 'heridas', 'heridas', 'hienas', 'heridas', 'lágrimas', 'hienas', 'lágrimas', 'panteras', 'panteras', 'panteras', 'panteras', 'manos', 'tirolinas', 'panteras', 'tirolinas', 'panteras', 'fieras', 'panteras', 'noches', 'vueltas', 'pesadillas', 'dudas', 'crías', 'caricias', 'veces', 'vivencias', 'personas', 'plantas', 'plantas', 'piedras', 'paredes', 'cosas', 'ocasiones', 'palabras', 'palabras', 'orejas', 'partes', 'partes', 'hojas', 'cosas', 'uñas', 'partes', 'almas', 'hienas', 'palabras', 'duermas', 'nubes', 'personas', 'picaduras', 'hojas', 'matamoscas', 'matamoscas', 'cantidades', 'cabañas', 'invasiones', 'niñas', 'mujeres', 'veis', 'ocasiones', 'cosas', 'podrías', 'cosas', 'terrícolas', 'cosas', 'terrícolas', 'terrícolas', 'personas', 'hermanas', 'criaturas', 'piedras', 'terrícolas', 'cosas', 'partes', 'terrícolas', 'egoístas', 'zonas', 'plantas', 'hojas', 'raíces', 'terrícolas', 'posibilidades', 'panteras', 'personas', 'personas', 'personas', 'terrícolas', 'guerras', 'terrícolas', 'terrícolas', 'gracias', 'lágrimas', 'lágrimas', 'plantas', 'cosas', 'cosas', 'casas', 'fábricas', 'fieras', 'personas', 'materias', 'revisiones', 'máquinas', 'asambleas', 'personas', 'esclavas', 'leyes', 'órdenes', 'leyes', 'leyes', 'investigaciones', 'leyes', 'expresiones', 'guerras', 'armas', 'sierras', 'espadas', 'preguntas', 'personas', 'órdenes', 'personas', 'horas', 'máquinas', 'planetas', 'selvas', 'fieras', 'armas', 'casas', 'chicas', 'flechas', 'personas', 'chicas', 'chicas', 'ramas', 'hojas', 'cosas', 'cuestiones', 'cosas', 'informaciones', 'letras', 'inscripciones', 'plantas', 'paredes', 'letras', 'ventanas', 'plantas', 'ventanas', 'inscripciones', 'plantas', 'ventanas', 'cosas', 'cuevas', 'ciencias', 'cuestiones', 'terrícolas', 'dianícolas', 'palabras', 'dianícolas', 'personas', 'viejas', 'chicas', 'mujeres', 'casas', 'cuevas', 'historias', 'fieras', 'lecciones', 'mujeres', 'mujeres', 'crías', 'mujeres', 'personas', 'fieras', 'personas', 'heridas', 'fieras', 'casas', 'ramas', 'personas', 'docenas', 'vidas', 'guerras', 'casas', 'escrituras', 'salidas', 'casas', 'cosas', 'casas', 'cuevas', 'limpias', 'raíces', 'escrituras', 'personas', 'mujeres', 'asambleas', 'mujeres', 'decisiones', 'mujeres', 'asambleas', 'mujeres', 'mujeres', 'mujeres', 'separadas', 'personas', 'personas', 'personas', 'mujeres', 'mujeres', 'enseñanzas', 'antecesoras', 'cuevas', 'mujeres', 'mujeres', 'mamas', 'generaciones', 'mujeres', 'mujeres', 'mamas', 'enfermedades', 'dianícolas', 'aldeas', 'casas', 'cuevas', 'escrituras', 'estudiarlas', 'completas', 'escrituras', 'mujeres', 'viejas', 'escrituras', 'mujeres', 'competiciones', 'piedras', 'mujeres', 'terrícolas', 'mujeres', 'casas', 'niñas', 'madres', 'mujeres', 'melodías', 'mujeres', 'melodías', 'veces', 'piedrecitas', 'escrituras', 'mujeres', 'flechas', 'ganas', 'habilidades', 'vosotras', 'personas', 'preguntas', 'mujeres', 'amigas', 'mujeres', 'mujeres', 'cosas', 'habilidades', 'capacidades', 'capacidades', 'habilidades', 'manos', 'piedras', 'partes', 'mujeres', 'boquiabiertas', 'nosotras', 'piedras', 'piedras', 'piedras', 'piedras', 'piedras', 'levantarlas', 'mujeres', 'piedras', 'lágrimas', 'creías', 'tenías', 'capacidades', 'noches', 'mujeres', 'mujeres', 'capacidades', 'palmas', 'manos', 'competiciones', 'piedras', 'habilidades', 'excusas', 'palabras', 'Podrías', 'caras', 'mujeres', 'atónitas', 'vosotras', 'lunas', 'palabras', 'generaciones', 'mujeres', 'extraordinarias', 'conoces', 'distancias', 'palabras', 'cosas', 'podrías', 'Podrías', 'nosotras', 'podrías', 'Podrías', 'habilidades', 'hojas', 'mujeres', 'podrías', 'habilidades', 'nosotras', 'personas', 'rodillas', 'lágrimas', 'mujeres', 'sabré', 'situaciones', 'exigencias', 'nosotras', 'vuelvas', 'nosotras', 'personas', 'mujeres', 'herramientas', 'flechas', 'mujeres', 'mujeres', 'voces', 'soluciones', 'panteras', 'ramas', 'plantas', 'fieras', 'noches', 'ganas', 'ideas', 'fuerzas', 'manos', 'horas', 'fieras', 'piedras', 'piedras', 'fuerzas', 'veces', 'paredes', 'horas', 'palmas', 'manos', 'plantas', 'llenas', 'piedras', 'fuerzas', 'piernas', 'fuerzas', 'fuerzas', 'matapersonas', 'horitas', 'rocas', 'semanas', 'palmas', 'manos', 'plantas', 'mujeres', 'plantas', 'alas', 'lagartijas', 'garras', 'rocas', 'garras', 'dragones', 'dragones', 'garras', 'dragones', 'dragones', 'piedras', 'dragones', 'sabré', 'dragones', 'piedras', 'dragones', 'piedras', 'dragones', 'piedras', 'garras', 'piedras', 'garras', 'piedras', 'dragones', 'dragones', 'crías', 'piedras', 'crías', 'garras', 'lágrimas', 'crías', 'piedras', 'piedras', 'cosas', 'crías', 'piedras', 'muertes', 'piedras', 'dragones', 'dragones', 'paredes', 'piedras', 'piedras', 'toneladas', 'piedras', 'puntas', 'direcciones', 'frutas', 'dragones', 'frutas', 'hojas', 'herramientas', 'flechas', 'carcajadas', 'tirabuzones', 'piernas', 'piernas', 'manos', 'piedras', 'piruetas', 'nubes', 'nubes', 'gracias', 'gracias', 'semanas', 'técnicas', 'velocidades', 'piernas', 'montañas', 'axilas', 'distancias', 'excursiones', 'montañas', 'piernas', 'piedras', 'piernas', 'ramas', 'dragones', 'crías', 'normas', 'voces', 'melodías', 'horas', 'horas', 'melodías', 'composiciones', 'excursiones', 'frases', 'mujeres', 'amas', 'haces', 'mujeres', 'órdenes', 'bestias', 'canciones', 'lamentas', 'mujeres', 'mujeres', 'vosotras', 'digas', 'cosas', 'axilas', 'palabras', 'rodillas', 'piernas', 'lágrimas', 'horas', 'almas', 'madres', 'madres', 'atenciones', 'víctimas', 'mujeres', 'horas', 'emociones', 'hojas', 'mujeres', 'palabras', 'palabras', 'vosotras', 'horas', 'cosas', 'escrituras', 'noches', 'historias', 'historias', 'leyendas', 'historias', 'tonterías', 'mentiras', 'nosotras', 'leyendas', 'historias', 'terrícolas', 'alas', 'brujas', 'mujeres', 'cosas', 'mujeres', 'mujeres', 'vuestras', 'amas', 'piedras', 'Vosotras', 'leyendas', 'diferencias', 'hembras', 'diferencias', 'horas', 'carcajadas', 'personas', 'cosas', 'piedras', 'piedras', 'piedras', 'piedras', 'horas', 'mujeres', 'mujeres', 'excursiones', 'ganas', 'cosas', 'excursiones', 'palabras', 'piernas', 'noches', 'piruetas', 'hojas', 'sabías', 'brujas', 'eras', 'caricias', 'leyendas', 'escrituras', 'caras', 'ganas', 'salgas', 'moriré', 'llores', 'fuerzas', 'tareas', 'caras', 'emociones', 'opciones', 'tareas', 'cosas', 'mujeres', 'mujeres', 'personas', 'locas', 'personas', 'conclusiones', 'harías', 'experiencias', 'leyendas', 'aventuras', 'semanas', 'reglas', 'escrituras', 'plantas', 'mujeres', 'mujeres', 'mudas', 'lágrimas', 'pruebas', 'mujeres', 'mujeres', 'mujeres', 'vosotras', 'experiencias', 'nosotras', 'enseñanzas', 'lecciones', 'horas', 'piruetas', 'mujeres', 'mujeres', 'aterrorizadas', 'mujeres', 'hermanas', 'Vosotras', 'hermanas', 'vosotras', 'vosotras', 'podrías', 'mujeres', 'fieras', 'cosas', 'fieras', 'asustarlas', 'criaturas', 'hermanas', 'hijas', 'asustarlas', 'fieras', 'fieras', 'compañeras', 'antecesoras', 'fieras', 'mujeres', 'antecesoras', 'fieras', 'matarlas', 'escrituras', 'formas', 'generaciones', 'ideas', 'escrituras', 'antecesoras', 'fieras', 'matarlas', 'antecesoras', 'jovencitas', 'mujeres', 'experimentadas', 'viejas', 'fieras', 'fieras', 'matándolas', 'cosas', 'regiones', 'antecesoras', 'tierras', 'dragones', 'vosotras', 'cosas', 'dragones', 'personas', 'mujeres', 'carcajadas', 'mujeres', 'nosotras', 'Prometías', 'nosotras', 'cosas', 'nosotras', 'escrituras', 'bestias', 'mujeres', 'burradas', 'penas', 'frases', 'cosas', 'escrituras', 'asambleas', 'palabras', 'mujeres', 'palabras', 'mujeres', 'piedras', 'personas', 'piedras', 'Toneladas', 'toneladas', 'dragones', 'piedras', 'fuerzas', 'casas', 'casas', 'personas', 'mujeres', 'personas', 'mujeres', 'perdonadas', 'podrías', 'mujeres', 'mujeres', 'mujeres', 'hermanas', 'dragones', 'personas', 'nosotras', 'cosas', 'mujeres', 'cosas', 'pides', 'mujeres', 'amas', 'mujeres', 'atónitas', 'vosotras', 'vosotras', 'atenciones', 'vueltas', 'lágrimas', 'entrañas', 'pesadillas', 'chicas', 'emociones', 'nosotras', 'rodillas', 'vuestras', 'hijas', 'amas', 'bestias', 'emociones', 'escrituras', 'mujeres', 'mujeres', 'madres', 'asambleas', 'jornadas', 'mujeres', 'mujeres', 'niñas', 'escrituras', 'completarlas', 'corregirlas', 'mujeres', 'máquinas', 'personas', 'enseñanzas', 'terrícolas', 'dianícolas']\n",
            "Nombres sin genero: 1298 ['paraíso', 'Pablo', 'Mendoza', 'Casp', 'original', 'futurs', 'Pablo', 'Mendoza', 'Casp', 'edita', 'Pablo', 'Mendoza', 'Casp', 'ISBN', 'PROVERBIO', 'TURCO', 'ÍNDICE', 'Vega', 'Terranova', 'Diana', 'siglo', 'XXI', 'Tierra', 'manera', 'Tierra', 'internet', 'supernet', 'siquiera', 'especialistas', 'robótica', 'tanto', 'prueba', 'virgen', 'través', 'supernet', 'repente', 'supernet', 'completo', 'consecuencia', 'pie', 'siquiera', 'habitantes', 'mano', 'supernet', 'Boboshima', 'toda', 'general', 'Vale', 'Avisad', 'Atención', 'Aprieta', 'Setenta', 'Treinta', 'pie', 'especialista', 'Lidia', 'Lidia', 'llevar', 'supernet', 'Lidia', 'Lidia', 'Uy', 'Hola', 'Lidia', 'Marina', 'supervivientes', 'supervivientes', 'momento', 'estrellas', 'Lidia', 'Lidia', 'tal', 'vez', 'Supernet', 'favor', 'Callaos', 'Dejad', 'caso', 'Supernet', 'nada', 'Vale', 'Crees', 'Evidentemente', 'Lidia', 'Lidia', 'punto', 'robot', 'absoluto', 'Lidia', 'supervivientes', 'Lidia', 'cuanto', 'Pongámonos', 'frente', 'Coged', 'Hacedlo', 'Piedras', 'Lidia', 'Lidia', 'punto', 'pilotos', 'supervivientes', 'Tierra', 'medio', 'estrellas', 'Lidia', 'continuación', 'Tierra', 'siquiera', 'piloto', 'continuación', 'representantes', 'Tienes', 'acuerdo', 'Vale', 'Lidia', 'Tierra', 'frescor', 'Noa', 'vez', 'acuerdo', 'Lidia', 'internet', 'juguetes', 'Terranova', 'Lidia', 'Noa', 'Terranova', 'hecho', 'Marina', 'siquiera', 'pobres', 'continuación', 'asamblea', 'juegos', 'Noa', 'Tierra', 'contra', 'policía', 'repente', 'rabia', 'nada', 'Noa', 'Lidia', 'Manuel', 'Diana', 'Noa', 'Vega', 'Vega', 'fin', 'principio', 'Marina', 'repente', 'Desabrochaos', 'Todos', 'repente', 'Salva', 'Uau', 'selva', 'Tierra', 'terrícolas', 'Noa', 'habitante', 'Tierra', 'Noa', 'Noa', 'Vega', 'Noa', 'Noa', 'Lidia', 'Vega', 'Terranova', 'Diana', 'Tierra', 'Buena', 'Salva', 'defensa', 'guardia', 'continuación', 'Noa', 'Marina', 'mediodía', 'fin', 'tanto', 'río', 'repente', 'medio', 'Vega', 'Marina', 'Noa', 'Noa', 'mi', 'madre', 'cuna', 'Noa', 'Noa', 'pie', 'Noa', 'punto', 'Marina', 'Noa', 'Yuhuuu', 'Yupiiii', 'volteretas', 'Noa', 'Noa', 'Salva', 'vez', 'medio', 'defensa', 'Salva', 'unanimidad', 'fin', 'asamblea', 'Salva', 'Marina', 'Tranquila', 'Vale', 'Salva', 'Noa', 'Salva', 'lado', 'pie', 'continuación', 'fondo', 'Vega', 'continuación', 'Vega', 'siquiera', 'menudo', 'absoluto', 'siquiera', 'Noa', 'siquiera', 'Noa', 'Marina', 'Noa', 'setas', 'veces', 'Marina', 'repente', 'Noa', 'Marina', 'Marina', 'Busquémosla', 'Salva', 'punto', 'Salva', 'Salva', 'Salva', 'humanos', 'Marina', 'Marina', 'fantasma', 'Marina', 'fin', 'Marina', 'tiempo', 'Marina', 'pesar', 'Vega', 'Escuchad', 'Mírala', 'Vale', 'Quedémonosla', 'Vale', 'Miradle', 'Marina', 'Pilar', 'repente', 'partido', 'mar', 'Pilar', 'Marina', 'Pilar', 'Tierra', 'dirección', 'Noa', 'Noa', 'volteretas', 'Pilar', 'Noa', 'Ven', 'Noa', 'paraíso', 'Noa', 'vez', 'Pilar', 'parte', 'gracias', 'Pilar', 'Pilar', 'Marina', 'Pilar', 'juguetes', 'nada', 'guardia', 'humanos', 'obstante', 'Pilar', 'Manuel', 'Manuel', 'Pilar', 'Noa', 'Manuel', 'Pilar', 'pobre', 'supuesto', 'fin', 'Encerrarnos', 'sea', 'tanto', 'Vale', 'cabo', 'tanto', 'Marina', 'Noa', 'Noa', 'Marina', 'Marina', 'vez', 'Manuel', 'Pilar', 'Pilar', 'Noa', 'menudo', 'Pilar', 'fin', 'Desde', 'menudo', 'Montaña', 'Sagrada', 'pie', 'Madre', 'Tierra', 'veces', 'Marina', 'realidad', 'parte', 'Sigo', 'obstante', 'Marinas', 'Nooo', 'parte', 'parte', 'realidad', 'humanos', 'parte', 'parte', 'Marina', 'Noa', 'veces', 'vez', 'Noa', 'fin', 'Satisfactoria', 'lado', 'vez', 'general', 'Noa', 'Marina', 'Noa', 'Noa', 'repente', 'Noa', 'parte', 'caso', 'solo', 'parte', 'parte', 'Pareces', 'Recordad', 'Madre', 'Naturaleza', 'parte', 'revés', 'vuestro', 'cuerpo', 'Gracias', 'Os', 'decir', 'Debéis', 'fuego', 'Consumid', 'Madre', 'Naturaleza', 'Ellas', 'Vale', 'Tomad', 'manos', 'Vale', 'Sois', 'Buenas', 'noches', 'Noa', 'Noa', 'continuación', 'Noa', 'Noa', 'Noa', 'Noa', 'Noa', 'Noa', 'muera', 'continuación', 'vez', 'Noa', 'Noa', 'paraíso', 'Terranova', 'habitantes', 'Terranova', 'Terranova', 'Teofrasto', 'Mirad', 'tanto', 'acuerdo', 'Teofrasto', 'Teofrasto', 'vez', 'general', 'año', 'Terranova', 'Isaac', 'Asimov', 'robótica', 'Vale', 'Teofrasto', 'tanto', 'Teobaldo', 'Teobaldo', 'Teobaldo', 'Teobaldo', 'Terranova', 'Teobaldo', 'Teobaldo', 'Teobaldo', 'partir', 'habitantes', 'Terranova', 'principio', 'Teobaldo', 'Teobaldo', 'solo', 'también', 'Teobaldo', 'Teobaldo', 'Alberto', 'Alberto', 'Teobaldo', 'Toma', 'Gracias', 'Mm', 'Come', 'Vale', 'Alberto', 'Teobaldo', 'punto', 'Cortad', 'Alberto', 'Matad', 'Terranova', 'supernet', 'Teobaldo', 'Terranova', 'completo', 'casualidad', 'Terranova', 'Diana', 'Diana', 'tanto', 'Lidia', 'artes', 'trabajáis', 'nosotras', 'Lidia', 'Diana', 'Lidia', 'larga', 'piedra', 'menudo', 'piedra', 'Lidia', 'habitantes', 'Diana', 'ver', 'momento', 'Lidia', 'Diana', 'artes', 'marciales', 'vez', 'Diana', 'Dádmela', 'compañía', 'manera', 'toda', 'costa', 'Diana', 'lado', 'círculo', 'cabo', 'pie', 'Esperad', 'asamblea', 'siquiera', 'partir', 'Vale', 'acuerdo', 'menudo', 'Vale', 'artes', 'marciales', 'artes', 'telequinesia', 'general', 'usaremos', 'Vale', 'Terremotos', 'tanto', 'largo', 'dado', 'tanto', 'artes', 'marciales', 'artes', 'teléfonos', 'móviles', 'vez', 'cambio', 'menudo', 'pesar', 'bailes', 'Ana', 'Shira', 'Shira', 'veces', 'sea', 'Shira', 'volteretas', 'Nadie', 'Shira', 'Shira', 'memoria', 'artes', 'marciales', 'Ana', 'Shira', 'Ven', 'Ana', 'Shira', 'sea', 'Ana', 'Shira', 'Lamento', 'vez', 'Shira', 'Tranquila', 'Madre', 'Xanta', 'Shira', 'tu', 'conocer', 'Perdonad', 'fin', 'cabo', 'Cuánta', 'Shira', 'Xanta', 'Shira', 'he', 'Perdonadme', 'Shira', 'vez', 'he', 'Shira', 'realidad', 'obstante', 'Shira', 'Shira', 'Ana', 'Perdona', 'Shira', 'Madre', 'Madre', 'Tienes', 'Buenas', 'Buenas', 'noches', 'Shira', 'Shira', 'también', 'Xanta', 'Dinos', 'Shira', 'penas', 'Shira', 'continuación', 'lleno', 'Shira', 'Xanta', 'Veo', 'tan', 'Eso', 'Shira', 'Shira', 'Mentira', 'Xanta', 'Tu', 'Dime', 'público', 'Xanta', 'fin', 'Shira', 'repente', 'dirección', 'Jeilyn', 'Jeilyn', 'Larisa', 'Montaña', 'Allá', 'Madre', 'Larisa', 'Madre', 'Larisa', 'Madre', 'secreto', 'Madre', 'hija', 'veintitrés', 'principio', 'Shira', 'Madre', 'Shira', 'contrario', 'Shira', 'Jeilyn', 'Jeilyn', 'fondo', 'contra', 'caso', 'Shira', 'repente', 'Shira', 'blanca', 'Shira', 'Shira', 'Shira', 'Shira', 'Perdón', 'Shira', 'Shira', 'Silencio', 'Shira', 'Madre', 'Shira', 'Larisa', 'Montaña', 'Allá', 'duda', 'Madre', 'Ana', 'Shira', 'mar', 'Shira', 'Dame', 'Xanta', 'Notarás', 'Shira', 'Shira', 'Shira', 'Shira', 'Moriré', 'Shira', 'Querida', 'Shira', 'Madre', 'nada', 'estarás', 'Shira', 'Xanta', 'siquiera', 'final', 'Shira', 'estés', 'Madre', 'Ana', 'Shira', 'Shira', 'Shira', 'desayunó', 'Ana', 'Hija', 'Madre', 'Shira', 'absoluto', 'Shira', 'Shira', 'Shira', 'hecho', 'duerma', 'Dormir', 'vez', 'Shira', 'sea', 'Shira', 'forma', 'derechos', 'Shira', 'Montaña', 'vez', 'entrenarme', 'Shira', 'través', 'dirección', 'Shira', 'fin', 'todas', 'Montaña', 'Allá', 'Shira', 'Calculo', 'Montaña', 'Allá', 'fin', 'Shira', 'pie', 'Montaña', 'Allá', 'Shira', 'estrellas', 'Shira', 'mediodía', 'Shira', 'efecto', 'paso', 'Shira', 'medianoche', 'Shira', 'fin', 'Montaña', 'Allá', 'momento', 'Shira', 'pie', 'Montaña', 'Allá', 'fin', 'Shira', 'Shira', 'lagartija', 'Shira', 'Shira', 'Shira', 'Caramba', 'decir', 'Shira', 'Shira', 'Buscó', 'entrante', 'Shira', 'punto', 'Shira', 'Shira', 'Shira', 'Shira', 'Shira', 'pies', 'cabeza', 'mortales', 'Shira', 'sepa', 'Shira', 'Acabo', 'cabo', 'Shira', 'Shira', 'Madre', 'Madre', 'Shira', 'Madre', 'Naturaleza', 'encontrarás', 'Shira', 'Comprobó', 'Buscó', 'Madre', 'Levitar', 'principio', 'Madre', 'otra', 'Madre', 'Tierra', 'tu', 'lado', 'Shira', 'repente', 'Volar', 'Dicho', 'realidad', 'repente', 'borde', 'principio', 'fin', 'bosque', 'Desayunó', 'fondo', 'oreja', 'oreja', 'T', 'Probó', 'Probó', 'bailes', 'fin', 'Uau', 'hecho', 'siquiera', 'vez', 'Montaña', 'Allá', 'norte', 'repente', 'Shira', 'Madre', 'paraíso', 'Montaña', 'Allá', 'parte', 'bosque', 'vez', 'Shira', 'Shira', 'Comprobó', 'partir', 'principio', 'tanto', 'tórax', 'fondo', 'base', 'punto', 'Montaña', 'Allá', 'Maravilloso', 'maravillolago', 'mar', 'mar', 'tanto', 'Shira', 'mar', 'base', 'pie', 'Montaña', 'Allá', 'Madre', 'Madre', 'Tierra', 'Bajó', 'Montaña', 'Allá', 'partir', 'Madre', 'desayunó', 'pie', 'ras', 'fin', 'veces', 'Shira', 'Shira', 'fin', 'Eso', 'Madre', 'Cambian', 'lado', 'Shira', 'fin', 'repente', 'caso', 'Hola', 'parte', 'parte', 'Shira', 'Ana', 'obstante', 'cuanto', 'Shira', 'revés', 'descubriesen', 'Shira', 'cambio', 'comparación', 'Shira', 'joven', 'particular', 'Landon', 'Shira', 'cuerpo', 'Shira', 'Landon', 'común', 'menudo', 'fuera', 'Hola', 'Landon', 'Ama', 'Shira', 'Has', 'Cuánto', 'Caramba', 'sea', 'hacerte', 'Curiosidad', 'Cantas', 'Disculpa', 'Landon', 'Landon', 'punto', 'Shira', 'Landon', 'huyas', 'Landon', 'favor', 'Landon', 'momento', 'Tranquilízate', 'favor', 'Shira', 'pie', 'Landon', 'Landon', 'copa', 'Landon', 'pies', 'cabeza', 'punto', 'Duérmete', 'niño', 'Landon', 'Shira', 'Landon', 'punto', 'madre', 'Ven', 'Pon', 'completo', 'Shira', 'Landon', 'Shira', 'Shira', 'fondo', 'solo', 'Landon', 'también', 'lado', 'Shira', 'Landon', 'Shira', 'aplastándola', 'Shira', 'Shira', 'Landon', 'veces', 'Locuras', 'Actitudes', 'Sois', 'Leyendas', 'Aha', 'Magia', 'Ama', 'Shira', 'Landon', 'cantáis', 'magia', 'conocerte', 'Shira', 'Shira', 'repente', 'Shira', 'Landon', 'acuerdo', 'Shira', 'Shira', 'vez', 'Shira', 'tiempo', 'copa', 'Oooh', 'Shira', 'Landon', 'continuación', 'Pones', 'Vale', 'día', 'Landon', 'Shira', 'parte', 'tanto', 'Sabrás', 'caso', 'Tienes', 'Tienes', 'Bajemos', 'Shira', 'Caramba', 'Vale', 'Landon', 'Shira', 'Landon', 'cara', 'pie', 'Landon', 'Buenas', 'vez', 'Shira', 'Landon', 'Shira', 'copa', 'Uau', 'Landon', 'Landon', 'telequinesia', 'Landon', 'Shira', 'Landon', 'estés', 'Landon', 'Shira', 'favor', 'tanto', 'cosa', 'Landon', 'Cálmate', 'Shira', 'favor', 'Hagámoslo', 'Perfecto', 'tanto', 'Correcto', 'sola', 'Resistirnos', 'Mm', 'sola', 'Aha', 'decir', 'Landon', 'Shira', 'Mm', 'Tienes', 'Sííí', 'Día', 'menudo', 'Landon', 'Shira', 'través', 'detalle', 'Montaña', 'Allá', 'veces', 'fin', 'Shira', 'Andaba', 'Madre', 'Tierra', 'Shira', 'Shira', 'Ana', 'Cuánto', 'Madre', 'favor', 'Shira', 'pie', 'Shira', 'Hermanas', 'fin', 'Gracias', 'también', 'Estimada', 'Shira', 'Cuéntanos', 'punto', 'Madre', 'larga', 'caso', 'sola', 'mi', 'común', 'fin', 'Muéstranoslo', 'Shira', 'espera', 'punto', 'Shira', 'Ana', 'Mamá', 'favor', 'Ana', 'Shira', 'Ana', 'lado', 'Perdona', 'Shira', 'Shira', 'Xanta', 'Perdonadme', 'Shira', 'Madre', 'Comprendes', 'Andrea', 'Xanta', 'Xanta', 'Comprendo', 'todas', 'rabia', 'Pantera', 'Shira', 'continuación', 'Shira', 'Madre', 'parte', 'matarlas', 'hecho', 'sea', 'gracias', 'Madre', 'cambio', 'contrario', 'largo', 'Xanta', 'punto', 'Andrea', 'Xanta', 'Shira', 'Xanta', 'menudo', 'veces', 'Andrea', 'Xanta', 'teoría', 'Shira', 'momento', 'momento', 'Xanta', 'Xanta', 'Andrea', 'favor', 'Xanta', 'Shira', 'Madre', 'Xanta', 'rabia', 'cerrada', 'Shira', 'Montaña', 'Allá', 'Madre', 'Montaña', 'Allá', 'Subí', 'Madre', 'Dragones', 'Madre', 'realidad', 'alargues', 'Shira', 'serio', 'favor', 'Escuchadme', 'Shira', 'Nosotras', 'Shira', 'observáis', 'Shira', 'tiempo', 'Xanta', 'Shira', 'Madre', 'base', 'Shira', 'Shira', 'Shira', 'Madre', 'Xanta', 'Xanta', 'Xanta', 'continuación', 'fin', 'Shira', 'Noooo', 'monstruo', 'cobarde', 'Métete', 'Terranova', 'base', 'es', 'decir', 'Shira', 'principio', 'Shira', 'Shira', 'cañón', 'Shira', 'Shira', 'punto', 'Shira', 'Ana', 'joven', 'cara', 'Landon', 'Shira', 'Shira', 'Landon', 'Ana', 'Ana', 'Landon', 'Ana', 'Shira', 'Ana', 'supervivientes', 'vez', 'Andrea', 'Todas', 'Shira', 'nombre', 'Estáis', 'supuesto', 'Uau', 'tiempo', 'Shira', 'Andrea', 'Xanta', 'Madre', 'obstante', 'Madre', 'Xanta', 'Shira', 'solo', 'Xanta', 'humanos', 'Shira', 'Madre', 'favor', 'Madre', 'tanto', 'Madre', 'Madre', 'Vale', 'Gracias', 'Sabes', 'Puedes', 'Landon', 'Landon', 'Comprobaréis', 'fin', 'cabo', 'Landon', 'Shira', 'punto', 'Andrea', 'Hola', 'Landon', 'Andrea', 'Buenos', 'Landon', 'mi', 'madre', 'Perdona', 'Nací', 'paraíso', 'favor', 'Deshacerme', 'rechacé', 'Aún', 'rechacé', 'Chicas', 'Landon', 'Shira', 'Landon', 'Perdonadme', 'sufrís', 'vuestro', 'Andrea', 'fin', 'cabo', 'artes', 'marciales', 'partir', 'Shira', 'Landon', 'Shira', 'tal', 'Terranova', 'Diana', 'Vega', 'Noa', 'habitantes', 'Diana', 'paraíso', 'amor', 'infinito']\n"
          ]
        }
      ]
    }
  ]
}