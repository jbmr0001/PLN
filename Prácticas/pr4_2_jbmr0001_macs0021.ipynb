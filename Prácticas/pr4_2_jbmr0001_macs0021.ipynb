{
  "nbformat": 4,
  "nbformat_minor": 0,
  "metadata": {
    "colab": {
      "provenance": []
    },
    "kernelspec": {
      "name": "python3",
      "display_name": "Python 3"
    }
  },
  "cells": [
    {
      "cell_type": "markdown",
      "metadata": {
        "id": "u01d30dm7Uyg"
      },
      "source": [
        "# **Procesamiento del Lenguaje Natural**\n",
        "## *Práctica 4.2 - Análisis sintáctico*"
      ]
    },
    {
      "cell_type": "markdown",
      "metadata": {
        "id": "ngEznx9s7Txv"
      },
      "source": [
        "## Objetivos\n",
        "\n",
        "*   Realizar el análisis sintáctico de un texto.\n",
        "\n",
        "\n",
        "\n"
      ]
    },
    {
      "cell_type": "markdown",
      "metadata": {
        "id": "6TOjFk9n81ZZ"
      },
      "source": [
        "### Análisis sintáctico\n",
        "\n",
        "El análisis sintáctico consiste en determinar las funciones sintácticas o relaciones de concordancia y jerarquía que guardan las palabras cuando se agrupan entre sí. \n",
        "\n",
        "Los tipos de análisis sintáctico más utilizados son: el análisis de constituyentes y el análisis de dependencias. El análisis de constituyentes consiste en dividir la oración en las partes que la componen (Sintagma Nominal, Sintagma Verbal, etc.), que se llaman constituyentes, de forma que cada una de esas partes se va dividiendo a su vez en partes más pequeñas hasta que llegamos a las palabras. Por otro lado, el análisis de dependencias se basa en buscar cuáles son las relaciones entre las distintas palabras de la oración.\n",
        "\n",
        "En esta sesión vamos a llevar a cabo un análisis sintáctico de dependencias que puede ser de gran utilidad, por ejemplo, para determinar el sujeto y el complemento directo de una oración, las palabras modificadas por un negador, etc. Su estudio es importante, ya que de un correcto análisis sintáctico depende a menudo la interpretación y comprensión de los textos\n",
        "\n",
        "A continuación, vamos a ver cómo realizar el análisis sintáctico de dependencias de una oración usando de nuevo ***spaCy***:\n",
        "\n",
        "1.   Primero debemos instalar el paquete si fuese necesario y descargar el modelo adecuado.\n",
        "2.   Creamos un **doc** a partir del texto que queremos analizar. \n",
        "3.   Luego iteramos a través del documento para ver lo que ***spaCy*** ha analizado.\n",
        "\n",
        "\n"
      ]
    },
    {
      "cell_type": "code",
      "metadata": {
        "id": "AzHGoAtbrA__",
        "colab": {
          "base_uri": "https://localhost:8080/"
        },
        "outputId": "2cb75b77-83db-49c3-cef8-e8d6117091ac"
      },
      "source": [
        "!pip install spacy"
      ],
      "execution_count": null,
      "outputs": [
        {
          "output_type": "stream",
          "name": "stdout",
          "text": [
            "Looking in indexes: https://pypi.org/simple, https://us-python.pkg.dev/colab-wheels/public/simple/\n",
            "Requirement already satisfied: spacy in /usr/local/lib/python3.9/dist-packages (3.5.1)\n",
            "Requirement already satisfied: preshed<3.1.0,>=3.0.2 in /usr/local/lib/python3.9/dist-packages (from spacy) (3.0.8)\n",
            "Requirement already satisfied: cymem<2.1.0,>=2.0.2 in /usr/local/lib/python3.9/dist-packages (from spacy) (2.0.7)\n",
            "Requirement already satisfied: pathy>=0.10.0 in /usr/local/lib/python3.9/dist-packages (from spacy) (0.10.1)\n",
            "Requirement already satisfied: setuptools in /usr/local/lib/python3.9/dist-packages (from spacy) (63.4.3)\n",
            "Requirement already satisfied: tqdm<5.0.0,>=4.38.0 in /usr/local/lib/python3.9/dist-packages (from spacy) (4.65.0)\n",
            "Requirement already satisfied: wasabi<1.2.0,>=0.9.1 in /usr/local/lib/python3.9/dist-packages (from spacy) (1.1.1)\n",
            "Requirement already satisfied: pydantic!=1.8,!=1.8.1,<1.11.0,>=1.7.4 in /usr/local/lib/python3.9/dist-packages (from spacy) (1.10.6)\n",
            "Requirement already satisfied: smart-open<7.0.0,>=5.2.1 in /usr/local/lib/python3.9/dist-packages (from spacy) (6.3.0)\n",
            "Requirement already satisfied: packaging>=20.0 in /usr/local/lib/python3.9/dist-packages (from spacy) (23.0)\n",
            "Requirement already satisfied: typer<0.8.0,>=0.3.0 in /usr/local/lib/python3.9/dist-packages (from spacy) (0.7.0)\n",
            "Requirement already satisfied: spacy-loggers<2.0.0,>=1.0.0 in /usr/local/lib/python3.9/dist-packages (from spacy) (1.0.4)\n",
            "Requirement already satisfied: srsly<3.0.0,>=2.4.3 in /usr/local/lib/python3.9/dist-packages (from spacy) (2.4.6)\n",
            "Requirement already satisfied: catalogue<2.1.0,>=2.0.6 in /usr/local/lib/python3.9/dist-packages (from spacy) (2.0.8)\n",
            "Requirement already satisfied: spacy-legacy<3.1.0,>=3.0.11 in /usr/local/lib/python3.9/dist-packages (from spacy) (3.0.12)\n",
            "Requirement already satisfied: murmurhash<1.1.0,>=0.28.0 in /usr/local/lib/python3.9/dist-packages (from spacy) (1.0.9)\n",
            "Requirement already satisfied: requests<3.0.0,>=2.13.0 in /usr/local/lib/python3.9/dist-packages (from spacy) (2.27.1)\n",
            "Requirement already satisfied: langcodes<4.0.0,>=3.2.0 in /usr/local/lib/python3.9/dist-packages (from spacy) (3.3.0)\n",
            "Requirement already satisfied: numpy>=1.15.0 in /usr/local/lib/python3.9/dist-packages (from spacy) (1.22.4)\n",
            "Requirement already satisfied: jinja2 in /usr/local/lib/python3.9/dist-packages (from spacy) (3.1.2)\n",
            "Requirement already satisfied: thinc<8.2.0,>=8.1.8 in /usr/local/lib/python3.9/dist-packages (from spacy) (8.1.9)\n",
            "Requirement already satisfied: typing-extensions>=4.2.0 in /usr/local/lib/python3.9/dist-packages (from pydantic!=1.8,!=1.8.1,<1.11.0,>=1.7.4->spacy) (4.5.0)\n",
            "Requirement already satisfied: certifi>=2017.4.17 in /usr/local/lib/python3.9/dist-packages (from requests<3.0.0,>=2.13.0->spacy) (2022.12.7)\n",
            "Requirement already satisfied: charset-normalizer~=2.0.0 in /usr/local/lib/python3.9/dist-packages (from requests<3.0.0,>=2.13.0->spacy) (2.0.12)\n",
            "Requirement already satisfied: urllib3<1.27,>=1.21.1 in /usr/local/lib/python3.9/dist-packages (from requests<3.0.0,>=2.13.0->spacy) (1.26.15)\n",
            "Requirement already satisfied: idna<4,>=2.5 in /usr/local/lib/python3.9/dist-packages (from requests<3.0.0,>=2.13.0->spacy) (3.4)\n",
            "Requirement already satisfied: blis<0.8.0,>=0.7.8 in /usr/local/lib/python3.9/dist-packages (from thinc<8.2.0,>=8.1.8->spacy) (0.7.9)\n",
            "Requirement already satisfied: confection<1.0.0,>=0.0.1 in /usr/local/lib/python3.9/dist-packages (from thinc<8.2.0,>=8.1.8->spacy) (0.0.4)\n",
            "Requirement already satisfied: click<9.0.0,>=7.1.1 in /usr/local/lib/python3.9/dist-packages (from typer<0.8.0,>=0.3.0->spacy) (8.1.3)\n",
            "Requirement already satisfied: MarkupSafe>=2.0 in /usr/local/lib/python3.9/dist-packages (from jinja2->spacy) (2.1.2)\n"
          ]
        }
      ]
    },
    {
      "cell_type": "code",
      "metadata": {
        "id": "Ip9ObXT3rDZe",
        "colab": {
          "base_uri": "https://localhost:8080/"
        },
        "outputId": "97587e57-7768-425c-a127-7515ecd8aa97"
      },
      "source": [
        "import spacy.cli\n",
        "spacy.cli.download(\"es_core_news_sm\")"
      ],
      "execution_count": null,
      "outputs": [
        {
          "output_type": "stream",
          "name": "stderr",
          "text": [
            "/usr/local/lib/python3.9/dist-packages/torch/cuda/__init__.py:497: UserWarning: Can't initialize NVML\n",
            "  warnings.warn(\"Can't initialize NVML\")\n"
          ]
        },
        {
          "output_type": "stream",
          "name": "stdout",
          "text": [
            "\u001b[38;5;2m✔ Download and installation successful\u001b[0m\n",
            "You can now load the package via spacy.load('es_core_news_sm')\n"
          ]
        }
      ]
    },
    {
      "cell_type": "code",
      "metadata": {
        "id": "NvxnipFCq1Ek"
      },
      "source": [
        "import es_core_news_sm\n",
        "nlp = es_core_news_sm.load()"
      ],
      "execution_count": null,
      "outputs": []
    },
    {
      "cell_type": "code",
      "source": [
        "text = \"El pedido ha sido entregado tarde.\"\n",
        "doc = nlp(text)\n",
        "\n",
        "for token in doc:\n",
        "    print(token.text, token.pos_, token.dep_)"
      ],
      "metadata": {
        "colab": {
          "base_uri": "https://localhost:8080/"
        },
        "id": "k6jpMU-VwhLi",
        "outputId": "0e0002e2-680d-4e2b-c63a-cac3acf9a75f"
      },
      "execution_count": null,
      "outputs": [
        {
          "output_type": "stream",
          "name": "stdout",
          "text": [
            "El DET det\n",
            "pedido NOUN nsubj\n",
            "ha AUX aux\n",
            "sido AUX aux\n",
            "entregado VERB ROOT\n",
            "tarde ADV advmod\n",
            ". PUNCT punct\n"
          ]
        }
      ]
    },
    {
      "cell_type": "markdown",
      "metadata": {
        "id": "W50rPd_57eaD"
      },
      "source": [
        "Las dependencias pueden representarse en un gráfico dirigido:\n",
        "\n",
        "*  Las palabras son los nodos.\n",
        "*  Las relaciones gramaticales son las aristas.\n",
        "\n",
        "Se puede utilizar **displacy** para visualizar el árbol de relaciones:\n"
      ]
    },
    {
      "cell_type": "code",
      "metadata": {
        "id": "-KQJRiq3u9Ze",
        "colab": {
          "base_uri": "https://localhost:8080/",
          "height": 294
        },
        "outputId": "5cc0f488-98b3-469b-d01d-4ca5279a37ea"
      },
      "source": [
        "from spacy import displacy\n",
        "displacy.render(doc, style='dep', jupyter=True, options={'distance': 90})"
      ],
      "execution_count": null,
      "outputs": [
        {
          "output_type": "display_data",
          "data": {
            "text/plain": [
              "<IPython.core.display.HTML object>"
            ],
            "text/html": [
              "<span class=\"tex2jax_ignore\"><svg xmlns=\"http://www.w3.org/2000/svg\" xmlns:xlink=\"http://www.w3.org/1999/xlink\" xml:lang=\"es\" id=\"69e132698ccb476997a3a37ceb027563-0\" class=\"displacy\" width=\"590\" height=\"272.0\" direction=\"ltr\" style=\"max-width: none; height: 272.0px; color: #000000; background: #ffffff; font-family: Arial; direction: ltr\">\n",
              "<text class=\"displacy-token\" fill=\"currentColor\" text-anchor=\"middle\" y=\"182.0\">\n",
              "    <tspan class=\"displacy-word\" fill=\"currentColor\" x=\"50\">El</tspan>\n",
              "    <tspan class=\"displacy-tag\" dy=\"2em\" fill=\"currentColor\" x=\"50\">DET</tspan>\n",
              "</text>\n",
              "\n",
              "<text class=\"displacy-token\" fill=\"currentColor\" text-anchor=\"middle\" y=\"182.0\">\n",
              "    <tspan class=\"displacy-word\" fill=\"currentColor\" x=\"140\">pedido</tspan>\n",
              "    <tspan class=\"displacy-tag\" dy=\"2em\" fill=\"currentColor\" x=\"140\">NOUN</tspan>\n",
              "</text>\n",
              "\n",
              "<text class=\"displacy-token\" fill=\"currentColor\" text-anchor=\"middle\" y=\"182.0\">\n",
              "    <tspan class=\"displacy-word\" fill=\"currentColor\" x=\"230\">ha</tspan>\n",
              "    <tspan class=\"displacy-tag\" dy=\"2em\" fill=\"currentColor\" x=\"230\">AUX</tspan>\n",
              "</text>\n",
              "\n",
              "<text class=\"displacy-token\" fill=\"currentColor\" text-anchor=\"middle\" y=\"182.0\">\n",
              "    <tspan class=\"displacy-word\" fill=\"currentColor\" x=\"320\">sido</tspan>\n",
              "    <tspan class=\"displacy-tag\" dy=\"2em\" fill=\"currentColor\" x=\"320\">AUX</tspan>\n",
              "</text>\n",
              "\n",
              "<text class=\"displacy-token\" fill=\"currentColor\" text-anchor=\"middle\" y=\"182.0\">\n",
              "    <tspan class=\"displacy-word\" fill=\"currentColor\" x=\"410\">entregado</tspan>\n",
              "    <tspan class=\"displacy-tag\" dy=\"2em\" fill=\"currentColor\" x=\"410\">VERB</tspan>\n",
              "</text>\n",
              "\n",
              "<text class=\"displacy-token\" fill=\"currentColor\" text-anchor=\"middle\" y=\"182.0\">\n",
              "    <tspan class=\"displacy-word\" fill=\"currentColor\" x=\"500\">tarde.</tspan>\n",
              "    <tspan class=\"displacy-tag\" dy=\"2em\" fill=\"currentColor\" x=\"500\">ADV</tspan>\n",
              "</text>\n",
              "\n",
              "<g class=\"displacy-arrow\">\n",
              "    <path class=\"displacy-arc\" id=\"arrow-69e132698ccb476997a3a37ceb027563-0-0\" stroke-width=\"2px\" d=\"M70,137.0 C70,92.0 130.0,92.0 130.0,137.0\" fill=\"none\" stroke=\"currentColor\"/>\n",
              "    <text dy=\"1.25em\" style=\"font-size: 0.8em; letter-spacing: 1px\">\n",
              "        <textPath xlink:href=\"#arrow-69e132698ccb476997a3a37ceb027563-0-0\" class=\"displacy-label\" startOffset=\"50%\" side=\"left\" fill=\"currentColor\" text-anchor=\"middle\">det</textPath>\n",
              "    </text>\n",
              "    <path class=\"displacy-arrowhead\" d=\"M70,139.0 L62,127.0 78,127.0\" fill=\"currentColor\"/>\n",
              "</g>\n",
              "\n",
              "<g class=\"displacy-arrow\">\n",
              "    <path class=\"displacy-arc\" id=\"arrow-69e132698ccb476997a3a37ceb027563-0-1\" stroke-width=\"2px\" d=\"M160,137.0 C160,2.0 410.0,2.0 410.0,137.0\" fill=\"none\" stroke=\"currentColor\"/>\n",
              "    <text dy=\"1.25em\" style=\"font-size: 0.8em; letter-spacing: 1px\">\n",
              "        <textPath xlink:href=\"#arrow-69e132698ccb476997a3a37ceb027563-0-1\" class=\"displacy-label\" startOffset=\"50%\" side=\"left\" fill=\"currentColor\" text-anchor=\"middle\">nsubj</textPath>\n",
              "    </text>\n",
              "    <path class=\"displacy-arrowhead\" d=\"M160,139.0 L152,127.0 168,127.0\" fill=\"currentColor\"/>\n",
              "</g>\n",
              "\n",
              "<g class=\"displacy-arrow\">\n",
              "    <path class=\"displacy-arc\" id=\"arrow-69e132698ccb476997a3a37ceb027563-0-2\" stroke-width=\"2px\" d=\"M250,137.0 C250,47.0 405.0,47.0 405.0,137.0\" fill=\"none\" stroke=\"currentColor\"/>\n",
              "    <text dy=\"1.25em\" style=\"font-size: 0.8em; letter-spacing: 1px\">\n",
              "        <textPath xlink:href=\"#arrow-69e132698ccb476997a3a37ceb027563-0-2\" class=\"displacy-label\" startOffset=\"50%\" side=\"left\" fill=\"currentColor\" text-anchor=\"middle\">aux</textPath>\n",
              "    </text>\n",
              "    <path class=\"displacy-arrowhead\" d=\"M250,139.0 L242,127.0 258,127.0\" fill=\"currentColor\"/>\n",
              "</g>\n",
              "\n",
              "<g class=\"displacy-arrow\">\n",
              "    <path class=\"displacy-arc\" id=\"arrow-69e132698ccb476997a3a37ceb027563-0-3\" stroke-width=\"2px\" d=\"M340,137.0 C340,92.0 400.0,92.0 400.0,137.0\" fill=\"none\" stroke=\"currentColor\"/>\n",
              "    <text dy=\"1.25em\" style=\"font-size: 0.8em; letter-spacing: 1px\">\n",
              "        <textPath xlink:href=\"#arrow-69e132698ccb476997a3a37ceb027563-0-3\" class=\"displacy-label\" startOffset=\"50%\" side=\"left\" fill=\"currentColor\" text-anchor=\"middle\">aux</textPath>\n",
              "    </text>\n",
              "    <path class=\"displacy-arrowhead\" d=\"M340,139.0 L332,127.0 348,127.0\" fill=\"currentColor\"/>\n",
              "</g>\n",
              "\n",
              "<g class=\"displacy-arrow\">\n",
              "    <path class=\"displacy-arc\" id=\"arrow-69e132698ccb476997a3a37ceb027563-0-4\" stroke-width=\"2px\" d=\"M430,137.0 C430,92.0 490.0,92.0 490.0,137.0\" fill=\"none\" stroke=\"currentColor\"/>\n",
              "    <text dy=\"1.25em\" style=\"font-size: 0.8em; letter-spacing: 1px\">\n",
              "        <textPath xlink:href=\"#arrow-69e132698ccb476997a3a37ceb027563-0-4\" class=\"displacy-label\" startOffset=\"50%\" side=\"left\" fill=\"currentColor\" text-anchor=\"middle\">advmod</textPath>\n",
              "    </text>\n",
              "    <path class=\"displacy-arrowhead\" d=\"M490.0,139.0 L498.0,127.0 482.0,127.0\" fill=\"currentColor\"/>\n",
              "</g>\n",
              "</svg></span>"
            ]
          },
          "metadata": {}
        }
      ]
    },
    {
      "cell_type": "code",
      "source": [
        "text = \"El ordenador no es bueno.\"\n",
        "doc = nlp(text)\n",
        "\n",
        "for token in doc:\n",
        "  print(token.text, token.pos_, token.morph, token.dep_, token.head.text)\n",
        "\n",
        "displacy.render(doc, style='dep', jupyter=True, options={'distance': 90})"
      ],
      "metadata": {
        "colab": {
          "base_uri": "https://localhost:8080/",
          "height": 405
        },
        "id": "FU4PNDtUw1xv",
        "outputId": "d9529a6f-2bb3-4233-821e-8cafad7ded6f"
      },
      "execution_count": null,
      "outputs": [
        {
          "output_type": "stream",
          "name": "stdout",
          "text": [
            "El DET Definite=Def|Gender=Masc|Number=Sing|PronType=Art det ordenador\n",
            "ordenador NOUN Gender=Masc|Number=Sing nsubj bueno\n",
            "no ADV Polarity=Neg advmod bueno\n",
            "es AUX Mood=Ind|Number=Sing|Person=3|Tense=Pres|VerbForm=Fin cop bueno\n",
            "bueno ADJ Gender=Masc|Number=Sing ROOT bueno\n",
            ". PUNCT PunctType=Peri punct bueno\n"
          ]
        },
        {
          "output_type": "display_data",
          "data": {
            "text/plain": [
              "<IPython.core.display.HTML object>"
            ],
            "text/html": [
              "<span class=\"tex2jax_ignore\"><svg xmlns=\"http://www.w3.org/2000/svg\" xmlns:xlink=\"http://www.w3.org/1999/xlink\" xml:lang=\"es\" id=\"8b08861f92cd4910b36a160d7cd35f92-0\" class=\"displacy\" width=\"500\" height=\"272.0\" direction=\"ltr\" style=\"max-width: none; height: 272.0px; color: #000000; background: #ffffff; font-family: Arial; direction: ltr\">\n",
              "<text class=\"displacy-token\" fill=\"currentColor\" text-anchor=\"middle\" y=\"182.0\">\n",
              "    <tspan class=\"displacy-word\" fill=\"currentColor\" x=\"50\">El</tspan>\n",
              "    <tspan class=\"displacy-tag\" dy=\"2em\" fill=\"currentColor\" x=\"50\">DET</tspan>\n",
              "</text>\n",
              "\n",
              "<text class=\"displacy-token\" fill=\"currentColor\" text-anchor=\"middle\" y=\"182.0\">\n",
              "    <tspan class=\"displacy-word\" fill=\"currentColor\" x=\"140\">ordenador</tspan>\n",
              "    <tspan class=\"displacy-tag\" dy=\"2em\" fill=\"currentColor\" x=\"140\">NOUN</tspan>\n",
              "</text>\n",
              "\n",
              "<text class=\"displacy-token\" fill=\"currentColor\" text-anchor=\"middle\" y=\"182.0\">\n",
              "    <tspan class=\"displacy-word\" fill=\"currentColor\" x=\"230\">no</tspan>\n",
              "    <tspan class=\"displacy-tag\" dy=\"2em\" fill=\"currentColor\" x=\"230\">ADV</tspan>\n",
              "</text>\n",
              "\n",
              "<text class=\"displacy-token\" fill=\"currentColor\" text-anchor=\"middle\" y=\"182.0\">\n",
              "    <tspan class=\"displacy-word\" fill=\"currentColor\" x=\"320\">es</tspan>\n",
              "    <tspan class=\"displacy-tag\" dy=\"2em\" fill=\"currentColor\" x=\"320\">AUX</tspan>\n",
              "</text>\n",
              "\n",
              "<text class=\"displacy-token\" fill=\"currentColor\" text-anchor=\"middle\" y=\"182.0\">\n",
              "    <tspan class=\"displacy-word\" fill=\"currentColor\" x=\"410\">bueno.</tspan>\n",
              "    <tspan class=\"displacy-tag\" dy=\"2em\" fill=\"currentColor\" x=\"410\">ADJ</tspan>\n",
              "</text>\n",
              "\n",
              "<g class=\"displacy-arrow\">\n",
              "    <path class=\"displacy-arc\" id=\"arrow-8b08861f92cd4910b36a160d7cd35f92-0-0\" stroke-width=\"2px\" d=\"M70,137.0 C70,92.0 130.0,92.0 130.0,137.0\" fill=\"none\" stroke=\"currentColor\"/>\n",
              "    <text dy=\"1.25em\" style=\"font-size: 0.8em; letter-spacing: 1px\">\n",
              "        <textPath xlink:href=\"#arrow-8b08861f92cd4910b36a160d7cd35f92-0-0\" class=\"displacy-label\" startOffset=\"50%\" side=\"left\" fill=\"currentColor\" text-anchor=\"middle\">det</textPath>\n",
              "    </text>\n",
              "    <path class=\"displacy-arrowhead\" d=\"M70,139.0 L62,127.0 78,127.0\" fill=\"currentColor\"/>\n",
              "</g>\n",
              "\n",
              "<g class=\"displacy-arrow\">\n",
              "    <path class=\"displacy-arc\" id=\"arrow-8b08861f92cd4910b36a160d7cd35f92-0-1\" stroke-width=\"2px\" d=\"M160,137.0 C160,2.0 410.0,2.0 410.0,137.0\" fill=\"none\" stroke=\"currentColor\"/>\n",
              "    <text dy=\"1.25em\" style=\"font-size: 0.8em; letter-spacing: 1px\">\n",
              "        <textPath xlink:href=\"#arrow-8b08861f92cd4910b36a160d7cd35f92-0-1\" class=\"displacy-label\" startOffset=\"50%\" side=\"left\" fill=\"currentColor\" text-anchor=\"middle\">nsubj</textPath>\n",
              "    </text>\n",
              "    <path class=\"displacy-arrowhead\" d=\"M160,139.0 L152,127.0 168,127.0\" fill=\"currentColor\"/>\n",
              "</g>\n",
              "\n",
              "<g class=\"displacy-arrow\">\n",
              "    <path class=\"displacy-arc\" id=\"arrow-8b08861f92cd4910b36a160d7cd35f92-0-2\" stroke-width=\"2px\" d=\"M250,137.0 C250,47.0 405.0,47.0 405.0,137.0\" fill=\"none\" stroke=\"currentColor\"/>\n",
              "    <text dy=\"1.25em\" style=\"font-size: 0.8em; letter-spacing: 1px\">\n",
              "        <textPath xlink:href=\"#arrow-8b08861f92cd4910b36a160d7cd35f92-0-2\" class=\"displacy-label\" startOffset=\"50%\" side=\"left\" fill=\"currentColor\" text-anchor=\"middle\">advmod</textPath>\n",
              "    </text>\n",
              "    <path class=\"displacy-arrowhead\" d=\"M250,139.0 L242,127.0 258,127.0\" fill=\"currentColor\"/>\n",
              "</g>\n",
              "\n",
              "<g class=\"displacy-arrow\">\n",
              "    <path class=\"displacy-arc\" id=\"arrow-8b08861f92cd4910b36a160d7cd35f92-0-3\" stroke-width=\"2px\" d=\"M340,137.0 C340,92.0 400.0,92.0 400.0,137.0\" fill=\"none\" stroke=\"currentColor\"/>\n",
              "    <text dy=\"1.25em\" style=\"font-size: 0.8em; letter-spacing: 1px\">\n",
              "        <textPath xlink:href=\"#arrow-8b08861f92cd4910b36a160d7cd35f92-0-3\" class=\"displacy-label\" startOffset=\"50%\" side=\"left\" fill=\"currentColor\" text-anchor=\"middle\">cop</textPath>\n",
              "    </text>\n",
              "    <path class=\"displacy-arrowhead\" d=\"M340,139.0 L332,127.0 348,127.0\" fill=\"currentColor\"/>\n",
              "</g>\n",
              "</svg></span>"
            ]
          },
          "metadata": {}
        }
      ]
    },
    {
      "cell_type": "markdown",
      "metadata": {
        "id": "GcqAjAeR5BDD"
      },
      "source": [
        "**Navegar por el árbol de dependencias**\n",
        "\n",
        "El esquema de análisis de dependencias tiene las propiedades de un árbol. Este árbol contiene información sobre la estructura de la oración y la gramática y puede ser recorrido de diferentes maneras para extraer relaciones.\n",
        "\n",
        "***spaCy*** proporciona atributos como *children*, *lefts*, *rights*, y *subtree* para navegar por el esquema de dependencias."
      ]
    },
    {
      "cell_type": "code",
      "metadata": {
        "id": "fdskGDasyGeP",
        "colab": {
          "base_uri": "https://localhost:8080/"
        },
        "outputId": "c6ba2ae8-871f-4cb8-9471-9acc0ffb1592"
      },
      "source": [
        "text = ('manzanas rojas brillantes en el árbol')\n",
        "doc = nlp(text)\n",
        "# Extraer los hijos de `manzanas`\n",
        "print([token.text for token in doc[0].children])\n",
        "\n",
        "# Extraer el nodo vecino precedente de `rojas`.\n",
        "print (doc[1].nbor(-1))\n",
        "\n",
        "# Extraer el siguiente nodo vecino de `manzanas`\n",
        "print (doc[0].nbor())\n",
        "\n",
        "# Extraer todos los tokens a la izquierda de `manzanas`\n",
        "print([token.text for token in doc[0].lefts])\n",
        "\n",
        "# Extraer todos los tokens a la derecha de `manzanas`\n",
        "print([token.text for token in doc[0].rights])"
      ],
      "execution_count": null,
      "outputs": [
        {
          "output_type": "stream",
          "name": "stdout",
          "text": [
            "['rojas', 'brillantes', 'árbol']\n",
            "manzanas\n",
            "rojas\n",
            "[]\n",
            "['rojas', 'brillantes', 'árbol']\n"
          ]
        }
      ]
    },
    {
      "cell_type": "markdown",
      "source": [
        "Para obtener más información acerca de las dependencias, puedes consultar las siguientes URLs:\n",
        "* https://universaldependencies.org/u/dep/all.html\n",
        "\n",
        "* https://universaldependencies.org/docs/u/dep/\n",
        "\n",
        "* https://nlp.stanford.edu/software/dependencies_manual.pdf"
      ],
      "metadata": {
        "id": "A-XyGyj3xAqm"
      }
    },
    {
      "cell_type": "markdown",
      "metadata": {
        "id": "IMKBCaDi30Tz"
      },
      "source": [
        "## Ejercicios\n",
        "\n",
        "Los ejercicios deben realizarse sobre este *notebook*, y se deberán entregar a través de PLATEA antes de la fecha límite que se indique.\n",
        "\n",
        "Descargar el cuento “regreso_al_paraiso.txt” que se encuentran disponibles en PLATEA (carpeta Material complementario) y realiza los métodos necesarios para responder a las siguientes preguntas:\n",
        "\n",
        "**Autores de la práctica:** Juan Bautista Muñoz Ruiz jbmr0001@red.ujaen.es Marco Antonio Carrión Soriano macs0021@red.ujaen.es"
      ]
    },
    {
      "cell_type": "markdown",
      "metadata": {
        "id": "l8SxN0j04SAg"
      },
      "source": [
        "### Ejercicio 1\n",
        "\n",
        "¿Cuáles son los 5 sujetos nominales más frecuentes?"
      ]
    },
    {
      "cell_type": "code",
      "source": [
        "!pip install spacy"
      ],
      "metadata": {
        "colab": {
          "base_uri": "https://localhost:8080/"
        },
        "id": "rKC0YXrIjl3J",
        "outputId": "c4f1c233-306c-4313-cd67-8ea509a789f2"
      },
      "execution_count": null,
      "outputs": [
        {
          "output_type": "stream",
          "name": "stdout",
          "text": [
            "Looking in indexes: https://pypi.org/simple, https://us-python.pkg.dev/colab-wheels/public/simple/\n",
            "Requirement already satisfied: spacy in /usr/local/lib/python3.9/dist-packages (3.5.1)\n",
            "Requirement already satisfied: pathy>=0.10.0 in /usr/local/lib/python3.9/dist-packages (from spacy) (0.10.1)\n",
            "Requirement already satisfied: pydantic!=1.8,!=1.8.1,<1.11.0,>=1.7.4 in /usr/local/lib/python3.9/dist-packages (from spacy) (1.10.6)\n",
            "Requirement already satisfied: srsly<3.0.0,>=2.4.3 in /usr/local/lib/python3.9/dist-packages (from spacy) (2.4.6)\n",
            "Requirement already satisfied: murmurhash<1.1.0,>=0.28.0 in /usr/local/lib/python3.9/dist-packages (from spacy) (1.0.9)\n",
            "Requirement already satisfied: typer<0.8.0,>=0.3.0 in /usr/local/lib/python3.9/dist-packages (from spacy) (0.7.0)\n",
            "Requirement already satisfied: smart-open<7.0.0,>=5.2.1 in /usr/local/lib/python3.9/dist-packages (from spacy) (6.3.0)\n",
            "Requirement already satisfied: tqdm<5.0.0,>=4.38.0 in /usr/local/lib/python3.9/dist-packages (from spacy) (4.65.0)\n",
            "Requirement already satisfied: numpy>=1.15.0 in /usr/local/lib/python3.9/dist-packages (from spacy) (1.22.4)\n",
            "Requirement already satisfied: wasabi<1.2.0,>=0.9.1 in /usr/local/lib/python3.9/dist-packages (from spacy) (1.1.1)\n",
            "Requirement already satisfied: spacy-loggers<2.0.0,>=1.0.0 in /usr/local/lib/python3.9/dist-packages (from spacy) (1.0.4)\n",
            "Requirement already satisfied: packaging>=20.0 in /usr/local/lib/python3.9/dist-packages (from spacy) (23.0)\n",
            "Requirement already satisfied: spacy-legacy<3.1.0,>=3.0.11 in /usr/local/lib/python3.9/dist-packages (from spacy) (3.0.12)\n",
            "Requirement already satisfied: setuptools in /usr/local/lib/python3.9/dist-packages (from spacy) (63.4.3)\n",
            "Requirement already satisfied: jinja2 in /usr/local/lib/python3.9/dist-packages (from spacy) (3.1.2)\n",
            "Requirement already satisfied: preshed<3.1.0,>=3.0.2 in /usr/local/lib/python3.9/dist-packages (from spacy) (3.0.8)\n",
            "Requirement already satisfied: thinc<8.2.0,>=8.1.8 in /usr/local/lib/python3.9/dist-packages (from spacy) (8.1.9)\n",
            "Requirement already satisfied: catalogue<2.1.0,>=2.0.6 in /usr/local/lib/python3.9/dist-packages (from spacy) (2.0.8)\n",
            "Requirement already satisfied: langcodes<4.0.0,>=3.2.0 in /usr/local/lib/python3.9/dist-packages (from spacy) (3.3.0)\n",
            "Requirement already satisfied: cymem<2.1.0,>=2.0.2 in /usr/local/lib/python3.9/dist-packages (from spacy) (2.0.7)\n",
            "Requirement already satisfied: requests<3.0.0,>=2.13.0 in /usr/local/lib/python3.9/dist-packages (from spacy) (2.27.1)\n",
            "Requirement already satisfied: typing-extensions>=4.2.0 in /usr/local/lib/python3.9/dist-packages (from pydantic!=1.8,!=1.8.1,<1.11.0,>=1.7.4->spacy) (4.5.0)\n",
            "Requirement already satisfied: urllib3<1.27,>=1.21.1 in /usr/local/lib/python3.9/dist-packages (from requests<3.0.0,>=2.13.0->spacy) (1.26.15)\n",
            "Requirement already satisfied: idna<4,>=2.5 in /usr/local/lib/python3.9/dist-packages (from requests<3.0.0,>=2.13.0->spacy) (3.4)\n",
            "Requirement already satisfied: charset-normalizer~=2.0.0 in /usr/local/lib/python3.9/dist-packages (from requests<3.0.0,>=2.13.0->spacy) (2.0.12)\n",
            "Requirement already satisfied: certifi>=2017.4.17 in /usr/local/lib/python3.9/dist-packages (from requests<3.0.0,>=2.13.0->spacy) (2022.12.7)\n",
            "Requirement already satisfied: blis<0.8.0,>=0.7.8 in /usr/local/lib/python3.9/dist-packages (from thinc<8.2.0,>=8.1.8->spacy) (0.7.9)\n",
            "Requirement already satisfied: confection<1.0.0,>=0.0.1 in /usr/local/lib/python3.9/dist-packages (from thinc<8.2.0,>=8.1.8->spacy) (0.0.4)\n",
            "Requirement already satisfied: click<9.0.0,>=7.1.1 in /usr/local/lib/python3.9/dist-packages (from typer<0.8.0,>=0.3.0->spacy) (8.1.3)\n",
            "Requirement already satisfied: MarkupSafe>=2.0 in /usr/local/lib/python3.9/dist-packages (from jinja2->spacy) (2.1.2)\n"
          ]
        }
      ]
    },
    {
      "cell_type": "code",
      "source": [
        "import spacy.cli\n",
        "spacy.cli.download(\"es_core_news_sm\")"
      ],
      "metadata": {
        "colab": {
          "base_uri": "https://localhost:8080/"
        },
        "id": "FJb7XMi1jvoh",
        "outputId": "0aae06a7-0fe8-4261-b682-f71983977074"
      },
      "execution_count": null,
      "outputs": [
        {
          "output_type": "stream",
          "name": "stdout",
          "text": [
            "\u001b[38;5;2m✔ Download and installation successful\u001b[0m\n",
            "You can now load the package via spacy.load('es_core_news_sm')\n"
          ]
        }
      ]
    },
    {
      "cell_type": "code",
      "source": [
        "import es_core_news_sm\n",
        "nlp = es_core_news_sm.load()"
      ],
      "metadata": {
        "id": "Qvk0maiSj2Hg"
      },
      "execution_count": null,
      "outputs": []
    },
    {
      "cell_type": "code",
      "source": [
        "from google.colab import drive  #Montamos el drive\n",
        "drive.mount('/content/drive')"
      ],
      "metadata": {
        "colab": {
          "base_uri": "https://localhost:8080/"
        },
        "id": "4ICiNaukow6W",
        "outputId": "edf73d19-a742-463a-8980-547b4b1a0187"
      },
      "execution_count": null,
      "outputs": [
        {
          "output_type": "stream",
          "name": "stdout",
          "text": [
            "Mounted at /content/drive\n"
          ]
        }
      ]
    },
    {
      "cell_type": "code",
      "source": [
        "import os #Abrimos la carpeta\n",
        "path = os.chdir(\"/content/drive/MyDrive/PLN/P4.1\")\n",
        "os.getcwd()"
      ],
      "metadata": {
        "colab": {
          "base_uri": "https://localhost:8080/",
          "height": 36
        },
        "id": "AHxFTDbapmQQ",
        "outputId": "382d465a-7e54-4519-e4c0-263e098d02f4"
      },
      "execution_count": null,
      "outputs": [
        {
          "output_type": "execute_result",
          "data": {
            "text/plain": [
              "'/content/drive/MyDrive/PLN/P4.1'"
            ],
            "application/vnd.google.colaboratory.intrinsic+json": {
              "type": "string"
            }
          },
          "metadata": {},
          "execution_count": 12
        }
      ]
    },
    {
      "cell_type": "code",
      "source": [
        "import glob   #Lectura y procesado de los archivos\n",
        "archivosProcesados=[]\n",
        "nombresArchivos=[]\n",
        "for filename in glob.glob('*.txt'):  #Lectura de todos los archivos de la carpeta con la libreria glob\n",
        "   with open(os.path.join(os.getcwd(), filename), 'r') as f:\n",
        "     nombresArchivos.append(filename)\n",
        "     fichero = open(f.name)\n",
        "     archivosProcesados.append(fichero.read());\n",
        "j=0\n",
        "print('Archivos leídos:')\n",
        "for i in archivosProcesados: #Mostramos el nombre del archivo y el contenido leído\n",
        "  print(nombresArchivos[j])\n",
        "  #print(i)\n",
        "  j=j+1"
      ],
      "metadata": {
        "colab": {
          "base_uri": "https://localhost:8080/"
        },
        "id": "lAiglYkNpp_0",
        "outputId": "e4bd7e7d-12be-4244-9b1a-39007e2104ef"
      },
      "execution_count": null,
      "outputs": [
        {
          "output_type": "stream",
          "name": "stdout",
          "text": [
            "Archivos leídos:\n",
            "regreso_al_paraiso.txt\n"
          ]
        }
      ]
    },
    {
      "cell_type": "code",
      "source": [
        "for archivo in archivosProcesados: #Recorremos los archivos y contamos los de cada categoría\n",
        "  sujetosNominales=[]\n",
        "  doc = nlp(archivo)\n",
        "  for token in doc:\n",
        "    if token.text.isalpha(): #Quitamos signos puntuación\n",
        "      if token.dep_ == 'nsubj': #Si es sujeto nominal\n",
        "        sujetosNominales.append(token.text.lower()) #Los pasamos a minúscula para evitar duplicados\n",
        "\n",
        "import pandas as pd \n",
        "\n",
        "lista = pd.Series(sujetosNominales) #Creamos un panda series para calcular las veces que se repiten\n",
        "resultados = lista.value_counts()\n",
        "\n",
        "print(\"Cinco sujetos nominales más frecuentes:\")\n",
        "print(resultados.head(5)) #Mostramos los 5 que más se repiten\n",
        "#displacy.render(doc, style='dep', jupyter=True, options={'distance': 90})"
      ],
      "metadata": {
        "colab": {
          "base_uri": "https://localhost:8080/"
        },
        "id": "19A_J1zWqXND",
        "outputId": "70fbd2ba-9947-4397-84e6-0257606fd65d"
      },
      "execution_count": null,
      "outputs": [
        {
          "output_type": "stream",
          "name": "stdout",
          "text": [
            "Cinco sujetos nominales más frecuentes:\n",
            "que        348\n",
            "shira      116\n",
            "yo          96\n",
            "eso         61\n",
            "mujeres     47\n",
            "dtype: int64\n"
          ]
        }
      ]
    },
    {
      "cell_type": "markdown",
      "metadata": {
        "id": "Y1lzKcN14eIk"
      },
      "source": [
        "### Ejercicio 2\n",
        "¿Cuáles son los 5 complementos directos más frecuentes?"
      ]
    },
    {
      "cell_type": "code",
      "source": [
        "for archivo in archivosProcesados: #Recorremos los archivos y contamos los de cada categoría\n",
        "  complementosDirectos=[]\n",
        "  doc = nlp(archivo)\n",
        "  for token in doc:\n",
        "    if token.text.isalpha(): #Quitamos signos puntuación\n",
        "      if token.dep_ == 'obj': #Si es complemento directo\n",
        "        complementosDirectos.append(token.text.lower()) #Los pasamos a minúscula para evitar duplicados\n",
        "\n",
        "import pandas as pd\n",
        "\n",
        "lista = pd.Series(complementosDirectos)  #Creamos un panda series para calcular las veces que se repiten\n",
        "resultados = lista.value_counts()\n",
        "\n",
        "print(\"Cinco complementos directos más frecuentes:\")\n",
        "print(resultados.head(5)) #Mostramos los 5 que más se repiten"
      ],
      "metadata": {
        "colab": {
          "base_uri": "https://localhost:8080/"
        },
        "id": "BHKEP_mS6nLI",
        "outputId": "4103a1f4-9979-4a08-8956-113e21c02d01"
      },
      "execution_count": null,
      "outputs": [
        {
          "output_type": "stream",
          "name": "stdout",
          "text": [
            "Cinco complementos directos más frecuentes:\n",
            "lo     156\n",
            "que    141\n",
            "le     121\n",
            "la      70\n",
            "me      47\n",
            "dtype: int64\n"
          ]
        }
      ]
    },
    {
      "cell_type": "markdown",
      "metadata": {
        "id": "3ETcvckh6Gn7"
      },
      "source": [
        "### Ejercicio 3\n",
        "¿Cuáles son los 5 negadores más frecuentes?\n"
      ]
    },
    {
      "cell_type": "code",
      "source": [
        "for archivo in archivosProcesados: #Recorremos los archivos y contamos los de cada categoría\n",
        "  negadores=[]\n",
        "  doc = nlp(archivo)\n",
        "  for token in doc:\n",
        "    if token.text.isalpha(): #Quitamos signos puntuación\n",
        "      if 'Polarity=Neg' in token.morph or \"PronType=Neg\" in token.morph: #Si es un negador\n",
        "        negadores.append(token.text.lower()) #Los pasamos a minúscula para evitar duplicados\n",
        "\n",
        "import pandas as pd\n",
        "\n",
        "lista = pd.Series(negadores)  #Creamos un panda series para calcular las veces que se repiten\n",
        "resultados = lista.value_counts()\n",
        "\n",
        "print(\"Cinco negadores más frecuentes:\")\n",
        "top_cinco = resultados.head(5);\n",
        "print(top_cinco) #Mostramos los 5 que más se repiten\n"
      ],
      "metadata": {
        "id": "Gyum2cV9y2rM",
        "colab": {
          "base_uri": "https://localhost:8080/"
        },
        "outputId": "434342f4-e383-4a9e-ba4e-acb01ec6d74e"
      },
      "execution_count": null,
      "outputs": [
        {
          "output_type": "stream",
          "name": "stdout",
          "text": [
            "Cinco negadores más frecuentes:\n",
            "no         725\n",
            "nadie       49\n",
            "nada        45\n",
            "ninguna     11\n",
            "ningún       7\n",
            "dtype: int64\n"
          ]
        }
      ]
    },
    {
      "cell_type": "markdown",
      "source": [
        "### Ejercicio 4\n",
        "Busca información y navega por el arbol de dependencias en ***spaCy*** para obtener las 3 palabras con mayor frecuencia que están conectadas con cada uno de los negadores obtenidos en el ejercicio 3."
      ],
      "metadata": {
        "id": "TMBzea7Lxog9"
      }
    },
    {
      "cell_type": "code",
      "source": [
        "for negador in (top_cinco.index):\n",
        "  palabras_conectadas = {}  # Creamos un diccionario vacío para almacenar las palabras conectadas al negador\n",
        "\n",
        "  for archivo in archivosProcesados:\n",
        "      doc = nlp(archivo)\n",
        "      for token in doc:\n",
        "          if token.text.isalpha() and token.text.lower() == negador:  # Comprobamos si la palabra está en la lista\n",
        "              for child in token.children:\n",
        "                  if child.dep_ != 'punct':  # Comprobamos si es un signo de puntuación\n",
        "                      palabra = child.text.lower()\n",
        "                      if palabra in palabras_conectadas: #Si la palabra ya se ha descubierto sumamos uno, si no la añadimos.\n",
        "                          palabras_conectadas[palabra] += 1\n",
        "                      else: \n",
        "                          palabras_conectadas[palabra] = 1\n",
        "\n",
        "  # Ordenamos el diccionario por frecuencia descendente y mostramos las 3 palabras más frecuentes\n",
        "  palabras_ordenadas = sorted(palabras_conectadas.items(), key=lambda x: x[1], reverse=True)\n",
        "  print(f\"Las 3 palabras más frecuentes conectadas al negador '{negador}' son:\")\n",
        "  for palabra, frecuencia in palabras_ordenadas[:3]:\n",
        "    print(f\"{palabra}: {frecuencia}\")"
      ],
      "metadata": {
        "colab": {
          "base_uri": "https://localhost:8080/"
        },
        "id": "VC09KEQH_f37",
        "outputId": "82f76d38-93b5-4272-b9cd-982281c40662"
      },
      "execution_count": null,
      "outputs": [
        {
          "output_type": "stream",
          "name": "stdout",
          "text": [
            "Las 3 palabras más frecuentes conectadas al negador 'no' son:\n",
            "obstante: 5\n",
            "pero: 4\n",
            "que: 4\n",
            "Las 3 palabras más frecuentes conectadas al negador 'nadie' son:\n",
            "a: 6\n",
            "de: 2\n",
            "casi: 1\n",
            "Las 3 palabras más frecuentes conectadas al negador 'nada' son:\n",
            "más: 6\n",
            "de: 3\n",
            "que: 2\n",
            "Las 3 palabras más frecuentes conectadas al negador 'ninguna' son:\n",
            "otra: 2\n",
            "más: 1\n",
            "Las 3 palabras más frecuentes conectadas al negador 'ningún' son:\n",
            "otro: 1\n"
          ]
        }
      ]
    },
    {
      "cell_type": "markdown",
      "source": [
        "### Ejercicio 5\n",
        "¿Cuáles son los 5 adjetivos modificadores más frecuentes?"
      ],
      "metadata": {
        "id": "jznnlukmxpnd"
      }
    },
    {
      "cell_type": "code",
      "source": [
        "adjetivos = []\n",
        "for archivo in archivosProcesados:\n",
        "    doc = nlp(archivo)\n",
        "    for token in doc:\n",
        "        if token.pos_ == 'ADJ' and token.dep_ == 'amod': #comprobamos si es un adjetivo y si es modificador\n",
        "            adjetivos.append(token.text.lower())\n",
        "\n",
        "lista = pd.Series(adjetivos)\n",
        "resultados = lista.value_counts()\n",
        "\n",
        "print(\"Cinco adjetivos modificadores más frecuentes:\")\n",
        "print(resultados.head(5))"
      ],
      "metadata": {
        "colab": {
          "base_uri": "https://localhost:8080/"
        },
        "id": "i7b3t4XGC2Zi",
        "outputId": "1b0a9ac4-b624-4a1a-9419-fd2ef87d0c78"
      },
      "execution_count": null,
      "outputs": [
        {
          "output_type": "stream",
          "name": "stdout",
          "text": [
            "Cinco adjetivos modificadores más frecuentes:\n",
            "siguiente    26\n",
            "primera      23\n",
            "humana       17\n",
            "única        15\n",
            "buena        14\n",
            "dtype: int64\n"
          ]
        }
      ]
    }
  ]
}